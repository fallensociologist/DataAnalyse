{
 "cells": [
  {
   "cell_type": "markdown",
   "metadata": {},
   "source": [
    "#### Максим, привет! \n",
    "\n",
    "Меня зовут Максим Попов, и я буду проверять твой проект. Давай будем общаться на «ты». Но если тебе комфортнее на «вы», обязательно сообщи мне об этом. \n",
    "По ходу тетрадки ты найдешь комментарии к проекту, они будут в отдельных ячейках Markdown с заголовком «Комментарий ревьюера». Постарайся учесть эти комментарии для дальнейших проектов.\n",
    "\n",
    "---\n",
    "\n",
    "Я буду отмечать комментарии цветом и примечанием. В конце заголовка комментария будет указан номер итерации проверки. Пожалуйста, не удаляй и не правь мои комментарии\n",
    "\n",
    "Критично - требует исправления, влияет на удачное выполнение проекта\n",
    "\n",
    "Рекомендация - комментарий является рекомендацией или советом. Mожешь учесть их при выполнении будущих заданий. На твое усмотрение\n",
    "\n",
    "Отлично - Так отмечены удачные решения и подходы, на которые стоит опираться в будущих проектах\n",
    "\n",
    "\n",
    "---\n",
    "<div class=\"alert alert-block alert-danger\">\n",
    "    \n",
    "\n",
    "### Комментарий от ревьюера\n",
    "Критично\n",
    "\n",
    "Такой комментарий нужно исправить обязательно, он критически влияет на удачное выполнение проекта.\n",
    "</div>\n",
    "    \n",
    "---\n",
    "\n",
    "<div class=\"alert alert-block alert-warning\">\n",
    "    \n",
    "\n",
    "### Комментарий от ревьюера\n",
    "Рекомендация\n",
    "\n",
    "Такой комментарий является рекомендацией или советом. Mожешь учесть их при выполнении будущих заданий. На твое усмотрение. \n",
    "</div>\n",
    "\n",
    "---\n",
    "\n",
    "<div class=\"alert alert-block alert-success\">\n",
    "    \n",
    "\n",
    "### Комментарий от ревьюера\n",
    "Отлично\n",
    "    \n",
    "Так отмечены удачные решения и подходы, на которые стоит опираться в будущих проектах\n",
    "</div>\n",
    "\n",
    "\n",
    "Желательно реагировать на комментарии ('исправлено', 'не понятно как исправить ошибку' и т.п.) - так мы сможем более эффективно поработать над этим проектом.\n",
    "\n",
    "---\n",
    "\n",
    "Будет здорово, если ты будешь помечать свои действия следующим образом:\n",
    "\n",
    "\n",
    "\n",
    "<div class=\"alert alert-block alert-info\">\n",
    "\n",
    "### Комментарий студента:\n",
    "\n",
    "</div>"
   ]
  },
  {
   "cell_type": "markdown",
   "metadata": {},
   "source": [
    "<div class=\"alert alert-block alert-success\">\n",
    "\n",
    "    \n",
    "### Комментарий от ревьюера v_1\n",
    "\n",
    "Максим, в самом начале работы некорректно обрабатываешь данные по пользователям, попавшим в обе группы. \n",
    "    \n",
    "    \n",
    "</div>"
   ]
  },
  {
   "cell_type": "markdown",
   "metadata": {},
   "source": [
    "<div class=\"alert alert-block alert-success\">\n",
    "    \n",
    "    \n",
    "### Комментарий от ревьюера v_2\n",
    "    \n",
    "Максим, привет!\n",
    "    \n",
    "Отличная работа, но следующие моменты надо исправить\n",
    "    \n",
    "1. Фильтрация от пользователей, попавших в обе группы\n",
    "2. Оформление графиков\n",
    "3. Формулировка гипотез\n",
    "4. Вывод по тесту\n",
    "    \n",
    "Подробные комментарии по ходу работы\n",
    "    \n",
    "Желтые комментарии-рекомендации на твое усмотрение.\n",
    "    \n",
    "Если есть вопросы ко мне, можешь оставить их в отдельном комментарии\n",
    "</div>"
   ]
  },
  {
   "cell_type": "markdown",
   "metadata": {},
   "source": [
    "<div class=\"alert alert-block alert-success\">\n",
    " \n",
    "### Комментарий от ревьюера v_3\n",
    "    \n",
    "Максим, привет!\n",
    "\n",
    "Отлично, все критичные комментарии отработаны!\n",
    "    \n",
    "У тебя получился отличный проект, успеха в дальнейшем обучении!\n",
    "    \n",
    "Если есть желание поближе познакомиться со статистикой, тервером и аб тестами (при этом глубоко не погружаясь в математические дебри) рекомендую посмотреть цикл лекций Глеба Михайлова (возможно он наставник у тебя)\n",
    "    \n",
    "https://www.youtube.com/playlist?list=PLQJ7ptkRY-xbHLLI66KdscKp_FJt0FsIi\n",
    "    \n",
    "И курсы Карпова по статистике на степике очень рекомендую, в свое время они многое мне дали\n",
    "</div>"
   ]
  },
  {
   "cell_type": "markdown",
   "metadata": {},
   "source": [
    "<div class=\"alert alert-block alert-info\">\n",
    "\n",
    "### Комментарий студента: Максим, спасибо за ценную обратную связь и советы, обязательно воспользусюь! К сожалению, проект висит как непринятый, можешь его принять, иначе я не могу приступить к выполнению сборного проекта :(\n",
    "\n",
    "</div>"
   ]
  },
  {
   "cell_type": "markdown",
   "metadata": {},
   "source": [
    "## Принятие решений в бизнесе на основе данных"
   ]
  },
  {
   "cell_type": "markdown",
   "metadata": {},
   "source": [
    "В рамках аналитики для крупного интернет-магазина необходимо приоритезировать, подготовленные совместно с отделом маркетинга, гипотезы для увеличения выручки.\n",
    "\n",
    "Необходимо выполнить следующие задачи:\n",
    "1. Приоритезировать гипотезы\n",
    "2. Запустить А/В тесты\n",
    "3. Проанализировать результаты\n",
    "\n",
    "На **первом этапе** у нас в распоряжении файл с 9ью гипотезами по увеличению выручки и все необходимые параметры для их ранжирования: Reach, Impact, Confidence, Effort\n",
    "\n",
    "На **втором этапе** мы имеем два датасета для проведения A/B теста"
   ]
  },
  {
   "cell_type": "markdown",
   "metadata": {},
   "source": [
    "<div class=\"alert alert-block alert-danger\">\n",
    "    \n",
    "\n",
    "### Комментарий от ревьюера v_1\n",
    "Критично\n",
    "\n",
    "В начала исследования следует добавить вводную к проекту. Написать о чем проект, цель исследования, какими данными располагаешь и т. п.\n",
    "\n",
    "</div>"
   ]
  },
  {
   "cell_type": "markdown",
   "metadata": {},
   "source": [
    "<div class=\"alert alert-block alert-info\">\n",
    "\n",
    "### Комментарий студента: Готово\n",
    "\n",
    "</div>"
   ]
  },
  {
   "cell_type": "markdown",
   "metadata": {},
   "source": [
    "<div class=\"alert alert-block alert-success\">\n",
    "\n",
    "    \n",
    "### Комментарий от ревьюера v_2\n",
    "\n",
    "👍🏻\n",
    "    \n",
    "</div>"
   ]
  },
  {
   "cell_type": "code",
   "execution_count": 47,
   "metadata": {},
   "outputs": [],
   "source": [
    "import pandas as pd\n",
    "import datetime as dt\n",
    "import numpy as np\n",
    "import matplotlib.pyplot as plt\n",
    "from pandas.plotting import register_matplotlib_converters\n",
    "import warnings\n",
    "import scipy.stats as stats"
   ]
  },
  {
   "cell_type": "markdown",
   "metadata": {},
   "source": [
    "<div class=\"alert alert-block alert-success\">\n",
    "    \n",
    "### Комментарий от ревьюера v_1\n",
    "Отлично\n",
    "    \n",
    "Отлично, библиотеки импортированы в начале тетрадки, в отдельной ячейке.\n",
    "</div>"
   ]
  },
  {
   "cell_type": "markdown",
   "metadata": {},
   "source": [
    "### №1 Приоритезация гипотез"
   ]
  },
  {
   "cell_type": "markdown",
   "metadata": {},
   "source": [
    "<div class=\"alert alert-block alert-warning\">\n",
    "    \n",
    "\n",
    "### Комментарий от ревьюера v_1\n",
    "Рекомендация\n",
    "\n",
    "Проверяй, пожалуйста, пути к файлам. Твой код закомментировал и исправил, чтобы не замедлять проверку\n",
    "</div>"
   ]
  },
  {
   "cell_type": "code",
   "execution_count": 48,
   "metadata": {},
   "outputs": [],
   "source": [
    "# data = pd.read_csv('hypothesis.csv', delimiter=',')\n",
    "data = pd.read_csv('/datasets/hypothesis.csv', delimiter=',')"
   ]
  },
  {
   "cell_type": "code",
   "execution_count": 49,
   "metadata": {},
   "outputs": [
    {
     "data": {
      "text/html": [
       "<div>\n",
       "<style scoped>\n",
       "    .dataframe tbody tr th:only-of-type {\n",
       "        vertical-align: middle;\n",
       "    }\n",
       "\n",
       "    .dataframe tbody tr th {\n",
       "        vertical-align: top;\n",
       "    }\n",
       "\n",
       "    .dataframe thead th {\n",
       "        text-align: right;\n",
       "    }\n",
       "</style>\n",
       "<table border=\"1\" class=\"dataframe\">\n",
       "  <thead>\n",
       "    <tr style=\"text-align: right;\">\n",
       "      <th></th>\n",
       "      <th>Hypothesis</th>\n",
       "      <th>Reach</th>\n",
       "      <th>Impact</th>\n",
       "      <th>Confidence</th>\n",
       "      <th>Efforts</th>\n",
       "    </tr>\n",
       "  </thead>\n",
       "  <tbody>\n",
       "    <tr>\n",
       "      <th>0</th>\n",
       "      <td>Добавить два новых канала привлечения трафика, что позволит привлекать на 30% больше пользователей</td>\n",
       "      <td>3</td>\n",
       "      <td>10</td>\n",
       "      <td>8</td>\n",
       "      <td>6</td>\n",
       "    </tr>\n",
       "    <tr>\n",
       "      <th>1</th>\n",
       "      <td>Запустить собственную службу доставки, что сократит срок доставки заказов</td>\n",
       "      <td>2</td>\n",
       "      <td>5</td>\n",
       "      <td>4</td>\n",
       "      <td>10</td>\n",
       "    </tr>\n",
       "    <tr>\n",
       "      <th>2</th>\n",
       "      <td>Добавить блоки рекомендаций товаров на сайт интернет магазина, чтобы повысить конверсию и средний чек заказа</td>\n",
       "      <td>8</td>\n",
       "      <td>3</td>\n",
       "      <td>7</td>\n",
       "      <td>3</td>\n",
       "    </tr>\n",
       "    <tr>\n",
       "      <th>3</th>\n",
       "      <td>Изменить структура категорий, что увеличит конверсию, т.к. пользователи быстрее найдут нужный товар</td>\n",
       "      <td>8</td>\n",
       "      <td>3</td>\n",
       "      <td>3</td>\n",
       "      <td>8</td>\n",
       "    </tr>\n",
       "    <tr>\n",
       "      <th>4</th>\n",
       "      <td>Изменить цвет фона главной страницы, чтобы увеличить вовлеченность пользователей</td>\n",
       "      <td>3</td>\n",
       "      <td>1</td>\n",
       "      <td>1</td>\n",
       "      <td>1</td>\n",
       "    </tr>\n",
       "    <tr>\n",
       "      <th>5</th>\n",
       "      <td>Добавить страницу отзывов клиентов о магазине, что позволит увеличить количество заказов</td>\n",
       "      <td>3</td>\n",
       "      <td>2</td>\n",
       "      <td>2</td>\n",
       "      <td>3</td>\n",
       "    </tr>\n",
       "    <tr>\n",
       "      <th>6</th>\n",
       "      <td>Показать на главной странице баннеры с актуальными акциями и распродажами, чтобы увеличить конверсию</td>\n",
       "      <td>5</td>\n",
       "      <td>3</td>\n",
       "      <td>8</td>\n",
       "      <td>3</td>\n",
       "    </tr>\n",
       "    <tr>\n",
       "      <th>7</th>\n",
       "      <td>Добавить форму подписки на все основные страницы, чтобы собрать базу клиентов для email-рассылок</td>\n",
       "      <td>10</td>\n",
       "      <td>7</td>\n",
       "      <td>8</td>\n",
       "      <td>5</td>\n",
       "    </tr>\n",
       "    <tr>\n",
       "      <th>8</th>\n",
       "      <td>Запустить акцию, дающую скидку на товар в день рождения</td>\n",
       "      <td>1</td>\n",
       "      <td>9</td>\n",
       "      <td>9</td>\n",
       "      <td>5</td>\n",
       "    </tr>\n",
       "  </tbody>\n",
       "</table>\n",
       "</div>"
      ],
      "text/plain": [
       "                                                                                                     Hypothesis  \\\n",
       "0            Добавить два новых канала привлечения трафика, что позволит привлекать на 30% больше пользователей   \n",
       "1                                     Запустить собственную службу доставки, что сократит срок доставки заказов   \n",
       "2  Добавить блоки рекомендаций товаров на сайт интернет магазина, чтобы повысить конверсию и средний чек заказа   \n",
       "3           Изменить структура категорий, что увеличит конверсию, т.к. пользователи быстрее найдут нужный товар   \n",
       "4                              Изменить цвет фона главной страницы, чтобы увеличить вовлеченность пользователей   \n",
       "5                      Добавить страницу отзывов клиентов о магазине, что позволит увеличить количество заказов   \n",
       "6          Показать на главной странице баннеры с актуальными акциями и распродажами, чтобы увеличить конверсию   \n",
       "7              Добавить форму подписки на все основные страницы, чтобы собрать базу клиентов для email-рассылок   \n",
       "8                                                       Запустить акцию, дающую скидку на товар в день рождения   \n",
       "\n",
       "   Reach  Impact  Confidence  Efforts  \n",
       "0      3      10           8        6  \n",
       "1      2       5           4       10  \n",
       "2      8       3           7        3  \n",
       "3      8       3           3        8  \n",
       "4      3       1           1        1  \n",
       "5      3       2           2        3  \n",
       "6      5       3           8        3  \n",
       "7     10       7           8        5  \n",
       "8      1       9           9        5  "
      ]
     },
     "execution_count": 49,
     "metadata": {},
     "output_type": "execute_result"
    }
   ],
   "source": [
    "data"
   ]
  },
  {
   "cell_type": "markdown",
   "metadata": {},
   "source": [
    "В первой части проекта мы имеем дело с 9 гипотезами по увеличению выручки интернет-магазина. Перед нами стоит задача приоритезировать их на основе 4х имеющихся метрик: Reach (охват гипотезы), Impact (влияние гипотезы), Confidence (уверенность в оценках других параметров), Efforts (сложность проверки гипотезы)"
   ]
  },
  {
   "cell_type": "markdown",
   "metadata": {},
   "source": [
    "Для начала приведем названия столбцов к верному формату"
   ]
  },
  {
   "cell_type": "code",
   "execution_count": 50,
   "metadata": {},
   "outputs": [],
   "source": [
    "data.rename(columns={'Hypothesis': 'hypothesis', 'Reach': 'reach', 'Impact': 'impact', 'Confidence': 'confidence', 'Efforts': 'efforts'}, inplace=True)"
   ]
  },
  {
   "cell_type": "markdown",
   "metadata": {},
   "source": [
    "##### 1. Фреймворк ICE"
   ]
  },
  {
   "cell_type": "code",
   "execution_count": 51,
   "metadata": {},
   "outputs": [
    {
     "name": "stdout",
     "output_type": "stream",
     "text": [
      "                                                                                                     hypothesis  \\\n",
      "8                                                       Запустить акцию, дающую скидку на товар в день рождения   \n",
      "0            Добавить два новых канала привлечения трафика, что позволит привлекать на 30% больше пользователей   \n",
      "7              Добавить форму подписки на все основные страницы, чтобы собрать базу клиентов для email-рассылок   \n",
      "6          Показать на главной странице баннеры с актуальными акциями и распродажами, чтобы увеличить конверсию   \n",
      "2  Добавить блоки рекомендаций товаров на сайт интернет магазина, чтобы повысить конверсию и средний чек заказа   \n",
      "1                                     Запустить собственную службу доставки, что сократит срок доставки заказов   \n",
      "5                      Добавить страницу отзывов клиентов о магазине, что позволит увеличить количество заказов   \n",
      "3           Изменить структура категорий, что увеличит конверсию, т.к. пользователи быстрее найдут нужный товар   \n",
      "4                              Изменить цвет фона главной страницы, чтобы увеличить вовлеченность пользователей   \n",
      "\n",
      "         ICE  \n",
      "8  16.200000  \n",
      "0  13.333333  \n",
      "7  11.200000  \n",
      "6   8.000000  \n",
      "2   7.000000  \n",
      "1   2.000000  \n",
      "5   1.333333  \n",
      "3   1.125000  \n",
      "4   1.000000  \n"
     ]
    }
   ],
   "source": [
    "data['ICE'] = data['impact'] * data['confidence'] / data['efforts']\n",
    "print(data.sort_values(by='ICE', ascending=False)[['hypothesis', 'ICE']])"
   ]
  },
  {
   "cell_type": "markdown",
   "metadata": {},
   "source": [
    "Наиболее перспективные гипотезы по ICE: 8, 0, 7, 6, 2"
   ]
  },
  {
   "cell_type": "markdown",
   "metadata": {},
   "source": [
    "##### 2. Фреймворк RICE"
   ]
  },
  {
   "cell_type": "code",
   "execution_count": 52,
   "metadata": {},
   "outputs": [
    {
     "name": "stdout",
     "output_type": "stream",
     "text": [
      "                                                                                                     hypothesis  \\\n",
      "7              Добавить форму подписки на все основные страницы, чтобы собрать базу клиентов для email-рассылок   \n",
      "2  Добавить блоки рекомендаций товаров на сайт интернет магазина, чтобы повысить конверсию и средний чек заказа   \n",
      "0            Добавить два новых канала привлечения трафика, что позволит привлекать на 30% больше пользователей   \n",
      "6          Показать на главной странице баннеры с актуальными акциями и распродажами, чтобы увеличить конверсию   \n",
      "8                                                       Запустить акцию, дающую скидку на товар в день рождения   \n",
      "3           Изменить структура категорий, что увеличит конверсию, т.к. пользователи быстрее найдут нужный товар   \n",
      "1                                     Запустить собственную службу доставки, что сократит срок доставки заказов   \n",
      "5                      Добавить страницу отзывов клиентов о магазине, что позволит увеличить количество заказов   \n",
      "4                              Изменить цвет фона главной страницы, чтобы увеличить вовлеченность пользователей   \n",
      "\n",
      "    RICE  \n",
      "7  112.0  \n",
      "2   56.0  \n",
      "0   40.0  \n",
      "6   40.0  \n",
      "8   16.2  \n",
      "3    9.0  \n",
      "1    4.0  \n",
      "5    4.0  \n",
      "4    3.0  \n"
     ]
    }
   ],
   "source": [
    "data['RICE'] = data['reach'] * data['impact'] * data['confidence'] / data['efforts']\n",
    "print(data.sort_values(by='RICE', ascending=False)[['hypothesis', 'RICE']])\n",
    "pd.options.display.max_colwidth = 120"
   ]
  },
  {
   "cell_type": "markdown",
   "metadata": {},
   "source": [
    "Наиболее перспективные гипотезы по RICE: 7, 2, 0, 6, 8\n",
    "\n",
    "Добавление параметра Reach не повляило на состав 5ки наиболее перспективных гипотез, но переместило гипотезу 8 с первого места на последнее. В это же время гипотеза 7 заняла первое место. Это связано с тем, что по параметру \"охвата\" гипотеза 8 получила самую низкую оценку (1), в то время как у гипотезы 7 показатель самый высокий (10)."
   ]
  },
  {
   "cell_type": "markdown",
   "metadata": {},
   "source": [
    "<div class=\"alert alert-block alert-warning\">\n",
    "    \n",
    "### Комментарий от ревьюера v_1\n",
    "Рекомендация\n",
    "\n",
    "Важно объяснить результаты приоритизации в контексте наших гипотез (не просто на номера гипотез обращать внимание, а на то, о чем эти гипотезы)\n",
    "    \n",
    "Для того, чтобы гипотезы отобразились целиком следует использовать параметр:\n",
    "    \n",
    "    pd.options.display.max_colwidth = 120\n",
    "</div>"
   ]
  },
  {
   "cell_type": "markdown",
   "metadata": {},
   "source": [
    "### №2 Анализ A/B теста"
   ]
  },
  {
   "cell_type": "code",
   "execution_count": 53,
   "metadata": {},
   "outputs": [],
   "source": [
    "#orders = pd.read_csv('orders.csv', delimiter=',')\n",
    "orders = pd.read_csv('/datasets/orders.csv', delimiter=',')\n",
    "orders['date'] = orders['date'].map(\n",
    "    lambda x: dt.datetime.strptime(x, '%Y-%m-%d')\n",
    ")\n",
    "#visitors = pd.read_csv('visitors.csv', delimiter=',')\n",
    "visitors = pd.read_csv('/datasets/visitors.csv', delimiter=',')\n",
    "visitors['date'] = visitors['date'].map(\n",
    "    lambda x: dt.datetime.strptime(x, '%Y-%m-%d')\n",
    ")\n"
   ]
  },
  {
   "cell_type": "code",
   "execution_count": 54,
   "metadata": {},
   "outputs": [
    {
     "data": {
      "text/html": [
       "<div>\n",
       "<style scoped>\n",
       "    .dataframe tbody tr th:only-of-type {\n",
       "        vertical-align: middle;\n",
       "    }\n",
       "\n",
       "    .dataframe tbody tr th {\n",
       "        vertical-align: top;\n",
       "    }\n",
       "\n",
       "    .dataframe thead th {\n",
       "        text-align: right;\n",
       "    }\n",
       "</style>\n",
       "<table border=\"1\" class=\"dataframe\">\n",
       "  <thead>\n",
       "    <tr style=\"text-align: right;\">\n",
       "      <th></th>\n",
       "      <th>transactionId</th>\n",
       "      <th>visitorId</th>\n",
       "      <th>date</th>\n",
       "      <th>revenue</th>\n",
       "      <th>group</th>\n",
       "    </tr>\n",
       "  </thead>\n",
       "  <tbody>\n",
       "    <tr>\n",
       "      <th>0</th>\n",
       "      <td>3667963787</td>\n",
       "      <td>3312258926</td>\n",
       "      <td>2019-08-15</td>\n",
       "      <td>1650</td>\n",
       "      <td>B</td>\n",
       "    </tr>\n",
       "    <tr>\n",
       "      <th>1</th>\n",
       "      <td>2804400009</td>\n",
       "      <td>3642806036</td>\n",
       "      <td>2019-08-15</td>\n",
       "      <td>730</td>\n",
       "      <td>B</td>\n",
       "    </tr>\n",
       "    <tr>\n",
       "      <th>2</th>\n",
       "      <td>2961555356</td>\n",
       "      <td>4069496402</td>\n",
       "      <td>2019-08-15</td>\n",
       "      <td>400</td>\n",
       "      <td>A</td>\n",
       "    </tr>\n",
       "    <tr>\n",
       "      <th>3</th>\n",
       "      <td>3797467345</td>\n",
       "      <td>1196621759</td>\n",
       "      <td>2019-08-15</td>\n",
       "      <td>9759</td>\n",
       "      <td>B</td>\n",
       "    </tr>\n",
       "    <tr>\n",
       "      <th>4</th>\n",
       "      <td>2282983706</td>\n",
       "      <td>2322279887</td>\n",
       "      <td>2019-08-15</td>\n",
       "      <td>2308</td>\n",
       "      <td>B</td>\n",
       "    </tr>\n",
       "  </tbody>\n",
       "</table>\n",
       "</div>"
      ],
      "text/plain": [
       "   transactionId   visitorId       date  revenue group\n",
       "0     3667963787  3312258926 2019-08-15     1650     B\n",
       "1     2804400009  3642806036 2019-08-15      730     B\n",
       "2     2961555356  4069496402 2019-08-15      400     A\n",
       "3     3797467345  1196621759 2019-08-15     9759     B\n",
       "4     2282983706  2322279887 2019-08-15     2308     B"
      ]
     },
     "execution_count": 54,
     "metadata": {},
     "output_type": "execute_result"
    }
   ],
   "source": [
    "orders.head()"
   ]
  },
  {
   "cell_type": "code",
   "execution_count": 55,
   "metadata": {},
   "outputs": [
    {
     "data": {
      "text/html": [
       "<div>\n",
       "<style scoped>\n",
       "    .dataframe tbody tr th:only-of-type {\n",
       "        vertical-align: middle;\n",
       "    }\n",
       "\n",
       "    .dataframe tbody tr th {\n",
       "        vertical-align: top;\n",
       "    }\n",
       "\n",
       "    .dataframe thead th {\n",
       "        text-align: right;\n",
       "    }\n",
       "</style>\n",
       "<table border=\"1\" class=\"dataframe\">\n",
       "  <thead>\n",
       "    <tr style=\"text-align: right;\">\n",
       "      <th></th>\n",
       "      <th>date</th>\n",
       "      <th>group</th>\n",
       "      <th>visitors</th>\n",
       "    </tr>\n",
       "  </thead>\n",
       "  <tbody>\n",
       "    <tr>\n",
       "      <th>0</th>\n",
       "      <td>2019-08-01</td>\n",
       "      <td>A</td>\n",
       "      <td>719</td>\n",
       "    </tr>\n",
       "    <tr>\n",
       "      <th>1</th>\n",
       "      <td>2019-08-02</td>\n",
       "      <td>A</td>\n",
       "      <td>619</td>\n",
       "    </tr>\n",
       "    <tr>\n",
       "      <th>2</th>\n",
       "      <td>2019-08-03</td>\n",
       "      <td>A</td>\n",
       "      <td>507</td>\n",
       "    </tr>\n",
       "    <tr>\n",
       "      <th>3</th>\n",
       "      <td>2019-08-04</td>\n",
       "      <td>A</td>\n",
       "      <td>717</td>\n",
       "    </tr>\n",
       "    <tr>\n",
       "      <th>4</th>\n",
       "      <td>2019-08-05</td>\n",
       "      <td>A</td>\n",
       "      <td>756</td>\n",
       "    </tr>\n",
       "  </tbody>\n",
       "</table>\n",
       "</div>"
      ],
      "text/plain": [
       "        date group  visitors\n",
       "0 2019-08-01     A       719\n",
       "1 2019-08-02     A       619\n",
       "2 2019-08-03     A       507\n",
       "3 2019-08-04     A       717\n",
       "4 2019-08-05     A       756"
      ]
     },
     "execution_count": 55,
     "metadata": {},
     "output_type": "execute_result"
    }
   ],
   "source": [
    "visitors.head()"
   ]
  },
  {
   "cell_type": "markdown",
   "metadata": {},
   "source": [
    "Для последующего анализа нам понадобятся две таблицы: orders и visitors\n",
    "\n",
    "**orders**\n",
    "\n",
    "1. transactionId — идентификатор заказа;\n",
    "2. visitorId — идентификатор пользователя, совершившего заказ;\n",
    "3. date — дата, когда был совершён заказ;\n",
    "4. revenue — выручка заказа;\n",
    "5. group — группа A/B-теста, в которую попал заказ\n",
    "\n",
    "**visitors**\n",
    "1. date — дата;\n",
    "2. group — группа A/B-теста;\n",
    "3. visitors — количество пользователей в указанную дату в указанной группе A/B-теста"
   ]
  },
  {
   "cell_type": "code",
   "execution_count": 10,
   "metadata": {
    "scrolled": true
   },
   "outputs": [
    {
     "name": "stdout",
     "output_type": "stream",
     "text": [
      "<class 'pandas.core.frame.DataFrame'>\n",
      "RangeIndex: 1197 entries, 0 to 1196\n",
      "Data columns (total 5 columns):\n",
      " #   Column         Non-Null Count  Dtype         \n",
      "---  ------         --------------  -----         \n",
      " 0   transactionId  1197 non-null   int64         \n",
      " 1   visitorId      1197 non-null   int64         \n",
      " 2   date           1197 non-null   datetime64[ns]\n",
      " 3   revenue        1197 non-null   int64         \n",
      " 4   group          1197 non-null   object        \n",
      "dtypes: datetime64[ns](1), int64(3), object(1)\n",
      "memory usage: 46.9+ KB\n"
     ]
    }
   ],
   "source": [
    "orders.info()"
   ]
  },
  {
   "cell_type": "code",
   "execution_count": 11,
   "metadata": {},
   "outputs": [
    {
     "name": "stdout",
     "output_type": "stream",
     "text": [
      "<class 'pandas.core.frame.DataFrame'>\n",
      "RangeIndex: 62 entries, 0 to 61\n",
      "Data columns (total 3 columns):\n",
      " #   Column    Non-Null Count  Dtype         \n",
      "---  ------    --------------  -----         \n",
      " 0   date      62 non-null     datetime64[ns]\n",
      " 1   group     62 non-null     object        \n",
      " 2   visitors  62 non-null     int64         \n",
      "dtypes: datetime64[ns](1), int64(1), object(1)\n",
      "memory usage: 1.6+ KB\n"
     ]
    }
   ],
   "source": [
    "visitors.info()"
   ]
  },
  {
   "cell_type": "code",
   "execution_count": 56,
   "metadata": {},
   "outputs": [],
   "source": [
    "orders['date'] = pd.to_datetime(orders['date'])"
   ]
  },
  {
   "cell_type": "markdown",
   "metadata": {},
   "source": [
    "Проверим группы на наличие дубликатов"
   ]
  },
  {
   "cell_type": "code",
   "execution_count": 57,
   "metadata": {
    "scrolled": true
   },
   "outputs": [
    {
     "name": "stdout",
     "output_type": "stream",
     "text": [
      "1031\n",
      "group\n",
      "A    503\n",
      "B    586\n",
      "Name: visitorId, dtype: int64\n",
      "-58\n"
     ]
    }
   ],
   "source": [
    "print(orders['visitorId'].nunique())\n",
    "print(orders.groupby('group')['visitorId'].nunique())\n",
    "print(orders['visitorId'].nunique() - orders[orders['group'] == 'A']['visitorId'].nunique() - orders[orders['group'] == 'B']['visitorId'].nunique())"
   ]
  },
  {
   "cell_type": "markdown",
   "metadata": {},
   "source": [
    "В данных есть 58 пользователей, которые попали в обе группы, от них необходимо избавиться"
   ]
  },
  {
   "cell_type": "code",
   "execution_count": 58,
   "metadata": {
    "scrolled": false
   },
   "outputs": [
    {
     "name": "stdout",
     "output_type": "stream",
     "text": [
      "[   8300375  199603092  232979603  237748145  276558944  351125977\n",
      "  393266494  457167155  471551937  477780734  818047933  963407295\n",
      " 1230306981 1294878855 1316129916 1333886533 1404934699 1602967004\n",
      " 1614305549 1648269707 1668030113 1738359350 1801183820 1959144690\n",
      " 2038680547 2044997962 2378935119 2458001652 2579882178 2587333274\n",
      " 2600415354 2654030115 2686716486 2712142231 2716752286 2780786433\n",
      " 2927087541 2949041841 2954449915 3062433592 3202540741 3234906277\n",
      " 3656415546 3717692402 3766097110 3803269165 3891541246 3941795274\n",
      " 3951559397 3957174400 3963646447 3972127743 3984495233 4069496402\n",
      " 4120364173 4186807279 4256040402 4266935830]\n"
     ]
    }
   ],
   "source": [
    "dup = np.intersect1d(orders.query('group == \"A\"')['visitorId'].unique(), orders.query('group == \"B\"')['visitorId'].unique())\n",
    "print(dup)"
   ]
  },
  {
   "cell_type": "code",
   "execution_count": 62,
   "metadata": {},
   "outputs": [],
   "source": [
    "orders = orders.query('visitorId not in @dup')"
   ]
  },
  {
   "cell_type": "code",
   "execution_count": 63,
   "metadata": {},
   "outputs": [
    {
     "name": "stdout",
     "output_type": "stream",
     "text": [
      "973\n",
      "group\n",
      "A    445\n",
      "B    528\n",
      "Name: visitorId, dtype: int64\n",
      "0\n"
     ]
    }
   ],
   "source": [
    "print(orders['visitorId'].nunique())\n",
    "print(orders.groupby('group')['visitorId'].nunique())\n",
    "print(orders['visitorId'].nunique() - orders[orders['group'] == 'A']['visitorId'].nunique() - orders[orders['group'] == 'B']['visitorId'].nunique())"
   ]
  },
  {
   "cell_type": "markdown",
   "metadata": {},
   "source": [
    "<div class=\"alert alert-block alert-danger\">\n",
    "    \n",
    "\n",
    "### Комментарий от ревьюера v_1\n",
    "Критично\n",
    "\n",
    "Ты избавился не от этих пользователей, ты дропнул дубликаты по колонке **visitorId**\n",
    "    \n",
    "В результате вся дальнейшая работа идет по некорректным данным\n",
    "    \n",
    "Чтобы избавиться от этих пользователей, нужно найти их айдишники и отфильтровать датафрейм. Метод drop_duplicates тут не сработает\n",
    "</div>"
   ]
  },
  {
   "cell_type": "markdown",
   "metadata": {},
   "source": [
    "<div class=\"alert alert-block alert-info\">\n",
    "\n",
    "### Комментарий студента: Готово\n",
    "\n",
    "</div>"
   ]
  },
  {
   "cell_type": "markdown",
   "metadata": {},
   "source": [
    "<div class=\"alert alert-block alert-danger\">\n",
    "    \n",
    "\n",
    "### Комментарий от ревьюера v_2\n",
    "Критично\n",
    "\n",
    "Так кодить не вариант, они у тебя выделены в отдельную переменную, сделай фильтрацию по переменной\n",
    "</div>"
   ]
  },
  {
   "cell_type": "markdown",
   "metadata": {},
   "source": [
    "<div class=\"alert alert-block alert-info\">\n",
    "\n",
    "### Комментарий студента: Готово\n",
    "\n",
    "</div>"
   ]
  },
  {
   "cell_type": "markdown",
   "metadata": {},
   "source": [
    "<div class=\"alert alert-block alert-success\">\n",
    "\n",
    "    \n",
    "### Комментарий от ревьюера v_3\n",
    "\n",
    "👍🏻\n",
    "    \n",
    "</div>"
   ]
  },
  {
   "cell_type": "markdown",
   "metadata": {},
   "source": [
    "##### 1. График кумулятивной выручки по группам"
   ]
  },
  {
   "cell_type": "code",
   "execution_count": 40,
   "metadata": {},
   "outputs": [
    {
     "data": {
      "image/png": "[encoded data removed]",
      "text/plain": [
       "<Figure size 432x288 with 1 Axes>"
      ]
     },
     "metadata": {
      "needs_background": "light"
     },
     "output_type": "display_data"
    }
   ],
   "source": [
    "datesGroups = orders[['date', 'group']].drop_duplicates()\n",
    "\n",
    "ordersAggregated = datesGroups.apply(\n",
    "    lambda x: orders[\n",
    "        np.logical_and(\n",
    "            orders['date'] <= x['date'], orders['group'] == x['group']\n",
    "        )\n",
    "    ].agg(\n",
    "        {\n",
    "            'date': 'max',\n",
    "            'group': 'max',\n",
    "            'transactionId': 'nunique',\n",
    "            'visitorId': 'nunique',\n",
    "            'revenue': 'sum',\n",
    "        }\n",
    "    ),\n",
    "    axis=1,\n",
    ").sort_values(by=['date', 'group'])\n",
    "\n",
    "visitorsAggregated = datesGroups.apply(\n",
    "    lambda x: visitors[\n",
    "        np.logical_and(\n",
    "            visitors['date'] <= x['date'], visitors['group'] == x['group']\n",
    "        )\n",
    "    ].agg({'date': 'max', 'group': 'max', 'visitors': 'sum'}),\n",
    "    axis=1,\n",
    ").sort_values(by=['date', 'group'])\n",
    "\n",
    "cumulativeData = ordersAggregated.merge(\n",
    "    visitorsAggregated, left_on=['date', 'group'], right_on=['date', 'group']\n",
    ")\n",
    "cumulativeData.columns = [\n",
    "    'date',\n",
    "    'group',\n",
    "    'orders',\n",
    "    'buyers',\n",
    "    'revenue',\n",
    "    'visitors',\n",
    "]\n",
    "\n",
    "# датафрейм с кумулятивным количеством заказов и кумулятивной выручкой по дням в группе А\n",
    "cumulativeRevenueA = cumulativeData[cumulativeData['group']=='A'][['date','revenue', 'orders']]\n",
    "\n",
    "# датафрейм с кумулятивным количеством заказов и кумулятивной выручкой по дням в группе B\n",
    "cumulativeRevenueB = cumulativeData[cumulativeData['group']=='B'][['date','revenue', 'orders']]\n",
    "\n",
    "# Строим график выручки группы А\n",
    "plt.plot(cumulativeRevenueA['date'], cumulativeRevenueA['revenue'], label='A')\n",
    "\n",
    "# Строим график выручки группы B\n",
    "plt.plot(cumulativeRevenueB['date'], cumulativeRevenueB['revenue'], label='B')\n",
    "plt.legend()\n",
    "plt.suptitle(\"График кумулятивной выручки по группам\", fontsize=12)\n",
    "plt.xticks(fontsize=10, rotation=45);"
   ]
  },
  {
   "cell_type": "markdown",
   "metadata": {},
   "source": [
    "Выручка растет на протяжении всего периода тестирования. Однако в группе B происходит резкий скачок, что может говорить о появлении выбросов"
   ]
  },
  {
   "cell_type": "markdown",
   "metadata": {},
   "source": [
    "<div class=\"alert alert-block alert-success\">\n",
    "    \n",
    "\n",
    "### Комментарий от ревьюера v_2\n",
    "Отлично\n",
    "    \n",
    "Молодец, что обращаешь внимание на необычный скачок и даешь предположения как он мог появиться 👍\n",
    "\n",
    "Чтобы не выводить техническую информацию, а только сам график, ставь в конце кода ;\n",
    "    \n",
    "</div>"
   ]
  },
  {
   "cell_type": "markdown",
   "metadata": {},
   "source": [
    "<div class=\"alert alert-block alert-danger\">\n",
    "    \n",
    "\n",
    "### Комментарий от ревьюера v_2\n",
    "Критично\n",
    "\n",
    "Графики следует оформить, а именно дать им названия и подписать оси. Данный коммент ко всему проекту относится  (в том числе и к точечным графикам)\n",
    "    \n",
    "А чтобы значения по оси Х не сливались, следует обратиться к параметру xticks\n",
    "\n",
    "</div>"
   ]
  },
  {
   "cell_type": "markdown",
   "metadata": {},
   "source": [
    "<div class=\"alert alert-block alert-info\">\n",
    "\n",
    "### Комментарий студента: Готово\n",
    "\n",
    "</div>"
   ]
  },
  {
   "cell_type": "markdown",
   "metadata": {},
   "source": [
    "<div class=\"alert alert-block alert-warning\">\n",
    "    \n",
    "\n",
    "### Комментарий от ревьюера v_3\n",
    "Рекомендация\n",
    "\n",
    "С названиями все ОК. Но также следует и оси подписать, иначе неясно, что у нас за шкала\n",
    "</div>"
   ]
  },
  {
   "cell_type": "markdown",
   "metadata": {},
   "source": [
    "##### 2. График кумулятивного среднего чека по группам"
   ]
  },
  {
   "cell_type": "code",
   "execution_count": 39,
   "metadata": {},
   "outputs": [
    {
     "data": {
      "image/png": "[encoded data removed]",
      "text/plain": [
       "<Figure size 432x288 with 1 Axes>"
      ]
     },
     "metadata": {
      "needs_background": "light"
     },
     "output_type": "display_data"
    }
   ],
   "source": [
    "plt.plot(cumulativeRevenueA['date'], cumulativeRevenueA['revenue']/cumulativeRevenueA['orders'], label='A')\n",
    "plt.plot(cumulativeRevenueB['date'], cumulativeRevenueB['revenue']/cumulativeRevenueB['orders'], label='B')\n",
    "plt.legend() \n",
    "plt.suptitle(\"График кумулятивного среднего чека по группам\", fontsize=12)\n",
    "plt.xticks(fontsize=10, rotation=45);"
   ]
  },
  {
   "cell_type": "markdown",
   "metadata": {},
   "source": [
    "В середине теста по средним чекам так же наблюдается скачок в группе B"
   ]
  },
  {
   "cell_type": "markdown",
   "metadata": {},
   "source": [
    "<div class=\"alert alert-block alert-warning\">\n",
    "    \n",
    "\n",
    "### Комментарий от ревьюера v_2\n",
    "Рекомендация\n",
    "\n",
    "Здесь очень важно объяснить природу резкого скачка в группе В\n",
    "</div>"
   ]
  },
  {
   "cell_type": "markdown",
   "metadata": {},
   "source": [
    "##### 3. График относительного изменения кумулятивного среднего чека"
   ]
  },
  {
   "cell_type": "code",
   "execution_count": 41,
   "metadata": {},
   "outputs": [
    {
     "data": {
      "image/png": "[encoded data removed]",
      "text/plain": [
       "<Figure size 432x288 with 1 Axes>"
      ]
     },
     "metadata": {
      "needs_background": "light"
     },
     "output_type": "display_data"
    }
   ],
   "source": [
    "# собираем данные в одном датафрейме\n",
    "mergedCumulativeRevenue = cumulativeRevenueA.merge(cumulativeRevenueB, left_on='date', right_on='date', how='left', suffixes=['A', 'B'])\n",
    "\n",
    "# cтроим отношение средних чеков\n",
    "plt.plot(mergedCumulativeRevenue['date'], (mergedCumulativeRevenue['revenueB']/mergedCumulativeRevenue['ordersB'])/(mergedCumulativeRevenue['revenueA']/mergedCumulativeRevenue['ordersA'])-1)\n",
    "\n",
    "# добавляем ось X\n",
    "plt.axhline(y=0, color='black', linestyle='--')\n",
    "plt.suptitle(\"График относительного изменения кумулятивного среднего чека\", fontsize=12)\n",
    "plt.xticks(fontsize=10, rotation=45);"
   ]
  },
  {
   "cell_type": "markdown",
   "metadata": {},
   "source": [
    "На графике видна резкая разница между значениями в группах. Скорее всего дело в выбросах"
   ]
  },
  {
   "cell_type": "markdown",
   "metadata": {},
   "source": [
    "##### 4. График кумулятивного среднего количества заказов на посетителя по группам"
   ]
  },
  {
   "cell_type": "code",
   "execution_count": 42,
   "metadata": {},
   "outputs": [
    {
     "data": {
      "image/png": "[encoded data removed]",
      "text/plain": [
       "<Figure size 432x288 with 1 Axes>"
      ]
     },
     "metadata": {
      "needs_background": "light"
     },
     "output_type": "display_data"
    }
   ],
   "source": [
    "# считаем кумулятивную конверсию\n",
    "cumulativeData['conversion'] = cumulativeData['orders']/cumulativeData['visitors']\n",
    "\n",
    "# отделяем данные по группе A\n",
    "cumulativeDataA = cumulativeData[cumulativeData['group']=='A']\n",
    "\n",
    "# отделяем данные по группе B\n",
    "cumulativeDataB = cumulativeData[cumulativeData['group']=='B']\n",
    "\n",
    "# строим графики\n",
    "plt.plot(cumulativeDataA['date'], cumulativeDataA['conversion'], label='A')\n",
    "plt.plot(cumulativeDataB['date'], cumulativeDataB['conversion'], label='B')\n",
    "plt.legend()\n",
    "plt.suptitle(\"График кумулятивного среднего количества заказов на посетителя по группам\", fontsize=12)\n",
    "plt.xticks(fontsize=10, rotation=45);"
   ]
  },
  {
   "cell_type": "markdown",
   "metadata": {},
   "source": [
    "В начале теста группа А имела большее среднее число заказов, но в скором времени показатель А снизился, а В повысился, после чего оба показателя зафиксировались примерно на одном уровне"
   ]
  },
  {
   "cell_type": "markdown",
   "metadata": {},
   "source": [
    "<div class=\"alert alert-block alert-warning\">\n",
    "    \n",
    "\n",
    "### Комментарий от ревьюера v_2\n",
    "Рекомендация\n",
    "    \n",
    "Тут все верно, только это не конверсия, а среднее число заказов. Конверсия - это переход из посетителя в покупатели, независимо от количество покупок. И в данной работе мы не можем посчитать конверсию, потому что данные по посещениям у нас агрегированные (этот коммент ко всему проекту относится)\n",
    "     \n",
    "</div>"
   ]
  },
  {
   "cell_type": "markdown",
   "metadata": {},
   "source": [
    "<div class=\"alert alert-block alert-info\">\n",
    "\n",
    "### Комментарий студента: Готово\n",
    "\n",
    "</div>"
   ]
  },
  {
   "cell_type": "markdown",
   "metadata": {},
   "source": [
    "<div class=\"alert alert-block alert-success\">\n",
    "\n",
    "    \n",
    "### Комментарий от ревьюера v_3\n",
    "\n",
    "👍🏻\n",
    "    \n",
    "</div>"
   ]
  },
  {
   "cell_type": "markdown",
   "metadata": {},
   "source": [
    "##### 5. График относительного изменения кумулятивного среднего количества заказов на посетителя группы B к группе A"
   ]
  },
  {
   "cell_type": "code",
   "execution_count": 43,
   "metadata": {},
   "outputs": [
    {
     "data": {
      "image/png": "[encoded data removed]",
      "text/plain": [
       "<Figure size 432x288 with 1 Axes>"
      ]
     },
     "metadata": {
      "needs_background": "light"
     },
     "output_type": "display_data"
    }
   ],
   "source": [
    "mergedCumulativeConversions = cumulativeDataA[['date','conversion']].merge(cumulativeDataB[['date','conversion']], left_on='date', right_on='date', how='left', suffixes=['A', 'B'])\n",
    "\n",
    "plt.plot(mergedCumulativeConversions['date'], mergedCumulativeConversions['conversionB']/mergedCumulativeConversions['conversionA']-1, label=\"Относительный прирост конверсии группы B относительно группы A\")\n",
    "plt.legend()\n",
    "\n",
    "plt.axhline(y=0, color='black', linestyle='--')\n",
    "plt.axhline(y=0.2, color='grey', linestyle='--')\n",
    "plt.suptitle(\"График относительного изменения кумулятивного среднего количества заказов на посетителя группы B к группе A\", fontsize=12)\n",
    "plt.xticks(fontsize=10, rotation=45);"
   ]
  },
  {
   "cell_type": "markdown",
   "metadata": {},
   "source": [
    "В певрой половине теста конверсия группы B начинает улучшать свои показатели относительно группы А. Прирост достигает 20%, после чего происходит снижение и фиксация на уровне 15%"
   ]
  },
  {
   "cell_type": "markdown",
   "metadata": {},
   "source": [
    "<div class=\"alert alert-block alert-success\">\n",
    "    \n",
    "\n",
    "### Комментарий от ревьюера v_2\n",
    "Отлично\n",
    "    \n",
    "Отличный график, но если добавить еще одну axhline, например, на 0.10, то будет наглядно видно, что на протяжении почти всего теста число заказов группы B было выше более чем на 10%\n",
    "    \n",
    "</div>"
   ]
  },
  {
   "cell_type": "markdown",
   "metadata": {},
   "source": [
    "##### 6. Точечный график количества заказов по пользователям"
   ]
  },
  {
   "cell_type": "code",
   "execution_count": 60,
   "metadata": {},
   "outputs": [
    {
     "data": {
      "image/png": "[encoded data removed]",
      "text/plain": [
       "<Figure size 432x288 with 1 Axes>"
      ]
     },
     "metadata": {
      "needs_background": "light"
     },
     "output_type": "display_data"
    }
   ],
   "source": [
    "# Метод .groupby('...', as_index=False) сгруппирует заказы по пользователям\n",
    "# Метод .agg({'...' : 'nunique',}) подсчитает число уникальных заказов по сгруппированным данным\n",
    "ordersByUsers = (\n",
    "    orders.groupby('visitorId', as_index=False)\n",
    "    .agg({'transactionId': 'nunique'})\n",
    ")\n",
    "\n",
    "x_values = pd.Series(range(0, len(ordersByUsers)))\n",
    "plt.scatter(x_values, ordersByUsers['transactionId']) \n",
    "plt.suptitle(\"Точечный график количества заказов по пользователям\", fontsize=12)\n",
    "plt.xticks(fontsize=10, rotation=0);"
   ]
  },
  {
   "cell_type": "markdown",
   "metadata": {},
   "source": [
    "Малая часть пользователей делала более 1го заказа. Посчитаем перцентили"
   ]
  },
  {
   "cell_type": "markdown",
   "metadata": {},
   "source": [
    "##### 7. Подсчет перцентилей"
   ]
  },
  {
   "cell_type": "code",
   "execution_count": 23,
   "metadata": {},
   "outputs": [
    {
     "name": "stdout",
     "output_type": "stream",
     "text": [
      "[1. 2.]\n"
     ]
    }
   ],
   "source": [
    "print(np.percentile(ordersByUsers['transactionId'], [95, 99])) "
   ]
  },
  {
   "cell_type": "markdown",
   "metadata": {},
   "source": [
    "Не более 5% пользователей совершали больше 1 заказов и не более 1% - больше 2х. Таким образом мы смело можем выбирать значение 1 за верхнюю границу количества заказов, а остальные записи отбросить"
   ]
  },
  {
   "cell_type": "markdown",
   "metadata": {},
   "source": [
    "<div class=\"alert alert-block alert-success\">\n",
    "    \n",
    "\n",
    "### Комментарий от ревьюера v_2\n",
    "    \n",
    "Отлично\n",
    "    \n",
    "Верное решение, все, что за 95-м перцентилем можно отбросить\n",
    "    \n",
    "</div>"
   ]
  },
  {
   "cell_type": "markdown",
   "metadata": {},
   "source": [
    "##### 8. Точечный график стоимости заказов по пользователям"
   ]
  },
  {
   "cell_type": "code",
   "execution_count": 46,
   "metadata": {
    "scrolled": false
   },
   "outputs": [
    {
     "data": {
      "image/png": "[encoded data removed]",
      "text/plain": [
       "<Figure size 432x288 with 1 Axes>"
      ]
     },
     "metadata": {
      "needs_background": "light"
     },
     "output_type": "display_data"
    }
   ],
   "source": [
    "x_values = pd.Series(range(0, len(orders['revenue'])))\n",
    "plt.scatter(x_values, orders['revenue']) \n",
    "plt.suptitle(\"Точечный график стоимости заказов по пользователям\", fontsize=12)\n",
    "plt.xticks(fontsize=10, rotation=0);"
   ]
  },
  {
   "cell_type": "markdown",
   "metadata": {},
   "source": [
    "Без перцентилей не обойтись. Однако и без них видны два выброса: значения 200 000 и 1 300 000"
   ]
  },
  {
   "cell_type": "markdown",
   "metadata": {},
   "source": [
    "<div class=\"alert alert-block alert-warning\">\n",
    "\n",
    "\n",
    "### Комментарий от ревьюера v_2\n",
    "Рекомендация\n",
    "    \n",
    "Из-за одного явного выброса все значения слились в одну прямую, рекомендую нарисовать еще и график без него\n",
    "</div>"
   ]
  },
  {
   "cell_type": "markdown",
   "metadata": {},
   "source": [
    "##### 9. Подсчет перцентилей"
   ]
  },
  {
   "cell_type": "code",
   "execution_count": 25,
   "metadata": {
    "scrolled": true
   },
   "outputs": [
    {
     "name": "stdout",
     "output_type": "stream",
     "text": [
      "[26785. 53904.]\n"
     ]
    }
   ],
   "source": [
    "print(np.percentile(orders['revenue'], [95, 99])) "
   ]
  },
  {
   "cell_type": "markdown",
   "metadata": {},
   "source": [
    "Не более, чем у 5% пользователей стоимость заказа превышает 26 785. У 1% стоимость заказа превышает 53 904."
   ]
  },
  {
   "cell_type": "markdown",
   "metadata": {},
   "source": [
    "<div class=\"alert alert-block alert-warning\">\n",
    "\n",
    "\n",
    "### Комментарий от ревьюера v_2\n",
    "Рекомендация\n",
    "    \n",
    "На этом шаге следует определить границы аномалий, по которым будешь очищать данные\n",
    "</div>"
   ]
  },
  {
   "cell_type": "markdown",
   "metadata": {},
   "source": [
    "##### 10. Статистическая значимость различий в среднем количестве заказов на посетителя между группами по «сырым» данным"
   ]
  },
  {
   "cell_type": "code",
   "execution_count": 26,
   "metadata": {},
   "outputs": [
    {
     "name": "stdout",
     "output_type": "stream",
     "text": [
      "        date  ordersPerDateA  revenuePerDateA  ordersPerDateB  \\\n",
      "0 2019-08-01              23           142779              17   \n",
      "1 2019-08-02              19            91602              23   \n",
      "2 2019-08-03              24           112473              14   \n",
      "3 2019-08-04              11            41176              14   \n",
      "4 2019-08-05              22            86383              21   \n",
      "\n",
      "   revenuePerDateB  ordersCummulativeA  revenueCummulativeA  \\\n",
      "0            59758                  23               142779   \n",
      "1           162043                  42               234381   \n",
      "2            67049                  66               346854   \n",
      "3            96890                  77               388030   \n",
      "4            89908                  99               474413   \n",
      "\n",
      "   ordersCummulativeB  revenueCummulativeB  visitorsPerDateA  \\\n",
      "0                  17                59758               719   \n",
      "1                  40               221801               619   \n",
      "2                  54               288850               507   \n",
      "3                  68               385740               717   \n",
      "4                  89               475648               756   \n",
      "\n",
      "   visitorsPerDateB  visitorsCummulativeA  visitorsCummulativeB  \n",
      "0               713                   719                   713  \n",
      "1               581                  1338                  1294  \n",
      "2               509                  1845                  1803  \n",
      "3               770                  2562                  2573  \n",
      "4               707                  3318                  3280  \n"
     ]
    }
   ],
   "source": [
    "visitorsADaily = visitors[visitors['group'] == 'A'][['date', 'visitors']]\n",
    "visitorsADaily.columns = ['date', 'visitorsPerDateA']\n",
    "\n",
    "visitorsACummulative = visitorsADaily.apply(\n",
    "    lambda x: visitorsADaily[visitorsADaily['date'] <= x['date']].agg(\n",
    "        {'date': 'max', 'visitorsPerDateA': 'sum'}\n",
    "    ),\n",
    "    axis=1,\n",
    ")\n",
    "visitorsACummulative.columns = ['date', 'visitorsCummulativeA']\n",
    "\n",
    "visitorsBDaily = visitors[visitors['group'] == 'B'][['date', 'visitors']]\n",
    "visitorsBDaily.columns = ['date', 'visitorsPerDateB']\n",
    "\n",
    "visitorsBCummulative = visitorsBDaily.apply(\n",
    "    lambda x: visitorsBDaily[visitorsBDaily['date'] <= x['date']].agg(\n",
    "        {'date': 'max', 'visitorsPerDateB': 'sum'}\n",
    "    ),\n",
    "    axis=1,\n",
    ")\n",
    "visitorsBCummulative.columns = ['date', 'visitorsCummulativeB']\n",
    "\n",
    "ordersADaily = (\n",
    "    orders[orders['group'] == 'A'][['date', 'transactionId', 'visitorId', 'revenue']]\n",
    "    .groupby('date', as_index=False)\n",
    "    .agg({'transactionId': pd.Series.nunique, 'revenue': 'sum'})\n",
    ")\n",
    "ordersADaily.columns = ['date', 'ordersPerDateA', 'revenuePerDateA']\n",
    "\n",
    "ordersACummulative = ordersADaily.apply(\n",
    "    lambda x: ordersADaily[ordersADaily['date'] <= x['date']].agg(\n",
    "        {'date': 'max', 'ordersPerDateA': 'sum', 'revenuePerDateA': 'sum'}\n",
    "    ),\n",
    "    axis=1,\n",
    ").sort_values(by=['date'])\n",
    "ordersACummulative.columns = [\n",
    "    'date',\n",
    "    'ordersCummulativeA',\n",
    "    'revenueCummulativeA',\n",
    "]\n",
    "\n",
    "ordersBDaily = (\n",
    "    orders[orders['group'] == 'B'][['date', 'transactionId', 'visitorId', 'revenue']]\n",
    "    .groupby('date', as_index=False)\n",
    "    .agg({'transactionId': pd.Series.nunique, 'revenue': 'sum'})\n",
    ")\n",
    "ordersBDaily.columns = ['date', 'ordersPerDateB', 'revenuePerDateB']\n",
    "\n",
    "ordersBCummulative = ordersBDaily.apply(\n",
    "    lambda x: ordersBDaily[ordersBDaily['date'] <= x['date']].agg(\n",
    "        {'date': 'max', 'ordersPerDateB': 'sum', 'revenuePerDateB': 'sum'}\n",
    "    ),\n",
    "    axis=1,\n",
    ").sort_values(by=['date'])\n",
    "ordersBCummulative.columns = [\n",
    "    'date',\n",
    "    'ordersCummulativeB',\n",
    "    'revenueCummulativeB',\n",
    "]\n",
    "\n",
    "data = (\n",
    "    ordersADaily.merge(\n",
    "        ordersBDaily, left_on='date', right_on='date', how='left'\n",
    "    )\n",
    "    .merge(ordersACummulative, left_on='date', right_on='date', how='left')\n",
    "    .merge(ordersBCummulative, left_on='date', right_on='date', how='left')\n",
    "    .merge(visitorsADaily, left_on='date', right_on='date', how='left')\n",
    "    .merge(visitorsBDaily, left_on='date', right_on='date', how='left')\n",
    "    .merge(visitorsACummulative, left_on='date', right_on='date', how='left')\n",
    "    .merge(visitorsBCummulative, left_on='date', right_on='date', how='left')\n",
    ")\n",
    "\n",
    "print(data.head(5))"
   ]
  },
  {
   "cell_type": "markdown",
   "metadata": {},
   "source": [
    "<div class=\"alert alert-block alert-warning\">\n",
    "\n",
    "### Комментарий от ревьюера v_2\n",
    "Рекомендация\n",
    "\n",
    "По-моему этот код избыточный, ты ведь не используешь эти данные в дальнейшей работе\n",
    "    \n",
    "А количество посещений сайта для теста, можно рассчитать проще из таблицы visitors\n",
    "</div>"
   ]
  },
  {
   "cell_type": "markdown",
   "metadata": {},
   "source": [
    "<div class=\"alert alert-block alert-danger\">\n",
    "    \n",
    "\n",
    "### Комментарий от ревьюера v_2\n",
    "Критично\n",
    "\n",
    "Перед каждым из тестов следует сформулировать нулевую и альтернативную гипотезы\n",
    "</div>"
   ]
  },
  {
   "cell_type": "markdown",
   "metadata": {},
   "source": [
    "<div class=\"alert alert-block alert-info\">\n",
    "\n",
    "### Комментарий студента: Готово\n",
    "\n",
    "</div>"
   ]
  },
  {
   "cell_type": "markdown",
   "metadata": {},
   "source": [
    "<div class=\"alert alert-block alert-success\">\n",
    "\n",
    "    \n",
    "### Комментарий от ревьюера v_3\n",
    "\n",
    "👍🏻\n",
    "    \n",
    "</div>"
   ]
  },
  {
   "cell_type": "markdown",
   "metadata": {},
   "source": [
    "**H0** - между средним количеством заказов в группе А и В нет статистического различия\n",
    "\n",
    "**H1** - между средним количеством заказов в группе А и В есть статистическое различие"
   ]
  },
  {
   "cell_type": "code",
   "execution_count": 27,
   "metadata": {},
   "outputs": [
    {
     "name": "stdout",
     "output_type": "stream",
     "text": [
      "0.01102\n",
      "0.160\n"
     ]
    }
   ],
   "source": [
    "ordersByUsersA = (\n",
    "    orders[orders['group'] == 'A']\n",
    "    .groupby('visitorId', as_index=False)\n",
    "    .agg({'transactionId': pd.Series.nunique})\n",
    ")\n",
    "ordersByUsersA.columns = ['userId', 'orders']\n",
    "\n",
    "ordersByUsersB = (\n",
    "    orders[orders['group'] == 'B']\n",
    "    .groupby('visitorId', as_index=False)\n",
    "    .agg({'transactionId': pd.Series.nunique})\n",
    ")\n",
    "ordersByUsersB.columns = ['userId', 'orders'] \n",
    "\n",
    "sampleA = pd.concat([ordersByUsersA['orders'],pd.Series(0, index=np.arange(data['visitorsPerDateA'].sum() - len(ordersByUsersA['orders'])), name='orders')],axis=0)\n",
    "\n",
    "sampleB = pd.concat([ordersByUsersB['orders'],pd.Series(0, index=np.arange(data['visitorsPerDateB'].sum() - len(ordersByUsersB['orders'])), name='orders')],axis=0)\n",
    "\n",
    "print(\"{0:.5f}\".format(stats.mannwhitneyu(sampleA, sampleB)[1]))\n",
    "\n",
    "print(\"{0:.3f}\".format((data['ordersPerDateB'].sum()/data['visitorsPerDateB'].sum())/(data['ordersPerDateA'].sum()/data['visitorsPerDateA'].sum())-1))"
   ]
  },
  {
   "cell_type": "markdown",
   "metadata": {},
   "source": [
    "<div class=\"alert alert-block alert-warning\">\n",
    "\n",
    "### Комментарий от ревьюера v_2\n",
    "Рекомендация\n",
    "\n",
    "Указывай, пожалуйста, что именно выводишь на экран. Такая привычка поможет тебе в будущем, когда придется возвращаться к старому коду\n",
    "</div>"
   ]
  },
  {
   "cell_type": "markdown",
   "metadata": {},
   "source": [
    "P-Value меньше 0,05, поэтому нулевая гипотеза отвергается. По сырым данным можем сказать, что между средним количеством заказов по группам есть статистически значимое отличие.\n",
    "\n",
    "Относительный прирост среднего группы В к конверсии группы А равен 16%"
   ]
  },
  {
   "cell_type": "markdown",
   "metadata": {},
   "source": [
    "<div class=\"alert alert-block alert-success\">\n",
    "        \n",
    "### Комментарий от ревьюера v_2\n",
    "    \n",
    "Верные расчеты и выводы\n",
    "\n",
    "</div>"
   ]
  },
  {
   "cell_type": "markdown",
   "metadata": {},
   "source": [
    "##### 11. Статистическая значимость различий в среднем чеке заказа между группами по «сырым» данным"
   ]
  },
  {
   "cell_type": "markdown",
   "metadata": {},
   "source": [
    "**H0** - между средними чеками в группе А и В нет статистического различия\n",
    "\n",
    "**H1** - между средними чеками в группе А и В есть статистическое различие"
   ]
  },
  {
   "cell_type": "code",
   "execution_count": 28,
   "metadata": {},
   "outputs": [
    {
     "name": "stdout",
     "output_type": "stream",
     "text": [
      "0.829\n",
      "0.287\n"
     ]
    }
   ],
   "source": [
    "print('{0:.3f}'.format(stats.mannwhitneyu(orders[orders['group']=='A']['revenue'], orders[orders['group']=='B']['revenue'])[1]))\n",
    "print('{0:.3f}'.format(orders[orders['group']=='B']['revenue'].mean()/orders[orders['group']=='A']['revenue'].mean()-1))"
   ]
  },
  {
   "cell_type": "markdown",
   "metadata": {},
   "source": [
    "Статистического различия в средних чеках между группами А и В нет. Однако, относительное различие между группами равно 28,7%. Вероятно, дело во влиянии выбросов"
   ]
  },
  {
   "cell_type": "markdown",
   "metadata": {},
   "source": [
    "<div class=\"alert alert-block alert-warning\">\n",
    "        \n",
    "### Комментарий от ревьюера v_2\n",
    "    \n",
    "Существенная относительная разница при отсутствии статистической значимости указывает на влияние выбросов на метрику. На это следует обратить внимание в выводе\n",
    "\n",
    "</div>"
   ]
  },
  {
   "cell_type": "markdown",
   "metadata": {},
   "source": [
    "<div class=\"alert alert-block alert-info\">\n",
    "\n",
    "### Комментарий студента: Готово\n",
    "\n",
    "</div>"
   ]
  },
  {
   "cell_type": "markdown",
   "metadata": {},
   "source": [
    "<div class=\"alert alert-block alert-success\">\n",
    "\n",
    "    \n",
    "### Комментарий от ревьюера v_3\n",
    "\n",
    "👍🏻\n",
    "    \n",
    "</div>"
   ]
  },
  {
   "cell_type": "markdown",
   "metadata": {},
   "source": [
    "##### 12. Статистическая значимость различий в среднем количестве заказов на посетителя между группами по «очищенным» данным"
   ]
  },
  {
   "cell_type": "code",
   "execution_count": 29,
   "metadata": {},
   "outputs": [
    {
     "name": "stdout",
     "output_type": "stream",
     "text": [
      "568     113298937\n",
      "1099    148427295\n",
      "928     204675465\n",
      "33      249864742\n",
      "684     358944393\n",
      "dtype: int64\n"
     ]
    }
   ],
   "source": [
    "usersWithManyOrders = pd.concat(\n",
    "    [\n",
    "        ordersByUsersA[ordersByUsersA['orders'] > 1]['userId'],\n",
    "        ordersByUsersB[ordersByUsersB['orders'] > 1]['userId'],\n",
    "    ],\n",
    "    axis=0,\n",
    ")\n",
    "usersWithExpensiveOrders = orders[orders['revenue'] > 26785]['visitorId']\n",
    "abnormalUsers = (\n",
    "    pd.concat([usersWithManyOrders, usersWithExpensiveOrders], axis=0)\n",
    "    .drop_duplicates()\n",
    "    .sort_values()\n",
    ")\n",
    "print(abnormalUsers.head(5))"
   ]
  },
  {
   "cell_type": "markdown",
   "metadata": {},
   "source": [
    "Удалили аномальные значения: больше 1 заказа или стоимость заказа более 26 785"
   ]
  },
  {
   "cell_type": "markdown",
   "metadata": {},
   "source": [
    "<div class=\"alert alert-block alert-warning\">\n",
    "\n",
    "### Комментарий от ревьюера v_2\n",
    "Рекомендация\n",
    "\n",
    "Аномальные пользователи найдены верно, но никогда не следует вводить руками значения, которые можно получить в результате кода. По двум причинам:\n",
    "    \n",
    "- когда-нибудь обязательно ошибешься, по-другому не бывает\n",
    "    \n",
    "- скрипт перестанет корректно работать на других входных данных\n",
    "    \n",
    "</div>"
   ]
  },
  {
   "cell_type": "markdown",
   "metadata": {},
   "source": [
    "**H0** - между средним количеством заказов в группе А и В нет статистического различия\n",
    "\n",
    "**H1** - между средним количеством заказов в группе А и В есть статистическое различие"
   ]
  },
  {
   "cell_type": "code",
   "execution_count": 30,
   "metadata": {},
   "outputs": [
    {
     "name": "stdout",
     "output_type": "stream",
     "text": [
      "0.01593\n",
      "0.174\n"
     ]
    }
   ],
   "source": [
    "sampleAFiltered = pd.concat(\n",
    "    [\n",
    "        ordersByUsersA[\n",
    "            np.logical_not(ordersByUsersA['userId'].isin(abnormalUsers))\n",
    "        ]['orders'],\n",
    "        pd.Series(\n",
    "            0,\n",
    "            index=np.arange(\n",
    "                data['visitorsPerDateA'].sum() - len(ordersByUsersA['orders'])\n",
    "            ),\n",
    "            name='orders',\n",
    "        ),\n",
    "    ],\n",
    "    axis=0,\n",
    ")\n",
    "\n",
    "sampleBFiltered = pd.concat(\n",
    "    [\n",
    "        ordersByUsersB[\n",
    "            np.logical_not(ordersByUsersB['userId'].isin(abnormalUsers))\n",
    "        ]['orders'],\n",
    "        pd.Series(\n",
    "            0,\n",
    "            index=np.arange(\n",
    "                data['visitorsPerDateB'].sum() - len(ordersByUsersB['orders'])\n",
    "            ),\n",
    "            name='orders',\n",
    "        ),\n",
    "    ],\n",
    "    axis=0,\n",
    ")\n",
    "\n",
    "print('{0:.5f}'.format(stats.mannwhitneyu(sampleAFiltered, sampleBFiltered)[1]))\n",
    "print('{0:.3f}'.format(sampleBFiltered.mean()/sampleAFiltered.mean()-1))"
   ]
  },
  {
   "cell_type": "markdown",
   "metadata": {},
   "source": [
    "P-Value меньше 0,05, поэтому нулевая гипотеза отвергается. По очищенным данным можем сказать, что между средним количеством заказов по группам есть статистически значимое отличие.\n",
    "\n",
    "Относительный прирост среднего группы В к конверсии группы А равен 17,4%\n",
    "\n",
    "В сравнении с неочищеннами данными, значение прироста стало выше на 1,4%"
   ]
  },
  {
   "cell_type": "markdown",
   "metadata": {},
   "source": [
    "<div class=\"alert alert-block alert-warning\">\n",
    "\n",
    "\n",
    "### Комментарий от ревьюера v_2\n",
    "Рекомендация\n",
    "\n",
    "В выводах следует сравнить результаты с неочищенными данными (насколько именно процентных пункта поменялась разница)\n",
    "</div>"
   ]
  },
  {
   "cell_type": "markdown",
   "metadata": {},
   "source": [
    "<div class=\"alert alert-block alert-info\">\n",
    "\n",
    "### Комментарий студента: Готово\n",
    "\n",
    "</div>"
   ]
  },
  {
   "cell_type": "markdown",
   "metadata": {},
   "source": [
    "##### 13. Статистическая значимость различий в среднем количестве заказов на посетителя между группами по «очищенным» данным"
   ]
  },
  {
   "cell_type": "markdown",
   "metadata": {},
   "source": [
    "**H0** - между средними чеками в группе А и В нет статистического различия\n",
    "\n",
    "**H1** - между средними чеками в группе А и В есть статистическое различие"
   ]
  },
  {
   "cell_type": "code",
   "execution_count": 31,
   "metadata": {},
   "outputs": [
    {
     "name": "stdout",
     "output_type": "stream",
     "text": [
      "0.727\n",
      "-0.034\n"
     ]
    }
   ],
   "source": [
    "print(\n",
    "    '{0:.3f}'.format(\n",
    "        stats.mannwhitneyu(\n",
    "            orders[\n",
    "                np.logical_and(\n",
    "                    orders['group'] == 'A',\n",
    "                    np.logical_not(orders['visitorId'].isin(abnormalUsers)),\n",
    "                )\n",
    "            ]['revenue'],\n",
    "            orders[\n",
    "                np.logical_and(\n",
    "                    orders['group'] == 'B',\n",
    "                    np.logical_not(orders['visitorId'].isin(abnormalUsers)),\n",
    "                )\n",
    "            ]['revenue'],\n",
    "        )[1]\n",
    "    )\n",
    ")\n",
    "\n",
    "\n",
    "print(\n",
    "    \"{0:.3f}\".format(\n",
    "        orders[\n",
    "            np.logical_and(\n",
    "                orders['group'] == 'B',\n",
    "                np.logical_not(orders['visitorId'].isin(abnormalUsers)),\n",
    "            )\n",
    "        ]['revenue'].mean()\n",
    "        / orders[\n",
    "            np.logical_and(\n",
    "                orders['group'] == 'A',\n",
    "                np.logical_not(orders['visitorId'].isin(abnormalUsers)),\n",
    "            )\n",
    "        ]['revenue'].mean()\n",
    "        - 1\n",
    "    )\n",
    ")"
   ]
  },
  {
   "cell_type": "markdown",
   "metadata": {},
   "source": [
    "Статистически значимого различия между средними чеками не появилось, однако и относительное различие снизилось до 3,4%"
   ]
  },
  {
   "cell_type": "markdown",
   "metadata": {},
   "source": [
    "<div class=\"alert alert-block alert-success\">\n",
    "        \n",
    "### Комментарий от ревьюера v_2\n",
    "    \n",
    "Вот почему так важно избавиться от выбросов))\n",
    "\n",
    "</div>"
   ]
  },
  {
   "cell_type": "markdown",
   "metadata": {},
   "source": [
    "##### 14. Решение по итогу теста"
   ]
  },
  {
   "cell_type": "markdown",
   "metadata": {},
   "source": [
    "1. Есть статистически значимое различие по среднему количеству заказов между группами как по сырым данным, так и после фильтрации аномалий;\n",
    "\n",
    "2. Однако нет статистически значимого различия по среднему чеку между группами ни на сырых данных, ни на очищенных;\n",
    "\n",
    "3. График различия по среднему количеству заказов между группами показывает, что результаты группы B лучше группы A;\n",
    "\n",
    "4. График различия среднего чека колеблется, поэтому по нему нельзя сделать определённых выводов.\n",
    "\n",
    "**Вывод**\n",
    "\n",
    "*Остановить тест, зафиксировать победу группы В*\n",
    "\n",
    "Такой вывод можно сделать, так как показатели среднего количества заказов в группе В больше, чем в А, что подтверждается статистическим тестом. Несмотря на то, что значимого отличия в средних чеках между группами нет, небольшая относительная разница показывает на преимущество группы В\n",
    "\n"
   ]
  },
  {
   "cell_type": "markdown",
   "metadata": {},
   "source": [
    "<div class=\"alert alert-block alert-danger\">\n",
    "    \n",
    "\n",
    "### Комментарий от ревьюера v_2\n",
    "Критично\n",
    "\n",
    "Какой из групп?\n",
    "    \n",
    "И почему выбираешь такое решение?\n",
    "</div>"
   ]
  },
  {
   "cell_type": "markdown",
   "metadata": {},
   "source": [
    "<div class=\"alert alert-block alert-info\">\n",
    "\n",
    "### Комментарий студента: Готово\n",
    "\n",
    "</div>"
   ]
  },
  {
   "cell_type": "markdown",
   "metadata": {},
   "source": [
    "<div class=\"alert alert-block alert-success\">\n",
    "        \n",
    "### Комментарий от ревьюера v_3\n",
    "    \n",
    "Все верно, с ростом числа заказов  будет расти и выручка (при том же среднем чеке)\n",
    "\n",
    "</div>"
   ]
  },
  {
   "cell_type": "code",
   "execution_count": null,
   "metadata": {},
   "outputs": [],
   "source": []
  }
 ],
 "metadata": {
  "ExecuteTimeLog": [
   {
    "duration": 1308,
    "start_time": "2022-12-16T10:20:06.780Z"
   },
   {
    "duration": 137,
    "start_time": "2022-12-16T10:20:08.091Z"
   },
   {
    "duration": 0,
    "start_time": "2022-12-16T10:20:08.230Z"
   },
   {
    "duration": 0,
    "start_time": "2022-12-16T10:20:08.233Z"
   },
   {
    "duration": 0,
    "start_time": "2022-12-16T10:20:08.234Z"
   },
   {
    "duration": 0,
    "start_time": "2022-12-16T10:20:08.235Z"
   },
   {
    "duration": 0,
    "start_time": "2022-12-16T10:20:08.236Z"
   },
   {
    "duration": 0,
    "start_time": "2022-12-16T10:20:08.237Z"
   },
   {
    "duration": 0,
    "start_time": "2022-12-16T10:20:08.239Z"
   },
   {
    "duration": 0,
    "start_time": "2022-12-16T10:20:08.240Z"
   },
   {
    "duration": 0,
    "start_time": "2022-12-16T10:20:08.241Z"
   },
   {
    "duration": 0,
    "start_time": "2022-12-16T10:20:08.242Z"
   },
   {
    "duration": 0,
    "start_time": "2022-12-16T10:20:08.243Z"
   },
   {
    "duration": 0,
    "start_time": "2022-12-16T10:20:08.244Z"
   },
   {
    "duration": 0,
    "start_time": "2022-12-16T10:20:08.245Z"
   },
   {
    "duration": 0,
    "start_time": "2022-12-16T10:20:08.246Z"
   },
   {
    "duration": 0,
    "start_time": "2022-12-16T10:20:08.247Z"
   },
   {
    "duration": 0,
    "start_time": "2022-12-16T10:20:08.248Z"
   },
   {
    "duration": 0,
    "start_time": "2022-12-16T10:20:08.249Z"
   },
   {
    "duration": 0,
    "start_time": "2022-12-16T10:20:08.250Z"
   },
   {
    "duration": 0,
    "start_time": "2022-12-16T10:20:08.252Z"
   },
   {
    "duration": 0,
    "start_time": "2022-12-16T10:20:08.253Z"
   },
   {
    "duration": 0,
    "start_time": "2022-12-16T10:20:08.254Z"
   },
   {
    "duration": 0,
    "start_time": "2022-12-16T10:20:08.255Z"
   },
   {
    "duration": 0,
    "start_time": "2022-12-16T10:20:08.256Z"
   },
   {
    "duration": 0,
    "start_time": "2022-12-16T10:20:08.257Z"
   },
   {
    "duration": 0,
    "start_time": "2022-12-16T10:20:08.258Z"
   },
   {
    "duration": 0,
    "start_time": "2022-12-16T10:20:08.259Z"
   },
   {
    "duration": 0,
    "start_time": "2022-12-16T10:20:08.260Z"
   },
   {
    "duration": 1021,
    "start_time": "2022-12-16T10:24:37.561Z"
   },
   {
    "duration": 72,
    "start_time": "2022-12-16T10:24:38.584Z"
   },
   {
    "duration": 14,
    "start_time": "2022-12-16T10:24:38.658Z"
   },
   {
    "duration": 3,
    "start_time": "2022-12-16T10:24:38.674Z"
   },
   {
    "duration": 13,
    "start_time": "2022-12-16T10:24:38.680Z"
   },
   {
    "duration": 11,
    "start_time": "2022-12-16T10:24:38.695Z"
   },
   {
    "duration": 170,
    "start_time": "2022-12-16T10:24:38.707Z"
   },
   {
    "duration": 9,
    "start_time": "2022-12-16T10:24:38.879Z"
   },
   {
    "duration": 25,
    "start_time": "2022-12-16T10:24:38.889Z"
   },
   {
    "duration": 12,
    "start_time": "2022-12-16T10:24:38.916Z"
   },
   {
    "duration": 13,
    "start_time": "2022-12-16T10:24:38.929Z"
   },
   {
    "duration": 7,
    "start_time": "2022-12-16T10:24:38.944Z"
   },
   {
    "duration": 14,
    "start_time": "2022-12-16T10:24:38.952Z"
   },
   {
    "duration": 8,
    "start_time": "2022-12-16T10:24:38.969Z"
   },
   {
    "duration": 580,
    "start_time": "2022-12-16T10:24:38.978Z"
   },
   {
    "duration": 198,
    "start_time": "2022-12-16T10:24:39.560Z"
   },
   {
    "duration": 260,
    "start_time": "2022-12-16T10:24:39.760Z"
   },
   {
    "duration": 198,
    "start_time": "2022-12-16T10:24:40.021Z"
   },
   {
    "duration": 313,
    "start_time": "2022-12-16T10:24:40.221Z"
   },
   {
    "duration": 130,
    "start_time": "2022-12-16T10:24:40.536Z"
   },
   {
    "duration": 5,
    "start_time": "2022-12-16T10:24:40.668Z"
   },
   {
    "duration": 139,
    "start_time": "2022-12-16T10:24:40.674Z"
   },
   {
    "duration": 4,
    "start_time": "2022-12-16T10:24:40.815Z"
   },
   {
    "duration": 233,
    "start_time": "2022-12-16T10:24:40.821Z"
   },
   {
    "duration": 174,
    "start_time": "2022-12-16T10:24:41.056Z"
   },
   {
    "duration": 10,
    "start_time": "2022-12-16T10:24:41.231Z"
   },
   {
    "duration": 8,
    "start_time": "2022-12-16T10:24:41.243Z"
   },
   {
    "duration": 26,
    "start_time": "2022-12-16T10:24:41.253Z"
   },
   {
    "duration": 40,
    "start_time": "2022-12-16T10:24:41.280Z"
   },
   {
    "duration": 13,
    "start_time": "2022-12-16T10:40:03.147Z"
   },
   {
    "duration": 5,
    "start_time": "2022-12-16T10:40:43.696Z"
   },
   {
    "duration": 4,
    "start_time": "2022-12-16T10:40:49.817Z"
   },
   {
    "duration": 46,
    "start_time": "2022-12-16T14:44:32.563Z"
   },
   {
    "duration": 1200,
    "start_time": "2022-12-16T14:44:53.790Z"
   },
   {
    "duration": 71,
    "start_time": "2022-12-16T14:44:57.278Z"
   },
   {
    "duration": 12,
    "start_time": "2022-12-16T14:44:58.438Z"
   },
   {
    "duration": 4,
    "start_time": "2022-12-16T14:45:00.603Z"
   },
   {
    "duration": 9,
    "start_time": "2022-12-16T14:45:01.723Z"
   },
   {
    "duration": 8,
    "start_time": "2022-12-16T14:45:03.734Z"
   },
   {
    "duration": 168,
    "start_time": "2022-12-16T14:45:06.738Z"
   },
   {
    "duration": 8,
    "start_time": "2022-12-16T14:45:09.317Z"
   },
   {
    "duration": 8,
    "start_time": "2022-12-16T14:45:10.164Z"
   },
   {
    "duration": 8,
    "start_time": "2022-12-16T14:45:16.852Z"
   },
   {
    "duration": 973,
    "start_time": "2022-12-16T14:45:18.356Z"
   },
   {
    "duration": 9,
    "start_time": "2022-12-16T14:45:31.161Z"
   },
   {
    "duration": 7,
    "start_time": "2022-12-16T14:45:42.361Z"
   },
   {
    "duration": 9,
    "start_time": "2022-12-16T14:45:55.065Z"
   },
   {
    "duration": 1307,
    "start_time": "2022-12-17T07:37:40.974Z"
   },
   {
    "duration": 85,
    "start_time": "2022-12-17T07:37:43.242Z"
   },
   {
    "duration": 15,
    "start_time": "2022-12-17T07:37:44.138Z"
   },
   {
    "duration": 4,
    "start_time": "2022-12-17T07:37:45.899Z"
   },
   {
    "duration": 11,
    "start_time": "2022-12-17T07:37:47.134Z"
   },
   {
    "duration": 9,
    "start_time": "2022-12-17T07:37:51.015Z"
   },
   {
    "duration": 178,
    "start_time": "2022-12-17T07:37:54.424Z"
   },
   {
    "duration": 6,
    "start_time": "2022-12-17T07:38:00.753Z"
   },
   {
    "duration": 9,
    "start_time": "2022-12-17T07:38:02.495Z"
   },
   {
    "duration": 11,
    "start_time": "2022-12-17T07:38:05.016Z"
   },
   {
    "duration": 104,
    "start_time": "2022-12-17T07:38:07.713Z"
   },
   {
    "duration": 7,
    "start_time": "2022-12-17T07:39:45.146Z"
   },
   {
    "duration": 16,
    "start_time": "2022-12-17T07:40:27.249Z"
   },
   {
    "duration": 9,
    "start_time": "2022-12-17T07:41:04.991Z"
   },
   {
    "duration": 9,
    "start_time": "2022-12-17T07:43:29.399Z"
   },
   {
    "duration": 13,
    "start_time": "2022-12-17T07:43:48.800Z"
   },
   {
    "duration": 14,
    "start_time": "2022-12-17T07:44:11.024Z"
   },
   {
    "duration": 30,
    "start_time": "2022-12-17T07:52:53.837Z"
   },
   {
    "duration": 50,
    "start_time": "2022-12-17T07:54:59.651Z"
   },
   {
    "duration": 5,
    "start_time": "2022-12-17T07:55:44.382Z"
   },
   {
    "duration": 9,
    "start_time": "2022-12-17T07:55:46.638Z"
   },
   {
    "duration": 433,
    "start_time": "2022-12-17T07:55:59.105Z"
   },
   {
    "duration": 6,
    "start_time": "2022-12-17T07:56:25.542Z"
   },
   {
    "duration": 9,
    "start_time": "2022-12-17T07:56:26.774Z"
   },
   {
    "duration": 52,
    "start_time": "2022-12-17T07:56:44.484Z"
   },
   {
    "duration": 5,
    "start_time": "2022-12-17T07:57:29.854Z"
   },
   {
    "duration": 9,
    "start_time": "2022-12-17T07:57:30.636Z"
   },
   {
    "duration": 10,
    "start_time": "2022-12-17T07:59:07.458Z"
   },
   {
    "duration": 9,
    "start_time": "2022-12-17T07:59:08.350Z"
   },
   {
    "duration": 573,
    "start_time": "2022-12-17T07:59:25.106Z"
   },
   {
    "duration": 193,
    "start_time": "2022-12-17T07:59:29.466Z"
   },
   {
    "duration": 291,
    "start_time": "2022-12-17T07:59:31.770Z"
   },
   {
    "duration": 196,
    "start_time": "2022-12-17T07:59:33.747Z"
   },
   {
    "duration": 307,
    "start_time": "2022-12-17T07:59:35.732Z"
   },
   {
    "duration": 151,
    "start_time": "2022-12-17T08:00:13.136Z"
   },
   {
    "duration": 5,
    "start_time": "2022-12-17T08:00:41.140Z"
   },
   {
    "duration": 5,
    "start_time": "2022-12-17T08:01:01.056Z"
   },
   {
    "duration": 153,
    "start_time": "2022-12-17T08:01:03.207Z"
   },
   {
    "duration": 4,
    "start_time": "2022-12-17T08:01:39.745Z"
   },
   {
    "duration": 274,
    "start_time": "2022-12-17T08:02:02.024Z"
   },
   {
    "duration": 207,
    "start_time": "2022-12-17T08:02:04.766Z"
   },
   {
    "duration": 10,
    "start_time": "2022-12-17T08:02:44.257Z"
   },
   {
    "duration": 11,
    "start_time": "2022-12-17T08:03:00.873Z"
   },
   {
    "duration": 9,
    "start_time": "2022-12-17T08:03:34.724Z"
   },
   {
    "duration": 27,
    "start_time": "2022-12-17T08:04:28.375Z"
   },
   {
    "duration": 15,
    "start_time": "2022-12-17T08:05:01.676Z"
   },
   {
    "duration": 46,
    "start_time": "2022-12-17T08:26:24.398Z"
   },
   {
    "duration": 945,
    "start_time": "2022-12-17T08:27:51.988Z"
   },
   {
    "duration": 44,
    "start_time": "2022-12-17T08:27:55.427Z"
   },
   {
    "duration": 739,
    "start_time": "2022-12-17T08:28:00.981Z"
   },
   {
    "duration": 3,
    "start_time": "2022-12-17T08:28:08.666Z"
   },
   {
    "duration": 28,
    "start_time": "2022-12-17T08:28:11.141Z"
   },
   {
    "duration": 8,
    "start_time": "2022-12-17T08:28:12.084Z"
   },
   {
    "duration": 4,
    "start_time": "2022-12-17T08:28:14.572Z"
   },
   {
    "duration": 11,
    "start_time": "2022-12-17T08:28:16.911Z"
   },
   {
    "duration": 13,
    "start_time": "2022-12-17T08:28:20.895Z"
   },
   {
    "duration": 10,
    "start_time": "2022-12-17T08:28:36.458Z"
   },
   {
    "duration": 1083,
    "start_time": "2022-12-17T15:15:40.118Z"
   },
   {
    "duration": 29,
    "start_time": "2022-12-17T15:15:41.204Z"
   },
   {
    "duration": 14,
    "start_time": "2022-12-17T15:15:41.235Z"
   },
   {
    "duration": 9,
    "start_time": "2022-12-17T15:15:41.251Z"
   },
   {
    "duration": 32,
    "start_time": "2022-12-17T15:15:41.263Z"
   },
   {
    "duration": 26,
    "start_time": "2022-12-17T15:15:41.296Z"
   },
   {
    "duration": 88,
    "start_time": "2022-12-17T15:15:41.324Z"
   },
   {
    "duration": 9,
    "start_time": "2022-12-17T15:15:41.413Z"
   },
   {
    "duration": 18,
    "start_time": "2022-12-17T15:15:41.423Z"
   },
   {
    "duration": 35,
    "start_time": "2022-12-17T15:15:41.443Z"
   },
   {
    "duration": 32,
    "start_time": "2022-12-17T15:15:41.480Z"
   },
   {
    "duration": 36,
    "start_time": "2022-12-17T15:15:41.514Z"
   },
   {
    "duration": 44,
    "start_time": "2022-12-17T15:15:41.552Z"
   },
   {
    "duration": 28,
    "start_time": "2022-12-17T15:15:41.598Z"
   },
   {
    "duration": 9,
    "start_time": "2022-12-17T15:15:41.628Z"
   },
   {
    "duration": 43,
    "start_time": "2022-12-17T15:15:41.638Z"
   },
   {
    "duration": 506,
    "start_time": "2022-12-17T15:15:41.682Z"
   },
   {
    "duration": 197,
    "start_time": "2022-12-17T15:15:42.190Z"
   },
   {
    "duration": 273,
    "start_time": "2022-12-17T15:15:42.389Z"
   },
   {
    "duration": 185,
    "start_time": "2022-12-17T15:15:42.663Z"
   },
   {
    "duration": 296,
    "start_time": "2022-12-17T15:15:42.850Z"
   },
   {
    "duration": 140,
    "start_time": "2022-12-17T15:15:43.147Z"
   },
   {
    "duration": 6,
    "start_time": "2022-12-17T15:15:43.288Z"
   },
   {
    "duration": 136,
    "start_time": "2022-12-17T15:15:43.295Z"
   },
   {
    "duration": 4,
    "start_time": "2022-12-17T15:15:43.433Z"
   },
   {
    "duration": 222,
    "start_time": "2022-12-17T15:15:43.438Z"
   },
   {
    "duration": 153,
    "start_time": "2022-12-17T15:15:43.662Z"
   },
   {
    "duration": 9,
    "start_time": "2022-12-17T15:15:43.817Z"
   },
   {
    "duration": 8,
    "start_time": "2022-12-17T15:15:43.827Z"
   },
   {
    "duration": 39,
    "start_time": "2022-12-17T15:15:43.837Z"
   },
   {
    "duration": 12,
    "start_time": "2022-12-17T15:15:43.878Z"
   },
   {
    "duration": 5,
    "start_time": "2022-12-17T15:17:35.054Z"
   },
   {
    "duration": 6,
    "start_time": "2022-12-17T15:17:39.263Z"
   },
   {
    "duration": 47,
    "start_time": "2022-12-18T06:02:37.232Z"
   },
   {
    "duration": 1259,
    "start_time": "2022-12-18T06:02:49.811Z"
   },
   {
    "duration": 76,
    "start_time": "2022-12-18T06:02:51.072Z"
   },
   {
    "duration": 12,
    "start_time": "2022-12-18T06:02:51.150Z"
   },
   {
    "duration": 3,
    "start_time": "2022-12-18T06:02:51.165Z"
   },
   {
    "duration": 14,
    "start_time": "2022-12-18T06:02:51.169Z"
   },
   {
    "duration": 8,
    "start_time": "2022-12-18T06:02:51.184Z"
   },
   {
    "duration": 162,
    "start_time": "2022-12-18T06:02:51.194Z"
   },
   {
    "duration": 7,
    "start_time": "2022-12-18T06:02:51.358Z"
   },
   {
    "duration": 9,
    "start_time": "2022-12-18T06:02:51.366Z"
   },
   {
    "duration": 13,
    "start_time": "2022-12-18T06:02:51.378Z"
   },
   {
    "duration": 14,
    "start_time": "2022-12-18T06:02:51.393Z"
   },
   {
    "duration": 7,
    "start_time": "2022-12-18T06:02:51.409Z"
   },
   {
    "duration": 10,
    "start_time": "2022-12-18T06:02:51.417Z"
   },
   {
    "duration": 8,
    "start_time": "2022-12-18T06:02:51.429Z"
   },
   {
    "duration": 6,
    "start_time": "2022-12-18T06:02:51.439Z"
   },
   {
    "duration": 11,
    "start_time": "2022-12-18T06:02:51.447Z"
   },
   {
    "duration": 513,
    "start_time": "2022-12-18T06:02:51.460Z"
   },
   {
    "duration": 168,
    "start_time": "2022-12-18T06:02:51.974Z"
   },
   {
    "duration": 267,
    "start_time": "2022-12-18T06:02:52.144Z"
   },
   {
    "duration": 179,
    "start_time": "2022-12-18T06:02:52.421Z"
   },
   {
    "duration": 306,
    "start_time": "2022-12-18T06:02:52.601Z"
   },
   {
    "duration": 134,
    "start_time": "2022-12-18T06:02:52.909Z"
   },
   {
    "duration": 3,
    "start_time": "2022-12-18T06:02:53.045Z"
   },
   {
    "duration": 140,
    "start_time": "2022-12-18T06:02:53.050Z"
   },
   {
    "duration": 4,
    "start_time": "2022-12-18T06:02:53.192Z"
   },
   {
    "duration": 213,
    "start_time": "2022-12-18T06:02:53.197Z"
   },
   {
    "duration": 140,
    "start_time": "2022-12-18T06:02:53.412Z"
   },
   {
    "duration": 9,
    "start_time": "2022-12-18T06:02:53.555Z"
   },
   {
    "duration": 22,
    "start_time": "2022-12-18T06:02:53.565Z"
   },
   {
    "duration": 33,
    "start_time": "2022-12-18T06:02:53.589Z"
   },
   {
    "duration": 13,
    "start_time": "2022-12-18T06:02:53.623Z"
   },
   {
    "duration": 1859,
    "start_time": "2022-12-18T06:04:17.143Z"
   },
   {
    "duration": 1080,
    "start_time": "2022-12-18T06:04:36.843Z"
   },
   {
    "duration": 3,
    "start_time": "2022-12-18T06:04:43.142Z"
   },
   {
    "duration": 1103,
    "start_time": "2022-12-18T06:04:45.362Z"
   },
   {
    "duration": 25,
    "start_time": "2022-12-18T06:04:55.737Z"
   },
   {
    "duration": 7,
    "start_time": "2022-12-18T06:04:57.019Z"
   },
   {
    "duration": 1128,
    "start_time": "2022-12-18T06:05:03.821Z"
   },
   {
    "duration": 1030,
    "start_time": "2022-12-18T06:05:38.543Z"
   },
   {
    "duration": 26,
    "start_time": "2022-12-18T06:05:39.574Z"
   },
   {
    "duration": 12,
    "start_time": "2022-12-18T06:05:39.601Z"
   },
   {
    "duration": 5,
    "start_time": "2022-12-18T06:05:39.615Z"
   },
   {
    "duration": 13,
    "start_time": "2022-12-18T06:05:39.621Z"
   },
   {
    "duration": 10,
    "start_time": "2022-12-18T06:05:39.636Z"
   },
   {
    "duration": 58,
    "start_time": "2022-12-18T06:05:39.648Z"
   },
   {
    "duration": 7,
    "start_time": "2022-12-18T06:05:39.708Z"
   },
   {
    "duration": 9,
    "start_time": "2022-12-18T06:05:39.717Z"
   },
   {
    "duration": 14,
    "start_time": "2022-12-18T06:05:39.729Z"
   },
   {
    "duration": 14,
    "start_time": "2022-12-18T06:05:39.744Z"
   },
   {
    "duration": 10,
    "start_time": "2022-12-18T06:05:39.760Z"
   },
   {
    "duration": 10,
    "start_time": "2022-12-18T06:05:39.771Z"
   },
   {
    "duration": 9,
    "start_time": "2022-12-18T06:05:39.783Z"
   },
   {
    "duration": 10,
    "start_time": "2022-12-18T06:05:39.793Z"
   },
   {
    "duration": 24,
    "start_time": "2022-12-18T06:05:39.805Z"
   },
   {
    "duration": 518,
    "start_time": "2022-12-18T06:05:39.832Z"
   },
   {
    "duration": 178,
    "start_time": "2022-12-18T06:05:40.352Z"
   },
   {
    "duration": 251,
    "start_time": "2022-12-18T06:05:40.531Z"
   },
   {
    "duration": 190,
    "start_time": "2022-12-18T06:05:40.783Z"
   },
   {
    "duration": 287,
    "start_time": "2022-12-18T06:05:40.975Z"
   },
   {
    "duration": 138,
    "start_time": "2022-12-18T06:05:41.264Z"
   },
   {
    "duration": 4,
    "start_time": "2022-12-18T06:05:41.404Z"
   },
   {
    "duration": 130,
    "start_time": "2022-12-18T06:05:41.410Z"
   },
   {
    "duration": 4,
    "start_time": "2022-12-18T06:05:41.542Z"
   },
   {
    "duration": 231,
    "start_time": "2022-12-18T06:05:41.549Z"
   },
   {
    "duration": 150,
    "start_time": "2022-12-18T06:05:41.782Z"
   },
   {
    "duration": 11,
    "start_time": "2022-12-18T06:05:41.935Z"
   },
   {
    "duration": 31,
    "start_time": "2022-12-18T06:05:41.948Z"
   },
   {
    "duration": 36,
    "start_time": "2022-12-18T06:05:41.981Z"
   },
   {
    "duration": 17,
    "start_time": "2022-12-18T06:05:42.019Z"
   },
   {
    "duration": 173,
    "start_time": "2022-12-18T06:27:51.347Z"
   },
   {
    "duration": 231,
    "start_time": "2022-12-18T06:27:59.472Z"
   },
   {
    "duration": 183,
    "start_time": "2022-12-18T06:28:19.739Z"
   },
   {
    "duration": 168,
    "start_time": "2022-12-18T06:28:27.835Z"
   },
   {
    "duration": 169,
    "start_time": "2022-12-18T06:28:35.375Z"
   },
   {
    "duration": 509,
    "start_time": "2022-12-18T06:29:03.835Z"
   },
   {
    "duration": 175,
    "start_time": "2022-12-18T06:31:22.572Z"
   },
   {
    "duration": 178,
    "start_time": "2022-12-18T06:31:27.948Z"
   },
   {
    "duration": 426,
    "start_time": "2022-12-18T06:31:50.050Z"
   },
   {
    "duration": 257,
    "start_time": "2022-12-18T06:32:17.039Z"
   },
   {
    "duration": 193,
    "start_time": "2022-12-18T06:32:50.791Z"
   },
   {
    "duration": 333,
    "start_time": "2022-12-18T06:35:15.109Z"
   },
   {
    "duration": 134,
    "start_time": "2022-12-18T06:36:28.461Z"
   },
   {
    "duration": 220,
    "start_time": "2022-12-18T06:36:45.995Z"
   },
   {
    "duration": 121,
    "start_time": "2022-12-18T06:37:11.182Z"
   },
   {
    "duration": 3,
    "start_time": "2022-12-18T07:55:21.207Z"
   },
   {
    "duration": 26,
    "start_time": "2022-12-18T07:55:23.454Z"
   },
   {
    "duration": 10,
    "start_time": "2022-12-18T07:55:24.264Z"
   },
   {
    "duration": 4,
    "start_time": "2022-12-18T07:55:26.105Z"
   },
   {
    "duration": 8,
    "start_time": "2022-12-18T07:55:27.418Z"
   },
   {
    "duration": 9,
    "start_time": "2022-12-18T07:55:30.015Z"
   },
   {
    "duration": 68,
    "start_time": "2022-12-18T07:55:33.768Z"
   },
   {
    "duration": 10,
    "start_time": "2022-12-18T07:55:34.904Z"
   },
   {
    "duration": 7,
    "start_time": "2022-12-18T07:55:37.168Z"
   },
   {
    "duration": 6,
    "start_time": "2022-12-18T07:55:47.559Z"
   },
   {
    "duration": 8,
    "start_time": "2022-12-18T07:55:49.190Z"
   },
   {
    "duration": 8,
    "start_time": "2022-12-18T07:55:52.693Z"
   },
   {
    "duration": 123,
    "start_time": "2022-12-18T07:55:54.261Z"
   },
   {
    "duration": 121,
    "start_time": "2022-12-18T07:57:22.517Z"
   },
   {
    "duration": 18,
    "start_time": "2022-12-18T07:57:50.812Z"
   },
   {
    "duration": 6,
    "start_time": "2022-12-18T07:58:24.509Z"
   },
   {
    "duration": 9,
    "start_time": "2022-12-18T07:58:25.962Z"
   }
  ],
  "kernelspec": {
   "display_name": "Python 3 (ipykernel)",
   "language": "python",
   "name": "python3"
  },
  "language_info": {
   "codemirror_mode": {
    "name": "ipython",
    "version": 3
   },
   "file_extension": ".py",
   "mimetype": "text/x-python",
   "name": "python",
   "nbconvert_exporter": "python",
   "pygments_lexer": "ipython3",
   "version": "3.9.5"
  },
  "toc": {
   "base_numbering": 1,
   "nav_menu": {},
   "number_sections": false,
   "sideBar": true,
   "skip_h1_title": false,
   "title_cell": "Table of Contents",
   "title_sidebar": "Contents",
   "toc_cell": false,
   "toc_position": {
    "height": "calc(100% - 180px)",
    "left": "10px",
    "top": "150px",
    "width": "296.108px"
   },
   "toc_section_display": true,
   "toc_window_display": true
  }
 },
 "nbformat": 4,
 "nbformat_minor": 2
}
