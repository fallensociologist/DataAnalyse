{
 "cells": [
  {
   "cell_type": "markdown",
   "metadata": {},
   "source": [
    "<img src=https://w-dog.ru/wallpapers/8/16/329103378078875/snegoviki-ogni-elka-novogodnie-ukrasheniya-novyj-god-rozhdestvo.jpg><br>\n",
    "<hr style=\"border: 10px solid green;\" />\n",
    "\n",
    "## <span style=\"color:green\">Финальный комментарий<span>\n",
    "Спасибо за проделанную работу🤝\n",
    "\n",
    "Максим, спасибо за доработки, всё принято👌\n",
    "    \n",
    "Молодец, что удалось реализовать цикл автоматических проверок. Желаю дальнейших успехов и новогоднего настроения☃️\n",
    "\n",
    "Поздравляю, проект принят👍"
   ]
  },
  {
   "cell_type": "markdown",
   "metadata": {},
   "source": [
    "<hr style=\"border: 2px solid green;\" />\n",
    "\n",
    "## Комментарий ревьювера 2\n",
    "\n",
    "Максим, привет! \n",
    "\n",
    "Оставил дополнительные комментарии по твоим вопросам, думаю, всё должно получиться."
   ]
  },
  {
   "cell_type": "markdown",
   "metadata": {},
   "source": [
    "<hr style=\"border: 2px solid green;\" />\n",
    "\n",
    "## Комментарий ревьювера\n",
    "\n",
    "Максим, привет! \n",
    "\n",
    "🤚Меня зовут, Олег Юрьев, я буду проверять твой проект. Если не против, я буду обращаться к тебе на _ТЫ_ . Если это неприемлемо, обязательно напиши мне в комментариях - мы перейдем на _ВЫ_ .\n",
    "\n",
    "🤝Спасибо, что сдал проект вовремя. Тобой проделана большая работа, молодец! \n",
    "\n",
    "✏️В этой тетрадке ты найдешь мои комментарии.\n",
    "\n",
    "Комментарии будут выделены:\n",
    "\n",
    "<div style=\"border-radius: 15px; box-shadow: 4px 4px 4px; border: solid green 2px; padding: 20px\"> <b>Отличная работа ✅</b><br>\n",
    "    Безупречная работа</div>       \n",
    "<br>\n",
    "<div style=\"border-radius: 15px; box-shadow: 4px 4px 4px; border: solid orange 2px; padding: 20px\"> <b>Что можно улучшить ⚠️</b><br>\n",
    "    Ничего дорабатывать не надо, данные пункты работают нормально, но есть способы улучшить. Несколько таких комментариев допустимы, но более - придется некоторые доработать. Большое кол-во мелких замечаний и помарок сказываются на общем впечатлении от работы.</div>   \n",
    "<br>\n",
    "<div style=\"border-radius: 15px; box-shadow: 4px 4px 4px; border: solid red 2px; padding: 20px\"> <b>Что необходимо доработать ⛔️</b><br>\n",
    "    Такие пункты необходимо исправить в первую очередь, чтобы я смог принять проект.</div>\n",
    " \n",
    "Не удаляй комментарии, так будем следить за динамикой 📈\n",
    "   \n",
    "Давай будем в диалоге - основные цели в диалоге:\n",
    "- обмен опытом (да я тоже учусь у студентов👨‍🎓)\n",
    "- выполнить проект еще лучше\n",
    "- помочь тебе стать аналитиком\n",
    "\n",
    "Поэтому чтобы мне проще было проверять повторно, а тебе контролировать процесс ревью, оставляй свои комментарии и выделяй их. \n",
    "    \n",
    "<div class=\"alert alert-info\" style=\"border:solid blue 2px; padding: 20px\"> <b>Комментарий студента:</b> Например, вот так.</div>\n",
    "   \n",
    "Поехали! :)\n",
    "\n",
    "<hr style=\"border: 2px solid green;\" />"
   ]
  },
  {
   "cell_type": "markdown",
   "metadata": {},
   "source": [
    "# Кейс для стартапа, продающего продукты питания"
   ]
  },
  {
   "cell_type": "markdown",
   "metadata": {},
   "source": [
    "**Цель проекта** - разобраться, как ведут себя пользователи мобильного приложения.\n",
    "\n",
    "**Задачи:**\n",
    "1. Изучить воронку продаж. \n",
    "2. Узнайте, как пользователи доходят до покупки. \n",
    "3. Ответить на вопрос сколько пользователей доходит до покупки, а сколько — «застревает» на предыдущих шагах? На каких именно?\n",
    "4. Исследовать результаты A/A/B-эксперимента в рамках которого необходимо понять какой шрифт на сайте лучше, новый или старый"
   ]
  },
  {
   "cell_type": "markdown",
   "metadata": {},
   "source": [
    "## Импортируем нужные библиотеки и читаем данные"
   ]
  },
  {
   "cell_type": "code",
   "execution_count": 1,
   "metadata": {},
   "outputs": [],
   "source": [
    "import pandas as pd\n",
    "import matplotlib.pyplot as plt\n",
    "import numpy as np\n",
    "import scipy.stats as stats\n",
    "import math as mth\n",
    "from statsmodels.stats.proportion import proportions_ztest"
   ]
  },
  {
   "cell_type": "code",
   "execution_count": 2,
   "metadata": {},
   "outputs": [],
   "source": [
    "data = pd.read_csv('/datasets/logs_exp.csv', sep='\\t')"
   ]
  },
  {
   "cell_type": "markdown",
   "metadata": {},
   "source": [
    "## Предобработка данных"
   ]
  },
  {
   "cell_type": "code",
   "execution_count": 3,
   "metadata": {
    "scrolled": false
   },
   "outputs": [
    {
     "data": {
      "text/html": [
       "<div>\n",
       "<style scoped>\n",
       "    .dataframe tbody tr th:only-of-type {\n",
       "        vertical-align: middle;\n",
       "    }\n",
       "\n",
       "    .dataframe tbody tr th {\n",
       "        vertical-align: top;\n",
       "    }\n",
       "\n",
       "    .dataframe thead th {\n",
       "        text-align: right;\n",
       "    }\n",
       "</style>\n",
       "<table border=\"1\" class=\"dataframe\">\n",
       "  <thead>\n",
       "    <tr style=\"text-align: right;\">\n",
       "      <th></th>\n",
       "      <th>EventName</th>\n",
       "      <th>DeviceIDHash</th>\n",
       "      <th>EventTimestamp</th>\n",
       "      <th>ExpId</th>\n",
       "    </tr>\n",
       "  </thead>\n",
       "  <tbody>\n",
       "    <tr>\n",
       "      <th>0</th>\n",
       "      <td>MainScreenAppear</td>\n",
       "      <td>4575588528974610257</td>\n",
       "      <td>1564029816</td>\n",
       "      <td>246</td>\n",
       "    </tr>\n",
       "    <tr>\n",
       "      <th>1</th>\n",
       "      <td>MainScreenAppear</td>\n",
       "      <td>7416695313311560658</td>\n",
       "      <td>1564053102</td>\n",
       "      <td>246</td>\n",
       "    </tr>\n",
       "    <tr>\n",
       "      <th>2</th>\n",
       "      <td>PaymentScreenSuccessful</td>\n",
       "      <td>3518123091307005509</td>\n",
       "      <td>1564054127</td>\n",
       "      <td>248</td>\n",
       "    </tr>\n",
       "    <tr>\n",
       "      <th>3</th>\n",
       "      <td>CartScreenAppear</td>\n",
       "      <td>3518123091307005509</td>\n",
       "      <td>1564054127</td>\n",
       "      <td>248</td>\n",
       "    </tr>\n",
       "    <tr>\n",
       "      <th>4</th>\n",
       "      <td>PaymentScreenSuccessful</td>\n",
       "      <td>6217807653094995999</td>\n",
       "      <td>1564055322</td>\n",
       "      <td>248</td>\n",
       "    </tr>\n",
       "  </tbody>\n",
       "</table>\n",
       "</div>"
      ],
      "text/plain": [
       "                 EventName         DeviceIDHash  EventTimestamp  ExpId\n",
       "0         MainScreenAppear  4575588528974610257      1564029816    246\n",
       "1         MainScreenAppear  7416695313311560658      1564053102    246\n",
       "2  PaymentScreenSuccessful  3518123091307005509      1564054127    248\n",
       "3         CartScreenAppear  3518123091307005509      1564054127    248\n",
       "4  PaymentScreenSuccessful  6217807653094995999      1564055322    248"
      ]
     },
     "execution_count": 3,
     "metadata": {},
     "output_type": "execute_result"
    }
   ],
   "source": [
    "data.head()"
   ]
  },
  {
   "cell_type": "markdown",
   "metadata": {},
   "source": [
    "1. Поменяем названия переменных\n",
    "2. Добавим столбец с датой и временем и отдельно с датой\n",
    "3. Корректируем типы переменных, проверяем пропуски"
   ]
  },
  {
   "cell_type": "code",
   "execution_count": 4,
   "metadata": {},
   "outputs": [],
   "source": [
    "data = data.rename(columns={'EventName': 'name',\n",
    "                    'DeviceIDHash': 'device',\n",
    "                    'EventTimestamp': 'timestamp',\n",
    "                    'ExpId': 'experiment'})"
   ]
  },
  {
   "cell_type": "code",
   "execution_count": 5,
   "metadata": {},
   "outputs": [],
   "source": [
    "data['date_time'] = pd.to_datetime(data['timestamp'], unit='s')\n",
    "data['date'] = data['date_time'].dt.date"
   ]
  },
  {
   "cell_type": "code",
   "execution_count": 6,
   "metadata": {},
   "outputs": [
    {
     "data": {
      "text/html": [
       "<div>\n",
       "<style scoped>\n",
       "    .dataframe tbody tr th:only-of-type {\n",
       "        vertical-align: middle;\n",
       "    }\n",
       "\n",
       "    .dataframe tbody tr th {\n",
       "        vertical-align: top;\n",
       "    }\n",
       "\n",
       "    .dataframe thead th {\n",
       "        text-align: right;\n",
       "    }\n",
       "</style>\n",
       "<table border=\"1\" class=\"dataframe\">\n",
       "  <thead>\n",
       "    <tr style=\"text-align: right;\">\n",
       "      <th></th>\n",
       "      <th>name</th>\n",
       "      <th>device</th>\n",
       "      <th>timestamp</th>\n",
       "      <th>experiment</th>\n",
       "      <th>date_time</th>\n",
       "      <th>date</th>\n",
       "    </tr>\n",
       "  </thead>\n",
       "  <tbody>\n",
       "    <tr>\n",
       "      <th>0</th>\n",
       "      <td>MainScreenAppear</td>\n",
       "      <td>4575588528974610257</td>\n",
       "      <td>1564029816</td>\n",
       "      <td>246</td>\n",
       "      <td>2019-07-25 04:43:36</td>\n",
       "      <td>2019-07-25</td>\n",
       "    </tr>\n",
       "    <tr>\n",
       "      <th>1</th>\n",
       "      <td>MainScreenAppear</td>\n",
       "      <td>7416695313311560658</td>\n",
       "      <td>1564053102</td>\n",
       "      <td>246</td>\n",
       "      <td>2019-07-25 11:11:42</td>\n",
       "      <td>2019-07-25</td>\n",
       "    </tr>\n",
       "    <tr>\n",
       "      <th>2</th>\n",
       "      <td>PaymentScreenSuccessful</td>\n",
       "      <td>3518123091307005509</td>\n",
       "      <td>1564054127</td>\n",
       "      <td>248</td>\n",
       "      <td>2019-07-25 11:28:47</td>\n",
       "      <td>2019-07-25</td>\n",
       "    </tr>\n",
       "    <tr>\n",
       "      <th>3</th>\n",
       "      <td>CartScreenAppear</td>\n",
       "      <td>3518123091307005509</td>\n",
       "      <td>1564054127</td>\n",
       "      <td>248</td>\n",
       "      <td>2019-07-25 11:28:47</td>\n",
       "      <td>2019-07-25</td>\n",
       "    </tr>\n",
       "    <tr>\n",
       "      <th>4</th>\n",
       "      <td>PaymentScreenSuccessful</td>\n",
       "      <td>6217807653094995999</td>\n",
       "      <td>1564055322</td>\n",
       "      <td>248</td>\n",
       "      <td>2019-07-25 11:48:42</td>\n",
       "      <td>2019-07-25</td>\n",
       "    </tr>\n",
       "  </tbody>\n",
       "</table>\n",
       "</div>"
      ],
      "text/plain": [
       "                      name               device   timestamp  experiment  \\\n",
       "0         MainScreenAppear  4575588528974610257  1564029816         246   \n",
       "1         MainScreenAppear  7416695313311560658  1564053102         246   \n",
       "2  PaymentScreenSuccessful  3518123091307005509  1564054127         248   \n",
       "3         CartScreenAppear  3518123091307005509  1564054127         248   \n",
       "4  PaymentScreenSuccessful  6217807653094995999  1564055322         248   \n",
       "\n",
       "            date_time        date  \n",
       "0 2019-07-25 04:43:36  2019-07-25  \n",
       "1 2019-07-25 11:11:42  2019-07-25  \n",
       "2 2019-07-25 11:28:47  2019-07-25  \n",
       "3 2019-07-25 11:28:47  2019-07-25  \n",
       "4 2019-07-25 11:48:42  2019-07-25  "
      ]
     },
     "execution_count": 6,
     "metadata": {},
     "output_type": "execute_result"
    }
   ],
   "source": [
    "data.head()"
   ]
  },
  {
   "cell_type": "code",
   "execution_count": 7,
   "metadata": {},
   "outputs": [],
   "source": [
    "data['date'] = data['date'].astype('datetime64')"
   ]
  },
  {
   "cell_type": "code",
   "execution_count": 8,
   "metadata": {},
   "outputs": [
    {
     "name": "stdout",
     "output_type": "stream",
     "text": [
      "<class 'pandas.core.frame.DataFrame'>\n",
      "RangeIndex: 244126 entries, 0 to 244125\n",
      "Data columns (total 6 columns):\n",
      " #   Column      Non-Null Count   Dtype         \n",
      "---  ------      --------------   -----         \n",
      " 0   name        244126 non-null  object        \n",
      " 1   device      244126 non-null  int64         \n",
      " 2   timestamp   244126 non-null  int64         \n",
      " 3   experiment  244126 non-null  int64         \n",
      " 4   date_time   244126 non-null  datetime64[ns]\n",
      " 5   date        244126 non-null  datetime64[ns]\n",
      "dtypes: datetime64[ns](2), int64(3), object(1)\n",
      "memory usage: 11.2+ MB\n"
     ]
    }
   ],
   "source": [
    "data.info()"
   ]
  },
  {
   "cell_type": "markdown",
   "metadata": {},
   "source": [
    "Пропущенных значений в данных нет"
   ]
  },
  {
   "cell_type": "markdown",
   "metadata": {},
   "source": [
    "<div style=\"border-radius: 15px; box-shadow: 4px 4px 4px; border: solid orange 2px; padding: 20px\"> <b>Что можно улучшить - ⚠️</b><br>\n",
    "Зачем вызывать для каждого столбца <code>isna()</code> - нет доверия к <code>info</code>🤔</div> <br>"
   ]
  },
  {
   "cell_type": "markdown",
   "metadata": {},
   "source": [
    "<div class=\"alert alert-info\" style=\"border:solid blue 2px; padding: 20px\"> \n",
    "<b>Комментарий студента:</b> Поправил."
   ]
  },
  {
   "cell_type": "markdown",
   "metadata": {},
   "source": [
    "## Изучение и проверка данных"
   ]
  },
  {
   "cell_type": "code",
   "execution_count": 9,
   "metadata": {},
   "outputs": [
    {
     "name": "stdout",
     "output_type": "stream",
     "text": [
      "Кол-во событий: 244126\n"
     ]
    }
   ],
   "source": [
    "print(f\"Кол-во событий: {data['name'].count()}\")"
   ]
  },
  {
   "cell_type": "markdown",
   "metadata": {},
   "source": [
    "<div style=\"border-radius: 15px; box-shadow: 4px 4px 4px; border: solid orange 2px; padding: 20px\"> <b>Что можно улучшить - ⚠️</b><br>\n",
    "Рекомендую не оставлять цифры голыми, а добавлять к ним комментарий - так удобнее читать и проверять работу, нет необходимости искать в коде, что же это за цифра - пример ниже</div> <br>\n"
   ]
  },
  {
   "cell_type": "markdown",
   "metadata": {},
   "source": [
    "<hr style=\"border: 2px solid orange;\" />"
   ]
  },
  {
   "cell_type": "code",
   "execution_count": 10,
   "metadata": {},
   "outputs": [
    {
     "name": "stdout",
     "output_type": "stream",
     "text": [
      "Кол-во уникальных пользователей: 7551\n"
     ]
    }
   ],
   "source": [
    "print(f\"Кол-во уникальных пользователей: {data['device'].nunique()}\")"
   ]
  },
  {
   "cell_type": "markdown",
   "metadata": {},
   "source": [
    "<div style=\"border-radius: 15px; box-shadow: 4px 4px 4px; border: solid red 2px; padding: 20px\"> <b>Что необходимо доработать - ⛔️</b><br>\n",
    "Предыдущие проекты и теория показывали, что есть случаи, когда оценка среднего с помощью простого среднего арифметического может быть некорректной. Хорошей практикой является построение гистограммы и определения подходящей статистики</div><br>"
   ]
  },
  {
   "cell_type": "markdown",
   "metadata": {},
   "source": [
    "<div class=\"alert alert-info\" style=\"border:solid blue 2px; padding: 20px\"> \n",
    "<b>Комментарий студента:</b> В целом не очень понимаю зачем здесь оценивать среднее значение..."
   ]
  },
  {
   "cell_type": "markdown",
   "metadata": {},
   "source": [
    "<div style=\"border-radius: 15px; box-shadow: 4px 4px 4px; border: solid orange 2px; padding: 20px\"> <b>Что можно улучшить - ⚠️ 2</b><br>\n",
    "Два момента:\n",
    "    <ul>\n",
    "    <li>  1. Узнать есть ли аномалии, может быть нужно отфильтровать пользователей, которые слишком активны\n",
    "    <li> 2. Предполагается, что изучение кол-ва событий на пользователя в разрезе групп может показать их различие</ul>\n",
    "\n",
    " </div> <br>"
   ]
  },
  {
   "cell_type": "markdown",
   "metadata": {},
   "source": [
    "<div class=\"alert alert-info\" style=\"border:solid blue 2px; padding: 20px\"> \n",
    "<b>Комментарий студента:</b> Готово ниже"
   ]
  },
  {
   "cell_type": "code",
   "execution_count": 11,
   "metadata": {},
   "outputs": [
    {
     "data": {
      "text/html": [
       "<div>\n",
       "<style scoped>\n",
       "    .dataframe tbody tr th:only-of-type {\n",
       "        vertical-align: middle;\n",
       "    }\n",
       "\n",
       "    .dataframe tbody tr th {\n",
       "        vertical-align: top;\n",
       "    }\n",
       "\n",
       "    .dataframe thead th {\n",
       "        text-align: right;\n",
       "    }\n",
       "</style>\n",
       "<table border=\"1\" class=\"dataframe\">\n",
       "  <thead>\n",
       "    <tr style=\"text-align: right;\">\n",
       "      <th></th>\n",
       "      <th>name</th>\n",
       "    </tr>\n",
       "    <tr>\n",
       "      <th>device</th>\n",
       "      <th></th>\n",
       "    </tr>\n",
       "  </thead>\n",
       "  <tbody>\n",
       "    <tr>\n",
       "      <th>6888746892508752</th>\n",
       "      <td>1</td>\n",
       "    </tr>\n",
       "    <tr>\n",
       "      <th>6909561520679493</th>\n",
       "      <td>5</td>\n",
       "    </tr>\n",
       "    <tr>\n",
       "      <th>6922444491712477</th>\n",
       "      <td>47</td>\n",
       "    </tr>\n",
       "    <tr>\n",
       "      <th>7435777799948366</th>\n",
       "      <td>6</td>\n",
       "    </tr>\n",
       "    <tr>\n",
       "      <th>7702139951469979</th>\n",
       "      <td>137</td>\n",
       "    </tr>\n",
       "    <tr>\n",
       "      <th>...</th>\n",
       "      <td>...</td>\n",
       "    </tr>\n",
       "    <tr>\n",
       "      <th>9217594193087726423</th>\n",
       "      <td>9</td>\n",
       "    </tr>\n",
       "    <tr>\n",
       "      <th>9219463515465815368</th>\n",
       "      <td>17</td>\n",
       "    </tr>\n",
       "    <tr>\n",
       "      <th>9220879493065341500</th>\n",
       "      <td>7</td>\n",
       "    </tr>\n",
       "    <tr>\n",
       "      <th>9221926045299980007</th>\n",
       "      <td>7</td>\n",
       "    </tr>\n",
       "    <tr>\n",
       "      <th>9222603179720523844</th>\n",
       "      <td>59</td>\n",
       "    </tr>\n",
       "  </tbody>\n",
       "</table>\n",
       "<p>7551 rows × 1 columns</p>\n",
       "</div>"
      ],
      "text/plain": [
       "                     name\n",
       "device                   \n",
       "6888746892508752        1\n",
       "6909561520679493        5\n",
       "6922444491712477       47\n",
       "7435777799948366        6\n",
       "7702139951469979      137\n",
       "...                   ...\n",
       "9217594193087726423     9\n",
       "9219463515465815368    17\n",
       "9220879493065341500     7\n",
       "9221926045299980007     7\n",
       "9222603179720523844    59\n",
       "\n",
       "[7551 rows x 1 columns]"
      ]
     },
     "execution_count": 11,
     "metadata": {},
     "output_type": "execute_result"
    }
   ],
   "source": [
    "data_device = data.pivot_table(values='name', index='device', aggfunc=('count'))\n",
    "data_device"
   ]
  },
  {
   "cell_type": "code",
   "execution_count": 12,
   "metadata": {
    "scrolled": true
   },
   "outputs": [
    {
     "data": {
      "text/plain": [
       "count    7551.000000\n",
       "mean       32.330287\n",
       "std        65.312344\n",
       "min         1.000000\n",
       "25%         9.000000\n",
       "50%        20.000000\n",
       "75%        37.500000\n",
       "max      2308.000000\n",
       "Name: name, dtype: float64"
      ]
     },
     "execution_count": 12,
     "metadata": {},
     "output_type": "execute_result"
    }
   ],
   "source": [
    "data_device['name'].describe()"
   ]
  },
  {
   "cell_type": "markdown",
   "metadata": {},
   "source": [
    "Медианное кол-во действий, которое предпринял каждый пользователь равно 19. Посмотрим на выбросы"
   ]
  },
  {
   "cell_type": "code",
   "execution_count": 13,
   "metadata": {
    "scrolled": true
   },
   "outputs": [
    {
     "data": {
      "text/plain": [
       "<AxesSubplot:xlabel='device'>"
      ]
     },
     "execution_count": 13,
     "metadata": {},
     "output_type": "execute_result"
    },
    {
     "data": {
      "image/png": "[encoded data removed]",
      "text/plain": [
       "<Figure size 720x720 with 1 Axes>"
      ]
     },
     "metadata": {
      "needs_background": "light"
     },
     "output_type": "display_data"
    }
   ],
   "source": [
    "data.pivot_table(values='name', index='device', aggfunc=('count')).plot(style='o',figsize=(10,10))"
   ]
  },
  {
   "cell_type": "code",
   "execution_count": 14,
   "metadata": {
    "scrolled": true
   },
   "outputs": [
    {
     "data": {
      "text/plain": [
       "name    19\n",
       "dtype: int64"
      ]
     },
     "execution_count": 14,
     "metadata": {},
     "output_type": "execute_result"
    }
   ],
   "source": [
    "data_device[data_device['name'] > 500].count()"
   ]
  },
  {
   "cell_type": "markdown",
   "metadata": {},
   "source": [
    "500 и больше действий звучит как аномалии, предлагаю избавиться от данных значений"
   ]
  },
  {
   "cell_type": "markdown",
   "metadata": {},
   "source": [
    "<div style=\"border-radius: 15px; box-shadow: 4px 4px 4px; border: solid green 2px; padding: 20px\"> <b>Отличная работа 3</b><br>Супер, вот суперактивные пользователи нашлись👍</div> "
   ]
  },
  {
   "cell_type": "code",
   "execution_count": 15,
   "metadata": {},
   "outputs": [
    {
     "name": "stdout",
     "output_type": "stream",
     "text": [
      "Кол-во уникальных пользователей: 7532\n"
     ]
    }
   ],
   "source": [
    "data = data[data.groupby('device')['device'].transform('size') < 500]\n",
    "print(f\"Кол-во уникальных пользователей: {data['device'].nunique()}\")"
   ]
  },
  {
   "cell_type": "code",
   "execution_count": 16,
   "metadata": {},
   "outputs": [
    {
     "name": "stdout",
     "output_type": "stream",
     "text": [
      "Кол-во событий: 225169\n"
     ]
    }
   ],
   "source": [
    "print(f\"Кол-во событий: {data['name'].count()}\")"
   ]
  },
  {
   "cell_type": "markdown",
   "metadata": {},
   "source": [
    "Всего в очищенном от аномалий логе находится 225 169 событий от 7 532 уникальных пользователей"
   ]
  },
  {
   "cell_type": "code",
   "execution_count": 17,
   "metadata": {},
   "outputs": [
    {
     "data": {
      "text/plain": [
       "Timestamp('2019-07-25 04:43:36')"
      ]
     },
     "execution_count": 17,
     "metadata": {},
     "output_type": "execute_result"
    }
   ],
   "source": [
    "data['date_time'].min()"
   ]
  },
  {
   "cell_type": "code",
   "execution_count": 18,
   "metadata": {},
   "outputs": [
    {
     "data": {
      "text/plain": [
       "Timestamp('2019-08-07 21:15:17')"
      ]
     },
     "execution_count": 18,
     "metadata": {},
     "output_type": "execute_result"
    }
   ],
   "source": [
    "data['date_time'].max()"
   ]
  },
  {
   "cell_type": "code",
   "execution_count": 19,
   "metadata": {},
   "outputs": [
    {
     "data": {
      "image/png": "[encoded data removed]",
      "text/plain": [
       "<Figure size 432x288 with 1 Axes>"
      ]
     },
     "metadata": {
      "needs_background": "light"
     },
     "output_type": "display_data"
    }
   ],
   "source": [
    "data['date_time'].hist(bins=100)\n",
    "plt.suptitle(\"Гистограмма по дате и времени\", fontsize=12)\n",
    "plt.xticks(fontsize=10, rotation=45);"
   ]
  },
  {
   "cell_type": "markdown",
   "metadata": {},
   "source": [
    "Мы располагаем данными от 25 июля 2019 года до 7 августа 2019 года. При этом видно, что данных за июль крайне мало, вероятно они должны быть исключены из анализа."
   ]
  },
  {
   "cell_type": "code",
   "execution_count": 20,
   "metadata": {},
   "outputs": [],
   "source": [
    "data = data[(data['date'] >= '2019-08-01')]"
   ]
  },
  {
   "cell_type": "code",
   "execution_count": 21,
   "metadata": {},
   "outputs": [
    {
     "data": {
      "image/png": "[encoded data removed]",
      "text/plain": [
       "<Figure size 432x288 with 1 Axes>"
      ]
     },
     "metadata": {
      "needs_background": "light"
     },
     "output_type": "display_data"
    }
   ],
   "source": [
    "data['date_time'].hist(bins=100)\n",
    "plt.suptitle(\"Гистограмма по дате и времени\", fontsize=12)\n",
    "plt.xticks(fontsize=10, rotation=45);"
   ]
  },
  {
   "cell_type": "markdown",
   "metadata": {},
   "source": [
    "<div style=\"border-radius: 15px; box-shadow: 4px 4px 4px; border: solid red 2px; padding: 20px\"> <b>Что необходимо доработать - ⛔️</b><br>\n",
    "Вопрос: почему на одном графике около 50000 событий (максимум), а другом около 35000 и \"забор\" из столбиков?<br>\n",
    "Построй пожалуйста графики кол-во событий по часам и сравни будут ли они отличаться от тех, что реализованы тобой</div><br>"
   ]
  },
  {
   "cell_type": "markdown",
   "metadata": {},
   "source": [
    "<div class=\"alert alert-info\" style=\"border:solid blue 2px; padding: 20px\"> \n",
    "<b>Комментарий студента:</b> На обоих графиках увеличил кол-во корзин. Однако на первом больший временной промежуток, поэтому в одной корзину могут складываться больше значений."
   ]
  },
  {
   "cell_type": "markdown",
   "metadata": {},
   "source": [
    "<div style=\"border-radius: 15px; box-shadow: 4px 4px 4px; border: solid red 2px; padding: 20px\"> <b>Что необходимо доработать - ⛔️</b><br>\n",
    "Класс, что ты понимаешь почему в первом случае максимальное значение выше👌 Но почасового графика я не увидел🤔</div><br>"
   ]
  },
  {
   "cell_type": "markdown",
   "metadata": {},
   "source": [
    "<div class=\"alert alert-info\" style=\"border:solid blue 2px; padding: 20px\"> \n",
    "<b>Комментарий студента:</b> Готово ниже"
   ]
  },
  {
   "cell_type": "markdown",
   "metadata": {},
   "source": [
    "<div style=\"border-radius: 15px; box-shadow: 4px 4px 4px; border: solid green 2px; padding: 20px\"> <b>Отличная работа 3</b><br>Класс👍</div> "
   ]
  },
  {
   "cell_type": "code",
   "execution_count": 22,
   "metadata": {},
   "outputs": [
    {
     "data": {
      "image/png": "[encoded data removed]",
      "text/plain": [
       "<Figure size 1008x360 with 1 Axes>"
      ]
     },
     "metadata": {
      "needs_background": "light"
     },
     "output_type": "display_data"
    }
   ],
   "source": [
    "data['date_time'].hist(bins=7*24, figsize=(14, 5))\n",
    "plt.suptitle(\"Гистограмма по дате и времени\", fontsize=12)\n",
    "plt.xticks(fontsize=10);"
   ]
  },
  {
   "cell_type": "code",
   "execution_count": 23,
   "metadata": {},
   "outputs": [
    {
     "data": {
      "text/plain": [
       "2815"
      ]
     },
     "execution_count": 23,
     "metadata": {},
     "output_type": "execute_result"
    }
   ],
   "source": [
    "225169 - data['name'].count()"
   ]
  },
  {
   "cell_type": "code",
   "execution_count": 24,
   "metadata": {},
   "outputs": [
    {
     "data": {
      "text/plain": [
       "17"
      ]
     },
     "execution_count": 24,
     "metadata": {},
     "output_type": "execute_result"
    }
   ],
   "source": [
    "7532 - data['device'].nunique()"
   ]
  },
  {
   "cell_type": "markdown",
   "metadata": {},
   "source": [
    "В результате фильтрации данных по дате, мы исключили из дальнейшего анализа 2815 событий и 17 пользователей"
   ]
  },
  {
   "cell_type": "code",
   "execution_count": 25,
   "metadata": {},
   "outputs": [
    {
     "name": "stdout",
     "output_type": "stream",
     "text": [
      "7515\n",
      "experiment\n",
      "246    2478\n",
      "247    2509\n",
      "248    2528\n",
      "Name: device, dtype: int64\n",
      "7515\n"
     ]
    }
   ],
   "source": [
    "print(data['device'].nunique())\n",
    "print(data.groupby('experiment')['device'].nunique())\n",
    "print(data.groupby('experiment')['device'].nunique().sum())"
   ]
  },
  {
   "cell_type": "markdown",
   "metadata": {},
   "source": [
    "Среди 7515 уникальных пользователей, в группу 246 вошли 2478, в группу 247 - 2509 и в группу 248 - 2528. При этом пересечений между группами нет"
   ]
  },
  {
   "cell_type": "markdown",
   "metadata": {},
   "source": [
    "## Изучение воронки событий"
   ]
  },
  {
   "cell_type": "code",
   "execution_count": 26,
   "metadata": {},
   "outputs": [
    {
     "name": "stdout",
     "output_type": "stream",
     "text": [
      "['Tutorial' 'MainScreenAppear' 'OffersScreenAppear' 'CartScreenAppear'\n",
      " 'PaymentScreenSuccessful']\n"
     ]
    }
   ],
   "source": [
    "print(data['name'].unique())"
   ]
  },
  {
   "cell_type": "code",
   "execution_count": 27,
   "metadata": {},
   "outputs": [
    {
     "data": {
      "text/plain": [
       "name\n",
       "MainScreenAppear           116311\n",
       "OffersScreenAppear          44453\n",
       "CartScreenAppear            34175\n",
       "PaymentScreenSuccessful     26379\n",
       "Tutorial                     1036\n",
       "Name: device, dtype: int64"
      ]
     },
     "execution_count": 27,
     "metadata": {},
     "output_type": "execute_result"
    }
   ],
   "source": [
    "data.groupby('name')['device'].count().sort_values(ascending=False)"
   ]
  },
  {
   "cell_type": "markdown",
   "metadata": {},
   "source": [
    "Всего в логах присутствует 5 событий"
   ]
  },
  {
   "cell_type": "code",
   "execution_count": 28,
   "metadata": {},
   "outputs": [
    {
     "data": {
      "text/html": [
       "<div>\n",
       "<style scoped>\n",
       "    .dataframe tbody tr th:only-of-type {\n",
       "        vertical-align: middle;\n",
       "    }\n",
       "\n",
       "    .dataframe tbody tr th {\n",
       "        vertical-align: top;\n",
       "    }\n",
       "\n",
       "    .dataframe thead th {\n",
       "        text-align: right;\n",
       "    }\n",
       "</style>\n",
       "<table border=\"1\" class=\"dataframe\">\n",
       "  <thead>\n",
       "    <tr style=\"text-align: right;\">\n",
       "      <th></th>\n",
       "      <th>device</th>\n",
       "    </tr>\n",
       "    <tr>\n",
       "      <th>name</th>\n",
       "      <th></th>\n",
       "    </tr>\n",
       "  </thead>\n",
       "  <tbody>\n",
       "    <tr>\n",
       "      <th>MainScreenAppear</th>\n",
       "      <td>7400</td>\n",
       "    </tr>\n",
       "    <tr>\n",
       "      <th>OffersScreenAppear</th>\n",
       "      <td>4574</td>\n",
       "    </tr>\n",
       "    <tr>\n",
       "      <th>CartScreenAppear</th>\n",
       "      <td>3715</td>\n",
       "    </tr>\n",
       "    <tr>\n",
       "      <th>PaymentScreenSuccessful</th>\n",
       "      <td>3520</td>\n",
       "    </tr>\n",
       "    <tr>\n",
       "      <th>Tutorial</th>\n",
       "      <td>837</td>\n",
       "    </tr>\n",
       "  </tbody>\n",
       "</table>\n",
       "</div>"
      ],
      "text/plain": [
       "                         device\n",
       "name                           \n",
       "MainScreenAppear           7400\n",
       "OffersScreenAppear         4574\n",
       "CartScreenAppear           3715\n",
       "PaymentScreenSuccessful    3520\n",
       "Tutorial                    837"
      ]
     },
     "execution_count": 28,
     "metadata": {},
     "output_type": "execute_result"
    }
   ],
   "source": [
    "devices_per_event = data.pivot_table(values='device', index ='name', aggfunc='nunique').sort_values(by='device', ascending=False)\n",
    "devices_per_event"
   ]
  },
  {
   "cell_type": "code",
   "execution_count": 29,
   "metadata": {},
   "outputs": [
    {
     "name": "stdout",
     "output_type": "stream",
     "text": [
      "98.47%\n"
     ]
    }
   ],
   "source": [
    "MSA = data[data['name'] == 'MainScreenAppear']['device'].nunique() / data['device'].nunique()\n",
    "print (\"{:.2%}\".format(MSA))"
   ]
  },
  {
   "cell_type": "code",
   "execution_count": 30,
   "metadata": {},
   "outputs": [
    {
     "name": "stdout",
     "output_type": "stream",
     "text": [
      "60.86%\n"
     ]
    }
   ],
   "source": [
    "OSA = data[data['name'] == 'OffersScreenAppear']['device'].nunique() / data['device'].nunique()\n",
    "print (\"{:.2%}\".format(OSA))"
   ]
  },
  {
   "cell_type": "code",
   "execution_count": 31,
   "metadata": {},
   "outputs": [
    {
     "name": "stdout",
     "output_type": "stream",
     "text": [
      "49.43%\n"
     ]
    }
   ],
   "source": [
    "CSA = data[data['name'] == 'CartScreenAppear']['device'].nunique() / data['device'].nunique() \n",
    "print (\"{:.2%}\".format(CSA))"
   ]
  },
  {
   "cell_type": "code",
   "execution_count": 32,
   "metadata": {},
   "outputs": [
    {
     "name": "stdout",
     "output_type": "stream",
     "text": [
      "46.84%\n"
     ]
    }
   ],
   "source": [
    "PSS = data[data['name'] == 'PaymentScreenSuccessful']['device'].nunique() / data['device'].nunique() \n",
    "print (\"{:.2%}\".format(PSS))"
   ]
  },
  {
   "cell_type": "code",
   "execution_count": 33,
   "metadata": {},
   "outputs": [
    {
     "name": "stdout",
     "output_type": "stream",
     "text": [
      "11.14%\n"
     ]
    }
   ],
   "source": [
    "T = data[data['name'] == 'Tutorial']['device'].nunique() / data['device'].nunique() \n",
    "print (\"{:.2%}\".format(T))"
   ]
  },
  {
   "cell_type": "markdown",
   "metadata": {},
   "source": [
    "Таким образом, 98,47% пользователей совершили хотя бы одно событие"
   ]
  },
  {
   "cell_type": "markdown",
   "metadata": {},
   "source": [
    "<div style=\"border-radius: 15px; box-shadow: 4px 4px 4px; border: solid red 2px; padding: 20px\"> <b>Что необходимо доработать - ⛔️</b><br>\n",
    "Попробуй реализовать расчет как столбец в таблице выше, тк если событий будет не 5, а 25, ручками выполнять расчеты крайне неудобно</div><br>"
   ]
  },
  {
   "cell_type": "markdown",
   "metadata": {},
   "source": [
    "<div class=\"alert alert-info\" style=\"border:solid blue 2px; padding: 20px\"> \n",
    "<b>Комментарий студента:</b> Дай, пожалуйста, подсказку как это сделать? Не понимаю как это циклом провернуть..."
   ]
  },
  {
   "cell_type": "markdown",
   "metadata": {},
   "source": [
    "<div style=\"border-radius: 15px; box-shadow: 4px 4px 4px; border: solid red 2px; padding: 20px\"> <b>Что необходимо доработать - ⛔️ 2</b><br>\n",
    " В ячейках выше ты делишь кол-во уникальных пользователей по каждому событию на общее кол-во уникальных пользователей.   В таблице <code>devices_per_event</code> в столбце <code>device</code> у тебя указано кол-во уникальных пользователей для каждого событий. Полагаю, необходимо просто разделить этот столбец на общее число уник пользователей и результат сохранить в новый столбец</div><br>"
   ]
  },
  {
   "cell_type": "code",
   "execution_count": 34,
   "metadata": {},
   "outputs": [
    {
     "data": {
      "text/plain": [
       "name\n",
       "MainScreenAppear           0.984697\n",
       "OffersScreenAppear         0.608649\n",
       "CartScreenAppear           0.494345\n",
       "PaymentScreenSuccessful    0.468397\n",
       "Tutorial                   0.111377\n",
       "Name: device, dtype: float64"
      ]
     },
     "execution_count": 34,
     "metadata": {},
     "output_type": "execute_result"
    }
   ],
   "source": [
    "devices_per_event['device'] / data['device'].nunique()"
   ]
  },
  {
   "cell_type": "markdown",
   "metadata": {},
   "source": [
    "<div class=\"alert alert-info\" style=\"border:solid blue 2px; padding: 20px\"> \n",
    "<b>Комментарий студента:</b> Готово"
   ]
  },
  {
   "cell_type": "markdown",
   "metadata": {},
   "source": [
    "<div style=\"border-radius: 15px; box-shadow: 4px 4px 4px; border: solid green 2px; padding: 20px\"> <b>Отличная работа 3</b><br>Именно так, только осталось еще добавить в таблицу:  <code>devices_per_event['percent_of_total'] = devices_per_event['device'] / data['device'].nunique()</code></div> "
   ]
  },
  {
   "cell_type": "markdown",
   "metadata": {},
   "source": [
    "Сами события, вероятнее всего, выстраиваются в порядке убывания пользователей, прошедших через них:\n",
    "1. MainScreenAppear\n",
    "2. OffersScreenAppear\n",
    "3. CartScreenAppear\n",
    "4. PaymentScreenSuccessful\n",
    "\n",
    "Вместе с тем, Tutorial, может быть не обязательным событием"
   ]
  },
  {
   "cell_type": "markdown",
   "metadata": {},
   "source": [
    "<div style=\"border-radius: 15px; box-shadow: 4px 4px 4px; border: solid green 2px; padding: 20px\"> <b>Отличная работа - ✅</b><br>\n",
    "Согласен с формированием воронки. Действительно Руководство - опционально!</div> <br>"
   ]
  },
  {
   "cell_type": "code",
   "execution_count": 35,
   "metadata": {},
   "outputs": [
    {
     "name": "stdout",
     "output_type": "stream",
     "text": [
      "98.47%\n"
     ]
    }
   ],
   "source": [
    "a = data[data['name'] == 'MainScreenAppear']['device'].nunique() / data['device'].nunique()\n",
    "print (\"{:.2%}\".format(a))"
   ]
  },
  {
   "cell_type": "code",
   "execution_count": 36,
   "metadata": {},
   "outputs": [
    {
     "name": "stdout",
     "output_type": "stream",
     "text": [
      "61.81%\n"
     ]
    }
   ],
   "source": [
    "a_b = OSA / MSA\n",
    "print (\"{:.2%}\".format(a_b))"
   ]
  },
  {
   "cell_type": "code",
   "execution_count": 37,
   "metadata": {},
   "outputs": [
    {
     "name": "stdout",
     "output_type": "stream",
     "text": [
      "81.22%\n"
     ]
    }
   ],
   "source": [
    "b_c = CSA / OSA\n",
    "print (\"{:.2%}\".format(b_c))"
   ]
  },
  {
   "cell_type": "code",
   "execution_count": 38,
   "metadata": {},
   "outputs": [
    {
     "name": "stdout",
     "output_type": "stream",
     "text": [
      "94.75%\n"
     ]
    }
   ],
   "source": [
    "c_d = PSS / CSA\n",
    "print (\"{:.2%}\".format(c_d))"
   ]
  },
  {
   "cell_type": "code",
   "execution_count": 39,
   "metadata": {},
   "outputs": [
    {
     "name": "stdout",
     "output_type": "stream",
     "text": [
      "47.57%\n"
     ]
    }
   ],
   "source": [
    "a_d = PSS/MSA\n",
    "print (\"{:.2%}\".format(a_d))"
   ]
  },
  {
   "cell_type": "markdown",
   "metadata": {},
   "source": [
    "Самые большие потери происходят при переходе от главного экрана (с шага А на В). От шага А (главный экран) до шага D (оплата) доходит 47,7% пользователей"
   ]
  },
  {
   "cell_type": "markdown",
   "metadata": {},
   "source": [
    "<div style=\"border-radius: 15px; box-shadow: 4px 4px 4px; border: solid orange 2px; padding: 20px\"> <b>Что можно улучшить - ⚠️</b><br>\n",
    "Хорошим дополнением будет визуализация воронки при помощи <a href=\"https://plotly.com/python/funnel-charts/\">plotly</a></div> <br>"
   ]
  },
  {
   "cell_type": "markdown",
   "metadata": {},
   "source": [
    "## Изучение результатов эксперимента"
   ]
  },
  {
   "cell_type": "markdown",
   "metadata": {},
   "source": [
    "### Сравнение контрольных групп "
   ]
  },
  {
   "cell_type": "markdown",
   "metadata": {},
   "source": [
    "Проверим гипотезу о равенстве долей между группами 246 и 247 для каждого из этапов пользовательского пути"
   ]
  },
  {
   "cell_type": "code",
   "execution_count": 40,
   "metadata": {
    "scrolled": false
   },
   "outputs": [
    {
     "name": "stdout",
     "output_type": "stream",
     "text": [
      "experiment\n",
      "246    2478\n",
      "247    2509\n",
      "248    2528\n",
      "Name: device, dtype: int64\n"
     ]
    }
   ],
   "source": [
    "userspergroup = data.groupby('experiment')['device'].nunique()\n",
    "print(userspergroup)"
   ]
  },
  {
   "cell_type": "code",
   "execution_count": 41,
   "metadata": {},
   "outputs": [
    {
     "data": {
      "text/html": [
       "<div>\n",
       "<style scoped>\n",
       "    .dataframe tbody tr th:only-of-type {\n",
       "        vertical-align: middle;\n",
       "    }\n",
       "\n",
       "    .dataframe tbody tr th {\n",
       "        vertical-align: top;\n",
       "    }\n",
       "\n",
       "    .dataframe thead th {\n",
       "        text-align: right;\n",
       "    }\n",
       "</style>\n",
       "<table border=\"1\" class=\"dataframe\">\n",
       "  <thead>\n",
       "    <tr style=\"text-align: right;\">\n",
       "      <th>experiment</th>\n",
       "      <th>246</th>\n",
       "      <th>247</th>\n",
       "      <th>248</th>\n",
       "    </tr>\n",
       "    <tr>\n",
       "      <th>name</th>\n",
       "      <th></th>\n",
       "      <th></th>\n",
       "      <th></th>\n",
       "    </tr>\n",
       "  </thead>\n",
       "  <tbody>\n",
       "    <tr>\n",
       "      <th>CartScreenAppear</th>\n",
       "      <td>1260</td>\n",
       "      <td>1234</td>\n",
       "      <td>1221</td>\n",
       "    </tr>\n",
       "    <tr>\n",
       "      <th>MainScreenAppear</th>\n",
       "      <td>2444</td>\n",
       "      <td>2472</td>\n",
       "      <td>2484</td>\n",
       "    </tr>\n",
       "    <tr>\n",
       "      <th>OffersScreenAppear</th>\n",
       "      <td>1536</td>\n",
       "      <td>1516</td>\n",
       "      <td>1522</td>\n",
       "    </tr>\n",
       "    <tr>\n",
       "      <th>PaymentScreenSuccessful</th>\n",
       "      <td>1194</td>\n",
       "      <td>1154</td>\n",
       "      <td>1172</td>\n",
       "    </tr>\n",
       "    <tr>\n",
       "      <th>Tutorial</th>\n",
       "      <td>276</td>\n",
       "      <td>283</td>\n",
       "      <td>278</td>\n",
       "    </tr>\n",
       "  </tbody>\n",
       "</table>\n",
       "</div>"
      ],
      "text/plain": [
       "experiment                246   247   248\n",
       "name                                     \n",
       "CartScreenAppear         1260  1234  1221\n",
       "MainScreenAppear         2444  2472  2484\n",
       "OffersScreenAppear       1536  1516  1522\n",
       "PaymentScreenSuccessful  1194  1154  1172\n",
       "Tutorial                  276   283   278"
      ]
     },
     "execution_count": 41,
     "metadata": {},
     "output_type": "execute_result"
    }
   ],
   "source": [
    "data_exp = data.pivot_table(values='device', index ='name', columns=['experiment'], aggfunc='nunique')\n",
    "data_exp"
   ]
  },
  {
   "cell_type": "code",
   "execution_count": 42,
   "metadata": {},
   "outputs": [],
   "source": [
    "start1 = data.query('experiment == 246')['device'].nunique()\n",
    "start2 = data.query('experiment == 247')['device'].nunique()\n",
    "\n",
    "a1 = data.query('name == \"MainScreenAppear\" & experiment == 246')['device'].nunique()\n",
    "a2 = data.query('name == \"MainScreenAppear\" & experiment == 247')['device'].nunique()\n",
    "\n",
    "b1 = data.query('name == \"OffersScreenAppear\" & experiment == 246')['device'].nunique()\n",
    "b2 = data.query('name == \"OffersScreenAppear\" & experiment == 247')['device'].nunique()\n",
    "\n",
    "c1 = data.query('name == \"CartScreenAppear\" & experiment == 246')['device'].nunique()\n",
    "c2 = data.query('name == \"CartScreenAppear\" & experiment == 247')['device'].nunique()\n",
    "\n",
    "d1 = data.query('name == \"PaymentScreenSuccessful\" & experiment == 246')['device'].nunique()\n",
    "d2 = data.query('name == \"PaymentScreenSuccessful\" & experiment == 247')['device'].nunique()"
   ]
  },
  {
   "cell_type": "markdown",
   "metadata": {},
   "source": [
    "**H0** - доли в контрольных группах НЕ имеют различия\n",
    "\n",
    "**H1** - доли в контрольных группах имеют различия"
   ]
  },
  {
   "cell_type": "markdown",
   "metadata": {},
   "source": [
    "<div style=\"border-radius: 15px; box-shadow: 4px 4px 4px; border: solid green 2px; padding: 20px\"> <b>Отличная работа</b><br>\n",
    "Гипотезы сформулированы верно ✅</div> <br>"
   ]
  },
  {
   "cell_type": "markdown",
   "metadata": {},
   "source": [
    "Создаем функцию для проверки гипотезы"
   ]
  },
  {
   "cell_type": "code",
   "execution_count": 43,
   "metadata": {},
   "outputs": [],
   "source": [
    "def check_hypothesis(successes1, successes2, trials1, trials2, alpha=0.01):\n",
    "    # пропорция успехов в первой группе:\n",
    "    p1 = successes1/trials1\n",
    "\n",
    "    # пропорция успехов во второй группе:\n",
    "    p2 = successes2/trials2\n",
    "\n",
    "    p_combined = (successes1 + successes2) / (trials1 + trials2)\n",
    "\n",
    "    difference = p1 - p2\n",
    "    \n",
    "\n",
    "    z_value = difference / mth.sqrt(p_combined * (1 - p_combined) * (1/trials1 + 1/trials2))\n",
    "\n",
    "    distr = stats.norm(0, 1) \n",
    "\n",
    "\n",
    "\n",
    "    p_value = (1 - distr.cdf(abs(z_value))) * 2\n",
    "\n",
    "    print('p-значение: ', p_value)\n",
    "\n",
    "    if (p_value < alpha):\n",
    "        print(\"Отвергаем нулевую гипотезу: между долями есть значимая разница\")\n",
    "    else:\n",
    "        print(\"Не получилось отвергнуть нулевую гипотезу, нет оснований считать доли разными\")"
   ]
  },
  {
   "cell_type": "code",
   "execution_count": 44,
   "metadata": {},
   "outputs": [
    {
     "name": "stdout",
     "output_type": "stream",
     "text": [
      "p-значение:  0.7597211172028002\n",
      "Не получилось отвергнуть нулевую гипотезу, нет оснований считать доли разными\n",
      "p-значение:  0.25741687649350364\n",
      "Не получилось отвергнуть нулевую гипотезу, нет оснований считать доли разными\n",
      "p-значение:  0.23981995470789697\n",
      "Не получилось отвергнуть нулевую гипотезу, нет оснований считать доли разными\n",
      "p-значение:  0.1214116032205168\n",
      "Не получилось отвергнуть нулевую гипотезу, нет оснований считать доли разными\n"
     ]
    }
   ],
   "source": [
    "check_hypothesis(a1,a2,start1,start2)\n",
    "check_hypothesis(b1,b2,start1,start2)\n",
    "check_hypothesis(c1,c2,start1,start2)\n",
    "check_hypothesis(d1,d2,start1,start2)"
   ]
  },
  {
   "cell_type": "markdown",
   "metadata": {},
   "source": [
    "Сравнение групп показало, что между долями ни на одном из шагов пользовательского пути нет статистического различия. Таким образом, можем сказать, что разбиение на группы 246 и 247 было коректным"
   ]
  },
  {
   "cell_type": "markdown",
   "metadata": {},
   "source": [
    "<div style=\"border-radius: 15px; box-shadow: 4px 4px 4px; border: solid green 2px; padding: 20px\"> <b>Отличная работа - ✅</b><br>\n",
    "Отличный результат - разницы между группами АА нет, двигаемся дальше!</div> <br>\n",
    "<div style=\"border-radius: 15px; box-shadow: 4px 4px 4px; border: solid red 2px; padding: 20px\"> <b>Что необходимо доработать - ⛔️</b><br>\n",
    "Оберни пожалуйста код z-test в функцию и автоматизируй проверки при помощи цикла</div><br>"
   ]
  },
  {
   "cell_type": "markdown",
   "metadata": {},
   "source": [
    "<div class=\"alert alert-info\" style=\"border:solid blue 2px; padding: 20px\"> \n",
    "<b>Комментарий студента:</b> Функция готова."
   ]
  },
  {
   "cell_type": "markdown",
   "metadata": {},
   "source": [
    "<div style=\"border-radius: 15px; box-shadow: 4px 4px 4px; border: solid green 2px; padding: 20px\"> <b>Отличная работа 2</b><br>👍</div> "
   ]
  },
  {
   "cell_type": "markdown",
   "metadata": {},
   "source": [
    "<div class=\"alert alert-info\" style=\"border:solid blue 2px; padding: 20px\"> \n",
    "<b>Комментарий студента:</b> Здесь то же с циклом возникла проблема, можешь дать зацепку?"
   ]
  },
  {
   "cell_type": "markdown",
   "metadata": {},
   "source": [
    "<div style=\"border-radius: 15px; box-shadow: 4px 4px 4px; border: solid red 2px; padding: 20px\"> <b>Что необходимо доработать - ⛔️ 2</b><br>\n",
    "Необходимо реализовать 2 вложенных цикла:\n",
    " <ul>\n",
    "    <li> 1 цикл по парам групп,  [246, 248], [247, 248]....\n",
    "    <li> 2 цикл по событиям</ul></div><br>"
   ]
  },
  {
   "cell_type": "markdown",
   "metadata": {},
   "source": [
    "<div class=\"alert alert-info\" style=\"border:solid blue 2px; padding: 20px\"> \n",
    "<b>Комментарий студента:</b> Получилось немного по-другому"
   ]
  },
  {
   "cell_type": "markdown",
   "metadata": {},
   "source": [
    "<div style=\"border-radius: 15px; box-shadow: 4px 4px 4px; border: solid green 2px; padding: 20px\"> <b>Отличная работа 3</b><br>Главное получилось без ручного ввода, молодец👍</div> "
   ]
  },
  {
   "cell_type": "code",
   "execution_count": 45,
   "metadata": {
    "scrolled": true
   },
   "outputs": [
    {
     "name": "stdout",
     "output_type": "stream",
     "text": [
      "CartScreenAppear\n",
      "p-значение:  0.23981995470789697\n",
      "Не получилось отвергнуть нулевую гипотезу, нет оснований считать доли разными\n",
      "MainScreenAppear\n",
      "p-значение:  0.7597211172028002\n",
      "Не получилось отвергнуть нулевую гипотезу, нет оснований считать доли разными\n",
      "OffersScreenAppear\n",
      "p-значение:  0.25741687649350364\n",
      "Не получилось отвергнуть нулевую гипотезу, нет оснований считать доли разными\n",
      "PaymentScreenSuccessful\n",
      "p-значение:  0.1214116032205168\n",
      "Не получилось отвергнуть нулевую гипотезу, нет оснований считать доли разными\n",
      "Tutorial\n",
      "p-значение:  0.8742729698592111\n",
      "Не получилось отвергнуть нулевую гипотезу, нет оснований считать доли разными\n"
     ]
    }
   ],
   "source": [
    "for name in data_exp.index:\n",
    "    print(name)\n",
    "    check_hypothesis(data_exp.loc[name, 246],\n",
    "                     data_exp.loc[name, 247],\n",
    "                     start1,\n",
    "                     start2)"
   ]
  },
  {
   "cell_type": "code",
   "execution_count": 46,
   "metadata": {},
   "outputs": [
    {
     "name": "stdout",
     "output_type": "stream",
     "text": [
      "[246, 247] MainScreenAppear\n",
      "[246, 247] OffersScreenAppear\n",
      "[246, 247] CartScreenAppear\n",
      "[246, 247] PaymentScreenSuccessful\n",
      "[246, 248] MainScreenAppear\n",
      "[246, 248] OffersScreenAppear\n",
      "[246, 248] CartScreenAppear\n",
      "[246, 248] PaymentScreenSuccessful\n"
     ]
    }
   ],
   "source": [
    "#CODE REVIEW\n",
    "# Заготовка\n",
    "for pair in [[246, 247], [246, 248]]:\n",
    "    for event in data.query(\"name!='Tutorial'\")['name'].unique():\n",
    "        print(pair, event)\n",
    "        #  тут получение необходимых данных для запуска функции check_hypothesis\n",
    "        #  check_hypothesis(.....)"
   ]
  },
  {
   "cell_type": "markdown",
   "metadata": {},
   "source": [
    "<hr style=\"border: 2px solid red;\" />"
   ]
  },
  {
   "cell_type": "markdown",
   "metadata": {},
   "source": [
    "### Сравнение экспериментальной группы с контрольными"
   ]
  },
  {
   "cell_type": "code",
   "execution_count": 47,
   "metadata": {},
   "outputs": [],
   "source": [
    "start3 = data.query('experiment == 248')['device'].nunique()\n",
    "\n",
    "a3 = data.query('name == \"MainScreenAppear\" & experiment == 248')['device'].nunique()\n",
    "\n",
    "b3 = data.query('name == \"OffersScreenAppear\" & experiment == 248')['device'].nunique()\n",
    "\n",
    "c3 = data.query('name == \"CartScreenAppear\" & experiment == 248')['device'].nunique()\n",
    "\n",
    "d3 = data.query('name == \"PaymentScreenSuccessful\" & experiment == 248')['device'].nunique()"
   ]
  },
  {
   "cell_type": "markdown",
   "metadata": {},
   "source": [
    "**H0** - доли в первой контрольной группе и экспериментальной НЕ имеют различия\n",
    "\n",
    "**H1** - доли в первой контрольной группе и экспериментальной имеют различия"
   ]
  },
  {
   "cell_type": "code",
   "execution_count": 48,
   "metadata": {},
   "outputs": [
    {
     "name": "stdout",
     "output_type": "stream",
     "text": [
      "CartScreenAppear\n",
      "p-значение:  0.07137934993078021\n",
      "Не получилось отвергнуть нулевую гипотезу, нет оснований считать доли разными\n",
      "MainScreenAppear\n",
      "p-значение:  0.2926399053398221\n",
      "Не получилось отвергнуть нулевую гипотезу, нет оснований считать доли разными\n",
      "OffersScreenAppear\n",
      "p-значение:  0.19658980240553348\n",
      "Не получилось отвергнуть нулевую гипотезу, нет оснований считать доли разными\n",
      "PaymentScreenSuccessful\n",
      "p-значение:  0.19639697924037192\n",
      "Не получилось отвергнуть нулевую гипотезу, нет оснований считать доли разными\n",
      "Tutorial\n",
      "p-значение:  0.8735172393711175\n",
      "Не получилось отвергнуть нулевую гипотезу, нет оснований считать доли разными\n"
     ]
    }
   ],
   "source": [
    "for name in data_exp.index:\n",
    "    print(name)\n",
    "    check_hypothesis(data_exp.loc[name, 246],\n",
    "                     data_exp.loc[name, 248],\n",
    "                     start1,\n",
    "                     start3)"
   ]
  },
  {
   "cell_type": "markdown",
   "metadata": {},
   "source": [
    "Между первой контрольной группой и экспериментальной нет значимого отличия"
   ]
  },
  {
   "cell_type": "markdown",
   "metadata": {},
   "source": [
    "**H0** - доли во второй контрольной группе и экспериментальной НЕ имеют различия\n",
    "\n",
    "**H1** - доли во второй контрольной группе и экспериментальной имеют различия"
   ]
  },
  {
   "cell_type": "code",
   "execution_count": 49,
   "metadata": {},
   "outputs": [
    {
     "name": "stdout",
     "output_type": "stream",
     "text": [
      "CartScreenAppear\n",
      "p-значение:  0.5303260007738086\n",
      "Не получилось отвергнуть нулевую гипотезу, нет оснований считать доли разными\n",
      "MainScreenAppear\n",
      "p-значение:  0.45332203958878514\n",
      "Не получилось отвергнуть нулевую гипотезу, нет оснований считать доли разными\n",
      "OffersScreenAppear\n",
      "p-значение:  0.8750595593760189\n",
      "Не получилось отвергнуть нулевую гипотезу, нет оснований считать доли разными\n",
      "PaymentScreenSuccessful\n",
      "p-значение:  0.7942785692343408\n",
      "Не получилось отвергнуть нулевую гипотезу, нет оснований считать доли разными\n",
      "Tutorial\n",
      "p-значение:  0.7499400734599644\n",
      "Не получилось отвергнуть нулевую гипотезу, нет оснований считать доли разными\n"
     ]
    }
   ],
   "source": [
    "for name in data_exp.index:\n",
    "    print(name)\n",
    "    check_hypothesis(data_exp.loc[name, 247],\n",
    "                     data_exp.loc[name, 248],\n",
    "                     start2,\n",
    "                     start3)"
   ]
  },
  {
   "cell_type": "markdown",
   "metadata": {},
   "source": [
    "Между второй контрольной группой и экспериментальной также нет значимого отличия"
   ]
  },
  {
   "cell_type": "markdown",
   "metadata": {},
   "source": [
    "### Сравнение экспериментальной группы с объединенной контрольной"
   ]
  },
  {
   "cell_type": "code",
   "execution_count": 50,
   "metadata": {},
   "outputs": [],
   "source": [
    "start_common = start1 + start2\n",
    "a_common = a1 + a2\n",
    "b_common = b1 + b2\n",
    "c_common = c1 + c2\n",
    "d_common = d1 + d2"
   ]
  },
  {
   "cell_type": "markdown",
   "metadata": {},
   "source": [
    "**H0** - доли в объединенной контрольной группе и экспериментальной НЕ имеют различия\n",
    "\n",
    "**H1** - доли в объединенной контрольной группе и экспериментальной имеют различия"
   ]
  },
  {
   "cell_type": "code",
   "execution_count": 51,
   "metadata": {},
   "outputs": [
    {
     "name": "stdout",
     "output_type": "stream",
     "text": [
      "p-значение:  0.29048429959357636\n",
      "Не получилось отвергнуть нулевую гипотезу, нет оснований считать доли разными\n",
      "p-значение:  0.40444911250834537\n",
      "Не получилось отвергнуть нулевую гипотезу, нет оснований считать доли разными\n",
      "p-значение:  0.16101429517364307\n",
      "Не получилось отвергнуть нулевую гипотезу, нет оснований считать доли разными\n",
      "p-значение:  0.5536216376071339\n",
      "Не получилось отвергнуть нулевую гипотезу, нет оснований считать доли разными\n"
     ]
    }
   ],
   "source": [
    "check_hypothesis(a_common,a3,start_common,start3)\n",
    "check_hypothesis(b_common,b3,start_common,start3)\n",
    "check_hypothesis(c_common,c3,start_common,start3)\n",
    "check_hypothesis(d_common,d3,start_common,start3)"
   ]
  },
  {
   "cell_type": "markdown",
   "metadata": {},
   "source": [
    "Между объединенной контрольной группой и экспериментальной также нет значимого отличия"
   ]
  },
  {
   "cell_type": "code",
   "execution_count": 52,
   "metadata": {},
   "outputs": [
    {
     "name": "stdout",
     "output_type": "stream",
     "text": [
      "0.48184019370460046\n"
     ]
    }
   ],
   "source": [
    "print(d1/start1)"
   ]
  },
  {
   "cell_type": "code",
   "execution_count": 53,
   "metadata": {},
   "outputs": [
    {
     "name": "stdout",
     "output_type": "stream",
     "text": [
      "0.45994420087684335\n"
     ]
    }
   ],
   "source": [
    "print(d2/start2)"
   ]
  },
  {
   "cell_type": "code",
   "execution_count": 54,
   "metadata": {},
   "outputs": [
    {
     "name": "stdout",
     "output_type": "stream",
     "text": [
      "0.47082414277120516\n"
     ]
    }
   ],
   "source": [
    "print(d_common/start_common)"
   ]
  },
  {
   "cell_type": "code",
   "execution_count": 55,
   "metadata": {},
   "outputs": [
    {
     "name": "stdout",
     "output_type": "stream",
     "text": [
      "0.46360759493670883\n"
     ]
    }
   ],
   "source": [
    "print(d3/start3)"
   ]
  },
  {
   "cell_type": "markdown",
   "metadata": {},
   "source": [
    "Подтверждение отсутсвия различия мы видим на совсем небольшой разнице между долями дошедших до последнего этапа пользователей в объединенной контрольной группе и экспериментальной"
   ]
  },
  {
   "cell_type": "markdown",
   "metadata": {},
   "source": [
    "<div style=\"border-radius: 15px; box-shadow: 4px 4px 4px; border: solid red 2px; padding: 20px\"> <b>Что необходимо доработать - ⛔️</b><br>\n",
    "Вопрос: посчитай сколько проверок гипотез получилось и требуется ли коррекция выбранного статистического уровня значимости</div><br>"
   ]
  },
  {
   "cell_type": "markdown",
   "metadata": {},
   "source": [
    "<div class=\"alert alert-info\" style=\"border:solid blue 2px; padding: 20px\"> \n",
    "<b>Комментарий студента:</b> Уровень значимости скорректировал до 0,01."
   ]
  },
  {
   "cell_type": "markdown",
   "metadata": {},
   "source": [
    "<div style=\"border-radius: 15px; box-shadow: 4px 4px 4px; border: solid green 2px; padding: 20px\"> <b>Отличная работа 2</b><br>👍</div> "
   ]
  },
  {
   "cell_type": "markdown",
   "metadata": {},
   "source": [
    "## Вывод"
   ]
  },
  {
   "cell_type": "markdown",
   "metadata": {},
   "source": [
    "В рамках текущего исследования мы: \n",
    "1. Изучили воронку продаж; \n",
    "2. Установили долю пользователей, которые доходят до покупки\n",
    "3. Определили, что самых проблемным шагом, на котором \"застревают\" большинство пользователей является переход с главной страницы к предложению\n",
    "4. Проведя статистические тесты, мы обнаружили, что ни на одном из шагов покупки нет значимой разницы между контрольными и экспериментальной группами. **Таким образом, изменение шрифтов на сайте не приведет ни к повышению, ни к снижению продаж**"
   ]
  },
  {
   "cell_type": "markdown",
   "metadata": {},
   "source": [
    "<hr style=\"border: 2px solid green;\" />\n",
    "\n",
    "## Общий комментарий\n",
    "Спасибо за проделанную работу🤝\n",
    "\n",
    "Максим, работа выполнена неплохо, но содержит ряд печалящих ошибок:\n",
    "- детальнее изучить кол-во событий на пользователя\n",
    "- скорректировать гистограммы\n",
    "- автоматизировать расчеты (как для доли пользователей совершивших соыбтия, так и для проверок гипотез)\n",
    "- обернуть z-test в функцию для вызова в цикле\n",
    "\n",
    "С общим выводом согласен: шрифт не приводит к каким-либо изменениям, можно использовать.\n",
    "\n",
    "Исправляй и отправляй на проверку🛠"
   ]
  }
 ],
 "metadata": {
  "ExecuteTimeLog": [
   {
    "duration": 80,
    "start_time": "2022-12-19T16:26:06.570Z"
   },
   {
    "duration": 417,
    "start_time": "2022-12-19T16:57:45.948Z"
   },
   {
    "duration": 689,
    "start_time": "2022-12-19T16:58:28.924Z"
   },
   {
    "duration": 17,
    "start_time": "2022-12-19T16:58:38.890Z"
   },
   {
    "duration": 162,
    "start_time": "2022-12-19T17:00:49.675Z"
   },
   {
    "duration": 9,
    "start_time": "2022-12-19T17:00:50.215Z"
   },
   {
    "duration": 18,
    "start_time": "2022-12-19T17:19:47.703Z"
   },
   {
    "duration": 11,
    "start_time": "2022-12-19T17:19:53.246Z"
   },
   {
    "duration": 8,
    "start_time": "2022-12-19T17:20:04.353Z"
   },
   {
    "duration": 13,
    "start_time": "2022-12-19T17:20:04.713Z"
   },
   {
    "duration": 8,
    "start_time": "2022-12-19T17:20:07.734Z"
   },
   {
    "duration": 13,
    "start_time": "2022-12-19T17:20:10.332Z"
   },
   {
    "duration": 7,
    "start_time": "2022-12-19T17:23:00.101Z"
   },
   {
    "duration": 99,
    "start_time": "2022-12-19T17:24:26.021Z"
   },
   {
    "duration": 11,
    "start_time": "2022-12-19T17:27:31.734Z"
   },
   {
    "duration": 9,
    "start_time": "2022-12-19T17:27:38.356Z"
   },
   {
    "duration": 21,
    "start_time": "2022-12-19T17:28:48.952Z"
   },
   {
    "duration": 83,
    "start_time": "2022-12-19T17:29:03.104Z"
   },
   {
    "duration": 28,
    "start_time": "2022-12-19T17:29:56.979Z"
   },
   {
    "duration": 43,
    "start_time": "2022-12-19T17:30:16.152Z"
   },
   {
    "duration": 14,
    "start_time": "2022-12-19T17:30:21.675Z"
   },
   {
    "duration": 13,
    "start_time": "2022-12-19T17:30:41.103Z"
   },
   {
    "duration": 32,
    "start_time": "2022-12-19T17:30:52.162Z"
   },
   {
    "duration": 19,
    "start_time": "2022-12-19T17:31:53.907Z"
   },
   {
    "duration": 47,
    "start_time": "2022-12-19T17:32:39.611Z"
   },
   {
    "duration": 22,
    "start_time": "2022-12-19T17:33:11.441Z"
   },
   {
    "duration": 366,
    "start_time": "2022-12-20T03:17:32.366Z"
   },
   {
    "duration": 639,
    "start_time": "2022-12-20T03:17:32.734Z"
   },
   {
    "duration": 13,
    "start_time": "2022-12-20T03:17:33.375Z"
   },
   {
    "duration": 10,
    "start_time": "2022-12-20T03:17:33.390Z"
   },
   {
    "duration": 74,
    "start_time": "2022-12-20T03:17:33.402Z"
   },
   {
    "duration": 9,
    "start_time": "2022-12-20T03:17:33.477Z"
   },
   {
    "duration": 55,
    "start_time": "2022-12-20T03:17:33.487Z"
   },
   {
    "duration": 20,
    "start_time": "2022-12-20T03:17:33.544Z"
   },
   {
    "duration": 22,
    "start_time": "2022-12-20T03:17:33.566Z"
   },
   {
    "duration": 14,
    "start_time": "2022-12-20T03:17:56.973Z"
   },
   {
    "duration": 12,
    "start_time": "2022-12-20T03:18:35.900Z"
   },
   {
    "duration": 13,
    "start_time": "2022-12-20T03:18:48.886Z"
   },
   {
    "duration": 16,
    "start_time": "2022-12-20T03:18:54.571Z"
   },
   {
    "duration": 10,
    "start_time": "2022-12-20T03:19:32.416Z"
   },
   {
    "duration": 7,
    "start_time": "2022-12-20T03:19:51.474Z"
   },
   {
    "duration": 9,
    "start_time": "2022-12-20T03:20:06.316Z"
   },
   {
    "duration": 10,
    "start_time": "2022-12-20T03:20:34.448Z"
   },
   {
    "duration": 72,
    "start_time": "2022-12-20T03:20:36.674Z"
   },
   {
    "duration": 8,
    "start_time": "2022-12-20T03:20:37.432Z"
   },
   {
    "duration": 157,
    "start_time": "2022-12-20T03:20:48.487Z"
   },
   {
    "duration": 8,
    "start_time": "2022-12-20T03:20:50.607Z"
   },
   {
    "duration": 9,
    "start_time": "2022-12-20T03:20:52.391Z"
   },
   {
    "duration": 71,
    "start_time": "2022-12-20T03:20:52.981Z"
   },
   {
    "duration": 8,
    "start_time": "2022-12-20T03:20:53.904Z"
   },
   {
    "duration": 47,
    "start_time": "2022-12-20T03:20:56.034Z"
   },
   {
    "duration": 21,
    "start_time": "2022-12-20T03:20:56.444Z"
   },
   {
    "duration": 20,
    "start_time": "2022-12-20T03:20:58.067Z"
   },
   {
    "duration": 6,
    "start_time": "2022-12-20T03:20:58.885Z"
   },
   {
    "duration": 7,
    "start_time": "2022-12-20T03:21:00.837Z"
   },
   {
    "duration": 817,
    "start_time": "2022-12-20T03:21:03.734Z"
   },
   {
    "duration": 8,
    "start_time": "2022-12-20T03:21:13.503Z"
   },
   {
    "duration": 12,
    "start_time": "2022-12-20T03:48:21.400Z"
   },
   {
    "duration": 10,
    "start_time": "2022-12-20T03:49:32.210Z"
   },
   {
    "duration": 8,
    "start_time": "2022-12-20T03:49:37.171Z"
   },
   {
    "duration": 8,
    "start_time": "2022-12-20T03:50:36.891Z"
   },
   {
    "duration": 15,
    "start_time": "2022-12-20T03:52:14.519Z"
   },
   {
    "duration": 48,
    "start_time": "2022-12-20T11:29:25.916Z"
   },
   {
    "duration": 457,
    "start_time": "2022-12-20T11:29:31.925Z"
   },
   {
    "duration": 1324,
    "start_time": "2022-12-20T11:29:32.384Z"
   },
   {
    "duration": 15,
    "start_time": "2022-12-20T11:29:33.709Z"
   },
   {
    "duration": 12,
    "start_time": "2022-12-20T11:29:33.726Z"
   },
   {
    "duration": 89,
    "start_time": "2022-12-20T11:29:33.740Z"
   },
   {
    "duration": 21,
    "start_time": "2022-12-20T11:29:33.832Z"
   },
   {
    "duration": 95,
    "start_time": "2022-12-20T11:29:33.856Z"
   },
   {
    "duration": 27,
    "start_time": "2022-12-20T11:29:33.953Z"
   },
   {
    "duration": 23,
    "start_time": "2022-12-20T11:29:33.981Z"
   },
   {
    "duration": 9,
    "start_time": "2022-12-20T11:29:34.007Z"
   },
   {
    "duration": 38,
    "start_time": "2022-12-20T11:29:34.018Z"
   },
   {
    "duration": 11,
    "start_time": "2022-12-20T11:29:34.058Z"
   },
   {
    "duration": 22,
    "start_time": "2022-12-20T11:29:34.071Z"
   },
   {
    "duration": 17,
    "start_time": "2022-12-20T11:29:34.095Z"
   },
   {
    "duration": 55,
    "start_time": "2022-12-20T11:29:34.114Z"
   },
   {
    "duration": 6,
    "start_time": "2022-12-20T11:31:20.138Z"
   },
   {
    "duration": 6,
    "start_time": "2022-12-20T11:31:29.863Z"
   },
   {
    "duration": 770,
    "start_time": "2022-12-20T11:31:49.236Z"
   },
   {
    "duration": 282,
    "start_time": "2022-12-20T11:34:46.649Z"
   },
   {
    "duration": 243,
    "start_time": "2022-12-20T11:34:56.154Z"
   },
   {
    "duration": 4,
    "start_time": "2022-12-20T11:35:19.646Z"
   },
   {
    "duration": 250,
    "start_time": "2022-12-20T11:35:23.197Z"
   },
   {
    "duration": 230,
    "start_time": "2022-12-20T11:35:39.476Z"
   },
   {
    "duration": 200,
    "start_time": "2022-12-20T11:36:55.644Z"
   },
   {
    "duration": 227,
    "start_time": "2022-12-20T11:38:05.524Z"
   },
   {
    "duration": 202,
    "start_time": "2022-12-20T11:44:36.472Z"
   },
   {
    "duration": 238,
    "start_time": "2022-12-20T11:44:41.266Z"
   },
   {
    "duration": 277,
    "start_time": "2022-12-20T11:44:46.029Z"
   },
   {
    "duration": 301,
    "start_time": "2022-12-20T11:44:53.683Z"
   },
   {
    "duration": 193,
    "start_time": "2022-12-20T11:45:06.202Z"
   },
   {
    "duration": 41,
    "start_time": "2022-12-20T11:46:39.034Z"
   },
   {
    "duration": 10,
    "start_time": "2022-12-20T11:47:11.811Z"
   },
   {
    "duration": 313,
    "start_time": "2022-12-20T11:47:18.065Z"
   },
   {
    "duration": 176,
    "start_time": "2022-12-20T11:47:38.263Z"
   },
   {
    "duration": 201,
    "start_time": "2022-12-20T11:48:09.089Z"
   },
   {
    "duration": 8,
    "start_time": "2022-12-20T11:48:33.907Z"
   },
   {
    "duration": 202,
    "start_time": "2022-12-20T11:48:34.544Z"
   },
   {
    "duration": 184,
    "start_time": "2022-12-20T11:48:44.290Z"
   },
   {
    "duration": 32,
    "start_time": "2022-12-20T11:48:48.599Z"
   },
   {
    "duration": 1162,
    "start_time": "2022-12-20T11:48:49.046Z"
   },
   {
    "duration": 85,
    "start_time": "2022-12-20T11:50:02.905Z"
   },
   {
    "duration": 1163,
    "start_time": "2022-12-20T11:50:10.186Z"
   },
   {
    "duration": 1330,
    "start_time": "2022-12-20T11:50:13.710Z"
   },
   {
    "duration": 8,
    "start_time": "2022-12-20T11:50:29.412Z"
   },
   {
    "duration": 73,
    "start_time": "2022-12-20T11:50:30.005Z"
   },
   {
    "duration": 54,
    "start_time": "2022-12-20T11:50:33.003Z"
   },
   {
    "duration": 201,
    "start_time": "2022-12-20T11:50:40.335Z"
   },
   {
    "duration": 16,
    "start_time": "2022-12-20T11:50:42.935Z"
   },
   {
    "duration": 180,
    "start_time": "2022-12-20T11:50:46.517Z"
   },
   {
    "duration": 13,
    "start_time": "2022-12-20T11:54:27.467Z"
   },
   {
    "duration": 7,
    "start_time": "2022-12-20T11:54:35.772Z"
   },
   {
    "duration": 13,
    "start_time": "2022-12-20T11:55:20.495Z"
   },
   {
    "duration": 10,
    "start_time": "2022-12-20T11:55:35.604Z"
   },
   {
    "duration": 10,
    "start_time": "2022-12-20T11:59:02.393Z"
   },
   {
    "duration": 1153,
    "start_time": "2022-12-20T11:59:24.358Z"
   },
   {
    "duration": 43,
    "start_time": "2022-12-20T11:59:44.996Z"
   },
   {
    "duration": 64,
    "start_time": "2022-12-20T12:00:37.337Z"
   },
   {
    "duration": 5,
    "start_time": "2022-12-20T12:13:55.110Z"
   },
   {
    "duration": 17,
    "start_time": "2022-12-20T12:14:07.319Z"
   },
   {
    "duration": 51,
    "start_time": "2022-12-20T12:15:06.937Z"
   },
   {
    "duration": 173,
    "start_time": "2022-12-20T12:17:48.401Z"
   },
   {
    "duration": 299,
    "start_time": "2022-12-20T12:17:59.555Z"
   },
   {
    "duration": 23,
    "start_time": "2022-12-20T12:22:21.397Z"
   },
   {
    "duration": 0,
    "start_time": "2022-12-20T12:26:08.855Z"
   },
   {
    "duration": 22,
    "start_time": "2022-12-20T12:26:25.324Z"
   },
   {
    "duration": 42,
    "start_time": "2022-12-20T12:27:10.914Z"
   },
   {
    "duration": 36,
    "start_time": "2022-12-20T12:27:35.705Z"
   },
   {
    "duration": 38,
    "start_time": "2022-12-20T12:28:35.315Z"
   },
   {
    "duration": 764,
    "start_time": "2022-12-20T12:28:54.977Z"
   },
   {
    "duration": 33,
    "start_time": "2022-12-20T12:29:17.367Z"
   },
   {
    "duration": 95,
    "start_time": "2022-12-20T12:30:34.921Z"
   },
   {
    "duration": 85,
    "start_time": "2022-12-20T12:30:49.697Z"
   },
   {
    "duration": 37,
    "start_time": "2022-12-20T12:33:01.594Z"
   },
   {
    "duration": 27,
    "start_time": "2022-12-20T12:33:07.873Z"
   },
   {
    "duration": 86,
    "start_time": "2022-12-20T12:33:24.374Z"
   },
   {
    "duration": 28,
    "start_time": "2022-12-20T12:33:40.180Z"
   },
   {
    "duration": 32,
    "start_time": "2022-12-20T12:33:42.153Z"
   },
   {
    "duration": 26,
    "start_time": "2022-12-20T12:33:48.379Z"
   },
   {
    "duration": 25,
    "start_time": "2022-12-20T12:33:55.218Z"
   },
   {
    "duration": 24,
    "start_time": "2022-12-20T12:34:20.294Z"
   },
   {
    "duration": 20,
    "start_time": "2022-12-20T12:34:21.276Z"
   },
   {
    "duration": 39,
    "start_time": "2022-12-20T12:38:28.981Z"
   },
   {
    "duration": 29,
    "start_time": "2022-12-20T12:38:32.488Z"
   },
   {
    "duration": 25,
    "start_time": "2022-12-20T12:39:25.413Z"
   },
   {
    "duration": 25,
    "start_time": "2022-12-20T12:39:28.530Z"
   },
   {
    "duration": 23,
    "start_time": "2022-12-20T12:39:43.474Z"
   },
   {
    "duration": 21,
    "start_time": "2022-12-20T12:39:57.373Z"
   },
   {
    "duration": 5,
    "start_time": "2022-12-20T14:48:46.665Z"
   },
   {
    "duration": 4,
    "start_time": "2022-12-20T14:48:52.471Z"
   },
   {
    "duration": 5,
    "start_time": "2022-12-20T14:49:13.331Z"
   },
   {
    "duration": 4,
    "start_time": "2022-12-20T14:49:26.674Z"
   },
   {
    "duration": 8,
    "start_time": "2022-12-20T14:49:56.337Z"
   },
   {
    "duration": 29,
    "start_time": "2022-12-20T14:50:32.917Z"
   },
   {
    "duration": 44,
    "start_time": "2022-12-20T14:50:59.957Z"
   },
   {
    "duration": 3,
    "start_time": "2022-12-20T14:51:09.261Z"
   },
   {
    "duration": 29,
    "start_time": "2022-12-20T14:51:18.251Z"
   },
   {
    "duration": 57,
    "start_time": "2022-12-20T16:39:59.345Z"
   },
   {
    "duration": 910,
    "start_time": "2022-12-20T16:40:08.273Z"
   },
   {
    "duration": 639,
    "start_time": "2022-12-20T16:40:09.185Z"
   },
   {
    "duration": 16,
    "start_time": "2022-12-20T16:40:09.826Z"
   },
   {
    "duration": 42,
    "start_time": "2022-12-20T16:40:09.844Z"
   },
   {
    "duration": 102,
    "start_time": "2022-12-20T16:40:09.888Z"
   },
   {
    "duration": 10,
    "start_time": "2022-12-20T16:40:09.992Z"
   },
   {
    "duration": 101,
    "start_time": "2022-12-20T16:40:10.004Z"
   },
   {
    "duration": 62,
    "start_time": "2022-12-20T16:40:10.107Z"
   },
   {
    "duration": 36,
    "start_time": "2022-12-20T16:40:10.171Z"
   },
   {
    "duration": 38,
    "start_time": "2022-12-20T16:40:10.212Z"
   },
   {
    "duration": 32,
    "start_time": "2022-12-20T16:40:10.259Z"
   },
   {
    "duration": 15,
    "start_time": "2022-12-20T16:40:10.293Z"
   },
   {
    "duration": 54,
    "start_time": "2022-12-20T16:40:10.310Z"
   },
   {
    "duration": 14,
    "start_time": "2022-12-20T16:40:10.367Z"
   },
   {
    "duration": 19,
    "start_time": "2022-12-20T16:40:10.383Z"
   },
   {
    "duration": 5,
    "start_time": "2022-12-20T16:40:10.404Z"
   },
   {
    "duration": 47,
    "start_time": "2022-12-20T16:40:10.413Z"
   },
   {
    "duration": 380,
    "start_time": "2022-12-20T16:40:10.462Z"
   },
   {
    "duration": 18,
    "start_time": "2022-12-20T16:40:10.848Z"
   },
   {
    "duration": 227,
    "start_time": "2022-12-20T16:40:10.868Z"
   },
   {
    "duration": 37,
    "start_time": "2022-12-20T16:40:11.097Z"
   },
   {
    "duration": 24,
    "start_time": "2022-12-20T16:40:11.136Z"
   },
   {
    "duration": 82,
    "start_time": "2022-12-20T16:40:11.162Z"
   },
   {
    "duration": 23,
    "start_time": "2022-12-20T16:40:11.248Z"
   },
   {
    "duration": 27,
    "start_time": "2022-12-20T16:40:11.272Z"
   },
   {
    "duration": 91,
    "start_time": "2022-12-20T16:40:11.313Z"
   },
   {
    "duration": 43,
    "start_time": "2022-12-20T16:40:11.406Z"
   },
   {
    "duration": 27,
    "start_time": "2022-12-20T16:40:11.451Z"
   },
   {
    "duration": 47,
    "start_time": "2022-12-20T16:40:11.480Z"
   },
   {
    "duration": 51,
    "start_time": "2022-12-20T16:40:11.529Z"
   },
   {
    "duration": 36,
    "start_time": "2022-12-20T16:40:11.582Z"
   },
   {
    "duration": 68,
    "start_time": "2022-12-20T16:40:11.621Z"
   },
   {
    "duration": 4,
    "start_time": "2022-12-20T16:40:11.691Z"
   },
   {
    "duration": 9,
    "start_time": "2022-12-20T16:40:11.697Z"
   },
   {
    "duration": 8,
    "start_time": "2022-12-20T16:40:11.707Z"
   },
   {
    "duration": 4,
    "start_time": "2022-12-20T16:40:27.465Z"
   },
   {
    "duration": 4,
    "start_time": "2022-12-20T16:40:46.949Z"
   },
   {
    "duration": 28,
    "start_time": "2022-12-20T16:41:37.556Z"
   },
   {
    "duration": 3,
    "start_time": "2022-12-20T16:44:30.643Z"
   },
   {
    "duration": 4,
    "start_time": "2022-12-20T16:44:42.785Z"
   },
   {
    "duration": 7,
    "start_time": "2022-12-20T17:06:50.771Z"
   },
   {
    "duration": 9,
    "start_time": "2022-12-20T17:10:00.568Z"
   },
   {
    "duration": 104,
    "start_time": "2022-12-20T17:17:00.906Z"
   },
   {
    "duration": 5,
    "start_time": "2022-12-20T17:17:25.809Z"
   },
   {
    "duration": 1232,
    "start_time": "2022-12-20T17:17:29.135Z"
   },
   {
    "duration": 30,
    "start_time": "2022-12-20T17:18:36.905Z"
   },
   {
    "duration": 494,
    "start_time": "2022-12-20T17:19:01.758Z"
   },
   {
    "duration": 83,
    "start_time": "2022-12-20T17:19:04.805Z"
   },
   {
    "duration": 7,
    "start_time": "2022-12-20T17:19:45.751Z"
   },
   {
    "duration": 95,
    "start_time": "2022-12-20T17:24:01.629Z"
   },
   {
    "duration": 11,
    "start_time": "2022-12-20T17:24:10.174Z"
   },
   {
    "duration": 14,
    "start_time": "2022-12-20T17:24:14.133Z"
   },
   {
    "duration": 30,
    "start_time": "2022-12-20T17:24:56.741Z"
   },
   {
    "duration": 14,
    "start_time": "2022-12-20T17:25:09.375Z"
   },
   {
    "duration": 3,
    "start_time": "2022-12-20T17:32:50.692Z"
   },
   {
    "duration": 46,
    "start_time": "2022-12-21T03:51:09.286Z"
   },
   {
    "duration": 1252,
    "start_time": "2022-12-21T03:51:17.816Z"
   },
   {
    "duration": 668,
    "start_time": "2022-12-21T03:51:19.070Z"
   },
   {
    "duration": 11,
    "start_time": "2022-12-21T03:51:19.739Z"
   },
   {
    "duration": 12,
    "start_time": "2022-12-21T03:51:19.752Z"
   },
   {
    "duration": 73,
    "start_time": "2022-12-21T03:51:19.765Z"
   },
   {
    "duration": 8,
    "start_time": "2022-12-21T03:51:19.840Z"
   },
   {
    "duration": 51,
    "start_time": "2022-12-21T03:51:19.850Z"
   },
   {
    "duration": 30,
    "start_time": "2022-12-21T03:51:19.903Z"
   },
   {
    "duration": 19,
    "start_time": "2022-12-21T03:51:19.935Z"
   },
   {
    "duration": 7,
    "start_time": "2022-12-21T03:51:19.957Z"
   },
   {
    "duration": 8,
    "start_time": "2022-12-21T03:51:19.966Z"
   },
   {
    "duration": 8,
    "start_time": "2022-12-21T03:51:19.975Z"
   },
   {
    "duration": 40,
    "start_time": "2022-12-21T03:51:19.984Z"
   },
   {
    "duration": 9,
    "start_time": "2022-12-21T03:51:20.026Z"
   },
   {
    "duration": 20,
    "start_time": "2022-12-21T03:51:20.037Z"
   },
   {
    "duration": 5,
    "start_time": "2022-12-21T03:51:20.058Z"
   },
   {
    "duration": 7,
    "start_time": "2022-12-21T03:51:20.065Z"
   },
   {
    "duration": 266,
    "start_time": "2022-12-21T03:51:20.073Z"
   },
   {
    "duration": 17,
    "start_time": "2022-12-21T03:51:20.341Z"
   },
   {
    "duration": 177,
    "start_time": "2022-12-21T03:51:20.360Z"
   },
   {
    "duration": 11,
    "start_time": "2022-12-21T03:51:20.538Z"
   },
   {
    "duration": 11,
    "start_time": "2022-12-21T03:51:20.550Z"
   },
   {
    "duration": 69,
    "start_time": "2022-12-21T03:51:20.563Z"
   },
   {
    "duration": 16,
    "start_time": "2022-12-21T03:51:20.633Z"
   },
   {
    "duration": 24,
    "start_time": "2022-12-21T03:51:20.651Z"
   },
   {
    "duration": 89,
    "start_time": "2022-12-21T03:51:20.677Z"
   },
   {
    "duration": 26,
    "start_time": "2022-12-21T03:51:20.768Z"
   },
   {
    "duration": 36,
    "start_time": "2022-12-21T03:51:20.798Z"
   },
   {
    "duration": 23,
    "start_time": "2022-12-21T03:51:20.836Z"
   },
   {
    "duration": 25,
    "start_time": "2022-12-21T03:51:20.860Z"
   },
   {
    "duration": 38,
    "start_time": "2022-12-21T03:51:20.886Z"
   },
   {
    "duration": 25,
    "start_time": "2022-12-21T03:51:20.926Z"
   },
   {
    "duration": 3,
    "start_time": "2022-12-21T03:51:20.953Z"
   },
   {
    "duration": 5,
    "start_time": "2022-12-21T03:51:20.958Z"
   },
   {
    "duration": 11,
    "start_time": "2022-12-21T03:51:20.964Z"
   },
   {
    "duration": 8,
    "start_time": "2022-12-21T03:51:20.977Z"
   },
   {
    "duration": 51,
    "start_time": "2022-12-21T03:51:20.986Z"
   },
   {
    "duration": 4,
    "start_time": "2022-12-21T03:51:21.038Z"
   },
   {
    "duration": 352,
    "start_time": "2022-12-21T03:55:46.808Z"
   },
   {
    "duration": 575,
    "start_time": "2022-12-21T03:56:19.015Z"
   },
   {
    "duration": 68,
    "start_time": "2022-12-21T03:59:34.842Z"
   },
   {
    "duration": 44,
    "start_time": "2022-12-21T03:59:50.602Z"
   },
   {
    "duration": 19,
    "start_time": "2022-12-21T04:00:01.425Z"
   },
   {
    "duration": 15,
    "start_time": "2022-12-21T04:00:06.359Z"
   },
   {
    "duration": 78,
    "start_time": "2022-12-21T04:02:59.895Z"
   },
   {
    "duration": 97,
    "start_time": "2022-12-21T04:07:56.288Z"
   },
   {
    "duration": 4,
    "start_time": "2022-12-21T04:08:36.568Z"
   },
   {
    "duration": 14,
    "start_time": "2022-12-21T04:09:51.786Z"
   },
   {
    "duration": 7,
    "start_time": "2022-12-21T04:10:41.741Z"
   },
   {
    "duration": 8,
    "start_time": "2022-12-21T04:15:09.114Z"
   },
   {
    "duration": 7,
    "start_time": "2022-12-21T04:15:18.269Z"
   },
   {
    "duration": 6,
    "start_time": "2022-12-21T04:15:26.481Z"
   },
   {
    "duration": 47,
    "start_time": "2022-12-21T04:21:23.878Z"
   },
   {
    "duration": 7,
    "start_time": "2022-12-21T04:23:01.524Z"
   },
   {
    "duration": 6,
    "start_time": "2022-12-21T04:23:39.885Z"
   },
   {
    "duration": 6,
    "start_time": "2022-12-21T04:23:52.161Z"
   },
   {
    "duration": 6,
    "start_time": "2022-12-21T04:24:02.023Z"
   },
   {
    "duration": 72,
    "start_time": "2022-12-21T04:24:51.173Z"
   },
   {
    "duration": 6,
    "start_time": "2022-12-21T04:25:50.353Z"
   },
   {
    "duration": 6,
    "start_time": "2022-12-21T04:26:09.972Z"
   },
   {
    "duration": 7,
    "start_time": "2022-12-21T04:26:22.502Z"
   },
   {
    "duration": 6,
    "start_time": "2022-12-21T04:26:40.380Z"
   },
   {
    "duration": 3,
    "start_time": "2022-12-21T04:31:11.376Z"
   },
   {
    "duration": 9,
    "start_time": "2022-12-21T04:32:20.395Z"
   },
   {
    "duration": 7,
    "start_time": "2022-12-21T04:32:32.237Z"
   },
   {
    "duration": 9,
    "start_time": "2022-12-21T04:32:40.319Z"
   },
   {
    "duration": 8,
    "start_time": "2022-12-21T04:32:49.117Z"
   },
   {
    "duration": 73,
    "start_time": "2022-12-21T04:33:53.380Z"
   },
   {
    "duration": 3,
    "start_time": "2022-12-21T04:34:39.708Z"
   },
   {
    "duration": 4,
    "start_time": "2022-12-21T04:34:56.200Z"
   },
   {
    "duration": 3,
    "start_time": "2022-12-21T04:35:33.910Z"
   },
   {
    "duration": 3,
    "start_time": "2022-12-21T04:35:39.083Z"
   },
   {
    "duration": 3,
    "start_time": "2022-12-21T04:35:53.395Z"
   },
   {
    "duration": 1068,
    "start_time": "2022-12-21T05:23:11.499Z"
   },
   {
    "duration": 143,
    "start_time": "2022-12-21T05:23:12.569Z"
   },
   {
    "duration": 11,
    "start_time": "2022-12-21T05:23:12.714Z"
   },
   {
    "duration": 9,
    "start_time": "2022-12-21T05:23:12.727Z"
   },
   {
    "duration": 94,
    "start_time": "2022-12-21T05:23:12.737Z"
   },
   {
    "duration": 9,
    "start_time": "2022-12-21T05:23:12.833Z"
   },
   {
    "duration": 46,
    "start_time": "2022-12-21T05:23:12.844Z"
   },
   {
    "duration": 35,
    "start_time": "2022-12-21T05:23:12.892Z"
   },
   {
    "duration": 18,
    "start_time": "2022-12-21T05:23:12.928Z"
   },
   {
    "duration": 7,
    "start_time": "2022-12-21T05:23:12.950Z"
   },
   {
    "duration": 9,
    "start_time": "2022-12-21T05:23:12.958Z"
   },
   {
    "duration": 8,
    "start_time": "2022-12-21T05:23:12.968Z"
   },
   {
    "duration": 11,
    "start_time": "2022-12-21T05:23:12.978Z"
   },
   {
    "duration": 39,
    "start_time": "2022-12-21T05:23:12.991Z"
   },
   {
    "duration": 17,
    "start_time": "2022-12-21T05:23:13.031Z"
   },
   {
    "duration": 5,
    "start_time": "2022-12-21T05:23:13.050Z"
   },
   {
    "duration": 5,
    "start_time": "2022-12-21T05:23:13.056Z"
   },
   {
    "duration": 276,
    "start_time": "2022-12-21T05:23:13.063Z"
   },
   {
    "duration": 16,
    "start_time": "2022-12-21T05:23:13.340Z"
   },
   {
    "duration": 181,
    "start_time": "2022-12-21T05:23:13.358Z"
   },
   {
    "duration": 11,
    "start_time": "2022-12-21T05:23:13.541Z"
   },
   {
    "duration": 9,
    "start_time": "2022-12-21T05:23:13.553Z"
   },
   {
    "duration": 80,
    "start_time": "2022-12-21T05:23:13.564Z"
   },
   {
    "duration": 17,
    "start_time": "2022-12-21T05:23:13.646Z"
   },
   {
    "duration": 22,
    "start_time": "2022-12-21T05:23:13.664Z"
   },
   {
    "duration": 97,
    "start_time": "2022-12-21T05:23:13.687Z"
   },
   {
    "duration": 38,
    "start_time": "2022-12-21T05:23:13.786Z"
   },
   {
    "duration": 22,
    "start_time": "2022-12-21T05:23:13.828Z"
   },
   {
    "duration": 27,
    "start_time": "2022-12-21T05:23:13.852Z"
   },
   {
    "duration": 42,
    "start_time": "2022-12-21T05:23:13.881Z"
   },
   {
    "duration": 16,
    "start_time": "2022-12-21T05:23:13.924Z"
   },
   {
    "duration": 23,
    "start_time": "2022-12-21T05:23:13.942Z"
   },
   {
    "duration": 3,
    "start_time": "2022-12-21T05:23:13.966Z"
   },
   {
    "duration": 5,
    "start_time": "2022-12-21T05:23:13.970Z"
   },
   {
    "duration": 6,
    "start_time": "2022-12-21T05:23:13.976Z"
   },
   {
    "duration": 5,
    "start_time": "2022-12-21T05:23:13.984Z"
   },
   {
    "duration": 32,
    "start_time": "2022-12-21T05:23:14.022Z"
   },
   {
    "duration": 136,
    "start_time": "2022-12-21T05:23:14.057Z"
   },
   {
    "duration": 9,
    "start_time": "2022-12-21T05:23:14.195Z"
   },
   {
    "duration": 18,
    "start_time": "2022-12-21T05:23:14.206Z"
   },
   {
    "duration": 14,
    "start_time": "2022-12-21T05:23:14.226Z"
   },
   {
    "duration": 20,
    "start_time": "2022-12-21T05:23:14.242Z"
   },
   {
    "duration": 63,
    "start_time": "2022-12-21T05:23:14.264Z"
   },
   {
    "duration": 7,
    "start_time": "2022-12-21T05:23:14.329Z"
   },
   {
    "duration": 10,
    "start_time": "2022-12-21T05:23:14.338Z"
   },
   {
    "duration": 13,
    "start_time": "2022-12-21T05:23:14.350Z"
   },
   {
    "duration": 13,
    "start_time": "2022-12-21T05:23:14.365Z"
   },
   {
    "duration": 10,
    "start_time": "2022-12-21T05:23:14.379Z"
   },
   {
    "duration": 12,
    "start_time": "2022-12-21T05:23:14.390Z"
   },
   {
    "duration": 25,
    "start_time": "2022-12-21T05:23:14.404Z"
   },
   {
    "duration": 12,
    "start_time": "2022-12-21T05:23:14.430Z"
   },
   {
    "duration": 8,
    "start_time": "2022-12-21T05:23:14.444Z"
   },
   {
    "duration": 18,
    "start_time": "2022-12-21T05:23:14.454Z"
   },
   {
    "duration": 15,
    "start_time": "2022-12-21T05:23:14.474Z"
   },
   {
    "duration": 11,
    "start_time": "2022-12-21T05:23:14.490Z"
   },
   {
    "duration": 12,
    "start_time": "2022-12-21T05:23:14.503Z"
   },
   {
    "duration": 9,
    "start_time": "2022-12-21T05:23:14.522Z"
   },
   {
    "duration": 10,
    "start_time": "2022-12-21T05:23:14.533Z"
   },
   {
    "duration": 9,
    "start_time": "2022-12-21T05:23:14.545Z"
   },
   {
    "duration": 5,
    "start_time": "2022-12-21T05:23:14.556Z"
   },
   {
    "duration": 10,
    "start_time": "2022-12-21T05:45:38.427Z"
   },
   {
    "duration": 69,
    "start_time": "2022-12-21T06:02:52.155Z"
   },
   {
    "duration": 71,
    "start_time": "2022-12-21T06:03:51.568Z"
   },
   {
    "duration": 1224,
    "start_time": "2022-12-21T06:04:11.940Z"
   },
   {
    "duration": 732,
    "start_time": "2022-12-21T06:04:13.166Z"
   },
   {
    "duration": 14,
    "start_time": "2022-12-21T06:04:13.900Z"
   },
   {
    "duration": 10,
    "start_time": "2022-12-21T06:04:13.917Z"
   },
   {
    "duration": 76,
    "start_time": "2022-12-21T06:04:13.928Z"
   },
   {
    "duration": 17,
    "start_time": "2022-12-21T06:04:14.006Z"
   },
   {
    "duration": 74,
    "start_time": "2022-12-21T06:04:14.025Z"
   },
   {
    "duration": 31,
    "start_time": "2022-12-21T06:04:14.102Z"
   },
   {
    "duration": 94,
    "start_time": "2022-12-21T06:04:14.135Z"
   },
   {
    "duration": 0,
    "start_time": "2022-12-21T06:04:14.232Z"
   },
   {
    "duration": 0,
    "start_time": "2022-12-21T06:04:14.233Z"
   },
   {
    "duration": 0,
    "start_time": "2022-12-21T06:04:14.235Z"
   },
   {
    "duration": 0,
    "start_time": "2022-12-21T06:04:14.236Z"
   },
   {
    "duration": 0,
    "start_time": "2022-12-21T06:04:14.238Z"
   },
   {
    "duration": 0,
    "start_time": "2022-12-21T06:04:14.239Z"
   },
   {
    "duration": 0,
    "start_time": "2022-12-21T06:04:14.240Z"
   },
   {
    "duration": 0,
    "start_time": "2022-12-21T06:04:14.242Z"
   },
   {
    "duration": 0,
    "start_time": "2022-12-21T06:04:14.244Z"
   },
   {
    "duration": 0,
    "start_time": "2022-12-21T06:04:14.246Z"
   },
   {
    "duration": 0,
    "start_time": "2022-12-21T06:04:14.248Z"
   },
   {
    "duration": 0,
    "start_time": "2022-12-21T06:04:14.249Z"
   },
   {
    "duration": 0,
    "start_time": "2022-12-21T06:04:14.251Z"
   },
   {
    "duration": 0,
    "start_time": "2022-12-21T06:04:14.253Z"
   },
   {
    "duration": 0,
    "start_time": "2022-12-21T06:04:14.254Z"
   },
   {
    "duration": 0,
    "start_time": "2022-12-21T06:04:14.256Z"
   },
   {
    "duration": 0,
    "start_time": "2022-12-21T06:04:14.257Z"
   },
   {
    "duration": 0,
    "start_time": "2022-12-21T06:04:14.259Z"
   },
   {
    "duration": 0,
    "start_time": "2022-12-21T06:04:14.261Z"
   },
   {
    "duration": 0,
    "start_time": "2022-12-21T06:04:14.262Z"
   },
   {
    "duration": 0,
    "start_time": "2022-12-21T06:04:14.263Z"
   },
   {
    "duration": 0,
    "start_time": "2022-12-21T06:04:14.265Z"
   },
   {
    "duration": 0,
    "start_time": "2022-12-21T06:04:14.266Z"
   },
   {
    "duration": 0,
    "start_time": "2022-12-21T06:04:14.268Z"
   },
   {
    "duration": 0,
    "start_time": "2022-12-21T06:04:14.269Z"
   },
   {
    "duration": 0,
    "start_time": "2022-12-21T06:04:14.271Z"
   },
   {
    "duration": 0,
    "start_time": "2022-12-21T06:04:14.323Z"
   },
   {
    "duration": 0,
    "start_time": "2022-12-21T06:04:14.325Z"
   },
   {
    "duration": 0,
    "start_time": "2022-12-21T06:04:14.326Z"
   },
   {
    "duration": 0,
    "start_time": "2022-12-21T06:04:14.327Z"
   },
   {
    "duration": 0,
    "start_time": "2022-12-21T06:04:14.328Z"
   },
   {
    "duration": 0,
    "start_time": "2022-12-21T06:04:14.329Z"
   },
   {
    "duration": 0,
    "start_time": "2022-12-21T06:04:14.331Z"
   },
   {
    "duration": 0,
    "start_time": "2022-12-21T06:04:14.332Z"
   },
   {
    "duration": 0,
    "start_time": "2022-12-21T06:04:14.333Z"
   },
   {
    "duration": 0,
    "start_time": "2022-12-21T06:04:14.335Z"
   },
   {
    "duration": 0,
    "start_time": "2022-12-21T06:04:14.336Z"
   },
   {
    "duration": 0,
    "start_time": "2022-12-21T06:04:14.337Z"
   },
   {
    "duration": 0,
    "start_time": "2022-12-21T06:04:14.339Z"
   },
   {
    "duration": 0,
    "start_time": "2022-12-21T06:04:14.340Z"
   },
   {
    "duration": 0,
    "start_time": "2022-12-21T06:04:14.342Z"
   },
   {
    "duration": 0,
    "start_time": "2022-12-21T06:04:14.344Z"
   },
   {
    "duration": 0,
    "start_time": "2022-12-21T06:04:14.346Z"
   },
   {
    "duration": 0,
    "start_time": "2022-12-21T06:04:14.347Z"
   },
   {
    "duration": 0,
    "start_time": "2022-12-21T06:04:14.348Z"
   },
   {
    "duration": 0,
    "start_time": "2022-12-21T06:04:14.349Z"
   },
   {
    "duration": 0,
    "start_time": "2022-12-21T06:04:14.351Z"
   },
   {
    "duration": 0,
    "start_time": "2022-12-21T06:04:14.353Z"
   },
   {
    "duration": 0,
    "start_time": "2022-12-21T06:04:14.355Z"
   },
   {
    "duration": 94,
    "start_time": "2022-12-21T06:04:30.003Z"
   },
   {
    "duration": 72,
    "start_time": "2022-12-21T06:04:38.853Z"
   },
   {
    "duration": 76,
    "start_time": "2022-12-21T06:05:03.317Z"
   },
   {
    "duration": 65,
    "start_time": "2022-12-21T06:05:37.353Z"
   },
   {
    "duration": 75,
    "start_time": "2022-12-21T06:05:50.708Z"
   },
   {
    "duration": 1111,
    "start_time": "2022-12-21T06:07:07.942Z"
   },
   {
    "duration": 202,
    "start_time": "2022-12-21T06:07:09.054Z"
   },
   {
    "duration": 12,
    "start_time": "2022-12-21T06:07:09.258Z"
   },
   {
    "duration": 8,
    "start_time": "2022-12-21T06:07:09.272Z"
   },
   {
    "duration": 78,
    "start_time": "2022-12-21T06:07:09.281Z"
   },
   {
    "duration": 9,
    "start_time": "2022-12-21T06:07:09.360Z"
   },
   {
    "duration": 57,
    "start_time": "2022-12-21T06:07:09.371Z"
   },
   {
    "duration": 19,
    "start_time": "2022-12-21T06:07:09.430Z"
   },
   {
    "duration": 10,
    "start_time": "2022-12-21T06:07:09.451Z"
   },
   {
    "duration": 14,
    "start_time": "2022-12-21T06:07:09.464Z"
   },
   {
    "duration": 14,
    "start_time": "2022-12-21T06:07:09.479Z"
   },
   {
    "duration": 15,
    "start_time": "2022-12-21T06:07:09.523Z"
   },
   {
    "duration": 4,
    "start_time": "2022-12-21T06:07:09.540Z"
   },
   {
    "duration": 5,
    "start_time": "2022-12-21T06:07:09.545Z"
   },
   {
    "duration": 264,
    "start_time": "2022-12-21T06:07:09.552Z"
   },
   {
    "duration": 27,
    "start_time": "2022-12-21T06:07:09.817Z"
   },
   {
    "duration": 195,
    "start_time": "2022-12-21T06:07:09.846Z"
   },
   {
    "duration": 11,
    "start_time": "2022-12-21T06:07:10.043Z"
   },
   {
    "duration": 19,
    "start_time": "2022-12-21T06:07:10.056Z"
   },
   {
    "duration": 64,
    "start_time": "2022-12-21T06:07:10.077Z"
   },
   {
    "duration": 15,
    "start_time": "2022-12-21T06:07:10.143Z"
   },
   {
    "duration": 21,
    "start_time": "2022-12-21T06:07:10.159Z"
   },
   {
    "duration": 84,
    "start_time": "2022-12-21T06:07:10.182Z"
   },
   {
    "duration": 25,
    "start_time": "2022-12-21T06:07:10.267Z"
   },
   {
    "duration": 32,
    "start_time": "2022-12-21T06:07:10.294Z"
   },
   {
    "duration": 22,
    "start_time": "2022-12-21T06:07:10.328Z"
   },
   {
    "duration": 20,
    "start_time": "2022-12-21T06:07:10.351Z"
   },
   {
    "duration": 19,
    "start_time": "2022-12-21T06:07:10.375Z"
   },
   {
    "duration": 52,
    "start_time": "2022-12-21T06:07:10.395Z"
   },
   {
    "duration": 3,
    "start_time": "2022-12-21T06:07:10.448Z"
   },
   {
    "duration": 7,
    "start_time": "2022-12-21T06:07:10.453Z"
   },
   {
    "duration": 5,
    "start_time": "2022-12-21T06:07:10.462Z"
   },
   {
    "duration": 9,
    "start_time": "2022-12-21T06:07:10.469Z"
   },
   {
    "duration": 67,
    "start_time": "2022-12-21T06:07:10.479Z"
   },
   {
    "duration": 115,
    "start_time": "2022-12-21T06:07:10.548Z"
   },
   {
    "duration": 8,
    "start_time": "2022-12-21T06:07:10.664Z"
   },
   {
    "duration": 10,
    "start_time": "2022-12-21T06:07:10.674Z"
   },
   {
    "duration": 14,
    "start_time": "2022-12-21T06:07:10.685Z"
   },
   {
    "duration": 26,
    "start_time": "2022-12-21T06:07:10.701Z"
   },
   {
    "duration": 68,
    "start_time": "2022-12-21T06:07:10.729Z"
   },
   {
    "duration": 6,
    "start_time": "2022-12-21T06:07:10.799Z"
   },
   {
    "duration": 7,
    "start_time": "2022-12-21T06:07:10.821Z"
   },
   {
    "duration": 9,
    "start_time": "2022-12-21T06:07:10.830Z"
   },
   {
    "duration": 9,
    "start_time": "2022-12-21T06:07:10.840Z"
   },
   {
    "duration": 10,
    "start_time": "2022-12-21T06:07:10.850Z"
   },
   {
    "duration": 9,
    "start_time": "2022-12-21T06:07:10.861Z"
   },
   {
    "duration": 9,
    "start_time": "2022-12-21T06:07:10.871Z"
   },
   {
    "duration": 9,
    "start_time": "2022-12-21T06:07:10.881Z"
   },
   {
    "duration": 3,
    "start_time": "2022-12-21T06:07:10.922Z"
   },
   {
    "duration": 9,
    "start_time": "2022-12-21T06:07:10.927Z"
   },
   {
    "duration": 13,
    "start_time": "2022-12-21T06:07:10.938Z"
   },
   {
    "duration": 13,
    "start_time": "2022-12-21T06:07:10.953Z"
   },
   {
    "duration": 14,
    "start_time": "2022-12-21T06:07:10.968Z"
   },
   {
    "duration": 14,
    "start_time": "2022-12-21T06:07:10.984Z"
   },
   {
    "duration": 7,
    "start_time": "2022-12-21T06:07:11.000Z"
   },
   {
    "duration": 3,
    "start_time": "2022-12-21T06:07:11.023Z"
   },
   {
    "duration": 6,
    "start_time": "2022-12-21T06:07:11.027Z"
   },
   {
    "duration": 8,
    "start_time": "2022-12-21T06:08:27.471Z"
   },
   {
    "duration": 7,
    "start_time": "2022-12-21T06:08:36.856Z"
   },
   {
    "duration": 29,
    "start_time": "2022-12-21T06:39:31.663Z"
   },
   {
    "duration": 29,
    "start_time": "2022-12-21T06:40:52.865Z"
   },
   {
    "duration": 47,
    "start_time": "2022-12-21T06:40:59.409Z"
   },
   {
    "duration": 15,
    "start_time": "2022-12-21T06:41:19.290Z"
   },
   {
    "duration": 173,
    "start_time": "2022-12-21T06:41:51.380Z"
   },
   {
    "duration": 179,
    "start_time": "2022-12-21T06:42:14.888Z"
   },
   {
    "duration": 141,
    "start_time": "2022-12-21T06:42:27.171Z"
   },
   {
    "duration": 7,
    "start_time": "2022-12-21T06:42:30.416Z"
   },
   {
    "duration": 65,
    "start_time": "2022-12-21T06:42:31.686Z"
   },
   {
    "duration": 46,
    "start_time": "2022-12-21T06:42:35.477Z"
   },
   {
    "duration": 11,
    "start_time": "2022-12-21T06:42:38.546Z"
   },
   {
    "duration": 9,
    "start_time": "2022-12-21T06:42:42.496Z"
   },
   {
    "duration": 11,
    "start_time": "2022-12-21T06:42:57.008Z"
   },
   {
    "duration": 8,
    "start_time": "2022-12-21T06:43:03.730Z"
   },
   {
    "duration": 4,
    "start_time": "2022-12-21T06:43:10.545Z"
   },
   {
    "duration": 5,
    "start_time": "2022-12-21T06:43:11.236Z"
   },
   {
    "duration": 173,
    "start_time": "2022-12-21T06:43:12.176Z"
   },
   {
    "duration": 16,
    "start_time": "2022-12-21T06:44:56.555Z"
   },
   {
    "duration": 191,
    "start_time": "2022-12-21T06:44:56.984Z"
   },
   {
    "duration": 1304,
    "start_time": "2022-12-22T03:50:09.004Z"
   },
   {
    "duration": 500,
    "start_time": "2022-12-22T03:50:10.310Z"
   },
   {
    "duration": 14,
    "start_time": "2022-12-22T03:50:10.811Z"
   },
   {
    "duration": 9,
    "start_time": "2022-12-22T03:50:10.827Z"
   },
   {
    "duration": 89,
    "start_time": "2022-12-22T03:50:10.838Z"
   },
   {
    "duration": 11,
    "start_time": "2022-12-22T03:50:10.929Z"
   },
   {
    "duration": 46,
    "start_time": "2022-12-22T03:50:10.941Z"
   },
   {
    "duration": 41,
    "start_time": "2022-12-22T03:50:10.989Z"
   },
   {
    "duration": 11,
    "start_time": "2022-12-22T03:50:11.031Z"
   },
   {
    "duration": 11,
    "start_time": "2022-12-22T03:50:11.045Z"
   },
   {
    "duration": 18,
    "start_time": "2022-12-22T03:50:11.058Z"
   },
   {
    "duration": 5,
    "start_time": "2022-12-22T03:50:11.111Z"
   },
   {
    "duration": 9,
    "start_time": "2022-12-22T03:50:11.118Z"
   },
   {
    "duration": 275,
    "start_time": "2022-12-22T03:50:11.130Z"
   },
   {
    "duration": 22,
    "start_time": "2022-12-22T03:50:11.411Z"
   },
   {
    "duration": 190,
    "start_time": "2022-12-22T03:50:11.435Z"
   },
   {
    "duration": 11,
    "start_time": "2022-12-22T03:50:11.627Z"
   },
   {
    "duration": 9,
    "start_time": "2022-12-22T03:50:11.640Z"
   },
   {
    "duration": 81,
    "start_time": "2022-12-22T03:50:11.650Z"
   },
   {
    "duration": 16,
    "start_time": "2022-12-22T03:50:11.733Z"
   },
   {
    "duration": 21,
    "start_time": "2022-12-22T03:50:11.750Z"
   },
   {
    "duration": 89,
    "start_time": "2022-12-22T03:50:11.772Z"
   },
   {
    "duration": 26,
    "start_time": "2022-12-22T03:50:11.862Z"
   },
   {
    "duration": 36,
    "start_time": "2022-12-22T03:50:11.889Z"
   },
   {
    "duration": 22,
    "start_time": "2022-12-22T03:50:11.927Z"
   },
   {
    "duration": 20,
    "start_time": "2022-12-22T03:50:11.951Z"
   },
   {
    "duration": 43,
    "start_time": "2022-12-22T03:50:11.973Z"
   },
   {
    "duration": 25,
    "start_time": "2022-12-22T03:50:12.018Z"
   },
   {
    "duration": 3,
    "start_time": "2022-12-22T03:50:12.045Z"
   },
   {
    "duration": 9,
    "start_time": "2022-12-22T03:50:12.049Z"
   },
   {
    "duration": 9,
    "start_time": "2022-12-22T03:50:12.059Z"
   },
   {
    "duration": 4,
    "start_time": "2022-12-22T03:50:12.070Z"
   },
   {
    "duration": 54,
    "start_time": "2022-12-22T03:50:12.076Z"
   },
   {
    "duration": 116,
    "start_time": "2022-12-22T03:50:12.132Z"
   },
   {
    "duration": 7,
    "start_time": "2022-12-22T03:50:12.250Z"
   },
   {
    "duration": 9,
    "start_time": "2022-12-22T03:50:12.259Z"
   },
   {
    "duration": 9,
    "start_time": "2022-12-22T03:50:12.269Z"
   },
   {
    "duration": 9,
    "start_time": "2022-12-22T03:50:12.279Z"
   },
   {
    "duration": 77,
    "start_time": "2022-12-22T03:50:12.290Z"
   },
   {
    "duration": 8,
    "start_time": "2022-12-22T03:50:12.369Z"
   },
   {
    "duration": 7,
    "start_time": "2022-12-22T03:50:12.382Z"
   },
   {
    "duration": 25,
    "start_time": "2022-12-22T03:50:12.391Z"
   },
   {
    "duration": 10,
    "start_time": "2022-12-22T03:50:12.418Z"
   },
   {
    "duration": 8,
    "start_time": "2022-12-22T03:50:12.430Z"
   },
   {
    "duration": 9,
    "start_time": "2022-12-22T03:50:12.440Z"
   },
   {
    "duration": 8,
    "start_time": "2022-12-22T03:50:12.451Z"
   },
   {
    "duration": 8,
    "start_time": "2022-12-22T03:50:12.461Z"
   },
   {
    "duration": 6,
    "start_time": "2022-12-22T03:50:12.470Z"
   },
   {
    "duration": 36,
    "start_time": "2022-12-22T03:50:12.478Z"
   },
   {
    "duration": 10,
    "start_time": "2022-12-22T03:50:12.516Z"
   },
   {
    "duration": 17,
    "start_time": "2022-12-22T03:50:12.527Z"
   },
   {
    "duration": 14,
    "start_time": "2022-12-22T03:50:12.546Z"
   },
   {
    "duration": 17,
    "start_time": "2022-12-22T03:50:12.561Z"
   },
   {
    "duration": 11,
    "start_time": "2022-12-22T03:50:12.580Z"
   },
   {
    "duration": 8,
    "start_time": "2022-12-22T03:50:12.592Z"
   },
   {
    "duration": 10,
    "start_time": "2022-12-22T03:50:12.602Z"
   },
   {
    "duration": 1220,
    "start_time": "2022-12-23T03:20:21.268Z"
   },
   {
    "duration": 481,
    "start_time": "2022-12-23T03:20:22.490Z"
   },
   {
    "duration": 12,
    "start_time": "2022-12-23T03:20:22.973Z"
   },
   {
    "duration": 15,
    "start_time": "2022-12-23T03:20:22.987Z"
   },
   {
    "duration": 81,
    "start_time": "2022-12-23T03:20:23.004Z"
   },
   {
    "duration": 9,
    "start_time": "2022-12-23T03:20:23.086Z"
   },
   {
    "duration": 83,
    "start_time": "2022-12-23T03:20:23.097Z"
   },
   {
    "duration": 21,
    "start_time": "2022-12-23T03:20:23.182Z"
   },
   {
    "duration": 15,
    "start_time": "2022-12-23T03:20:23.205Z"
   },
   {
    "duration": 20,
    "start_time": "2022-12-23T03:20:23.223Z"
   },
   {
    "duration": 25,
    "start_time": "2022-12-23T03:20:23.244Z"
   },
   {
    "duration": 5,
    "start_time": "2022-12-23T03:20:23.271Z"
   },
   {
    "duration": 16,
    "start_time": "2022-12-23T03:20:23.277Z"
   },
   {
    "duration": 270,
    "start_time": "2022-12-23T03:20:23.295Z"
   },
   {
    "duration": 21,
    "start_time": "2022-12-23T03:20:23.566Z"
   },
   {
    "duration": 195,
    "start_time": "2022-12-23T03:20:23.589Z"
   },
   {
    "duration": 11,
    "start_time": "2022-12-23T03:20:23.786Z"
   },
   {
    "duration": 18,
    "start_time": "2022-12-23T03:20:23.798Z"
   },
   {
    "duration": 57,
    "start_time": "2022-12-23T03:20:23.818Z"
   },
   {
    "duration": 38,
    "start_time": "2022-12-23T03:20:23.877Z"
   },
   {
    "duration": 22,
    "start_time": "2022-12-23T03:20:23.917Z"
   },
   {
    "duration": 80,
    "start_time": "2022-12-23T03:20:23.941Z"
   },
   {
    "duration": 25,
    "start_time": "2022-12-23T03:20:24.023Z"
   },
   {
    "duration": 23,
    "start_time": "2022-12-23T03:20:24.049Z"
   },
   {
    "duration": 45,
    "start_time": "2022-12-23T03:20:24.074Z"
   },
   {
    "duration": 22,
    "start_time": "2022-12-23T03:20:24.121Z"
   },
   {
    "duration": 18,
    "start_time": "2022-12-23T03:20:24.144Z"
   },
   {
    "duration": 49,
    "start_time": "2022-12-23T03:20:24.166Z"
   },
   {
    "duration": 3,
    "start_time": "2022-12-23T03:20:24.217Z"
   },
   {
    "duration": 7,
    "start_time": "2022-12-23T03:20:24.222Z"
   },
   {
    "duration": 9,
    "start_time": "2022-12-23T03:20:24.230Z"
   },
   {
    "duration": 7,
    "start_time": "2022-12-23T03:20:24.241Z"
   },
   {
    "duration": 34,
    "start_time": "2022-12-23T03:20:24.250Z"
   },
   {
    "duration": 127,
    "start_time": "2022-12-23T03:20:24.286Z"
   },
   {
    "duration": 7,
    "start_time": "2022-12-23T03:20:24.415Z"
   },
   {
    "duration": 10,
    "start_time": "2022-12-23T03:20:24.423Z"
   },
   {
    "duration": 8,
    "start_time": "2022-12-23T03:20:24.434Z"
   },
   {
    "duration": 8,
    "start_time": "2022-12-23T03:20:24.444Z"
   },
   {
    "duration": 87,
    "start_time": "2022-12-23T03:20:24.453Z"
   },
   {
    "duration": 8,
    "start_time": "2022-12-23T03:20:24.542Z"
   },
   {
    "duration": 12,
    "start_time": "2022-12-23T03:20:24.552Z"
   },
   {
    "duration": 9,
    "start_time": "2022-12-23T03:20:24.566Z"
   },
   {
    "duration": 13,
    "start_time": "2022-12-23T03:20:24.576Z"
   },
   {
    "duration": 30,
    "start_time": "2022-12-23T03:20:24.591Z"
   },
   {
    "duration": 11,
    "start_time": "2022-12-23T03:20:24.623Z"
   },
   {
    "duration": 13,
    "start_time": "2022-12-23T03:20:24.635Z"
   },
   {
    "duration": 9,
    "start_time": "2022-12-23T03:20:24.650Z"
   },
   {
    "duration": 10,
    "start_time": "2022-12-23T03:20:24.661Z"
   },
   {
    "duration": 12,
    "start_time": "2022-12-23T03:20:24.673Z"
   },
   {
    "duration": 15,
    "start_time": "2022-12-23T03:20:24.686Z"
   },
   {
    "duration": 8,
    "start_time": "2022-12-23T03:20:24.711Z"
   },
   {
    "duration": 10,
    "start_time": "2022-12-23T03:20:24.721Z"
   },
   {
    "duration": 8,
    "start_time": "2022-12-23T03:20:24.733Z"
   },
   {
    "duration": 10,
    "start_time": "2022-12-23T03:20:24.743Z"
   },
   {
    "duration": 5,
    "start_time": "2022-12-23T03:20:24.755Z"
   },
   {
    "duration": 6,
    "start_time": "2022-12-23T03:20:24.762Z"
   },
   {
    "duration": 5,
    "start_time": "2022-12-23T03:28:03.344Z"
   },
   {
    "duration": 36,
    "start_time": "2022-12-23T03:28:09.816Z"
   },
   {
    "duration": 5,
    "start_time": "2022-12-23T03:28:31.177Z"
   },
   {
    "duration": 43,
    "start_time": "2022-12-23T03:28:33.432Z"
   },
   {
    "duration": 44,
    "start_time": "2022-12-23T03:47:41.852Z"
   },
   {
    "duration": 4,
    "start_time": "2022-12-23T03:48:21.863Z"
   },
   {
    "duration": 106,
    "start_time": "2022-12-23T03:51:56.874Z"
   },
   {
    "duration": 5,
    "start_time": "2022-12-23T03:52:30.974Z"
   },
   {
    "duration": 11,
    "start_time": "2022-12-23T03:52:31.578Z"
   },
   {
    "duration": 11,
    "start_time": "2022-12-23T03:52:38.290Z"
   },
   {
    "duration": 5,
    "start_time": "2022-12-23T03:52:43.225Z"
   },
   {
    "duration": 18,
    "start_time": "2022-12-23T03:52:43.836Z"
   },
   {
    "duration": 5,
    "start_time": "2022-12-23T03:54:08.387Z"
   },
   {
    "duration": 6,
    "start_time": "2022-12-23T03:54:09.136Z"
   },
   {
    "duration": 9,
    "start_time": "2022-12-23T03:55:59.898Z"
   },
   {
    "duration": 8,
    "start_time": "2022-12-23T03:58:54.741Z"
   },
   {
    "duration": 12,
    "start_time": "2022-12-23T03:59:20.105Z"
   },
   {
    "duration": 14,
    "start_time": "2022-12-23T03:59:56.637Z"
   },
   {
    "duration": 10,
    "start_time": "2022-12-23T04:00:24.734Z"
   },
   {
    "duration": 8,
    "start_time": "2022-12-23T04:00:47.365Z"
   },
   {
    "duration": 9,
    "start_time": "2022-12-23T04:01:05.847Z"
   },
   {
    "duration": 10,
    "start_time": "2022-12-23T04:01:17.230Z"
   },
   {
    "duration": 291,
    "start_time": "2022-12-23T04:09:13.477Z"
   },
   {
    "duration": 290,
    "start_time": "2022-12-23T04:09:22.234Z"
   },
   {
    "duration": 156,
    "start_time": "2022-12-23T04:09:49.842Z"
   },
   {
    "duration": 6,
    "start_time": "2022-12-23T04:09:57.679Z"
   },
   {
    "duration": 74,
    "start_time": "2022-12-23T04:09:58.241Z"
   },
   {
    "duration": 400,
    "start_time": "2022-12-23T04:10:10.653Z"
   },
   {
    "duration": 183,
    "start_time": "2022-12-23T04:10:15.244Z"
   },
   {
    "duration": 281,
    "start_time": "2022-12-23T04:10:15.786Z"
   },
   {
    "duration": 48,
    "start_time": "2022-12-23T04:10:33.371Z"
   },
   {
    "duration": 20,
    "start_time": "2022-12-23T04:10:33.960Z"
   },
   {
    "duration": 16,
    "start_time": "2022-12-23T04:10:42.694Z"
   },
   {
    "duration": 276,
    "start_time": "2022-12-23T04:10:44.223Z"
   },
   {
    "duration": 1511,
    "start_time": "2022-12-23T04:11:34.063Z"
   },
   {
    "duration": 147,
    "start_time": "2022-12-23T04:12:12.876Z"
   },
   {
    "duration": 6,
    "start_time": "2022-12-23T04:12:15.170Z"
   },
   {
    "duration": 74,
    "start_time": "2022-12-23T04:12:16.893Z"
   },
   {
    "duration": 48,
    "start_time": "2022-12-23T04:12:19.749Z"
   },
   {
    "duration": 19,
    "start_time": "2022-12-23T04:12:20.389Z"
   },
   {
    "duration": 274,
    "start_time": "2022-12-23T04:12:26.849Z"
   },
   {
    "duration": 14,
    "start_time": "2022-12-23T04:12:37.537Z"
   },
   {
    "duration": 288,
    "start_time": "2022-12-23T04:12:38.209Z"
   },
   {
    "duration": 59,
    "start_time": "2022-12-23T04:15:56.161Z"
   },
   {
    "duration": 55,
    "start_time": "2022-12-23T04:17:03.730Z"
   },
   {
    "duration": 60,
    "start_time": "2022-12-23T04:18:52.277Z"
   },
   {
    "duration": 50,
    "start_time": "2022-12-23T04:19:30.442Z"
   },
   {
    "duration": 43,
    "start_time": "2022-12-23T04:19:59.114Z"
   },
   {
    "duration": 106,
    "start_time": "2022-12-23T04:20:06.695Z"
   },
   {
    "duration": 51,
    "start_time": "2022-12-23T04:20:52.796Z"
   },
   {
    "duration": 1226,
    "start_time": "2022-12-23T05:46:10.053Z"
   },
   {
    "duration": 685,
    "start_time": "2022-12-23T05:46:11.281Z"
   },
   {
    "duration": 13,
    "start_time": "2022-12-23T05:46:11.968Z"
   },
   {
    "duration": 14,
    "start_time": "2022-12-23T05:46:11.984Z"
   },
   {
    "duration": 125,
    "start_time": "2022-12-23T05:46:12.000Z"
   },
   {
    "duration": 12,
    "start_time": "2022-12-23T05:46:12.127Z"
   },
   {
    "duration": 65,
    "start_time": "2022-12-23T05:46:12.141Z"
   },
   {
    "duration": 21,
    "start_time": "2022-12-23T05:46:12.208Z"
   },
   {
    "duration": 19,
    "start_time": "2022-12-23T05:46:12.232Z"
   },
   {
    "duration": 12,
    "start_time": "2022-12-23T05:46:12.253Z"
   },
   {
    "duration": 20,
    "start_time": "2022-12-23T05:46:12.267Z"
   },
   {
    "duration": 11,
    "start_time": "2022-12-23T05:46:12.304Z"
   },
   {
    "duration": 5,
    "start_time": "2022-12-23T05:46:12.317Z"
   },
   {
    "duration": 360,
    "start_time": "2022-12-23T05:46:12.324Z"
   },
   {
    "duration": 31,
    "start_time": "2022-12-23T05:46:12.685Z"
   },
   {
    "duration": 273,
    "start_time": "2022-12-23T05:46:12.718Z"
   },
   {
    "duration": 16,
    "start_time": "2022-12-23T05:46:12.992Z"
   },
   {
    "duration": 9,
    "start_time": "2022-12-23T05:46:13.010Z"
   },
   {
    "duration": 55,
    "start_time": "2022-12-23T05:46:13.021Z"
   },
   {
    "duration": 42,
    "start_time": "2022-12-23T05:46:13.078Z"
   },
   {
    "duration": 24,
    "start_time": "2022-12-23T05:46:13.121Z"
   },
   {
    "duration": 78,
    "start_time": "2022-12-23T05:46:13.146Z"
   },
   {
    "duration": 26,
    "start_time": "2022-12-23T05:46:13.226Z"
   },
   {
    "duration": 22,
    "start_time": "2022-12-23T05:46:13.253Z"
   },
   {
    "duration": 46,
    "start_time": "2022-12-23T05:46:13.276Z"
   },
   {
    "duration": 29,
    "start_time": "2022-12-23T05:46:13.324Z"
   },
   {
    "duration": 35,
    "start_time": "2022-12-23T05:46:13.354Z"
   },
   {
    "duration": 25,
    "start_time": "2022-12-23T05:46:13.393Z"
   },
   {
    "duration": 8,
    "start_time": "2022-12-23T05:46:13.420Z"
   },
   {
    "duration": 9,
    "start_time": "2022-12-23T05:46:13.430Z"
   },
   {
    "duration": 7,
    "start_time": "2022-12-23T05:46:13.440Z"
   },
   {
    "duration": 14,
    "start_time": "2022-12-23T05:46:13.448Z"
   },
   {
    "duration": 32,
    "start_time": "2022-12-23T05:46:13.464Z"
   },
   {
    "duration": 91,
    "start_time": "2022-12-23T05:46:13.505Z"
   },
   {
    "duration": 4,
    "start_time": "2022-12-23T05:46:13.605Z"
   },
   {
    "duration": 13,
    "start_time": "2022-12-23T05:46:13.611Z"
   },
   {
    "duration": 50,
    "start_time": "2022-12-23T05:46:13.625Z"
   },
   {
    "duration": 27,
    "start_time": "2022-12-23T05:46:13.677Z"
   },
   {
    "duration": 11,
    "start_time": "2022-12-23T05:46:13.707Z"
   },
   {
    "duration": 6,
    "start_time": "2022-12-23T05:46:13.719Z"
   },
   {
    "duration": 13,
    "start_time": "2022-12-23T05:46:13.727Z"
   },
   {
    "duration": 8,
    "start_time": "2022-12-23T05:46:13.742Z"
   },
   {
    "duration": 6,
    "start_time": "2022-12-23T05:46:13.752Z"
   },
   {
    "duration": 7,
    "start_time": "2022-12-23T05:46:13.759Z"
   },
   {
    "duration": 7,
    "start_time": "2022-12-23T05:46:13.767Z"
   },
   {
    "duration": 1245,
    "start_time": "2022-12-23T12:40:49.467Z"
   },
   {
    "duration": 587,
    "start_time": "2022-12-23T12:40:50.713Z"
   },
   {
    "duration": 10,
    "start_time": "2022-12-23T12:40:51.302Z"
   },
   {
    "duration": 6,
    "start_time": "2022-12-23T12:40:51.313Z"
   },
   {
    "duration": 97,
    "start_time": "2022-12-23T12:40:51.321Z"
   },
   {
    "duration": 11,
    "start_time": "2022-12-23T12:40:51.420Z"
   },
   {
    "duration": 80,
    "start_time": "2022-12-23T12:40:51.433Z"
   },
   {
    "duration": 41,
    "start_time": "2022-12-23T12:40:51.515Z"
   },
   {
    "duration": 17,
    "start_time": "2022-12-23T12:40:51.559Z"
   },
   {
    "duration": 14,
    "start_time": "2022-12-23T12:40:51.579Z"
   },
   {
    "duration": 16,
    "start_time": "2022-12-23T12:40:51.594Z"
   },
   {
    "duration": 9,
    "start_time": "2022-12-23T12:40:51.612Z"
   },
   {
    "duration": 7,
    "start_time": "2022-12-23T12:40:51.626Z"
   },
   {
    "duration": 398,
    "start_time": "2022-12-23T12:40:51.635Z"
   },
   {
    "duration": 23,
    "start_time": "2022-12-23T12:40:52.035Z"
   },
   {
    "duration": 320,
    "start_time": "2022-12-23T12:40:52.060Z"
   },
   {
    "duration": 11,
    "start_time": "2022-12-23T12:40:52.382Z"
   },
   {
    "duration": 10,
    "start_time": "2022-12-23T12:40:52.395Z"
   },
   {
    "duration": 76,
    "start_time": "2022-12-23T12:40:52.407Z"
   },
   {
    "duration": 15,
    "start_time": "2022-12-23T12:40:52.485Z"
   },
   {
    "duration": 50,
    "start_time": "2022-12-23T12:40:52.502Z"
   },
   {
    "duration": 80,
    "start_time": "2022-12-23T12:40:52.554Z"
   },
   {
    "duration": 31,
    "start_time": "2022-12-23T12:40:52.637Z"
   },
   {
    "duration": 21,
    "start_time": "2022-12-23T12:40:52.670Z"
   },
   {
    "duration": 47,
    "start_time": "2022-12-23T12:40:52.693Z"
   },
   {
    "duration": 26,
    "start_time": "2022-12-23T12:40:52.742Z"
   },
   {
    "duration": 19,
    "start_time": "2022-12-23T12:40:52.770Z"
   },
   {
    "duration": 53,
    "start_time": "2022-12-23T12:40:52.792Z"
   },
   {
    "duration": 13,
    "start_time": "2022-12-23T12:40:52.848Z"
   },
   {
    "duration": 9,
    "start_time": "2022-12-23T12:40:52.862Z"
   },
   {
    "duration": 8,
    "start_time": "2022-12-23T12:40:52.872Z"
   },
   {
    "duration": 5,
    "start_time": "2022-12-23T12:40:52.882Z"
   },
   {
    "duration": 35,
    "start_time": "2022-12-23T12:40:52.888Z"
   },
   {
    "duration": 111,
    "start_time": "2022-12-23T12:40:52.925Z"
   },
   {
    "duration": 6,
    "start_time": "2022-12-23T12:40:53.039Z"
   },
   {
    "duration": 25,
    "start_time": "2022-12-23T12:40:53.048Z"
   },
   {
    "duration": 52,
    "start_time": "2022-12-23T12:40:53.074Z"
   },
   {
    "duration": 12,
    "start_time": "2022-12-23T12:40:53.128Z"
   },
   {
    "duration": 23,
    "start_time": "2022-12-23T12:40:53.141Z"
   },
   {
    "duration": 6,
    "start_time": "2022-12-23T12:40:53.165Z"
   },
   {
    "duration": 13,
    "start_time": "2022-12-23T12:40:53.172Z"
   },
   {
    "duration": 14,
    "start_time": "2022-12-23T12:40:53.187Z"
   },
   {
    "duration": 6,
    "start_time": "2022-12-23T12:40:53.202Z"
   },
   {
    "duration": 8,
    "start_time": "2022-12-23T12:40:53.210Z"
   },
   {
    "duration": 32,
    "start_time": "2022-12-23T12:40:53.219Z"
   },
   {
    "duration": 4,
    "start_time": "2022-12-23T12:41:04.163Z"
   },
   {
    "duration": 137,
    "start_time": "2022-12-23T13:11:36.977Z"
   },
   {
    "duration": 70,
    "start_time": "2022-12-23T13:11:46.373Z"
   },
   {
    "duration": 1192,
    "start_time": "2022-12-24T08:32:32.143Z"
   },
   {
    "duration": 682,
    "start_time": "2022-12-24T08:32:33.337Z"
   },
   {
    "duration": 10,
    "start_time": "2022-12-24T08:32:34.020Z"
   },
   {
    "duration": 11,
    "start_time": "2022-12-24T08:32:34.033Z"
   },
   {
    "duration": 74,
    "start_time": "2022-12-24T08:32:34.045Z"
   },
   {
    "duration": 8,
    "start_time": "2022-12-24T08:32:34.121Z"
   },
   {
    "duration": 51,
    "start_time": "2022-12-24T08:32:34.130Z"
   },
   {
    "duration": 20,
    "start_time": "2022-12-24T08:32:34.183Z"
   },
   {
    "duration": 9,
    "start_time": "2022-12-24T08:32:34.204Z"
   },
   {
    "duration": 15,
    "start_time": "2022-12-24T08:32:34.216Z"
   },
   {
    "duration": 16,
    "start_time": "2022-12-24T08:32:34.232Z"
   },
   {
    "duration": 28,
    "start_time": "2022-12-24T08:32:34.250Z"
   },
   {
    "duration": 4,
    "start_time": "2022-12-24T08:32:34.280Z"
   },
   {
    "duration": 343,
    "start_time": "2022-12-24T08:32:34.286Z"
   },
   {
    "duration": 22,
    "start_time": "2022-12-24T08:32:34.630Z"
   },
   {
    "duration": 277,
    "start_time": "2022-12-24T08:32:34.653Z"
   },
   {
    "duration": 13,
    "start_time": "2022-12-24T08:32:34.932Z"
   },
   {
    "duration": 13,
    "start_time": "2022-12-24T08:32:34.946Z"
   },
   {
    "duration": 70,
    "start_time": "2022-12-24T08:32:34.961Z"
   },
   {
    "duration": 16,
    "start_time": "2022-12-24T08:32:35.033Z"
   },
   {
    "duration": 36,
    "start_time": "2022-12-24T08:32:35.051Z"
   },
   {
    "duration": 69,
    "start_time": "2022-12-24T08:32:35.089Z"
   },
   {
    "duration": 37,
    "start_time": "2022-12-24T08:32:35.159Z"
   },
   {
    "duration": 21,
    "start_time": "2022-12-24T08:32:35.197Z"
   },
   {
    "duration": 22,
    "start_time": "2022-12-24T08:32:35.219Z"
   },
   {
    "duration": 43,
    "start_time": "2022-12-24T08:32:35.242Z"
   },
   {
    "duration": 17,
    "start_time": "2022-12-24T08:32:35.286Z"
   },
   {
    "duration": 26,
    "start_time": "2022-12-24T08:32:35.306Z"
   },
   {
    "duration": 3,
    "start_time": "2022-12-24T08:32:35.333Z"
   },
   {
    "duration": 4,
    "start_time": "2022-12-24T08:32:35.338Z"
   },
   {
    "duration": 6,
    "start_time": "2022-12-24T08:32:35.344Z"
   },
   {
    "duration": 29,
    "start_time": "2022-12-24T08:32:35.351Z"
   },
   {
    "duration": 30,
    "start_time": "2022-12-24T08:32:35.382Z"
   },
   {
    "duration": 114,
    "start_time": "2022-12-24T08:32:35.413Z"
   },
   {
    "duration": 4,
    "start_time": "2022-12-24T08:32:35.529Z"
   },
   {
    "duration": 14,
    "start_time": "2022-12-24T08:32:35.534Z"
   },
   {
    "duration": 74,
    "start_time": "2022-12-24T08:32:35.549Z"
   },
   {
    "duration": 60,
    "start_time": "2022-12-24T08:32:35.625Z"
   },
   {
    "duration": 9,
    "start_time": "2022-12-24T08:32:35.686Z"
   },
   {
    "duration": 11,
    "start_time": "2022-12-24T08:32:35.696Z"
   },
   {
    "duration": 12,
    "start_time": "2022-12-24T08:32:35.709Z"
   },
   {
    "duration": 15,
    "start_time": "2022-12-24T08:32:35.723Z"
   },
   {
    "duration": 19,
    "start_time": "2022-12-24T08:32:35.740Z"
   },
   {
    "duration": 12,
    "start_time": "2022-12-24T08:32:35.761Z"
   },
   {
    "duration": 4,
    "start_time": "2022-12-24T08:32:35.778Z"
   },
   {
    "duration": 6,
    "start_time": "2022-12-24T08:32:35.784Z"
   },
   {
    "duration": 118,
    "start_time": "2022-12-24T08:37:04.350Z"
   },
   {
    "duration": 217,
    "start_time": "2022-12-24T08:37:22.024Z"
   },
   {
    "duration": 404,
    "start_time": "2022-12-24T08:38:50.701Z"
   },
   {
    "duration": 229,
    "start_time": "2022-12-24T08:39:46.164Z"
   },
   {
    "duration": 15376,
    "start_time": "2022-12-24T08:40:42.547Z"
   },
   {
    "duration": 16564,
    "start_time": "2022-12-24T08:46:47.961Z"
   },
   {
    "duration": 16262,
    "start_time": "2022-12-24T08:47:52.251Z"
   },
   {
    "duration": 17440,
    "start_time": "2022-12-24T08:50:44.401Z"
   },
   {
    "duration": 11,
    "start_time": "2022-12-24T08:51:38.206Z"
   },
   {
    "duration": 10,
    "start_time": "2022-12-24T08:53:31.155Z"
   },
   {
    "duration": 55,
    "start_time": "2022-12-24T08:54:04.453Z"
   },
   {
    "duration": 30,
    "start_time": "2022-12-24T08:54:34.342Z"
   },
   {
    "duration": 29,
    "start_time": "2022-12-24T08:54:44.356Z"
   },
   {
    "duration": 23,
    "start_time": "2022-12-24T08:55:36.499Z"
   },
   {
    "duration": 28,
    "start_time": "2022-12-24T08:55:41.483Z"
   },
   {
    "duration": 134,
    "start_time": "2022-12-24T08:56:14.178Z"
   },
   {
    "duration": 1302,
    "start_time": "2022-12-24T08:56:29.744Z"
   },
   {
    "duration": 5,
    "start_time": "2022-12-24T08:56:54.908Z"
   },
   {
    "duration": 9,
    "start_time": "2022-12-24T08:57:11.548Z"
   },
   {
    "duration": 1126,
    "start_time": "2022-12-24T09:03:22.063Z"
   },
   {
    "duration": 137,
    "start_time": "2022-12-24T09:03:34.280Z"
   },
   {
    "duration": 129,
    "start_time": "2022-12-24T09:04:31.667Z"
   },
   {
    "duration": 1277,
    "start_time": "2022-12-24T09:08:33.185Z"
   },
   {
    "duration": 227,
    "start_time": "2022-12-24T09:08:42.811Z"
   },
   {
    "duration": 1162,
    "start_time": "2022-12-24T09:09:07.859Z"
   },
   {
    "duration": 171,
    "start_time": "2022-12-24T09:10:43.082Z"
   },
   {
    "duration": 7,
    "start_time": "2022-12-24T09:13:52.113Z"
   },
   {
    "duration": 7,
    "start_time": "2022-12-24T09:14:20.967Z"
   },
   {
    "duration": 9,
    "start_time": "2022-12-24T09:14:28.318Z"
   },
   {
    "duration": 7,
    "start_time": "2022-12-24T09:14:37.224Z"
   },
   {
    "duration": 7,
    "start_time": "2022-12-24T09:14:42.043Z"
   },
   {
    "duration": 7,
    "start_time": "2022-12-24T09:14:54.950Z"
   },
   {
    "duration": 7,
    "start_time": "2022-12-24T09:14:58.442Z"
   },
   {
    "duration": 6,
    "start_time": "2022-12-24T09:16:38.882Z"
   },
   {
    "duration": 15,
    "start_time": "2022-12-24T09:35:51.145Z"
   },
   {
    "duration": 156,
    "start_time": "2022-12-24T09:45:15.816Z"
   },
   {
    "duration": 6,
    "start_time": "2022-12-24T09:45:18.398Z"
   },
   {
    "duration": 61,
    "start_time": "2022-12-24T09:45:20.480Z"
   },
   {
    "duration": 52,
    "start_time": "2022-12-24T09:45:21.932Z"
   },
   {
    "duration": 11,
    "start_time": "2022-12-24T09:45:27.105Z"
   },
   {
    "duration": 8,
    "start_time": "2022-12-24T09:45:28.601Z"
   },
   {
    "duration": 32,
    "start_time": "2022-12-24T09:45:30.630Z"
   },
   {
    "duration": 9,
    "start_time": "2022-12-24T09:45:33.352Z"
   },
   {
    "duration": 177,
    "start_time": "2022-12-24T09:45:34.676Z"
   },
   {
    "duration": 20,
    "start_time": "2022-12-24T09:45:38.812Z"
   },
   {
    "duration": 11,
    "start_time": "2022-12-24T09:46:17.397Z"
   },
   {
    "duration": 9,
    "start_time": "2022-12-24T09:46:27.839Z"
   },
   {
    "duration": 20,
    "start_time": "2022-12-24T09:46:35.237Z"
   },
   {
    "duration": 5,
    "start_time": "2022-12-24T09:50:03.801Z"
   },
   {
    "duration": 14,
    "start_time": "2022-12-24T09:50:04.385Z"
   },
   {
    "duration": 294,
    "start_time": "2022-12-24T09:50:05.062Z"
   },
   {
    "duration": 13,
    "start_time": "2022-12-24T09:50:09.417Z"
   },
   {
    "duration": 279,
    "start_time": "2022-12-24T09:50:09.980Z"
   },
   {
    "duration": 11,
    "start_time": "2022-12-24T09:54:29.028Z"
   },
   {
    "duration": 336,
    "start_time": "2022-12-24T10:14:27.945Z"
   },
   {
    "duration": 354,
    "start_time": "2022-12-24T10:15:25.030Z"
   },
   {
    "duration": 341,
    "start_time": "2022-12-24T10:15:35.829Z"
   },
   {
    "duration": 5,
    "start_time": "2022-12-24T10:16:57.883Z"
   },
   {
    "duration": 1207,
    "start_time": "2022-12-24T10:17:28.149Z"
   },
   {
    "duration": 151,
    "start_time": "2022-12-24T10:17:29.359Z"
   },
   {
    "duration": 11,
    "start_time": "2022-12-24T10:17:29.511Z"
   },
   {
    "duration": 9,
    "start_time": "2022-12-24T10:17:29.524Z"
   },
   {
    "duration": 94,
    "start_time": "2022-12-24T10:17:29.535Z"
   },
   {
    "duration": 9,
    "start_time": "2022-12-24T10:17:29.632Z"
   },
   {
    "duration": 48,
    "start_time": "2022-12-24T10:17:29.643Z"
   },
   {
    "duration": 22,
    "start_time": "2022-12-24T10:17:29.692Z"
   },
   {
    "duration": 16,
    "start_time": "2022-12-24T10:17:29.717Z"
   },
   {
    "duration": 13,
    "start_time": "2022-12-24T10:17:29.735Z"
   },
   {
    "duration": 66,
    "start_time": "2022-12-24T10:17:29.750Z"
   },
   {
    "duration": 8,
    "start_time": "2022-12-24T10:17:29.817Z"
   },
   {
    "duration": 205,
    "start_time": "2022-12-24T10:17:29.827Z"
   },
   {
    "duration": 7,
    "start_time": "2022-12-24T10:17:30.033Z"
   },
   {
    "duration": 37,
    "start_time": "2022-12-24T10:17:30.042Z"
   },
   {
    "duration": 9,
    "start_time": "2022-12-24T10:17:30.081Z"
   },
   {
    "duration": 28,
    "start_time": "2022-12-24T10:17:30.092Z"
   },
   {
    "duration": 7,
    "start_time": "2022-12-24T10:17:30.123Z"
   },
   {
    "duration": 348,
    "start_time": "2022-12-24T10:17:30.132Z"
   },
   {
    "duration": 14,
    "start_time": "2022-12-24T10:17:30.481Z"
   },
   {
    "duration": 282,
    "start_time": "2022-12-24T10:17:30.496Z"
   },
   {
    "duration": 379,
    "start_time": "2022-12-24T10:17:30.779Z"
   },
   {
    "duration": 10,
    "start_time": "2022-12-24T10:17:31.160Z"
   },
   {
    "duration": 17,
    "start_time": "2022-12-24T10:17:31.178Z"
   },
   {
    "duration": 84,
    "start_time": "2022-12-24T10:17:31.196Z"
   },
   {
    "duration": 16,
    "start_time": "2022-12-24T10:17:31.283Z"
   },
   {
    "duration": 33,
    "start_time": "2022-12-24T10:17:31.301Z"
   },
   {
    "duration": 75,
    "start_time": "2022-12-24T10:17:31.338Z"
   },
   {
    "duration": 23,
    "start_time": "2022-12-24T10:17:31.415Z"
   },
   {
    "duration": 29,
    "start_time": "2022-12-24T10:17:31.440Z"
   },
   {
    "duration": 31,
    "start_time": "2022-12-24T10:17:31.471Z"
   },
   {
    "duration": 20,
    "start_time": "2022-12-24T10:17:31.504Z"
   },
   {
    "duration": 20,
    "start_time": "2022-12-24T10:17:31.525Z"
   },
   {
    "duration": 39,
    "start_time": "2022-12-24T10:17:31.546Z"
   },
   {
    "duration": 2,
    "start_time": "2022-12-24T10:17:31.587Z"
   },
   {
    "duration": 16,
    "start_time": "2022-12-24T10:17:31.591Z"
   },
   {
    "duration": 29,
    "start_time": "2022-12-24T10:17:31.608Z"
   },
   {
    "duration": 15,
    "start_time": "2022-12-24T10:17:31.639Z"
   },
   {
    "duration": 41,
    "start_time": "2022-12-24T10:17:31.656Z"
   },
   {
    "duration": 180,
    "start_time": "2022-12-24T10:17:31.699Z"
   },
   {
    "duration": 4,
    "start_time": "2022-12-24T10:17:31.880Z"
   },
   {
    "duration": 20,
    "start_time": "2022-12-24T10:17:31.886Z"
   },
   {
    "duration": 61,
    "start_time": "2022-12-24T10:17:31.908Z"
   },
   {
    "duration": 51,
    "start_time": "2022-12-24T10:17:31.971Z"
   },
   {
    "duration": 9,
    "start_time": "2022-12-24T10:17:32.023Z"
   },
   {
    "duration": 15,
    "start_time": "2022-12-24T10:17:32.034Z"
   },
   {
    "duration": 7,
    "start_time": "2022-12-24T10:17:32.051Z"
   },
   {
    "duration": 23,
    "start_time": "2022-12-24T10:17:32.060Z"
   },
   {
    "duration": 8,
    "start_time": "2022-12-24T10:17:32.084Z"
   },
   {
    "duration": 12,
    "start_time": "2022-12-24T10:17:32.094Z"
   },
   {
    "duration": 8,
    "start_time": "2022-12-24T10:17:32.108Z"
   },
   {
    "duration": 12,
    "start_time": "2022-12-24T10:17:32.118Z"
   },
   {
    "duration": 12,
    "start_time": "2022-12-24T10:20:10.405Z"
   },
   {
    "duration": 7,
    "start_time": "2022-12-24T10:20:28.126Z"
   },
   {
    "duration": 18,
    "start_time": "2022-12-24T10:29:49.961Z"
   },
   {
    "duration": 23,
    "start_time": "2022-12-24T10:29:50.563Z"
   },
   {
    "duration": 52,
    "start_time": "2022-12-24T10:29:52.337Z"
   },
   {
    "duration": 10,
    "start_time": "2022-12-24T10:30:09.151Z"
   },
   {
    "duration": 8,
    "start_time": "2022-12-24T10:30:24.609Z"
   },
   {
    "duration": 53,
    "start_time": "2022-12-24T11:19:27.335Z"
   },
   {
    "duration": 72,
    "start_time": "2022-12-24T12:21:44.407Z"
   },
   {
    "duration": 44,
    "start_time": "2022-12-24T12:22:29.753Z"
   },
   {
    "duration": 40,
    "start_time": "2022-12-24T12:22:45.720Z"
   },
   {
    "duration": 134,
    "start_time": "2022-12-24T12:22:53.795Z"
   },
   {
    "duration": 30,
    "start_time": "2022-12-24T12:23:03.210Z"
   },
   {
    "duration": 30,
    "start_time": "2022-12-24T12:23:14.476Z"
   },
   {
    "duration": 34,
    "start_time": "2022-12-24T12:23:24.949Z"
   },
   {
    "duration": 31,
    "start_time": "2022-12-24T12:23:36.423Z"
   },
   {
    "duration": 49,
    "start_time": "2022-12-24T12:27:47.674Z"
   },
   {
    "duration": 44,
    "start_time": "2022-12-24T12:28:22.482Z"
   },
   {
    "duration": 4,
    "start_time": "2022-12-24T12:29:00.225Z"
   },
   {
    "duration": 78,
    "start_time": "2022-12-24T12:29:26.554Z"
   },
   {
    "duration": 76,
    "start_time": "2022-12-24T12:29:32.352Z"
   },
   {
    "duration": 69,
    "start_time": "2022-12-24T12:29:37.624Z"
   },
   {
    "duration": 80,
    "start_time": "2022-12-24T12:32:05.381Z"
   },
   {
    "duration": 74,
    "start_time": "2022-12-24T12:32:22.765Z"
   },
   {
    "duration": 90,
    "start_time": "2022-12-24T12:32:55.302Z"
   },
   {
    "duration": 12,
    "start_time": "2022-12-24T12:33:14.260Z"
   },
   {
    "duration": 45,
    "start_time": "2022-12-24T12:36:46.266Z"
   },
   {
    "duration": 33,
    "start_time": "2022-12-24T12:37:23.188Z"
   },
   {
    "duration": 38,
    "start_time": "2022-12-24T12:38:35.434Z"
   },
   {
    "duration": 1298,
    "start_time": "2022-12-24T12:39:03.481Z"
   },
   {
    "duration": 11,
    "start_time": "2022-12-24T12:40:08.381Z"
   },
   {
    "duration": 82,
    "start_time": "2022-12-24T12:43:51.093Z"
   },
   {
    "duration": 80,
    "start_time": "2022-12-24T12:44:20.640Z"
   },
   {
    "duration": 70,
    "start_time": "2022-12-24T12:44:27.496Z"
   },
   {
    "duration": 77,
    "start_time": "2022-12-24T12:44:39.778Z"
   },
   {
    "duration": 73,
    "start_time": "2022-12-24T12:44:52.301Z"
   },
   {
    "duration": 9,
    "start_time": "2022-12-24T12:46:37.461Z"
   },
   {
    "duration": 10,
    "start_time": "2022-12-24T12:47:11.855Z"
   },
   {
    "duration": 1181,
    "start_time": "2022-12-24T18:10:17.889Z"
   },
   {
    "duration": 581,
    "start_time": "2022-12-24T18:10:19.073Z"
   },
   {
    "duration": 12,
    "start_time": "2022-12-24T18:10:19.656Z"
   },
   {
    "duration": 13,
    "start_time": "2022-12-24T18:10:19.670Z"
   },
   {
    "duration": 74,
    "start_time": "2022-12-24T18:10:19.684Z"
   },
   {
    "duration": 9,
    "start_time": "2022-12-24T18:10:19.760Z"
   },
   {
    "duration": 60,
    "start_time": "2022-12-24T18:10:19.770Z"
   },
   {
    "duration": 29,
    "start_time": "2022-12-24T18:10:19.833Z"
   },
   {
    "duration": 11,
    "start_time": "2022-12-24T18:10:19.864Z"
   },
   {
    "duration": 15,
    "start_time": "2022-12-24T18:10:19.878Z"
   },
   {
    "duration": 76,
    "start_time": "2022-12-24T18:10:19.895Z"
   },
   {
    "duration": 11,
    "start_time": "2022-12-24T18:10:19.973Z"
   },
   {
    "duration": 208,
    "start_time": "2022-12-24T18:10:19.986Z"
   },
   {
    "duration": 7,
    "start_time": "2022-12-24T18:10:20.196Z"
   },
   {
    "duration": 36,
    "start_time": "2022-12-24T18:10:20.205Z"
   },
   {
    "duration": 18,
    "start_time": "2022-12-24T18:10:20.243Z"
   },
   {
    "duration": 9,
    "start_time": "2022-12-24T18:10:20.262Z"
   },
   {
    "duration": 15,
    "start_time": "2022-12-24T18:10:20.273Z"
   },
   {
    "duration": 375,
    "start_time": "2022-12-24T18:10:20.290Z"
   },
   {
    "duration": 14,
    "start_time": "2022-12-24T18:10:20.668Z"
   },
   {
    "duration": 281,
    "start_time": "2022-12-24T18:10:20.684Z"
   },
   {
    "duration": 351,
    "start_time": "2022-12-24T18:10:20.967Z"
   },
   {
    "duration": 13,
    "start_time": "2022-12-24T18:10:21.320Z"
   },
   {
    "duration": 11,
    "start_time": "2022-12-24T18:10:21.334Z"
   },
   {
    "duration": 79,
    "start_time": "2022-12-24T18:10:21.347Z"
   },
   {
    "duration": 16,
    "start_time": "2022-12-24T18:10:21.428Z"
   },
   {
    "duration": 22,
    "start_time": "2022-12-24T18:10:21.446Z"
   },
   {
    "duration": 96,
    "start_time": "2022-12-24T18:10:21.472Z"
   },
   {
    "duration": 36,
    "start_time": "2022-12-24T18:10:21.569Z"
   },
   {
    "duration": 39,
    "start_time": "2022-12-24T18:10:21.607Z"
   },
   {
    "duration": 22,
    "start_time": "2022-12-24T18:10:21.647Z"
   },
   {
    "duration": 21,
    "start_time": "2022-12-24T18:10:21.671Z"
   },
   {
    "duration": 46,
    "start_time": "2022-12-24T18:10:21.693Z"
   },
   {
    "duration": 8,
    "start_time": "2022-12-24T18:10:21.741Z"
   },
   {
    "duration": 25,
    "start_time": "2022-12-24T18:10:21.751Z"
   },
   {
    "duration": 3,
    "start_time": "2022-12-24T18:10:21.778Z"
   },
   {
    "duration": 8,
    "start_time": "2022-12-24T18:10:21.783Z"
   },
   {
    "duration": 107,
    "start_time": "2022-12-24T18:10:21.822Z"
   },
   {
    "duration": 6,
    "start_time": "2022-12-24T18:10:21.931Z"
   },
   {
    "duration": 40,
    "start_time": "2022-12-24T18:10:21.939Z"
   },
   {
    "duration": 115,
    "start_time": "2022-12-24T18:10:21.981Z"
   },
   {
    "duration": 98,
    "start_time": "2022-12-24T18:10:22.098Z"
   },
   {
    "duration": 5,
    "start_time": "2022-12-24T18:10:22.198Z"
   },
   {
    "duration": 23,
    "start_time": "2022-12-24T18:10:22.205Z"
   },
   {
    "duration": 12,
    "start_time": "2022-12-24T18:10:22.230Z"
   },
   {
    "duration": 92,
    "start_time": "2022-12-24T18:10:22.244Z"
   },
   {
    "duration": 47,
    "start_time": "2022-12-24T18:10:22.338Z"
   },
   {
    "duration": 11,
    "start_time": "2022-12-24T18:10:22.387Z"
   },
   {
    "duration": 33,
    "start_time": "2022-12-24T18:10:22.400Z"
   },
   {
    "duration": 3,
    "start_time": "2022-12-24T18:10:22.435Z"
   },
   {
    "duration": 11,
    "start_time": "2022-12-24T18:10:22.440Z"
   },
   {
    "duration": 5,
    "start_time": "2022-12-24T18:10:22.453Z"
   },
   {
    "duration": 9,
    "start_time": "2022-12-24T18:10:22.460Z"
   },
   {
    "duration": 9,
    "start_time": "2022-12-24T18:10:22.471Z"
   },
   {
    "duration": 6,
    "start_time": "2022-12-24T18:10:22.482Z"
   }
  ],
  "kernelspec": {
   "display_name": "Python 3 (ipykernel)",
   "language": "python",
   "name": "python3"
  },
  "language_info": {
   "codemirror_mode": {
    "name": "ipython",
    "version": 3
   },
   "file_extension": ".py",
   "mimetype": "text/x-python",
   "name": "python",
   "nbconvert_exporter": "python",
   "pygments_lexer": "ipython3",
   "version": "3.9.5"
  },
  "toc": {
   "base_numbering": 1,
   "nav_menu": {},
   "number_sections": true,
   "sideBar": true,
   "skip_h1_title": true,
   "title_cell": "Table of Contents",
   "title_sidebar": "Contents",
   "toc_cell": false,
   "toc_position": {},
   "toc_section_display": true,
   "toc_window_display": false
  }
 },
 "nbformat": 4,
 "nbformat_minor": 2
}
