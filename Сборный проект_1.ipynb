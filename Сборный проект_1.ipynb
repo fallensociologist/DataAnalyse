{
 "cells": [
  {
   "cell_type": "markdown",
   "metadata": {},
   "source": [
    "<div class=\"alert alert-success\">\n",
    "<font size=\"5\"><b>Комментарий ревьюера 3</b></font>\n",
    "\n",
    "Формулировки второй гипотезы следует поменять местами. Т.е. изменить нулевую и альтернативную гипотезы. А вот сама методика проведения и вывод \"мы отбрасываем гипотезу о том, что пользовательские рейтинги платформ Xbox One и PC являются одинаковыми\" верны. Полагаю, в самих формулировках сейчас у тебя опечатка, и ты понял принцип их формулировки. Нулевая гипотеза всегда гласит о том, что различий нет. Оставляю исправления тебе на самостоятельную работу. \n",
    "    \n",
    "Помарки исправлены, и теперь работа выполнена хорошо. Ты здорово поработал, молодец. Поздравляю со сданным проектом. Надеюсь, он был интересен и познавателен. Успехов в дальнейшем пути :)\n",
    "\n",
    "</div>"
   ]
  },
  {
   "cell_type": "markdown",
   "metadata": {},
   "source": [
    "<div class=\"alert alert-info\">\n",
    "<font size=\"5\"><b>Комментарий ревьюера 2</b></font>\n",
    "\n",
    "Привет еще раз. Спасибо, что доделал работу. Оформление комментариев по работе сохраняется. Только обозначим, что это вторая итерация. \n",
    "\n",
    "</div>"
   ]
  },
  {
   "cell_type": "markdown",
   "metadata": {},
   "source": [
    "<div class=\"alert alert-info\">\n",
    "<font size=\"5\"><b>Комментарий ревьюера</b></font>\n",
    "\n",
    "Привет, Максим! Спасибо, что прислал задание:) Меня зовут Слепцов Артем и я буду проверять твой проект) Ты проделал большую работу над проектом. Он выполнен уже на достойном уровне. Однако есть моменты, которые еще можно улучшить. Будет здорово, если ты, надеюсь, не против, если я буду на ты, будешь отвечать на комментарии и участвовать в диалоге. Если обращение на ты неприемлемо, то прошу сообщить. \n",
    "\n",
    "Мои комментарии обозначены пометкой **Комментарий ревьюера**. Далее в файле ты сможешь найти их в похожих ячейках:\n",
    "    \n",
    "<div class=\"alert alert-success\">Успех: Если фон комментария зелёный - всё сделано правильно. Рекомендации укажу таким же цветом;</div>\n",
    "        \n",
    "<div class=\"alert alert-warning\">Совет: Оранжевый - некритичные замечания;</div>\n",
    "        \n",
    "<div class=\"alert alert-danger\">Ошибка: Красный - нужно переделать. </div>\n",
    "        \n",
    "Не удаляй эти комментарии и постарайся учесть их в ходе выполнения данного проекта. Свои же комментарии ты можешь обозначать любым заметным способом. \n",
    "\n",
    "</div>"
   ]
  },
  {
   "cell_type": "markdown",
   "metadata": {},
   "source": [
    "<div class=\"alert alert-danger\">\n",
    "<font size=\"5\"><b>Комментарий ревьюера</b></font>\n",
    "\n",
    "Ошибка: Стоит делать краткое вступление в работу, описание того, что надо делать. В работе необходимо приводить информацию о входных данных: какие столбцы есть в таблице, их названия и какую информацию они несут. Также название работы лучше отображать в отдельной ячейке и делать крупный шрифт (заголовок). Так работа выглядит презентабельно. Подробнее смотри блок \"Полезные инструкции в учебе\" раздел \"Оформление проекта\".\n",
    "\n",
    "</div>"
   ]
  },
  {
   "cell_type": "markdown",
   "metadata": {},
   "source": [
    "# Анализ продаж компьютерных игр для интернет-магазина \"Стримчик\""
   ]
  },
  {
   "cell_type": "markdown",
   "metadata": {},
   "source": [
    "### Цель исследования и шаги по ее достижению"
   ]
  },
  {
   "cell_type": "markdown",
   "metadata": {},
   "source": [
    "<b>Цель:</b> выявить определяющие успешность игры закономерности\n",
    "\n",
    "<b>Шаги:</b> 1) Изучаем входные данные; 2) Подготавливаем данные к анализу; 3) Проводим исследовательский анализ данных; 4) Составляем портрет пользователей по регионам; 5) Проверяем статистические гипотезы; 6) Составляем общие выводы по итогу исследования"
   ]
  },
  {
   "cell_type": "markdown",
   "metadata": {},
   "source": [
    "<div class=\"alert alert-success\">\n",
    "<font size=\"5\"><b>Комментарий ревьюера 2</b></font>\n",
    "\n",
    "Успех: Вступление в работу очень важно. Так ты поясняешь то, чему она посвящена. Стоит также описать те данные, с которыми мы работаем. \n",
    "\n",
    "</div>"
   ]
  },
  {
   "cell_type": "markdown",
   "metadata": {},
   "source": [
    "### Открываем файл и знакомимся с данными"
   ]
  },
  {
   "cell_type": "code",
   "execution_count": 1,
   "metadata": {},
   "outputs": [],
   "source": [
    "import pandas as pd\n",
    "import seaborn as sbn\n",
    "import numpy as np\n",
    "import matplotlib.pyplot as plt \n",
    "from scipy import stats as st"
   ]
  },
  {
   "cell_type": "markdown",
   "metadata": {},
   "source": [
    "<div class=\"alert alert-warning\">\n",
    "<font size=\"5\"><b>Комментарий ревьюера</b></font>\n",
    "\n",
    "Совет: Весь импорт стоит объединить в одну ячейку. В остальном верно, что ты проводишь его в самом начале проекта. \n",
    "\n",
    "</div>"
   ]
  },
  {
   "cell_type": "code",
   "execution_count": 2,
   "metadata": {},
   "outputs": [],
   "source": [
    "data = pd.read_csv('/datasets/games.csv')"
   ]
  },
  {
   "cell_type": "code",
   "execution_count": 3,
   "metadata": {},
   "outputs": [
    {
     "name": "stdout",
     "output_type": "stream",
     "text": [
      "<class 'pandas.core.frame.DataFrame'>\n",
      "RangeIndex: 16715 entries, 0 to 16714\n",
      "Data columns (total 11 columns):\n",
      " #   Column           Non-Null Count  Dtype  \n",
      "---  ------           --------------  -----  \n",
      " 0   Name             16713 non-null  object \n",
      " 1   Platform         16715 non-null  object \n",
      " 2   Year_of_Release  16446 non-null  float64\n",
      " 3   Genre            16713 non-null  object \n",
      " 4   NA_sales         16715 non-null  float64\n",
      " 5   EU_sales         16715 non-null  float64\n",
      " 6   JP_sales         16715 non-null  float64\n",
      " 7   Other_sales      16715 non-null  float64\n",
      " 8   Critic_Score     8137 non-null   float64\n",
      " 9   User_Score       10014 non-null  object \n",
      " 10  Rating           9949 non-null   object \n",
      "dtypes: float64(6), object(5)\n",
      "memory usage: 1.4+ MB\n"
     ]
    }
   ],
   "source": [
    "data.info()"
   ]
  },
  {
   "cell_type": "markdown",
   "metadata": {},
   "source": [
    "Данные состоят из 16715 записей по 11 переменных в каждой из них"
   ]
  },
  {
   "cell_type": "code",
   "execution_count": 4,
   "metadata": {},
   "outputs": [
    {
     "data": {
      "text/html": [
       "<div>\n",
       "<style scoped>\n",
       "    .dataframe tbody tr th:only-of-type {\n",
       "        vertical-align: middle;\n",
       "    }\n",
       "\n",
       "    .dataframe tbody tr th {\n",
       "        vertical-align: top;\n",
       "    }\n",
       "\n",
       "    .dataframe thead th {\n",
       "        text-align: right;\n",
       "    }\n",
       "</style>\n",
       "<table border=\"1\" class=\"dataframe\">\n",
       "  <thead>\n",
       "    <tr style=\"text-align: right;\">\n",
       "      <th></th>\n",
       "      <th>Name</th>\n",
       "      <th>Platform</th>\n",
       "      <th>Year_of_Release</th>\n",
       "      <th>Genre</th>\n",
       "      <th>NA_sales</th>\n",
       "      <th>EU_sales</th>\n",
       "      <th>JP_sales</th>\n",
       "      <th>Other_sales</th>\n",
       "      <th>Critic_Score</th>\n",
       "      <th>User_Score</th>\n",
       "      <th>Rating</th>\n",
       "    </tr>\n",
       "  </thead>\n",
       "  <tbody>\n",
       "    <tr>\n",
       "      <th>0</th>\n",
       "      <td>Wii Sports</td>\n",
       "      <td>Wii</td>\n",
       "      <td>2006.0</td>\n",
       "      <td>Sports</td>\n",
       "      <td>41.36</td>\n",
       "      <td>28.96</td>\n",
       "      <td>3.77</td>\n",
       "      <td>8.45</td>\n",
       "      <td>76.0</td>\n",
       "      <td>8</td>\n",
       "      <td>E</td>\n",
       "    </tr>\n",
       "    <tr>\n",
       "      <th>1</th>\n",
       "      <td>Super Mario Bros.</td>\n",
       "      <td>NES</td>\n",
       "      <td>1985.0</td>\n",
       "      <td>Platform</td>\n",
       "      <td>29.08</td>\n",
       "      <td>3.58</td>\n",
       "      <td>6.81</td>\n",
       "      <td>0.77</td>\n",
       "      <td>NaN</td>\n",
       "      <td>NaN</td>\n",
       "      <td>NaN</td>\n",
       "    </tr>\n",
       "    <tr>\n",
       "      <th>2</th>\n",
       "      <td>Mario Kart Wii</td>\n",
       "      <td>Wii</td>\n",
       "      <td>2008.0</td>\n",
       "      <td>Racing</td>\n",
       "      <td>15.68</td>\n",
       "      <td>12.76</td>\n",
       "      <td>3.79</td>\n",
       "      <td>3.29</td>\n",
       "      <td>82.0</td>\n",
       "      <td>8.3</td>\n",
       "      <td>E</td>\n",
       "    </tr>\n",
       "    <tr>\n",
       "      <th>3</th>\n",
       "      <td>Wii Sports Resort</td>\n",
       "      <td>Wii</td>\n",
       "      <td>2009.0</td>\n",
       "      <td>Sports</td>\n",
       "      <td>15.61</td>\n",
       "      <td>10.93</td>\n",
       "      <td>3.28</td>\n",
       "      <td>2.95</td>\n",
       "      <td>80.0</td>\n",
       "      <td>8</td>\n",
       "      <td>E</td>\n",
       "    </tr>\n",
       "    <tr>\n",
       "      <th>4</th>\n",
       "      <td>Pokemon Red/Pokemon Blue</td>\n",
       "      <td>GB</td>\n",
       "      <td>1996.0</td>\n",
       "      <td>Role-Playing</td>\n",
       "      <td>11.27</td>\n",
       "      <td>8.89</td>\n",
       "      <td>10.22</td>\n",
       "      <td>1.00</td>\n",
       "      <td>NaN</td>\n",
       "      <td>NaN</td>\n",
       "      <td>NaN</td>\n",
       "    </tr>\n",
       "  </tbody>\n",
       "</table>\n",
       "</div>"
      ],
      "text/plain": [
       "                       Name Platform  Year_of_Release         Genre  NA_sales  \\\n",
       "0                Wii Sports      Wii           2006.0        Sports     41.36   \n",
       "1         Super Mario Bros.      NES           1985.0      Platform     29.08   \n",
       "2            Mario Kart Wii      Wii           2008.0        Racing     15.68   \n",
       "3         Wii Sports Resort      Wii           2009.0        Sports     15.61   \n",
       "4  Pokemon Red/Pokemon Blue       GB           1996.0  Role-Playing     11.27   \n",
       "\n",
       "   EU_sales  JP_sales  Other_sales  Critic_Score User_Score Rating  \n",
       "0     28.96      3.77         8.45          76.0          8      E  \n",
       "1      3.58      6.81         0.77           NaN        NaN    NaN  \n",
       "2     12.76      3.79         3.29          82.0        8.3      E  \n",
       "3     10.93      3.28         2.95          80.0          8      E  \n",
       "4      8.89     10.22         1.00           NaN        NaN    NaN  "
      ]
     },
     "metadata": {},
     "output_type": "display_data"
    }
   ],
   "source": [
    "display(data.head())"
   ]
  },
  {
   "cell_type": "markdown",
   "metadata": {},
   "source": [
    "<div class=\"alert alert-danger\">\n",
    "<font size=\"5\"><b>Комментарий ревьюера</b></font>\n",
    "\n",
    "Ошибка: Какой вывод мы можем сделать по итогу первичного анализа данных?\n",
    "    \n",
    "</div>"
   ]
  },
  {
   "cell_type": "markdown",
   "metadata": {},
   "source": [
    "<b>Описание данных</b>: база состоит из 11 переменных\n",
    "\n",
    "1. Название игры\n",
    "2. Название платформы на которой она выпсукалась\n",
    "3. Год выхода игры\n",
    "4. Жанр игры\n",
    "5. Продажи в Северной Америке (миллион копий)\n",
    "6. Продажи в Европе (миллион копий)\n",
    "7. Продажи в Японии (миллион копий)\n",
    "8. Продажи в других регионах (миллион копий)\n",
    "9. Оценка критиков\n",
    "10. Оценка пользователей\n",
    "11. Возрастной рейтинг игры\n"
   ]
  },
  {
   "cell_type": "markdown",
   "metadata": {},
   "source": [
    "На первый взгляд в данныех есть пропуски, вопрос их обработки будет решен в следующем разделе данной работы"
   ]
  },
  {
   "cell_type": "markdown",
   "metadata": {},
   "source": [
    "<div class=\"alert alert-success\">\n",
    "<font size=\"5\"><b>Комментарий ревьюера 2</b></font>\n",
    "\n",
    "Успех: Не забывай оставлять промежуточные выводы по каждому разделу работы. \n",
    "\n",
    "</div>"
   ]
  },
  {
   "cell_type": "markdown",
   "metadata": {},
   "source": [
    "### Подготовка данных"
   ]
  },
  {
   "cell_type": "markdown",
   "metadata": {},
   "source": [
    "Переименуем столбцы"
   ]
  },
  {
   "cell_type": "code",
   "execution_count": 5,
   "metadata": {},
   "outputs": [
    {
     "data": {
      "text/html": [
       "<div>\n",
       "<style scoped>\n",
       "    .dataframe tbody tr th:only-of-type {\n",
       "        vertical-align: middle;\n",
       "    }\n",
       "\n",
       "    .dataframe tbody tr th {\n",
       "        vertical-align: top;\n",
       "    }\n",
       "\n",
       "    .dataframe thead th {\n",
       "        text-align: right;\n",
       "    }\n",
       "</style>\n",
       "<table border=\"1\" class=\"dataframe\">\n",
       "  <thead>\n",
       "    <tr style=\"text-align: right;\">\n",
       "      <th></th>\n",
       "      <th>name</th>\n",
       "      <th>platform</th>\n",
       "      <th>year_of_release</th>\n",
       "      <th>genre</th>\n",
       "      <th>na_sales</th>\n",
       "      <th>eu_sales</th>\n",
       "      <th>jp_sales</th>\n",
       "      <th>other_sales</th>\n",
       "      <th>critic_score</th>\n",
       "      <th>user_score</th>\n",
       "      <th>rating</th>\n",
       "    </tr>\n",
       "  </thead>\n",
       "  <tbody>\n",
       "    <tr>\n",
       "      <th>0</th>\n",
       "      <td>Wii Sports</td>\n",
       "      <td>Wii</td>\n",
       "      <td>2006.0</td>\n",
       "      <td>Sports</td>\n",
       "      <td>41.36</td>\n",
       "      <td>28.96</td>\n",
       "      <td>3.77</td>\n",
       "      <td>8.45</td>\n",
       "      <td>76.0</td>\n",
       "      <td>8</td>\n",
       "      <td>E</td>\n",
       "    </tr>\n",
       "    <tr>\n",
       "      <th>1</th>\n",
       "      <td>Super Mario Bros.</td>\n",
       "      <td>NES</td>\n",
       "      <td>1985.0</td>\n",
       "      <td>Platform</td>\n",
       "      <td>29.08</td>\n",
       "      <td>3.58</td>\n",
       "      <td>6.81</td>\n",
       "      <td>0.77</td>\n",
       "      <td>NaN</td>\n",
       "      <td>NaN</td>\n",
       "      <td>NaN</td>\n",
       "    </tr>\n",
       "    <tr>\n",
       "      <th>2</th>\n",
       "      <td>Mario Kart Wii</td>\n",
       "      <td>Wii</td>\n",
       "      <td>2008.0</td>\n",
       "      <td>Racing</td>\n",
       "      <td>15.68</td>\n",
       "      <td>12.76</td>\n",
       "      <td>3.79</td>\n",
       "      <td>3.29</td>\n",
       "      <td>82.0</td>\n",
       "      <td>8.3</td>\n",
       "      <td>E</td>\n",
       "    </tr>\n",
       "    <tr>\n",
       "      <th>3</th>\n",
       "      <td>Wii Sports Resort</td>\n",
       "      <td>Wii</td>\n",
       "      <td>2009.0</td>\n",
       "      <td>Sports</td>\n",
       "      <td>15.61</td>\n",
       "      <td>10.93</td>\n",
       "      <td>3.28</td>\n",
       "      <td>2.95</td>\n",
       "      <td>80.0</td>\n",
       "      <td>8</td>\n",
       "      <td>E</td>\n",
       "    </tr>\n",
       "    <tr>\n",
       "      <th>4</th>\n",
       "      <td>Pokemon Red/Pokemon Blue</td>\n",
       "      <td>GB</td>\n",
       "      <td>1996.0</td>\n",
       "      <td>Role-Playing</td>\n",
       "      <td>11.27</td>\n",
       "      <td>8.89</td>\n",
       "      <td>10.22</td>\n",
       "      <td>1.00</td>\n",
       "      <td>NaN</td>\n",
       "      <td>NaN</td>\n",
       "      <td>NaN</td>\n",
       "    </tr>\n",
       "  </tbody>\n",
       "</table>\n",
       "</div>"
      ],
      "text/plain": [
       "                       name platform  year_of_release         genre  na_sales  \\\n",
       "0                Wii Sports      Wii           2006.0        Sports     41.36   \n",
       "1         Super Mario Bros.      NES           1985.0      Platform     29.08   \n",
       "2            Mario Kart Wii      Wii           2008.0        Racing     15.68   \n",
       "3         Wii Sports Resort      Wii           2009.0        Sports     15.61   \n",
       "4  Pokemon Red/Pokemon Blue       GB           1996.0  Role-Playing     11.27   \n",
       "\n",
       "   eu_sales  jp_sales  other_sales  critic_score user_score rating  \n",
       "0     28.96      3.77         8.45          76.0          8      E  \n",
       "1      3.58      6.81         0.77           NaN        NaN    NaN  \n",
       "2     12.76      3.79         3.29          82.0        8.3      E  \n",
       "3     10.93      3.28         2.95          80.0          8      E  \n",
       "4      8.89     10.22         1.00           NaN        NaN    NaN  "
      ]
     },
     "execution_count": 5,
     "metadata": {},
     "output_type": "execute_result"
    }
   ],
   "source": [
    "data = data.rename(columns={'Name': 'name',\n",
    "                    'Platform': 'platform',\n",
    "                    'Year_of_Release': 'year_of_release',\n",
    "                    'Genre': 'genre',\n",
    "                    'NA_sales': 'na_sales',\n",
    "                    'EU_sales': 'eu_sales',\n",
    "                    'JP_sales': 'jp_sales',\n",
    "                    'Other_sales': 'other_sales',\n",
    "                    'Critic_Score': 'critic_score',\n",
    "                    'User_Score': 'user_score',\n",
    "                    'Rating': 'rating'})\n",
    "data.head()"
   ]
  },
  {
   "cell_type": "markdown",
   "metadata": {},
   "source": [
    "Поменяем тип данных там, где это нужно"
   ]
  },
  {
   "cell_type": "code",
   "execution_count": 6,
   "metadata": {},
   "outputs": [
    {
     "name": "stdout",
     "output_type": "stream",
     "text": [
      "<class 'pandas.core.frame.DataFrame'>\n",
      "RangeIndex: 16715 entries, 0 to 16714\n",
      "Data columns (total 11 columns):\n",
      " #   Column           Non-Null Count  Dtype  \n",
      "---  ------           --------------  -----  \n",
      " 0   name             16713 non-null  object \n",
      " 1   platform         16715 non-null  object \n",
      " 2   year_of_release  16446 non-null  Int64  \n",
      " 3   genre            16713 non-null  object \n",
      " 4   na_sales         16715 non-null  float64\n",
      " 5   eu_sales         16715 non-null  float64\n",
      " 6   jp_sales         16715 non-null  float64\n",
      " 7   other_sales      16715 non-null  float64\n",
      " 8   critic_score     8137 non-null   Int64  \n",
      " 9   user_score       10014 non-null  object \n",
      " 10  rating           9949 non-null   object \n",
      "dtypes: Int64(2), float64(4), object(5)\n",
      "memory usage: 1.4+ MB\n"
     ]
    }
   ],
   "source": [
    "data['year_of_release'] = data['year_of_release'].astype('Int64')\n",
    "data['critic_score'] = data['critic_score'].astype('Int64')\n",
    "\n",
    "data.info()"
   ]
  },
  {
   "cell_type": "markdown",
   "metadata": {},
   "source": [
    "Тип данных изменили у столбцов year_of_release и critic_score, так как в каждом случае значения принимали только целое число"
   ]
  },
  {
   "cell_type": "markdown",
   "metadata": {},
   "source": [
    "Обработка пропусков"
   ]
  },
  {
   "cell_type": "code",
   "execution_count": 7,
   "metadata": {},
   "outputs": [
    {
     "data": {
      "text/html": [
       "<div>\n",
       "<style scoped>\n",
       "    .dataframe tbody tr th:only-of-type {\n",
       "        vertical-align: middle;\n",
       "    }\n",
       "\n",
       "    .dataframe tbody tr th {\n",
       "        vertical-align: top;\n",
       "    }\n",
       "\n",
       "    .dataframe thead th {\n",
       "        text-align: right;\n",
       "    }\n",
       "</style>\n",
       "<table border=\"1\" class=\"dataframe\">\n",
       "  <thead>\n",
       "    <tr style=\"text-align: right;\">\n",
       "      <th></th>\n",
       "      <th>name</th>\n",
       "      <th>platform</th>\n",
       "      <th>year_of_release</th>\n",
       "      <th>genre</th>\n",
       "      <th>na_sales</th>\n",
       "      <th>eu_sales</th>\n",
       "      <th>jp_sales</th>\n",
       "      <th>other_sales</th>\n",
       "      <th>critic_score</th>\n",
       "      <th>user_score</th>\n",
       "      <th>rating</th>\n",
       "    </tr>\n",
       "  </thead>\n",
       "  <tbody>\n",
       "    <tr>\n",
       "      <th>659</th>\n",
       "      <td>NaN</td>\n",
       "      <td>GEN</td>\n",
       "      <td>1993</td>\n",
       "      <td>NaN</td>\n",
       "      <td>1.78</td>\n",
       "      <td>0.53</td>\n",
       "      <td>0.00</td>\n",
       "      <td>0.08</td>\n",
       "      <td>&lt;NA&gt;</td>\n",
       "      <td>NaN</td>\n",
       "      <td>NaN</td>\n",
       "    </tr>\n",
       "    <tr>\n",
       "      <th>14244</th>\n",
       "      <td>NaN</td>\n",
       "      <td>GEN</td>\n",
       "      <td>1993</td>\n",
       "      <td>NaN</td>\n",
       "      <td>0.00</td>\n",
       "      <td>0.00</td>\n",
       "      <td>0.03</td>\n",
       "      <td>0.00</td>\n",
       "      <td>&lt;NA&gt;</td>\n",
       "      <td>NaN</td>\n",
       "      <td>NaN</td>\n",
       "    </tr>\n",
       "  </tbody>\n",
       "</table>\n",
       "</div>"
      ],
      "text/plain": [
       "      name platform  year_of_release genre  na_sales  eu_sales  jp_sales  \\\n",
       "659    NaN      GEN             1993   NaN      1.78      0.53      0.00   \n",
       "14244  NaN      GEN             1993   NaN      0.00      0.00      0.03   \n",
       "\n",
       "       other_sales  critic_score user_score rating  \n",
       "659           0.08          <NA>        NaN    NaN  \n",
       "14244         0.00          <NA>        NaN    NaN  "
      ]
     },
     "execution_count": 7,
     "metadata": {},
     "output_type": "execute_result"
    }
   ],
   "source": [
    "data.loc[data['name'].isna()]"
   ]
  },
  {
   "cell_type": "markdown",
   "metadata": {},
   "source": [
    "Две безымянные игры предлагаю удалять, к тому же по ним нет практически никаких данных"
   ]
  },
  {
   "cell_type": "code",
   "execution_count": 8,
   "metadata": {},
   "outputs": [],
   "source": [
    "data = (data.drop(index=data[(data['name'].isna())].index).reset_index(drop=True))"
   ]
  },
  {
   "cell_type": "code",
   "execution_count": 9,
   "metadata": {},
   "outputs": [
    {
     "data": {
      "text/html": [
       "<div>\n",
       "<style scoped>\n",
       "    .dataframe tbody tr th:only-of-type {\n",
       "        vertical-align: middle;\n",
       "    }\n",
       "\n",
       "    .dataframe tbody tr th {\n",
       "        vertical-align: top;\n",
       "    }\n",
       "\n",
       "    .dataframe thead th {\n",
       "        text-align: right;\n",
       "    }\n",
       "</style>\n",
       "<table border=\"1\" class=\"dataframe\">\n",
       "  <thead>\n",
       "    <tr style=\"text-align: right;\">\n",
       "      <th></th>\n",
       "      <th>name</th>\n",
       "      <th>platform</th>\n",
       "      <th>year_of_release</th>\n",
       "      <th>genre</th>\n",
       "      <th>na_sales</th>\n",
       "      <th>eu_sales</th>\n",
       "      <th>jp_sales</th>\n",
       "      <th>other_sales</th>\n",
       "      <th>critic_score</th>\n",
       "      <th>user_score</th>\n",
       "      <th>rating</th>\n",
       "    </tr>\n",
       "  </thead>\n",
       "  <tbody>\n",
       "    <tr>\n",
       "      <th>183</th>\n",
       "      <td>Madden NFL 2004</td>\n",
       "      <td>PS2</td>\n",
       "      <td>&lt;NA&gt;</td>\n",
       "      <td>Sports</td>\n",
       "      <td>4.26</td>\n",
       "      <td>0.26</td>\n",
       "      <td>0.01</td>\n",
       "      <td>0.71</td>\n",
       "      <td>94</td>\n",
       "      <td>8.5</td>\n",
       "      <td>E</td>\n",
       "    </tr>\n",
       "    <tr>\n",
       "      <th>377</th>\n",
       "      <td>FIFA Soccer 2004</td>\n",
       "      <td>PS2</td>\n",
       "      <td>&lt;NA&gt;</td>\n",
       "      <td>Sports</td>\n",
       "      <td>0.59</td>\n",
       "      <td>2.36</td>\n",
       "      <td>0.04</td>\n",
       "      <td>0.51</td>\n",
       "      <td>84</td>\n",
       "      <td>6.4</td>\n",
       "      <td>E</td>\n",
       "    </tr>\n",
       "    <tr>\n",
       "      <th>456</th>\n",
       "      <td>LEGO Batman: The Videogame</td>\n",
       "      <td>Wii</td>\n",
       "      <td>&lt;NA&gt;</td>\n",
       "      <td>Action</td>\n",
       "      <td>1.80</td>\n",
       "      <td>0.97</td>\n",
       "      <td>0.00</td>\n",
       "      <td>0.29</td>\n",
       "      <td>74</td>\n",
       "      <td>7.9</td>\n",
       "      <td>E10+</td>\n",
       "    </tr>\n",
       "    <tr>\n",
       "      <th>475</th>\n",
       "      <td>wwe Smackdown vs. Raw 2006</td>\n",
       "      <td>PS2</td>\n",
       "      <td>&lt;NA&gt;</td>\n",
       "      <td>Fighting</td>\n",
       "      <td>1.57</td>\n",
       "      <td>1.02</td>\n",
       "      <td>0.00</td>\n",
       "      <td>0.41</td>\n",
       "      <td>&lt;NA&gt;</td>\n",
       "      <td>NaN</td>\n",
       "      <td>NaN</td>\n",
       "    </tr>\n",
       "    <tr>\n",
       "      <th>609</th>\n",
       "      <td>Space Invaders</td>\n",
       "      <td>2600</td>\n",
       "      <td>&lt;NA&gt;</td>\n",
       "      <td>Shooter</td>\n",
       "      <td>2.36</td>\n",
       "      <td>0.14</td>\n",
       "      <td>0.00</td>\n",
       "      <td>0.03</td>\n",
       "      <td>&lt;NA&gt;</td>\n",
       "      <td>NaN</td>\n",
       "      <td>NaN</td>\n",
       "    </tr>\n",
       "    <tr>\n",
       "      <th>...</th>\n",
       "      <td>...</td>\n",
       "      <td>...</td>\n",
       "      <td>...</td>\n",
       "      <td>...</td>\n",
       "      <td>...</td>\n",
       "      <td>...</td>\n",
       "      <td>...</td>\n",
       "      <td>...</td>\n",
       "      <td>...</td>\n",
       "      <td>...</td>\n",
       "      <td>...</td>\n",
       "    </tr>\n",
       "    <tr>\n",
       "      <th>16371</th>\n",
       "      <td>PDC World Championship Darts 2008</td>\n",
       "      <td>PSP</td>\n",
       "      <td>&lt;NA&gt;</td>\n",
       "      <td>Sports</td>\n",
       "      <td>0.01</td>\n",
       "      <td>0.00</td>\n",
       "      <td>0.00</td>\n",
       "      <td>0.00</td>\n",
       "      <td>43</td>\n",
       "      <td>tbd</td>\n",
       "      <td>E10+</td>\n",
       "    </tr>\n",
       "    <tr>\n",
       "      <th>16403</th>\n",
       "      <td>Freaky Flyers</td>\n",
       "      <td>GC</td>\n",
       "      <td>&lt;NA&gt;</td>\n",
       "      <td>Racing</td>\n",
       "      <td>0.01</td>\n",
       "      <td>0.00</td>\n",
       "      <td>0.00</td>\n",
       "      <td>0.00</td>\n",
       "      <td>69</td>\n",
       "      <td>6.5</td>\n",
       "      <td>T</td>\n",
       "    </tr>\n",
       "    <tr>\n",
       "      <th>16446</th>\n",
       "      <td>Inversion</td>\n",
       "      <td>PC</td>\n",
       "      <td>&lt;NA&gt;</td>\n",
       "      <td>Shooter</td>\n",
       "      <td>0.01</td>\n",
       "      <td>0.00</td>\n",
       "      <td>0.00</td>\n",
       "      <td>0.00</td>\n",
       "      <td>59</td>\n",
       "      <td>6.7</td>\n",
       "      <td>M</td>\n",
       "    </tr>\n",
       "    <tr>\n",
       "      <th>16456</th>\n",
       "      <td>Hakuouki: Shinsengumi Kitan</td>\n",
       "      <td>PS3</td>\n",
       "      <td>&lt;NA&gt;</td>\n",
       "      <td>Adventure</td>\n",
       "      <td>0.01</td>\n",
       "      <td>0.00</td>\n",
       "      <td>0.00</td>\n",
       "      <td>0.00</td>\n",
       "      <td>&lt;NA&gt;</td>\n",
       "      <td>NaN</td>\n",
       "      <td>NaN</td>\n",
       "    </tr>\n",
       "    <tr>\n",
       "      <th>16520</th>\n",
       "      <td>Virtua Quest</td>\n",
       "      <td>GC</td>\n",
       "      <td>&lt;NA&gt;</td>\n",
       "      <td>Role-Playing</td>\n",
       "      <td>0.01</td>\n",
       "      <td>0.00</td>\n",
       "      <td>0.00</td>\n",
       "      <td>0.00</td>\n",
       "      <td>55</td>\n",
       "      <td>5.5</td>\n",
       "      <td>T</td>\n",
       "    </tr>\n",
       "  </tbody>\n",
       "</table>\n",
       "<p>269 rows × 11 columns</p>\n",
       "</div>"
      ],
      "text/plain": [
       "                                    name platform  year_of_release  \\\n",
       "183                      Madden NFL 2004      PS2             <NA>   \n",
       "377                     FIFA Soccer 2004      PS2             <NA>   \n",
       "456           LEGO Batman: The Videogame      Wii             <NA>   \n",
       "475           wwe Smackdown vs. Raw 2006      PS2             <NA>   \n",
       "609                       Space Invaders     2600             <NA>   \n",
       "...                                  ...      ...              ...   \n",
       "16371  PDC World Championship Darts 2008      PSP             <NA>   \n",
       "16403                      Freaky Flyers       GC             <NA>   \n",
       "16446                          Inversion       PC             <NA>   \n",
       "16456        Hakuouki: Shinsengumi Kitan      PS3             <NA>   \n",
       "16520                       Virtua Quest       GC             <NA>   \n",
       "\n",
       "              genre  na_sales  eu_sales  jp_sales  other_sales  critic_score  \\\n",
       "183          Sports      4.26      0.26      0.01         0.71            94   \n",
       "377          Sports      0.59      2.36      0.04         0.51            84   \n",
       "456          Action      1.80      0.97      0.00         0.29            74   \n",
       "475        Fighting      1.57      1.02      0.00         0.41          <NA>   \n",
       "609         Shooter      2.36      0.14      0.00         0.03          <NA>   \n",
       "...             ...       ...       ...       ...          ...           ...   \n",
       "16371        Sports      0.01      0.00      0.00         0.00            43   \n",
       "16403        Racing      0.01      0.00      0.00         0.00            69   \n",
       "16446       Shooter      0.01      0.00      0.00         0.00            59   \n",
       "16456     Adventure      0.01      0.00      0.00         0.00          <NA>   \n",
       "16520  Role-Playing      0.01      0.00      0.00         0.00            55   \n",
       "\n",
       "      user_score rating  \n",
       "183          8.5      E  \n",
       "377          6.4      E  \n",
       "456          7.9   E10+  \n",
       "475          NaN    NaN  \n",
       "609          NaN    NaN  \n",
       "...          ...    ...  \n",
       "16371        tbd   E10+  \n",
       "16403        6.5      T  \n",
       "16446        6.7      M  \n",
       "16456        NaN    NaN  \n",
       "16520        5.5      T  \n",
       "\n",
       "[269 rows x 11 columns]"
      ]
     },
     "execution_count": 9,
     "metadata": {},
     "output_type": "execute_result"
    }
   ],
   "source": [
    "data.loc[data['year_of_release'].isna()]"
   ]
  },
  {
   "cell_type": "markdown",
   "metadata": {},
   "source": [
    "Пропусков по году так же немного, будем удалять"
   ]
  },
  {
   "cell_type": "code",
   "execution_count": 10,
   "metadata": {},
   "outputs": [],
   "source": [
    "data = (data.drop(index=data[(data['year_of_release'].isna())].index).reset_index(drop=True))"
   ]
  },
  {
   "cell_type": "markdown",
   "metadata": {},
   "source": [
    "<div class=\"alert alert-success\">\n",
    "<font size=\"5\"><b>Комментарий ревьюера</b></font>\n",
    "\n",
    "Успех: Соглашусь, такое количество пропусков мы вполне можем убрать. \n",
    "    \n",
    "</div>"
   ]
  },
  {
   "cell_type": "markdown",
   "metadata": {},
   "source": [
    "Посмотрим на столбец user_score"
   ]
  },
  {
   "cell_type": "code",
   "execution_count": 11,
   "metadata": {},
   "outputs": [
    {
     "data": {
      "text/html": [
       "<div>\n",
       "<style scoped>\n",
       "    .dataframe tbody tr th:only-of-type {\n",
       "        vertical-align: middle;\n",
       "    }\n",
       "\n",
       "    .dataframe tbody tr th {\n",
       "        vertical-align: top;\n",
       "    }\n",
       "\n",
       "    .dataframe thead th {\n",
       "        text-align: right;\n",
       "    }\n",
       "</style>\n",
       "<table border=\"1\" class=\"dataframe\">\n",
       "  <thead>\n",
       "    <tr style=\"text-align: right;\">\n",
       "      <th></th>\n",
       "      <th>name</th>\n",
       "      <th>platform</th>\n",
       "      <th>year_of_release</th>\n",
       "      <th>genre</th>\n",
       "      <th>na_sales</th>\n",
       "      <th>eu_sales</th>\n",
       "      <th>jp_sales</th>\n",
       "      <th>other_sales</th>\n",
       "      <th>critic_score</th>\n",
       "      <th>user_score</th>\n",
       "      <th>rating</th>\n",
       "    </tr>\n",
       "  </thead>\n",
       "  <tbody>\n",
       "    <tr>\n",
       "      <th>119</th>\n",
       "      <td>Zumba Fitness</td>\n",
       "      <td>Wii</td>\n",
       "      <td>2010</td>\n",
       "      <td>Sports</td>\n",
       "      <td>3.45</td>\n",
       "      <td>2.59</td>\n",
       "      <td>0.0</td>\n",
       "      <td>0.66</td>\n",
       "      <td>&lt;NA&gt;</td>\n",
       "      <td>tbd</td>\n",
       "      <td>E</td>\n",
       "    </tr>\n",
       "    <tr>\n",
       "      <th>300</th>\n",
       "      <td>Namco Museum: 50th Anniversary</td>\n",
       "      <td>PS2</td>\n",
       "      <td>2005</td>\n",
       "      <td>Misc</td>\n",
       "      <td>2.08</td>\n",
       "      <td>1.35</td>\n",
       "      <td>0.0</td>\n",
       "      <td>0.54</td>\n",
       "      <td>61</td>\n",
       "      <td>tbd</td>\n",
       "      <td>E10+</td>\n",
       "    </tr>\n",
       "    <tr>\n",
       "      <th>516</th>\n",
       "      <td>Zumba Fitness 2</td>\n",
       "      <td>Wii</td>\n",
       "      <td>2011</td>\n",
       "      <td>Sports</td>\n",
       "      <td>1.51</td>\n",
       "      <td>1.03</td>\n",
       "      <td>0.0</td>\n",
       "      <td>0.27</td>\n",
       "      <td>&lt;NA&gt;</td>\n",
       "      <td>tbd</td>\n",
       "      <td>T</td>\n",
       "    </tr>\n",
       "    <tr>\n",
       "      <th>639</th>\n",
       "      <td>uDraw Studio</td>\n",
       "      <td>Wii</td>\n",
       "      <td>2010</td>\n",
       "      <td>Misc</td>\n",
       "      <td>1.65</td>\n",
       "      <td>0.57</td>\n",
       "      <td>0.0</td>\n",
       "      <td>0.20</td>\n",
       "      <td>71</td>\n",
       "      <td>tbd</td>\n",
       "      <td>E</td>\n",
       "    </tr>\n",
       "    <tr>\n",
       "      <th>709</th>\n",
       "      <td>Just Dance Kids</td>\n",
       "      <td>Wii</td>\n",
       "      <td>2010</td>\n",
       "      <td>Misc</td>\n",
       "      <td>1.52</td>\n",
       "      <td>0.54</td>\n",
       "      <td>0.0</td>\n",
       "      <td>0.18</td>\n",
       "      <td>&lt;NA&gt;</td>\n",
       "      <td>tbd</td>\n",
       "      <td>E</td>\n",
       "    </tr>\n",
       "    <tr>\n",
       "      <th>...</th>\n",
       "      <td>...</td>\n",
       "      <td>...</td>\n",
       "      <td>...</td>\n",
       "      <td>...</td>\n",
       "      <td>...</td>\n",
       "      <td>...</td>\n",
       "      <td>...</td>\n",
       "      <td>...</td>\n",
       "      <td>...</td>\n",
       "      <td>...</td>\n",
       "      <td>...</td>\n",
       "    </tr>\n",
       "    <tr>\n",
       "      <th>16424</th>\n",
       "      <td>Planet Monsters</td>\n",
       "      <td>GBA</td>\n",
       "      <td>2001</td>\n",
       "      <td>Action</td>\n",
       "      <td>0.01</td>\n",
       "      <td>0.00</td>\n",
       "      <td>0.0</td>\n",
       "      <td>0.00</td>\n",
       "      <td>67</td>\n",
       "      <td>tbd</td>\n",
       "      <td>E</td>\n",
       "    </tr>\n",
       "    <tr>\n",
       "      <th>16426</th>\n",
       "      <td>Bust-A-Move 3000</td>\n",
       "      <td>GC</td>\n",
       "      <td>2003</td>\n",
       "      <td>Puzzle</td>\n",
       "      <td>0.01</td>\n",
       "      <td>0.00</td>\n",
       "      <td>0.0</td>\n",
       "      <td>0.00</td>\n",
       "      <td>53</td>\n",
       "      <td>tbd</td>\n",
       "      <td>E</td>\n",
       "    </tr>\n",
       "    <tr>\n",
       "      <th>16427</th>\n",
       "      <td>Mega Brain Boost</td>\n",
       "      <td>DS</td>\n",
       "      <td>2008</td>\n",
       "      <td>Puzzle</td>\n",
       "      <td>0.01</td>\n",
       "      <td>0.00</td>\n",
       "      <td>0.0</td>\n",
       "      <td>0.00</td>\n",
       "      <td>48</td>\n",
       "      <td>tbd</td>\n",
       "      <td>E</td>\n",
       "    </tr>\n",
       "    <tr>\n",
       "      <th>16433</th>\n",
       "      <td>Plushees</td>\n",
       "      <td>DS</td>\n",
       "      <td>2008</td>\n",
       "      <td>Simulation</td>\n",
       "      <td>0.01</td>\n",
       "      <td>0.00</td>\n",
       "      <td>0.0</td>\n",
       "      <td>0.00</td>\n",
       "      <td>&lt;NA&gt;</td>\n",
       "      <td>tbd</td>\n",
       "      <td>E</td>\n",
       "    </tr>\n",
       "    <tr>\n",
       "      <th>16435</th>\n",
       "      <td>Men in Black II: Alien Escape</td>\n",
       "      <td>GC</td>\n",
       "      <td>2003</td>\n",
       "      <td>Shooter</td>\n",
       "      <td>0.01</td>\n",
       "      <td>0.00</td>\n",
       "      <td>0.0</td>\n",
       "      <td>0.00</td>\n",
       "      <td>&lt;NA&gt;</td>\n",
       "      <td>tbd</td>\n",
       "      <td>T</td>\n",
       "    </tr>\n",
       "  </tbody>\n",
       "</table>\n",
       "<p>2376 rows × 11 columns</p>\n",
       "</div>"
      ],
      "text/plain": [
       "                                 name platform  year_of_release       genre  \\\n",
       "119                     Zumba Fitness      Wii             2010      Sports   \n",
       "300    Namco Museum: 50th Anniversary      PS2             2005        Misc   \n",
       "516                   Zumba Fitness 2      Wii             2011      Sports   \n",
       "639                      uDraw Studio      Wii             2010        Misc   \n",
       "709                   Just Dance Kids      Wii             2010        Misc   \n",
       "...                               ...      ...              ...         ...   \n",
       "16424                 Planet Monsters      GBA             2001      Action   \n",
       "16426                Bust-A-Move 3000       GC             2003      Puzzle   \n",
       "16427                Mega Brain Boost       DS             2008      Puzzle   \n",
       "16433                        Plushees       DS             2008  Simulation   \n",
       "16435   Men in Black II: Alien Escape       GC             2003     Shooter   \n",
       "\n",
       "       na_sales  eu_sales  jp_sales  other_sales  critic_score user_score  \\\n",
       "119        3.45      2.59       0.0         0.66          <NA>        tbd   \n",
       "300        2.08      1.35       0.0         0.54            61        tbd   \n",
       "516        1.51      1.03       0.0         0.27          <NA>        tbd   \n",
       "639        1.65      0.57       0.0         0.20            71        tbd   \n",
       "709        1.52      0.54       0.0         0.18          <NA>        tbd   \n",
       "...         ...       ...       ...          ...           ...        ...   \n",
       "16424      0.01      0.00       0.0         0.00            67        tbd   \n",
       "16426      0.01      0.00       0.0         0.00            53        tbd   \n",
       "16427      0.01      0.00       0.0         0.00            48        tbd   \n",
       "16433      0.01      0.00       0.0         0.00          <NA>        tbd   \n",
       "16435      0.01      0.00       0.0         0.00          <NA>        tbd   \n",
       "\n",
       "      rating  \n",
       "119        E  \n",
       "300     E10+  \n",
       "516        T  \n",
       "639        E  \n",
       "709        E  \n",
       "...      ...  \n",
       "16424      E  \n",
       "16426      E  \n",
       "16427      E  \n",
       "16433      E  \n",
       "16435      T  \n",
       "\n",
       "[2376 rows x 11 columns]"
      ]
     },
     "execution_count": 11,
     "metadata": {},
     "output_type": "execute_result"
    }
   ],
   "source": [
    "data.loc[data['user_score'] == 'tbd']"
   ]
  },
  {
   "cell_type": "markdown",
   "metadata": {},
   "source": [
    "Заменим tbd на пропущенное значение"
   ]
  },
  {
   "cell_type": "code",
   "execution_count": 12,
   "metadata": {},
   "outputs": [],
   "source": [
    "data['user_score'] = data['user_score'].replace('tbd', np.nan)"
   ]
  },
  {
   "cell_type": "markdown",
   "metadata": {},
   "source": [
    "<div class=\"alert alert-success\">\n",
    "<font size=\"5\"><b>Комментарий ревьюера</b></font>\n",
    "\n",
    "Успех: Верно, по своей сути tbd и является Nan. Отлично, что определяешь неявные пропущенные значения.\n",
    "\n",
    "</div>"
   ]
  },
  {
   "cell_type": "code",
   "execution_count": 13,
   "metadata": {},
   "outputs": [],
   "source": [
    "data['user_score'] = data['user_score'].astype('float64')\n",
    "data['critic_score'] = data['critic_score'].astype('float64')"
   ]
  },
  {
   "cell_type": "code",
   "execution_count": 14,
   "metadata": {},
   "outputs": [
    {
     "data": {
      "text/plain": [
       "array([8. , nan, 8.3, 8.5, 6.6, 8.4, 8.6, 7.7, 6.3, 7.4, 8.2, 9. , 7.9,\n",
       "       8.1, 8.7, 7.1, 3.4, 5.3, 4.8, 3.2, 8.9, 6.4, 7.8, 7.5, 2.6, 7.2,\n",
       "       9.2, 7. , 7.3, 4.3, 7.6, 5.7, 5. , 9.1, 6.5, 8.8, 6.9, 9.4, 6.8,\n",
       "       6.1, 6.7, 5.4, 4. , 4.9, 4.5, 9.3, 6.2, 4.2, 6. , 3.7, 4.1, 5.8,\n",
       "       5.6, 5.5, 4.4, 4.6, 5.9, 3.9, 3.1, 2.9, 5.2, 3.3, 4.7, 5.1, 3.5,\n",
       "       2.5, 1.9, 3. , 2.7, 2.2, 2. , 9.5, 2.1, 3.6, 2.8, 1.8, 3.8, 0. ,\n",
       "       1.6, 9.6, 2.4, 1.7, 1.1, 0.3, 1.5, 0.7, 1.2, 2.3, 0.5, 1.3, 0.2,\n",
       "       0.6, 1.4, 0.9, 1. , 9.7])"
      ]
     },
     "execution_count": 14,
     "metadata": {},
     "output_type": "execute_result"
    }
   ],
   "source": [
    "data['user_score'].unique()"
   ]
  },
  {
   "cell_type": "code",
   "execution_count": 15,
   "metadata": {},
   "outputs": [
    {
     "name": "stdout",
     "output_type": "stream",
     "text": [
      "<class 'pandas.core.frame.DataFrame'>\n",
      "RangeIndex: 16444 entries, 0 to 16443\n",
      "Data columns (total 11 columns):\n",
      " #   Column           Non-Null Count  Dtype  \n",
      "---  ------           --------------  -----  \n",
      " 0   name             16444 non-null  object \n",
      " 1   platform         16444 non-null  object \n",
      " 2   year_of_release  16444 non-null  Int64  \n",
      " 3   genre            16444 non-null  object \n",
      " 4   na_sales         16444 non-null  float64\n",
      " 5   eu_sales         16444 non-null  float64\n",
      " 6   jp_sales         16444 non-null  float64\n",
      " 7   other_sales      16444 non-null  float64\n",
      " 8   critic_score     7983 non-null   float64\n",
      " 9   user_score       7463 non-null   float64\n",
      " 10  rating           9768 non-null   object \n",
      "dtypes: Int64(1), float64(6), object(4)\n",
      "memory usage: 1.4+ MB\n"
     ]
    }
   ],
   "source": [
    "data.info()"
   ]
  },
  {
   "cell_type": "markdown",
   "metadata": {},
   "source": [
    "Поработаем со столбцом rating.\n",
    "\n",
    "Рейтинг предоставлен от Entertainment Software Rating Board (ESRB) - организация, которая определяет возрастные ограничения для пользователей на основании содержания игры.\n",
    "\n",
    "Данная информаци поможет нам с заменой значений."
   ]
  },
  {
   "cell_type": "code",
   "execution_count": 16,
   "metadata": {},
   "outputs": [
    {
     "data": {
      "text/plain": [
       "array(['E', nan, 'M', 'T', 'E10+', 'K-A', 'AO', 'EC', 'RP'], dtype=object)"
      ]
     },
     "execution_count": 16,
     "metadata": {},
     "output_type": "execute_result"
    }
   ],
   "source": [
    "data['rating'].unique()"
   ]
  },
  {
   "cell_type": "markdown",
   "metadata": {},
   "source": [
    "E - everyone\n",
    "\n",
    "M - mature\n",
    "\n",
    "T - teen\n",
    "\n",
    "E10+ - everyone 10 and adult\n",
    "\n",
    "K-A - kids to adults (возможно объединить с E)\n",
    "\n",
    "AO - adults only\n",
    "\n",
    "EC - early childhood\n",
    "\n",
    "RP - rating panding (возможно объединить с NaN)"
   ]
  },
  {
   "cell_type": "code",
   "execution_count": 17,
   "metadata": {},
   "outputs": [],
   "source": [
    "data.loc[data['rating'] == 'K-A', 'rating'] = 'E'"
   ]
  },
  {
   "cell_type": "code",
   "execution_count": 18,
   "metadata": {},
   "outputs": [
    {
     "data": {
      "text/plain": [
       "array(['E', nan, 'M', 'T', 'E10+', 'AO', 'EC', 'RP'], dtype=object)"
      ]
     },
     "execution_count": 18,
     "metadata": {},
     "output_type": "execute_result"
    }
   ],
   "source": [
    "data['rating'].unique()"
   ]
  },
  {
   "cell_type": "markdown",
   "metadata": {},
   "source": [
    "Создадим столбец с суммарными продажами во всех регионах"
   ]
  },
  {
   "cell_type": "code",
   "execution_count": 19,
   "metadata": {},
   "outputs": [
    {
     "data": {
      "text/html": [
       "<div>\n",
       "<style scoped>\n",
       "    .dataframe tbody tr th:only-of-type {\n",
       "        vertical-align: middle;\n",
       "    }\n",
       "\n",
       "    .dataframe tbody tr th {\n",
       "        vertical-align: top;\n",
       "    }\n",
       "\n",
       "    .dataframe thead th {\n",
       "        text-align: right;\n",
       "    }\n",
       "</style>\n",
       "<table border=\"1\" class=\"dataframe\">\n",
       "  <thead>\n",
       "    <tr style=\"text-align: right;\">\n",
       "      <th></th>\n",
       "      <th>name</th>\n",
       "      <th>platform</th>\n",
       "      <th>year_of_release</th>\n",
       "      <th>genre</th>\n",
       "      <th>na_sales</th>\n",
       "      <th>eu_sales</th>\n",
       "      <th>jp_sales</th>\n",
       "      <th>other_sales</th>\n",
       "      <th>critic_score</th>\n",
       "      <th>user_score</th>\n",
       "      <th>rating</th>\n",
       "      <th>sales_total</th>\n",
       "    </tr>\n",
       "  </thead>\n",
       "  <tbody>\n",
       "    <tr>\n",
       "      <th>0</th>\n",
       "      <td>Wii Sports</td>\n",
       "      <td>Wii</td>\n",
       "      <td>2006</td>\n",
       "      <td>Sports</td>\n",
       "      <td>41.36</td>\n",
       "      <td>28.96</td>\n",
       "      <td>3.77</td>\n",
       "      <td>8.45</td>\n",
       "      <td>76.0</td>\n",
       "      <td>8.0</td>\n",
       "      <td>E</td>\n",
       "      <td>82.54</td>\n",
       "    </tr>\n",
       "    <tr>\n",
       "      <th>1</th>\n",
       "      <td>Super Mario Bros.</td>\n",
       "      <td>NES</td>\n",
       "      <td>1985</td>\n",
       "      <td>Platform</td>\n",
       "      <td>29.08</td>\n",
       "      <td>3.58</td>\n",
       "      <td>6.81</td>\n",
       "      <td>0.77</td>\n",
       "      <td>NaN</td>\n",
       "      <td>NaN</td>\n",
       "      <td>NaN</td>\n",
       "      <td>40.24</td>\n",
       "    </tr>\n",
       "    <tr>\n",
       "      <th>2</th>\n",
       "      <td>Mario Kart Wii</td>\n",
       "      <td>Wii</td>\n",
       "      <td>2008</td>\n",
       "      <td>Racing</td>\n",
       "      <td>15.68</td>\n",
       "      <td>12.76</td>\n",
       "      <td>3.79</td>\n",
       "      <td>3.29</td>\n",
       "      <td>82.0</td>\n",
       "      <td>8.3</td>\n",
       "      <td>E</td>\n",
       "      <td>35.52</td>\n",
       "    </tr>\n",
       "    <tr>\n",
       "      <th>3</th>\n",
       "      <td>Wii Sports Resort</td>\n",
       "      <td>Wii</td>\n",
       "      <td>2009</td>\n",
       "      <td>Sports</td>\n",
       "      <td>15.61</td>\n",
       "      <td>10.93</td>\n",
       "      <td>3.28</td>\n",
       "      <td>2.95</td>\n",
       "      <td>80.0</td>\n",
       "      <td>8.0</td>\n",
       "      <td>E</td>\n",
       "      <td>32.77</td>\n",
       "    </tr>\n",
       "    <tr>\n",
       "      <th>4</th>\n",
       "      <td>Pokemon Red/Pokemon Blue</td>\n",
       "      <td>GB</td>\n",
       "      <td>1996</td>\n",
       "      <td>Role-Playing</td>\n",
       "      <td>11.27</td>\n",
       "      <td>8.89</td>\n",
       "      <td>10.22</td>\n",
       "      <td>1.00</td>\n",
       "      <td>NaN</td>\n",
       "      <td>NaN</td>\n",
       "      <td>NaN</td>\n",
       "      <td>31.38</td>\n",
       "    </tr>\n",
       "  </tbody>\n",
       "</table>\n",
       "</div>"
      ],
      "text/plain": [
       "                       name platform  year_of_release         genre  na_sales  \\\n",
       "0                Wii Sports      Wii             2006        Sports     41.36   \n",
       "1         Super Mario Bros.      NES             1985      Platform     29.08   \n",
       "2            Mario Kart Wii      Wii             2008        Racing     15.68   \n",
       "3         Wii Sports Resort      Wii             2009        Sports     15.61   \n",
       "4  Pokemon Red/Pokemon Blue       GB             1996  Role-Playing     11.27   \n",
       "\n",
       "   eu_sales  jp_sales  other_sales  critic_score  user_score rating  \\\n",
       "0     28.96      3.77         8.45          76.0         8.0      E   \n",
       "1      3.58      6.81         0.77           NaN         NaN    NaN   \n",
       "2     12.76      3.79         3.29          82.0         8.3      E   \n",
       "3     10.93      3.28         2.95          80.0         8.0      E   \n",
       "4      8.89     10.22         1.00           NaN         NaN    NaN   \n",
       "\n",
       "   sales_total  \n",
       "0        82.54  \n",
       "1        40.24  \n",
       "2        35.52  \n",
       "3        32.77  \n",
       "4        31.38  "
      ]
     },
     "execution_count": 19,
     "metadata": {},
     "output_type": "execute_result"
    }
   ],
   "source": [
    "data['sales_total'] = data[['na_sales', 'eu_sales', 'jp_sales', 'other_sales']].sum(axis=1)\n",
    "data.head()"
   ]
  },
  {
   "cell_type": "markdown",
   "metadata": {},
   "source": [
    "<div class=\"alert alert-success\">\n",
    "<font size=\"5\"><b>Комментарий ревьюера</b></font>\n",
    "\n",
    "Успех: Да, восстановить пропущенные значения мы не можем. Данных для этого недостаточно. Лучше работать с меньшим количеством данных хорошего качества.\n",
    "    \n",
    "Ошибки в данных устранены. Данные подготовлены к дальнейшему анализу. \n",
    "\n",
    "</div>"
   ]
  },
  {
   "cell_type": "markdown",
   "metadata": {},
   "source": [
    "### Исследовательский анализ данных"
   ]
  },
  {
   "cell_type": "markdown",
   "metadata": {},
   "source": [
    "#### Выпуск игр по годам"
   ]
  },
  {
   "cell_type": "code",
   "execution_count": 20,
   "metadata": {},
   "outputs": [
    {
     "data": {
      "text/plain": [
       "<AxesSubplot:>"
      ]
     },
     "execution_count": 20,
     "metadata": {},
     "output_type": "execute_result"
    },
    {
     "data": {
      "image/png": "[encoded data removed]",
      "text/plain": [
       "<Figure size 432x288 with 1 Axes>"
      ]
     },
     "metadata": {
      "needs_background": "light"
     },
     "output_type": "display_data"
    }
   ],
   "source": [
    "data['year_of_release'].hist(bins=100, range=(1980,2016))"
   ]
  },
  {
   "cell_type": "code",
   "execution_count": 21,
   "metadata": {},
   "outputs": [
    {
     "data": {
      "text/plain": [
       "486"
      ]
     },
     "execution_count": 21,
     "metadata": {},
     "output_type": "execute_result"
    }
   ],
   "source": [
    "len(data.query('year_of_release < 1995'))"
   ]
  },
  {
   "cell_type": "markdown",
   "metadata": {},
   "source": [
    "Гистограмма распределения показывает, что до 1995 года игры производились не так активно, возможно данный период можно вынести за рамки нашего анализа, но пока оставим."
   ]
  },
  {
   "cell_type": "markdown",
   "metadata": {},
   "source": [
    "<div class=\"alert alert-success\">\n",
    "<font size=\"5\"><b>Комментарий ревьюера</b></font>\n",
    "\n",
    "Успех: Как думаешь, с чем связан спад в индустрии последних лет?\n",
    "\n",
    "</div>"
   ]
  },
  {
   "cell_type": "markdown",
   "metadata": {},
   "source": [
    "#### Продажи по платформам"
   ]
  },
  {
   "cell_type": "code",
   "execution_count": 22,
   "metadata": {},
   "outputs": [
    {
     "data": {
      "text/html": [
       "<div>\n",
       "<style scoped>\n",
       "    .dataframe tbody tr th:only-of-type {\n",
       "        vertical-align: middle;\n",
       "    }\n",
       "\n",
       "    .dataframe tbody tr th {\n",
       "        vertical-align: top;\n",
       "    }\n",
       "\n",
       "    .dataframe thead th {\n",
       "        text-align: right;\n",
       "    }\n",
       "</style>\n",
       "<table border=\"1\" class=\"dataframe\">\n",
       "  <thead>\n",
       "    <tr style=\"text-align: right;\">\n",
       "      <th></th>\n",
       "      <th>sales_total</th>\n",
       "    </tr>\n",
       "    <tr>\n",
       "      <th>platform</th>\n",
       "      <th></th>\n",
       "    </tr>\n",
       "  </thead>\n",
       "  <tbody>\n",
       "    <tr>\n",
       "      <th>PS2</th>\n",
       "      <td>1233.56</td>\n",
       "    </tr>\n",
       "    <tr>\n",
       "      <th>X360</th>\n",
       "      <td>961.24</td>\n",
       "    </tr>\n",
       "    <tr>\n",
       "      <th>PS3</th>\n",
       "      <td>931.34</td>\n",
       "    </tr>\n",
       "    <tr>\n",
       "      <th>Wii</th>\n",
       "      <td>891.18</td>\n",
       "    </tr>\n",
       "    <tr>\n",
       "      <th>DS</th>\n",
       "      <td>802.78</td>\n",
       "    </tr>\n",
       "  </tbody>\n",
       "</table>\n",
       "</div>"
      ],
      "text/plain": [
       "          sales_total\n",
       "platform             \n",
       "PS2           1233.56\n",
       "X360           961.24\n",
       "PS3            931.34\n",
       "Wii            891.18\n",
       "DS             802.78"
      ]
     },
     "execution_count": 22,
     "metadata": {},
     "output_type": "execute_result"
    }
   ],
   "source": [
    "data.pivot_table(values='sales_total', index ='platform', aggfunc='sum').sort_values(by='sales_total', ascending=False).head()"
   ]
  },
  {
   "cell_type": "code",
   "execution_count": 23,
   "metadata": {},
   "outputs": [
    {
     "data": {
      "image/png": "[encoded data removed]",
      "text/plain": [
       "<Figure size 432x288 with 1 Axes>"
      ]
     },
     "metadata": {
      "needs_background": "light"
     },
     "output_type": "display_data"
    },
    {
     "data": {
      "image/png": "[encoded data removed]",
      "text/plain": [
       "<Figure size 432x288 with 1 Axes>"
      ]
     },
     "metadata": {
      "needs_background": "light"
     },
     "output_type": "display_data"
    },
    {
     "data": {
      "image/png": "[encoded data removed]",
      "text/plain": [
       "<Figure size 432x288 with 1 Axes>"
      ]
     },
     "metadata": {
      "needs_background": "light"
     },
     "output_type": "display_data"
    },
    {
     "data": {
      "image/png": "[encoded data removed]",
      "text/plain": [
       "<Figure size 432x288 with 1 Axes>"
      ]
     },
     "metadata": {
      "needs_background": "light"
     },
     "output_type": "display_data"
    },
    {
     "data": {
      "image/png": "[encoded data removed]",
      "text/plain": [
       "<Figure size 432x288 with 1 Axes>"
      ]
     },
     "metadata": {
      "needs_background": "light"
     },
     "output_type": "display_data"
    }
   ],
   "source": [
    "top_platforms = ['PS2', 'X360', 'PS3', 'Wii', 'DS']\n",
    "for p in top_platforms:\n",
    "    (data[data['platform'] == p]\n",
    "     .pivot_table(index='year_of_release', columns='platform', values='sales_total', aggfunc='sum')\n",
    "     .plot(kind='bar'))"
   ]
  },
  {
   "cell_type": "markdown",
   "metadata": {},
   "source": [
    "Как мы видим по графикам каждая из наиболее популярных платформ появляется, достигает пика популярности и исчезает примерно за 9-11 лет"
   ]
  },
  {
   "cell_type": "markdown",
   "metadata": {},
   "source": [
    "<div class=\"alert alert-warning\">\n",
    "<font size=\"5\"><b>Комментарий ревьюера</b></font>\n",
    "\n",
    "Совет: Значение средней продолжительности существования платформы приведено. Однако выводы ты делаешь по графикам. Стоит также привести расчет данного значения. Подумай, стоит ли включать в расчет все платформы. Будут ли выбросы по продолжительности существования платформ?\n",
    "\n",
    "</div>"
   ]
  },
  {
   "cell_type": "markdown",
   "metadata": {},
   "source": [
    "#### Актуальный период"
   ]
  },
  {
   "cell_type": "markdown",
   "metadata": {},
   "source": [
    "В качестве актуального периода, данные за который будут использоваться для прогноизрования 2017 года, возьмем 5-тилетний период до, с 2012 по 2016 годы."
   ]
  },
  {
   "cell_type": "code",
   "execution_count": 24,
   "metadata": {
    "scrolled": true
   },
   "outputs": [
    {
     "data": {
      "text/html": [
       "<div>\n",
       "<style scoped>\n",
       "    .dataframe tbody tr th:only-of-type {\n",
       "        vertical-align: middle;\n",
       "    }\n",
       "\n",
       "    .dataframe tbody tr th {\n",
       "        vertical-align: top;\n",
       "    }\n",
       "\n",
       "    .dataframe thead th {\n",
       "        text-align: right;\n",
       "    }\n",
       "</style>\n",
       "<table border=\"1\" class=\"dataframe\">\n",
       "  <thead>\n",
       "    <tr style=\"text-align: right;\">\n",
       "      <th></th>\n",
       "      <th>name</th>\n",
       "      <th>platform</th>\n",
       "      <th>year_of_release</th>\n",
       "      <th>genre</th>\n",
       "      <th>na_sales</th>\n",
       "      <th>eu_sales</th>\n",
       "      <th>jp_sales</th>\n",
       "      <th>other_sales</th>\n",
       "      <th>critic_score</th>\n",
       "      <th>user_score</th>\n",
       "      <th>rating</th>\n",
       "      <th>sales_total</th>\n",
       "    </tr>\n",
       "  </thead>\n",
       "  <tbody>\n",
       "    <tr>\n",
       "      <th>16</th>\n",
       "      <td>Grand Theft Auto V</td>\n",
       "      <td>PS3</td>\n",
       "      <td>2013</td>\n",
       "      <td>Action</td>\n",
       "      <td>7.02</td>\n",
       "      <td>9.09</td>\n",
       "      <td>0.98</td>\n",
       "      <td>3.96</td>\n",
       "      <td>97.0</td>\n",
       "      <td>8.2</td>\n",
       "      <td>M</td>\n",
       "      <td>21.05</td>\n",
       "    </tr>\n",
       "    <tr>\n",
       "      <th>23</th>\n",
       "      <td>Grand Theft Auto V</td>\n",
       "      <td>X360</td>\n",
       "      <td>2013</td>\n",
       "      <td>Action</td>\n",
       "      <td>9.66</td>\n",
       "      <td>5.14</td>\n",
       "      <td>0.06</td>\n",
       "      <td>1.41</td>\n",
       "      <td>97.0</td>\n",
       "      <td>8.1</td>\n",
       "      <td>M</td>\n",
       "      <td>16.27</td>\n",
       "    </tr>\n",
       "    <tr>\n",
       "      <th>31</th>\n",
       "      <td>Call of Duty: Black Ops 3</td>\n",
       "      <td>PS4</td>\n",
       "      <td>2015</td>\n",
       "      <td>Shooter</td>\n",
       "      <td>6.03</td>\n",
       "      <td>5.86</td>\n",
       "      <td>0.36</td>\n",
       "      <td>2.38</td>\n",
       "      <td>NaN</td>\n",
       "      <td>NaN</td>\n",
       "      <td>NaN</td>\n",
       "      <td>14.63</td>\n",
       "    </tr>\n",
       "    <tr>\n",
       "      <th>33</th>\n",
       "      <td>Pokemon X/Pokemon Y</td>\n",
       "      <td>3DS</td>\n",
       "      <td>2013</td>\n",
       "      <td>Role-Playing</td>\n",
       "      <td>5.28</td>\n",
       "      <td>4.19</td>\n",
       "      <td>4.35</td>\n",
       "      <td>0.78</td>\n",
       "      <td>NaN</td>\n",
       "      <td>NaN</td>\n",
       "      <td>NaN</td>\n",
       "      <td>14.60</td>\n",
       "    </tr>\n",
       "    <tr>\n",
       "      <th>34</th>\n",
       "      <td>Call of Duty: Black Ops II</td>\n",
       "      <td>PS3</td>\n",
       "      <td>2012</td>\n",
       "      <td>Shooter</td>\n",
       "      <td>4.99</td>\n",
       "      <td>5.73</td>\n",
       "      <td>0.65</td>\n",
       "      <td>2.42</td>\n",
       "      <td>83.0</td>\n",
       "      <td>5.3</td>\n",
       "      <td>M</td>\n",
       "      <td>13.79</td>\n",
       "    </tr>\n",
       "  </tbody>\n",
       "</table>\n",
       "</div>"
      ],
      "text/plain": [
       "                          name platform  year_of_release         genre  \\\n",
       "16          Grand Theft Auto V      PS3             2013        Action   \n",
       "23          Grand Theft Auto V     X360             2013        Action   \n",
       "31   Call of Duty: Black Ops 3      PS4             2015       Shooter   \n",
       "33         Pokemon X/Pokemon Y      3DS             2013  Role-Playing   \n",
       "34  Call of Duty: Black Ops II      PS3             2012       Shooter   \n",
       "\n",
       "    na_sales  eu_sales  jp_sales  other_sales  critic_score  user_score  \\\n",
       "16      7.02      9.09      0.98         3.96          97.0         8.2   \n",
       "23      9.66      5.14      0.06         1.41          97.0         8.1   \n",
       "31      6.03      5.86      0.36         2.38           NaN         NaN   \n",
       "33      5.28      4.19      4.35         0.78           NaN         NaN   \n",
       "34      4.99      5.73      0.65         2.42          83.0         5.3   \n",
       "\n",
       "   rating  sales_total  \n",
       "16      M        21.05  \n",
       "23      M        16.27  \n",
       "31    NaN        14.63  \n",
       "33    NaN        14.60  \n",
       "34      M        13.79  "
      ]
     },
     "execution_count": 24,
     "metadata": {},
     "output_type": "execute_result"
    }
   ],
   "source": [
    "data_good = data.loc[data['year_of_release'] > 2011]\n",
    "data_good.head()"
   ]
  },
  {
   "cell_type": "code",
   "execution_count": 25,
   "metadata": {},
   "outputs": [
    {
     "name": "stdout",
     "output_type": "stream",
     "text": [
      "<class 'pandas.core.frame.DataFrame'>\n",
      "Int64Index: 2886 entries, 16 to 16443\n",
      "Data columns (total 12 columns):\n",
      " #   Column           Non-Null Count  Dtype  \n",
      "---  ------           --------------  -----  \n",
      " 0   name             2886 non-null   object \n",
      " 1   platform         2886 non-null   object \n",
      " 2   year_of_release  2886 non-null   Int64  \n",
      " 3   genre            2886 non-null   object \n",
      " 4   na_sales         2886 non-null   float64\n",
      " 5   eu_sales         2886 non-null   float64\n",
      " 6   jp_sales         2886 non-null   float64\n",
      " 7   other_sales      2886 non-null   float64\n",
      " 8   critic_score     1312 non-null   float64\n",
      " 9   user_score       1531 non-null   float64\n",
      " 10  rating           1611 non-null   object \n",
      " 11  sales_total      2886 non-null   float64\n",
      "dtypes: Int64(1), float64(7), object(4)\n",
      "memory usage: 295.9+ KB\n"
     ]
    }
   ],
   "source": [
    "data_good.info()"
   ]
  },
  {
   "cell_type": "markdown",
   "metadata": {},
   "source": [
    "<div class=\"alert alert-success\">\n",
    "<font size=\"5\"><b>Комментарий ревьюера</b></font>\n",
    "\n",
    "Успех: Актуальный период назван. Так в рассмотрение попадут только последние поколения платформ, а также будем рассматривать только конечный на данный момент интервал развития игровой индустрии. \n",
    "\n",
    "</div>"
   ]
  },
  {
   "cell_type": "code",
   "execution_count": 26,
   "metadata": {},
   "outputs": [
    {
     "data": {
      "text/html": [
       "<div>\n",
       "<style scoped>\n",
       "    .dataframe tbody tr th:only-of-type {\n",
       "        vertical-align: middle;\n",
       "    }\n",
       "\n",
       "    .dataframe tbody tr th {\n",
       "        vertical-align: top;\n",
       "    }\n",
       "\n",
       "    .dataframe thead th {\n",
       "        text-align: right;\n",
       "    }\n",
       "</style>\n",
       "<table border=\"1\" class=\"dataframe\">\n",
       "  <thead>\n",
       "    <tr style=\"text-align: right;\">\n",
       "      <th></th>\n",
       "      <th>sales_total</th>\n",
       "    </tr>\n",
       "    <tr>\n",
       "      <th>platform</th>\n",
       "      <th></th>\n",
       "    </tr>\n",
       "  </thead>\n",
       "  <tbody>\n",
       "    <tr>\n",
       "      <th>PS4</th>\n",
       "      <td>314.14</td>\n",
       "    </tr>\n",
       "    <tr>\n",
       "      <th>PS3</th>\n",
       "      <td>288.79</td>\n",
       "    </tr>\n",
       "    <tr>\n",
       "      <th>X360</th>\n",
       "      <td>236.54</td>\n",
       "    </tr>\n",
       "    <tr>\n",
       "      <th>3DS</th>\n",
       "      <td>194.61</td>\n",
       "    </tr>\n",
       "    <tr>\n",
       "      <th>XOne</th>\n",
       "      <td>159.32</td>\n",
       "    </tr>\n",
       "  </tbody>\n",
       "</table>\n",
       "</div>"
      ],
      "text/plain": [
       "          sales_total\n",
       "platform             \n",
       "PS4            314.14\n",
       "PS3            288.79\n",
       "X360           236.54\n",
       "3DS            194.61\n",
       "XOne           159.32"
      ]
     },
     "execution_count": 26,
     "metadata": {},
     "output_type": "execute_result"
    }
   ],
   "source": [
    "data_good.pivot_table(values='sales_total', index ='platform', aggfunc='sum').sort_values(by='sales_total', ascending=False).head()"
   ]
  },
  {
   "cell_type": "markdown",
   "metadata": {},
   "source": [
    "Список платформ лидеров за 2012-2016 годы выглядит так: PS4, PS3, X360, 3DS, XOne"
   ]
  },
  {
   "cell_type": "code",
   "execution_count": 27,
   "metadata": {},
   "outputs": [],
   "source": [
    "platforms = data_good['platform'].unique()"
   ]
  },
  {
   "cell_type": "code",
   "execution_count": 28,
   "metadata": {},
   "outputs": [
    {
     "data": {
      "image/png": "[encoded data removed]",
      "text/plain": [
       "<Figure size 432x288 with 1 Axes>"
      ]
     },
     "metadata": {
      "needs_background": "light"
     },
     "output_type": "display_data"
    },
    {
     "data": {
      "image/png": "[encoded data removed]",
      "text/plain": [
       "<Figure size 432x288 with 1 Axes>"
      ]
     },
     "metadata": {
      "needs_background": "light"
     },
     "output_type": "display_data"
    },
    {
     "data": {
      "image/png": "[encoded data removed]",
      "text/plain": [
       "<Figure size 432x288 with 1 Axes>"
      ]
     },
     "metadata": {
      "needs_background": "light"
     },
     "output_type": "display_data"
    },
    {
     "data": {
      "image/png": "[encoded data removed]",
      "text/plain": [
       "<Figure size 432x288 with 1 Axes>"
      ]
     },
     "metadata": {
      "needs_background": "light"
     },
     "output_type": "display_data"
    },
    {
     "data": {
      "image/png": "[encoded data removed]",
      "text/plain": [
       "<Figure size 432x288 with 1 Axes>"
      ]
     },
     "metadata": {
      "needs_background": "light"
     },
     "output_type": "display_data"
    },
    {
     "data": {
      "image/png": "[encoded data removed]",
      "text/plain": [
       "<Figure size 432x288 with 1 Axes>"
      ]
     },
     "metadata": {
      "needs_background": "light"
     },
     "output_type": "display_data"
    },
    {
     "data": {
      "image/png": "[encoded data removed]",
      "text/plain": [
       "<Figure size 432x288 with 1 Axes>"
      ]
     },
     "metadata": {
      "needs_background": "light"
     },
     "output_type": "display_data"
    },
    {
     "data": {
      "image/png": "[encoded data removed]",
      "text/plain": [
       "<Figure size 432x288 with 1 Axes>"
      ]
     },
     "metadata": {
      "needs_background": "light"
     },
     "output_type": "display_data"
    },
    {
     "data": {
      "image/png": "[encoded data removed]",
      "text/plain": [
       "<Figure size 432x288 with 1 Axes>"
      ]
     },
     "metadata": {
      "needs_background": "light"
     },
     "output_type": "display_data"
    },
    {
     "data": {
      "image/png": "[encoded data removed]",
      "text/plain": [
       "<Figure size 432x288 with 1 Axes>"
      ]
     },
     "metadata": {
      "needs_background": "light"
     },
     "output_type": "display_data"
    },
    {
     "data": {
      "image/png": "[encoded data removed]",
      "text/plain": [
       "<Figure size 432x288 with 1 Axes>"
      ]
     },
     "metadata": {
      "needs_background": "light"
     },
     "output_type": "display_data"
    }
   ],
   "source": [
    "for p in platforms:\n",
    "    (data_good[data_good['platform'] == p]\n",
    "     .pivot_table(index='year_of_release', columns='platform', values='sales_total', aggfunc='sum')\n",
    "     .plot(kind='bar'))"
   ]
  },
  {
   "cell_type": "markdown",
   "metadata": {},
   "source": [
    "Роста продаж не фиксируется ни по одной из актуальных платформ. Данные по DS и PSP не обновляются с 2013 и 2015 года соответственно.\n",
    "\n",
    "При этом продажи по PS4 и XOne постоянно росли с 2013 по 2015 год включительно. Падение в 2016 может быть связано с двумя причинами: 1) стало выпускаться меньше игр; 2) данные за 2016 год могут быть не полными, например, только за половину года.\n"
   ]
  },
  {
   "cell_type": "markdown",
   "metadata": {},
   "source": [
    "<div class=\"alert alert-success\">\n",
    "<font size=\"5\"><b>Комментарий ревьюера</b></font>\n",
    "\n",
    "Успех: Да, именно эти платформы мы и можем назвать перспективными на 2017 год. \n",
    "\n",
    "</div>"
   ]
  },
  {
   "cell_type": "markdown",
   "metadata": {},
   "source": [
    "#### Boxplot"
   ]
  },
  {
   "cell_type": "code",
   "execution_count": 29,
   "metadata": {},
   "outputs": [
    {
     "data": {
      "text/plain": [
       "<AxesSubplot:>"
      ]
     },
     "execution_count": 29,
     "metadata": {},
     "output_type": "execute_result"
    },
    {
     "data": {
      "image/png": "[encoded data removed]",
      "text/plain": [
       "<Figure size 1440x720 with 1 Axes>"
      ]
     },
     "metadata": {
      "needs_background": "light"
     },
     "output_type": "display_data"
    }
   ],
   "source": [
    "data_good.pivot_table(index='name', columns='platform', values='sales_total', aggfunc='sum').boxplot(grid=True, figsize=(20, 10))"
   ]
  },
  {
   "cell_type": "markdown",
   "metadata": {},
   "source": [
    "Наиболее большие выбросы в общих продажах наблюдаются у PS3, PS4, X360 и 3DS. Это говорит о том, что на этих платформах были представлены игры, которые оказались экстремально популярны среди игроков"
   ]
  },
  {
   "cell_type": "markdown",
   "metadata": {},
   "source": [
    "<div class=\"alert alert-warning\">\n",
    "<font size=\"5\"><b>Комментарий ревьюера</b></font>\n",
    " \n",
    "Совет: Подумай, из-за чего формируется разница между платформами. Старайся не только описывать результат, но и трактовать его. \n",
    "\n",
    "</div>"
   ]
  },
  {
   "cell_type": "markdown",
   "metadata": {},
   "source": [
    "#### Влияние оценок игроков на общие продажи внутри топовых платформ"
   ]
  },
  {
   "cell_type": "code",
   "execution_count": 30,
   "metadata": {},
   "outputs": [],
   "source": [
    "top_platforms_good = ['PS4', 'PS3', 'X360', '3DS', 'XOne']"
   ]
  },
  {
   "cell_type": "code",
   "execution_count": 31,
   "metadata": {},
   "outputs": [
    {
     "name": "stdout",
     "output_type": "stream",
     "text": [
      "PS4\n",
      "-0.031957110204556376\n",
      "PS3\n",
      "-0.005143522887113828\n",
      "X360\n",
      "0.0061639786462133256\n",
      "3DS\n",
      "0.19758263411038596\n",
      "XOne\n",
      "-0.06892505328279412\n"
     ]
    }
   ],
   "source": [
    "for plat in top_platforms_good:\n",
    "    print(plat)\n",
    "    print(data_good[data_good['platform'] == plat]['sales_total'].corr(data['user_score']))"
   ]
  },
  {
   "cell_type": "markdown",
   "metadata": {},
   "source": [
    "Сколько-нибудь заметное влияние оценок игроков на общие продажи наблюдается только на платформе 3DS."
   ]
  },
  {
   "cell_type": "code",
   "execution_count": 32,
   "metadata": {},
   "outputs": [
    {
     "data": {
      "text/plain": [
       "<AxesSubplot:xlabel='user_score', ylabel='sales_total'>"
      ]
     },
     "execution_count": 32,
     "metadata": {},
     "output_type": "execute_result"
    },
    {
     "data": {
      "image/png": "[encoded data removed]",
      "text/plain": [
       "<Figure size 576x576 with 1 Axes>"
      ]
     },
     "metadata": {
      "needs_background": "light"
     },
     "output_type": "display_data"
    }
   ],
   "source": [
    "data_good[data_good['platform']=='3DS'].plot(x='user_score', y='sales_total', kind='scatter', alpha=0.5, figsize=(8,8), grid=True)"
   ]
  },
  {
   "cell_type": "markdown",
   "metadata": {},
   "source": [
    "Диаграмма рассеяния, построенная на данных по платформе 3DS подтверждает, что есть зависимость между оценками игроков и количеством проданных игр. Игра с высоким рейтингом с большей вероятностью станет популярнее."
   ]
  },
  {
   "cell_type": "markdown",
   "metadata": {},
   "source": [
    "<div class=\"alert alert-danger\">\n",
    "<font size=\"5\"><b>Комментарий ревьюера</b></font>\n",
    "\n",
    "Ошибка: Также нас просят провести оценки влияния отзывов критиков. Дополни данный раздел работы. \n",
    "\n",
    "</div>"
   ]
  },
  {
   "cell_type": "code",
   "execution_count": 33,
   "metadata": {
    "scrolled": true
   },
   "outputs": [
    {
     "name": "stdout",
     "output_type": "stream",
     "text": [
      "PS4\n",
      "0.406567902061781\n",
      "PS3\n",
      "0.3314972592629587\n",
      "X360\n",
      "0.36057348885073365\n",
      "3DS\n",
      "0.32080286953607845\n",
      "XOne\n",
      "0.41699832800840175\n"
     ]
    }
   ],
   "source": [
    "for plat in top_platforms_good:\n",
    "    print(plat)\n",
    "    print(data_good[data_good['platform'] == plat]['sales_total'].corr(data['critic_score']))"
   ]
  },
  {
   "cell_type": "markdown",
   "metadata": {},
   "source": [
    "Оценка корреляции для каждой платформы превышает 0,3, что говорит о наличии влияния оценки критиков на продажи внутри всех платформ. Наибольшее влияние между данными показателями наблюдается у платформы XOne"
   ]
  },
  {
   "cell_type": "code",
   "execution_count": 34,
   "metadata": {
    "scrolled": true
   },
   "outputs": [
    {
     "data": {
      "text/plain": [
       "<AxesSubplot:xlabel='critic_score', ylabel='sales_total'>"
      ]
     },
     "execution_count": 34,
     "metadata": {},
     "output_type": "execute_result"
    },
    {
     "data": {
      "image/png": "[encoded data removed]",
      "text/plain": [
       "<Figure size 576x576 with 1 Axes>"
      ]
     },
     "metadata": {
      "needs_background": "light"
     },
     "output_type": "display_data"
    }
   ],
   "source": [
    "data_good[data_good['platform']=='XOne'].plot(x='critic_score', y='sales_total', kind='scatter', alpha=0.5, figsize=(8,8), grid=True)"
   ]
  },
  {
   "cell_type": "markdown",
   "metadata": {},
   "source": [
    "Диаграмма рассеяния, построенная на данных по платформе XOne подтверждает, что есть зависимость между оценками критиков и количеством проданных игр. Игра с высоким рейтингом критика на данной платформе с большей вероятностью станет популярнее."
   ]
  },
  {
   "cell_type": "markdown",
   "metadata": {},
   "source": [
    "<div class=\"alert alert-success\">\n",
    "<font size=\"5\"><b>Комментарий ревьюера 2</b></font>\n",
    "\n",
    "Успех: Результат получен. Подумай, чем он вызван. Здорово, что рассмотрены несколько платформ. \n",
    "\n",
    "</div>"
   ]
  },
  {
   "cell_type": "markdown",
   "metadata": {},
   "source": [
    "#### Жанры"
   ]
  },
  {
   "cell_type": "code",
   "execution_count": 35,
   "metadata": {},
   "outputs": [
    {
     "data": {
      "text/html": [
       "<div>\n",
       "<style scoped>\n",
       "    .dataframe tbody tr th:only-of-type {\n",
       "        vertical-align: middle;\n",
       "    }\n",
       "\n",
       "    .dataframe tbody tr th {\n",
       "        vertical-align: top;\n",
       "    }\n",
       "\n",
       "    .dataframe thead th {\n",
       "        text-align: right;\n",
       "    }\n",
       "</style>\n",
       "<table border=\"1\" class=\"dataframe\">\n",
       "  <thead>\n",
       "    <tr style=\"text-align: right;\">\n",
       "      <th></th>\n",
       "      <th>sales_total</th>\n",
       "    </tr>\n",
       "    <tr>\n",
       "      <th>genre</th>\n",
       "      <th></th>\n",
       "    </tr>\n",
       "  </thead>\n",
       "  <tbody>\n",
       "    <tr>\n",
       "      <th>Action</th>\n",
       "      <td>441.12</td>\n",
       "    </tr>\n",
       "    <tr>\n",
       "      <th>Shooter</th>\n",
       "      <td>304.73</td>\n",
       "    </tr>\n",
       "    <tr>\n",
       "      <th>Role-Playing</th>\n",
       "      <td>192.80</td>\n",
       "    </tr>\n",
       "    <tr>\n",
       "      <th>Sports</th>\n",
       "      <td>181.07</td>\n",
       "    </tr>\n",
       "    <tr>\n",
       "      <th>Misc</th>\n",
       "      <td>85.04</td>\n",
       "    </tr>\n",
       "    <tr>\n",
       "      <th>Platform</th>\n",
       "      <td>61.00</td>\n",
       "    </tr>\n",
       "    <tr>\n",
       "      <th>Racing</th>\n",
       "      <td>53.50</td>\n",
       "    </tr>\n",
       "    <tr>\n",
       "      <th>Fighting</th>\n",
       "      <td>44.49</td>\n",
       "    </tr>\n",
       "    <tr>\n",
       "      <th>Simulation</th>\n",
       "      <td>35.12</td>\n",
       "    </tr>\n",
       "    <tr>\n",
       "      <th>Adventure</th>\n",
       "      <td>29.43</td>\n",
       "    </tr>\n",
       "    <tr>\n",
       "      <th>Strategy</th>\n",
       "      <td>13.34</td>\n",
       "    </tr>\n",
       "    <tr>\n",
       "      <th>Puzzle</th>\n",
       "      <td>4.89</td>\n",
       "    </tr>\n",
       "  </tbody>\n",
       "</table>\n",
       "</div>"
      ],
      "text/plain": [
       "              sales_total\n",
       "genre                    \n",
       "Action             441.12\n",
       "Shooter            304.73\n",
       "Role-Playing       192.80\n",
       "Sports             181.07\n",
       "Misc                85.04\n",
       "Platform            61.00\n",
       "Racing              53.50\n",
       "Fighting            44.49\n",
       "Simulation          35.12\n",
       "Adventure           29.43\n",
       "Strategy            13.34\n",
       "Puzzle               4.89"
      ]
     },
     "execution_count": 35,
     "metadata": {},
     "output_type": "execute_result"
    }
   ],
   "source": [
    "data_genre = data_good.pivot_table(index='genre', values='sales_total', aggfunc='sum').sort_values(by = 'sales_total', ascending=False)\n",
    "data_genre"
   ]
  },
  {
   "cell_type": "code",
   "execution_count": 36,
   "metadata": {},
   "outputs": [
    {
     "data": {
      "text/plain": [
       "count     12.000000\n",
       "mean     120.544167\n",
       "std      135.220519\n",
       "min        4.890000\n",
       "25%       33.697500\n",
       "50%       57.250000\n",
       "75%      184.002500\n",
       "max      441.120000\n",
       "Name: sales_total, dtype: float64"
      ]
     },
     "execution_count": 36,
     "metadata": {},
     "output_type": "execute_result"
    }
   ],
   "source": [
    "data_genre['sales_total'].describe()"
   ]
  },
  {
   "cell_type": "markdown",
   "metadata": {},
   "source": [
    "К наиболее популярным можно отнести такие жанры как Action, Shooter, Role-Playing. К наименее популярным - Adventure, Strategy, Puzzle "
   ]
  },
  {
   "cell_type": "markdown",
   "metadata": {},
   "source": [
    "<div class=\"alert alert-success\">\n",
    "<font size=\"5\"><b>Комментарий ревьюера</b></font>\n",
    "\n",
    "Успех: Анализ популярности жанров проведен. Однако не стоит забывать, что производство игр в жанрах Action или Shooter обходится сильно дороже, чем производство Puzzle-игр. \n",
    "\n",
    "</div>"
   ]
  },
  {
   "cell_type": "markdown",
   "metadata": {},
   "source": [
    "### Портрет пользователя каждого региона"
   ]
  },
  {
   "cell_type": "markdown",
   "metadata": {},
   "source": [
    "#### Топ-5 платформ"
   ]
  },
  {
   "cell_type": "code",
   "execution_count": 37,
   "metadata": {},
   "outputs": [
    {
     "data": {
      "image/png": "[encoded data removed]",
      "text/plain": [
       "<Figure size 432x288 with 4 Axes>"
      ]
     },
     "metadata": {},
     "output_type": "display_data"
    }
   ],
   "source": [
    "regions = ['na_sales', 'jp_sales', 'eu_sales', 'other_sales']\n",
    "\n",
    "fig, ax = plt.subplots(1,4)\n",
    "\n",
    "for i in range(4):\n",
    "    df_platform = (data_good.groupby('platform')[regions[i]].sum().\n",
    "             reset_index().\n",
    "             sort_values(regions[i], ascending = False, ignore_index = True).\n",
    "             head(5))\n",
    "    \n",
    "    df_platform = (df_platform.\n",
    "                     append({\n",
    "                         'platform': 'other_platform',\n",
    "                         regions[i]: data_good[regions[i]].sum() - df_platform[regions[i]].sum()}, \n",
    "                         ignore_index= True))\n",
    "            \n",
    "    ax[i].pie(df_platform[regions[i]], labels = df_platform['platform'], autopct='%1.1f%%')\n",
    "    ax[i].axis('equal')\n",
    "    ax[i].set_title(df_platform.columns[1].split(' ')[0].upper())\n",
    "    \n",
    "plt.show()"
   ]
  },
  {
   "cell_type": "markdown",
   "metadata": {},
   "source": [
    "В странах Северной Америки по продажам лидирует платформа X360, в Японии - 3DS, а в Европе и других странах - PS4"
   ]
  },
  {
   "cell_type": "markdown",
   "metadata": {},
   "source": [
    "<div class=\"alert alert-warning\">\n",
    "<font size=\"5\"><b>Комментарий ревьюера</b></font>\n",
    " \n",
    "Совет: Не следует использовать пироговые диаграммы (pie-charts). Такая диаграмма затрудняет понимание, особенно если сегментов будет больше 4х. Также, на этом типе диаграмм сложно визуально увидеть разницу между сегментами. Рекомендую использовать обычные столбчатые диаграммы вместо пироговых диаграмм. \n",
    "\n",
    "</div>"
   ]
  },
  {
   "cell_type": "markdown",
   "metadata": {},
   "source": [
    "#### Топ-5 жанров"
   ]
  },
  {
   "cell_type": "code",
   "execution_count": 38,
   "metadata": {},
   "outputs": [
    {
     "data": {
      "image/png": "[encoded data removed]",
      "text/plain": [
       "<Figure size 432x288 with 4 Axes>"
      ]
     },
     "metadata": {},
     "output_type": "display_data"
    }
   ],
   "source": [
    "fig, ax = plt.subplots(1,4)\n",
    "\n",
    "for i in range(4):\n",
    "    df_genre = (data_good.groupby('genre')[regions[i]].sum().\n",
    "             reset_index().\n",
    "             sort_values(regions[i], ascending = False, ignore_index = True).\n",
    "             head(5))\n",
    "    \n",
    "    df_genre = (df_genre.\n",
    "                     append({\n",
    "                         'genre': 'other_genre',\n",
    "                         regions[i]: data_good[regions[i]].sum() - df_genre[regions[i]].sum()}, \n",
    "                         ignore_index= True))\n",
    "            \n",
    "    ax[i].pie(df_genre[regions[i]], labels = df_genre['genre'], autopct='%1.1f%%')\n",
    "    ax[i].axis('equal')\n",
    "    ax[i].set_title(df_genre.columns[1].split(' ')[0].upper())\n",
    "    \n",
    "plt.show()"
   ]
  },
  {
   "cell_type": "markdown",
   "metadata": {},
   "source": [
    "Во всех регионах, кроме Японии, среди жанров лидирует Action, на втором месте находится Shooter. В Японии первое место занимает Role-Playing, а Action находится на втором"
   ]
  },
  {
   "cell_type": "markdown",
   "metadata": {},
   "source": [
    "<div class=\"alert alert-success\">\n",
    "<font size=\"5\"><b>Комментарий ревьюера</b></font>\n",
    " \n",
    "Совет: Из-за чего японский рынок игр так сильно отличается от других? \n",
    "\n",
    "</div>"
   ]
  },
  {
   "cell_type": "markdown",
   "metadata": {},
   "source": [
    "#### Топ-5 рейтингов"
   ]
  },
  {
   "cell_type": "code",
   "execution_count": 39,
   "metadata": {},
   "outputs": [
    {
     "data": {
      "image/png": "[encoded data removed]",
      "text/plain": [
       "<Figure size 432x288 with 4 Axes>"
      ]
     },
     "metadata": {},
     "output_type": "display_data"
    }
   ],
   "source": [
    "fig, ax = plt.subplots(1,4)\n",
    "\n",
    "for i in range(4):\n",
    "    df_rating = (data_good.groupby('rating')[regions[i]].sum().\n",
    "             reset_index().\n",
    "             sort_values(regions[i], ascending = False, ignore_index = True).\n",
    "             head(5))\n",
    "    \n",
    "    df_rating = (df_rating.\n",
    "                     append({\n",
    "                         'rating': 'other_rating',\n",
    "                         regions[i]: data_good[regions[i]].sum() - df_rating[regions[i]].sum()}, \n",
    "                         ignore_index= True))\n",
    "            \n",
    "    ax[i].pie(df_rating[regions[i]], labels = df_rating['rating'], autopct='%1.1f%%')\n",
    "    ax[i].axis('equal')\n",
    "    ax[i].set_title(df_rating.columns[1].split(' ')[0].upper())\n",
    "    \n",
    "plt.show()"
   ]
  },
  {
   "cell_type": "markdown",
   "metadata": {},
   "source": [
    "Во всех регионах, кроме Японии наиболее распротраненный рейтинг - М (mature), далее следует Е (everyone). В Японии рейтинг не играет такой роли как в других странах."
   ]
  },
  {
   "cell_type": "markdown",
   "metadata": {},
   "source": [
    "<div class=\"alert alert-success\">\n",
    "<font size=\"5\"><b>Комментарий ревьюера</b></font>\n",
    "\n",
    "Успех: Портрет типичного пользователя каждого из регионов получен. Приведены все необходимые графики. Здорово, что отмечены индивидуальные особенности каждого региона. \n",
    "\n",
    "</div>"
   ]
  },
  {
   "cell_type": "markdown",
   "metadata": {},
   "source": [
    "### Проверка гипотез"
   ]
  },
  {
   "cell_type": "markdown",
   "metadata": {},
   "source": [
    "#### Гипотеза один\n",
    "\n",
    "Средние пользовательские рейтинги платформ Xbox One и PC одинаковые"
   ]
  },
  {
   "cell_type": "code",
   "execution_count": 40,
   "metadata": {},
   "outputs": [],
   "source": [
    "data_hypo = data_good.dropna(subset = ['user_score'])"
   ]
  },
  {
   "cell_type": "code",
   "execution_count": 41,
   "metadata": {},
   "outputs": [
    {
     "data": {
      "text/plain": [
       "array([8.2, 8.1, 5.3, 4.8, 8.3, 2.6, 7.2, 7. , 8.7, 4.3, 6.6, 5.7, 5. ,\n",
       "       6.5, 9.1, 7.3, 6.9, 6.1, 7.9, 6.7, 5.4, 4. , 8.4, 6.4, 3.4, 8.5,\n",
       "       9. , 4.9, 4.5, 6.2, 4.2, 6.3, 7.7, 9.2, 7.6, 3.7, 4.1, 5.8, 5.6,\n",
       "       6.8, 5.5, 7.5, 4.4, 5.9, 8.9, 3.9, 8.6, 7.8, 3.2, 8. , 3.1, 7.4,\n",
       "       6. , 4.7, 7.1, 8.8, 5.1, 3.5, 3. , 2.9, 2.7, 2.2, 5.2, 3.8, 4.6,\n",
       "       3.3, 9.3, 1.6, 3.6, 2.4, 2.8, 1.8, 1.7, 2.1, 2. , 1.5, 0.7, 2.5,\n",
       "       0.2, 1.9, 1.3, 1. , 1.4, 2.3])"
      ]
     },
     "execution_count": 41,
     "metadata": {},
     "output_type": "execute_result"
    }
   ],
   "source": [
    "data_hypo['user_score'].unique()"
   ]
  },
  {
   "cell_type": "markdown",
   "metadata": {},
   "source": [
    "<b>H0:</b> Средние пользовательские рейтинги платформ Xbox One и PC одинаковые\n",
    "\n",
    "<b>H1:</b> Средние пользовательские рейтинги платформ Xbox One и PC не одинаковые"
   ]
  },
  {
   "cell_type": "code",
   "execution_count": 42,
   "metadata": {},
   "outputs": [
    {
     "name": "stdout",
     "output_type": "stream",
     "text": [
      "p-значение: 0.5535080500643661\n",
      "Не получилось отвергнуть нулевую гипотезу\n"
     ]
    }
   ],
   "source": [
    "alpha = 0.05\n",
    "\n",
    "results = st.ttest_ind(data_hypo[data_hypo['platform'] == 'PC']['user_score'], data_hypo[data_hypo['platform'] == 'XOne']['user_score'])\n",
    "\n",
    "print('p-значение:', results.pvalue)\n",
    "\n",
    "if results.pvalue < alpha:\n",
    "    print('Отвергаем нулевую гипотезу')\n",
    "else:\n",
    "    print('Не получилось отвергнуть нулевую гипотезу')"
   ]
  },
  {
   "cell_type": "markdown",
   "metadata": {},
   "source": [
    "Таким образом мы не можем сказать, что пользовательские рейтинги платформ Xbox One и PC разные"
   ]
  },
  {
   "cell_type": "markdown",
   "metadata": {},
   "source": [
    "<div class=\"alert alert-danger\">\n",
    "<font size=\"5\"><b>Комментарий ревьюера</b></font>\n",
    "\n",
    "Ошибка: Пропиши отдельно Н0 и Н1. Помни, что нулевая гипотеза всегда формулируется с учетом знака равенства. При проверке результата мы сравниваем pvalue с alpha. При получении pvalue меньше alpha мы отклоняем нулевую гипотезу в пользу альтернативной. Знака неравенства при сравнении данных величин у нас нет. \n",
    "\n",
    "</div>"
   ]
  },
  {
   "cell_type": "markdown",
   "metadata": {},
   "source": [
    "<div class=\"alert alert-success\">\n",
    "<font size=\"5\"><b>Комментарий ревьюера 2</b></font>\n",
    "\n",
    "Успех: Гипотезы сформулированы и проверены верно. \n",
    "\n",
    "</div>"
   ]
  },
  {
   "cell_type": "markdown",
   "metadata": {},
   "source": [
    "#### Гипотеза два\n",
    "\n",
    "Средние пользовательские рейтинги жанров Action (англ. «действие», экшен-игры) и Sports (англ. «спортивные соревнования») разные"
   ]
  },
  {
   "cell_type": "markdown",
   "metadata": {},
   "source": [
    "<b>H0:</b> Средние пользовательские рейтинги жанров Action (англ. «действие», экшен-игры) и Sports (англ. «спортивные соревнования») разные\n",
    "\n",
    "<b>H1:</b> Средние пользовательские рейтинги жанров Action (англ. «действие», экшен-игры) и Sports (англ. «спортивные соревнования») не разные"
   ]
  },
  {
   "cell_type": "code",
   "execution_count": 43,
   "metadata": {},
   "outputs": [
    {
     "name": "stdout",
     "output_type": "stream",
     "text": [
      "p-значение: 3.7163089460934874e-26\n",
      "Отвергаем нулевую гипотезу\n"
     ]
    }
   ],
   "source": [
    "alpha = 0.05\n",
    "\n",
    "results = st.ttest_ind(data_hypo[data_hypo['genre'] == 'Action']['user_score'], data_hypo[data_hypo['genre'] == 'Sports']['user_score'])\n",
    "\n",
    "print('p-значение:', results.pvalue)\n",
    "\n",
    "if results.pvalue < alpha:\n",
    "    print('Отвергаем нулевую гипотезу')\n",
    "else:\n",
    "    print('Не получилось отвергнуть нулевую гипотезу')"
   ]
  },
  {
   "cell_type": "markdown",
   "metadata": {},
   "source": [
    "Таким образом мы отбрасываем гипотезу о том, что пользовательские рейтинги платформ Xbox One и PC являются одинаковыми"
   ]
  },
  {
   "cell_type": "markdown",
   "metadata": {},
   "source": [
    "В обоих случаях применялся критерий Стьюдента, так как задача формулировалась как сравнение двух выборок"
   ]
  },
  {
   "cell_type": "markdown",
   "metadata": {},
   "source": [
    "<div class=\"alert alert-danger\">\n",
    "<font size=\"5\"><b>Комментарий ревьюера</b></font>\n",
    "\n",
    "Ошибка: Аналогично, пропиши гипотезы. Также скорректируй знак при сравнении pvalue с alpha. \n",
    "</div>"
   ]
  },
  {
   "cell_type": "markdown",
   "metadata": {},
   "source": [
    "<div class=\"alert alert-danger\">\n",
    "<font size=\"5\"><b>Комментарий ревьюера 2</b></font>\n",
    "\n",
    "Ошибка: Смотри, методика проверки гипотез всегда одна и та же. Нулевая гипотеза всегда формулируется с учетом знака равенства. При проверке результата мы сравниваем pvalue с alpha. При получении pvalue меньше alpha мы отклоняем нулевую гипотезу в пользу альтернативной. Это всегда так. Развернуть и сделать все наоборот мы не можем, пусть и результат получится аналогичным. Исправь это выше. \n",
    "\n",
    "</div>"
   ]
  },
  {
   "cell_type": "markdown",
   "metadata": {},
   "source": [
    "Готово, смутило, что в одном случае мы проверяли одинаковость, а во в другом разность"
   ]
  },
  {
   "cell_type": "markdown",
   "metadata": {},
   "source": [
    "### Общий вывод"
   ]
  },
  {
   "cell_type": "markdown",
   "metadata": {},
   "source": [
    "В результате исследования нам удалось:\n",
    "\n",
    "<b> Провести предобработку данных</b>: избавились от строк с пропущенными значениями там, в тех случаях, где это было актуально. Также мы поменяли тип переменной там, где это было необходимо.\n",
    "\n",
    "<b> Провести исследователский анализ </b> в рамках которого мы изучили распределение выпуска игр по годам, выделили наиболее популярные платформы за все время, определили период актуальности одной конкретной платформы и отобрали период, который использовался в последующем анализе (2012-2016).\n",
    "\n",
    "Также мы изучили как оценки игроков влияют на общее число покупок игр. Среди наиболее популярных платформ хоть сколько-нибудь заметной влияние оценок на популярность было обнаружено у 3DS. Помимо этого были выделены три наиболее и три наименее популярных жанров.\n",
    "\n",
    "<b> Построить портрет пользователя по регионам </b>\n",
    "\n",
    "Северная Америка - 1. платформа - X360; 2. жанр - Action; 3. возрастной рейтинг - М\n",
    "\n",
    "Европа - 1. платформа - PS4; 2. жанр - Action; 3. возрастной рейтинг - М\n",
    "\n",
    "Япония - 1. платформа - 3DS; 2. жанр - Role-Playing; 3. возрастной рейтинг - не определено\n",
    "\n",
    "Остальной мир - 1. платформа - PS4; 2. жанр - Action; 3. возрастной рейтинг - М\n",
    "\n",
    "<b> Проверить статистические гипотезы. </b> Было установлено, что средние пользовательские рейтинги платформ Xbox One и PC не одинаковы, а средние пользовательские рейтинги жанров Action (англ. «действие», экшен-игры) и Sports (англ. «спортивные соревнования») разные."
   ]
  },
  {
   "cell_type": "markdown",
   "metadata": {},
   "source": [
    "<div class=\"alert alert-success\">\n",
    "<font size=\"5\"><b>Комментарий ревьюера</b></font>\n",
    "\n",
    "Успех: Выводы описаны грамотно. Приведены ответы на главные вопросы проекта. В выводах можно приводить полученные ранее значения, правильно. Здорово, что по каждому пункту работы приведен вывод. Только прошу исправить выводы по проверке гипотез после исправления помарок выше.    \n",
    "\n",
    "</div>"
   ]
  },
  {
   "cell_type": "markdown",
   "metadata": {},
   "source": [
    "<div class=\"alert alert-info\">\n",
    "<font size=\"5\"><b>Комментарий ревьюера</b></font>\n",
    "\n",
    "Если тебе нравится тема визуализации, то можешь изучить и методы библиотеки seaborn. Она позволяет строить довольно презентабельные графики. Рекомендую ресурс https://www.python-graph-gallery.com/. В нем содержится большая библиотека графиков с готовым кодом, который можно использовать при работе.\n",
    "\n",
    "Ты проделал большую работу, молодец! Ты овладел важными на данном этапе обучения инструментами, а также довольно качественно их используешь. Критических замечаний немного. Однако их важно исправить. Также есть несколько желтых комментариев. Думаю, исправить и их тебе не составит труда. Жду твою работу :)\n",
    "\n",
    "</div>"
   ]
  },
  {
   "cell_type": "markdown",
   "metadata": {},
   "source": [
    "<div class=\"alert alert-info\">\n",
    "<font size=\"5\"><b>Комментарий ревьюера 2</b></font>\n",
    "\n",
    "Большая часть помарок исправлена. Отличная работа. Осталось лишь разобраться с одной из гипотез. Как сделаешь это, присылай проект снова. Буду ждать :)\n",
    "\n",
    "</div>"
   ]
  }
 ],
 "metadata": {
  "ExecuteTimeLog": [
   {
    "duration": 469,
    "start_time": "2022-09-27T12:55:18.911Z"
   },
   {
    "duration": 119,
    "start_time": "2022-09-27T12:55:37.289Z"
   },
   {
    "duration": 101,
    "start_time": "2022-09-27T12:55:54.790Z"
   },
   {
    "duration": 15,
    "start_time": "2022-09-27T12:56:06.107Z"
   },
   {
    "duration": 27,
    "start_time": "2022-09-27T12:57:36.041Z"
   },
   {
    "duration": 12,
    "start_time": "2022-09-27T13:02:19.798Z"
   },
   {
    "duration": 104,
    "start_time": "2022-09-27T13:08:05.302Z"
   },
   {
    "duration": 79,
    "start_time": "2022-09-27T13:10:15.666Z"
   },
   {
    "duration": 81,
    "start_time": "2022-09-27T13:10:28.337Z"
   },
   {
    "duration": 6,
    "start_time": "2022-09-27T13:10:46.469Z"
   },
   {
    "duration": 15,
    "start_time": "2022-09-27T13:10:58.437Z"
   },
   {
    "duration": 45,
    "start_time": "2022-09-28T15:49:17.898Z"
   },
   {
    "duration": 381,
    "start_time": "2022-09-28T15:49:29.484Z"
   },
   {
    "duration": 86,
    "start_time": "2022-09-28T15:49:29.867Z"
   },
   {
    "duration": 14,
    "start_time": "2022-09-28T15:49:29.955Z"
   },
   {
    "duration": 19,
    "start_time": "2022-09-28T15:49:29.971Z"
   },
   {
    "duration": 15,
    "start_time": "2022-09-28T15:49:29.992Z"
   },
   {
    "duration": 77,
    "start_time": "2022-09-28T15:49:30.008Z"
   },
   {
    "duration": 10,
    "start_time": "2022-09-28T15:51:03.659Z"
   },
   {
    "duration": 5,
    "start_time": "2022-09-28T15:52:02.313Z"
   },
   {
    "duration": 12,
    "start_time": "2022-09-28T15:52:59.975Z"
   },
   {
    "duration": 11,
    "start_time": "2022-09-28T15:53:34.709Z"
   },
   {
    "duration": 49,
    "start_time": "2022-09-29T14:54:19.589Z"
   },
   {
    "duration": 438,
    "start_time": "2022-09-29T14:54:27.683Z"
   },
   {
    "duration": 187,
    "start_time": "2022-09-29T14:54:28.122Z"
   },
   {
    "duration": 15,
    "start_time": "2022-09-29T14:54:28.311Z"
   },
   {
    "duration": 22,
    "start_time": "2022-09-29T14:54:28.328Z"
   },
   {
    "duration": 20,
    "start_time": "2022-09-29T14:54:28.352Z"
   },
   {
    "duration": 24,
    "start_time": "2022-09-29T14:54:28.373Z"
   },
   {
    "duration": 74,
    "start_time": "2022-09-29T14:54:28.398Z"
   },
   {
    "duration": 383,
    "start_time": "2022-09-30T08:37:27.249Z"
   },
   {
    "duration": 181,
    "start_time": "2022-09-30T08:37:27.634Z"
   },
   {
    "duration": 20,
    "start_time": "2022-09-30T08:37:27.817Z"
   },
   {
    "duration": 21,
    "start_time": "2022-09-30T08:37:27.839Z"
   },
   {
    "duration": 16,
    "start_time": "2022-09-30T08:37:27.862Z"
   },
   {
    "duration": 19,
    "start_time": "2022-09-30T08:37:27.880Z"
   },
   {
    "duration": 77,
    "start_time": "2022-09-30T08:37:27.901Z"
   },
   {
    "duration": 394,
    "start_time": "2022-09-30T12:43:15.924Z"
   },
   {
    "duration": 184,
    "start_time": "2022-09-30T12:43:16.320Z"
   },
   {
    "duration": 20,
    "start_time": "2022-09-30T12:43:16.507Z"
   },
   {
    "duration": 34,
    "start_time": "2022-09-30T12:43:16.529Z"
   },
   {
    "duration": 20,
    "start_time": "2022-09-30T12:43:16.565Z"
   },
   {
    "duration": 11,
    "start_time": "2022-09-30T12:43:16.586Z"
   },
   {
    "duration": 96,
    "start_time": "2022-09-30T12:43:16.599Z"
   },
   {
    "duration": 17,
    "start_time": "2022-09-30T12:43:25.679Z"
   },
   {
    "duration": 18,
    "start_time": "2022-09-30T12:45:33.916Z"
   },
   {
    "duration": 5,
    "start_time": "2022-09-30T12:45:54.613Z"
   },
   {
    "duration": 5,
    "start_time": "2022-09-30T12:46:15.077Z"
   },
   {
    "duration": 5,
    "start_time": "2022-09-30T12:46:25.920Z"
   },
   {
    "duration": 12,
    "start_time": "2022-09-30T12:46:53.020Z"
   },
   {
    "duration": 10,
    "start_time": "2022-09-30T12:47:04.422Z"
   },
   {
    "duration": 6,
    "start_time": "2022-09-30T12:47:27.758Z"
   },
   {
    "duration": 5,
    "start_time": "2022-09-30T12:47:31.230Z"
   },
   {
    "duration": 6,
    "start_time": "2022-09-30T12:47:43.324Z"
   },
   {
    "duration": 21,
    "start_time": "2022-09-30T12:48:43.474Z"
   },
   {
    "duration": 7,
    "start_time": "2022-09-30T12:49:21.928Z"
   },
   {
    "duration": 18,
    "start_time": "2022-09-30T12:49:35.236Z"
   },
   {
    "duration": 17,
    "start_time": "2022-09-30T12:49:49.268Z"
   },
   {
    "duration": 22,
    "start_time": "2022-09-30T12:49:54.581Z"
   },
   {
    "duration": 21,
    "start_time": "2022-09-30T12:50:09.216Z"
   },
   {
    "duration": 74,
    "start_time": "2022-09-30T12:51:58.630Z"
   },
   {
    "duration": 7,
    "start_time": "2022-09-30T12:57:45.612Z"
   },
   {
    "duration": 10,
    "start_time": "2022-09-30T12:57:53.827Z"
   },
   {
    "duration": 7,
    "start_time": "2022-09-30T12:58:03.263Z"
   },
   {
    "duration": 9,
    "start_time": "2022-09-30T12:58:07.179Z"
   },
   {
    "duration": 10,
    "start_time": "2022-09-30T12:58:21.839Z"
   },
   {
    "duration": 18,
    "start_time": "2022-09-30T12:59:32.026Z"
   },
   {
    "duration": 15,
    "start_time": "2022-09-30T13:01:13.331Z"
   },
   {
    "duration": 15,
    "start_time": "2022-09-30T13:01:25.144Z"
   },
   {
    "duration": 30,
    "start_time": "2022-09-30T13:01:52.707Z"
   },
   {
    "duration": 110,
    "start_time": "2022-09-30T13:03:18.825Z"
   },
   {
    "duration": 9,
    "start_time": "2022-09-30T13:25:03.927Z"
   },
   {
    "duration": 23,
    "start_time": "2022-09-30T13:26:36.711Z"
   },
   {
    "duration": 6,
    "start_time": "2022-09-30T13:29:53.667Z"
   },
   {
    "duration": 9,
    "start_time": "2022-09-30T13:35:03.337Z"
   },
   {
    "duration": 9,
    "start_time": "2022-09-30T13:35:06.660Z"
   },
   {
    "duration": 22,
    "start_time": "2022-09-30T13:35:14.118Z"
   },
   {
    "duration": 84,
    "start_time": "2022-09-30T13:38:02.529Z"
   },
   {
    "duration": 10,
    "start_time": "2022-09-30T13:40:02.937Z"
   },
   {
    "duration": 6,
    "start_time": "2022-09-30T13:40:13.072Z"
   },
   {
    "duration": 19,
    "start_time": "2022-09-30T13:40:31.198Z"
   },
   {
    "duration": 10,
    "start_time": "2022-09-30T13:41:10.126Z"
   },
   {
    "duration": 14,
    "start_time": "2022-09-30T13:41:42.442Z"
   },
   {
    "duration": 6,
    "start_time": "2022-09-30T13:48:27.757Z"
   },
   {
    "duration": 14,
    "start_time": "2022-09-30T13:48:40.647Z"
   },
   {
    "duration": 15,
    "start_time": "2022-09-30T13:49:32.514Z"
   },
   {
    "duration": 6,
    "start_time": "2022-09-30T14:05:15.055Z"
   },
   {
    "duration": 69,
    "start_time": "2022-09-30T14:12:27.761Z"
   },
   {
    "duration": 5,
    "start_time": "2022-09-30T15:59:39.569Z"
   },
   {
    "duration": 5,
    "start_time": "2022-09-30T16:24:15.211Z"
   },
   {
    "duration": 4,
    "start_time": "2022-09-30T16:25:57.927Z"
   },
   {
    "duration": 6,
    "start_time": "2022-09-30T16:26:11.014Z"
   },
   {
    "duration": 8,
    "start_time": "2022-09-30T16:26:18.006Z"
   },
   {
    "duration": 5,
    "start_time": "2022-09-30T16:26:33.055Z"
   },
   {
    "duration": 6,
    "start_time": "2022-09-30T16:26:34.599Z"
   },
   {
    "duration": 4,
    "start_time": "2022-09-30T16:26:41.514Z"
   },
   {
    "duration": 5,
    "start_time": "2022-09-30T16:26:42.333Z"
   },
   {
    "duration": 449,
    "start_time": "2022-10-01T12:04:15.281Z"
   },
   {
    "duration": 186,
    "start_time": "2022-10-01T12:04:15.733Z"
   },
   {
    "duration": 16,
    "start_time": "2022-10-01T12:04:15.921Z"
   },
   {
    "duration": 21,
    "start_time": "2022-10-01T12:04:15.939Z"
   },
   {
    "duration": 17,
    "start_time": "2022-10-01T12:04:15.962Z"
   },
   {
    "duration": 18,
    "start_time": "2022-10-01T12:04:15.996Z"
   },
   {
    "duration": 17,
    "start_time": "2022-10-01T12:04:16.015Z"
   },
   {
    "duration": 13,
    "start_time": "2022-10-01T12:04:16.033Z"
   },
   {
    "duration": 61,
    "start_time": "2022-10-01T12:04:16.047Z"
   },
   {
    "duration": 9,
    "start_time": "2022-10-01T12:04:16.109Z"
   },
   {
    "duration": 25,
    "start_time": "2022-10-01T12:04:16.119Z"
   },
   {
    "duration": 5,
    "start_time": "2022-10-01T12:04:16.145Z"
   },
   {
    "duration": 7,
    "start_time": "2022-10-01T12:04:16.152Z"
   },
   {
    "duration": 7,
    "start_time": "2022-10-01T12:04:16.195Z"
   },
   {
    "duration": 23,
    "start_time": "2022-10-01T12:04:16.205Z"
   },
   {
    "duration": 5,
    "start_time": "2022-10-01T12:04:16.230Z"
   },
   {
    "duration": 8,
    "start_time": "2022-10-01T12:04:16.236Z"
   },
   {
    "duration": 8,
    "start_time": "2022-10-01T12:04:16.246Z"
   },
   {
    "duration": 72,
    "start_time": "2022-10-01T12:04:16.255Z"
   },
   {
    "duration": 8,
    "start_time": "2022-10-01T12:09:14.049Z"
   },
   {
    "duration": 20,
    "start_time": "2022-10-01T12:09:29.613Z"
   },
   {
    "duration": 21,
    "start_time": "2022-10-01T12:09:49.611Z"
   },
   {
    "duration": 754,
    "start_time": "2022-10-01T12:11:41.440Z"
   },
   {
    "duration": 17,
    "start_time": "2022-10-01T12:12:11.368Z"
   },
   {
    "duration": 275,
    "start_time": "2022-10-01T12:12:28.803Z"
   },
   {
    "duration": 17,
    "start_time": "2022-10-01T12:23:00.614Z"
   },
   {
    "duration": 10,
    "start_time": "2022-10-01T12:23:16.358Z"
   },
   {
    "duration": 14,
    "start_time": "2022-10-01T12:25:35.957Z"
   },
   {
    "duration": 3,
    "start_time": "2022-10-01T12:29:10.411Z"
   },
   {
    "duration": 73,
    "start_time": "2022-10-01T12:30:44.127Z"
   },
   {
    "duration": 84,
    "start_time": "2022-10-01T12:31:38.094Z"
   },
   {
    "duration": 29,
    "start_time": "2022-10-01T12:32:38.789Z"
   },
   {
    "duration": 19,
    "start_time": "2022-10-01T12:32:55.139Z"
   },
   {
    "duration": 21,
    "start_time": "2022-10-01T12:33:09.002Z"
   },
   {
    "duration": 19,
    "start_time": "2022-10-01T12:33:15.943Z"
   },
   {
    "duration": 18,
    "start_time": "2022-10-01T12:33:25.480Z"
   },
   {
    "duration": 10,
    "start_time": "2022-10-01T12:33:53.717Z"
   },
   {
    "duration": 24,
    "start_time": "2022-10-01T12:34:54.312Z"
   },
   {
    "duration": 18,
    "start_time": "2022-10-01T12:54:55.841Z"
   },
   {
    "duration": 1198,
    "start_time": "2022-10-01T12:55:07.682Z"
   },
   {
    "duration": 19,
    "start_time": "2022-10-01T13:14:22.104Z"
   },
   {
    "duration": 16,
    "start_time": "2022-10-01T13:14:41.843Z"
   },
   {
    "duration": 6,
    "start_time": "2022-10-01T13:19:00.688Z"
   },
   {
    "duration": 20,
    "start_time": "2022-10-01T13:19:11.713Z"
   },
   {
    "duration": 18,
    "start_time": "2022-10-01T13:19:41.629Z"
   },
   {
    "duration": 18,
    "start_time": "2022-10-01T13:19:55.409Z"
   },
   {
    "duration": 784,
    "start_time": "2022-10-01T13:22:14.384Z"
   },
   {
    "duration": 5,
    "start_time": "2022-10-01T13:23:26.327Z"
   },
   {
    "duration": 9,
    "start_time": "2022-10-01T13:40:15.138Z"
   },
   {
    "duration": 4,
    "start_time": "2022-10-01T13:40:36.891Z"
   },
   {
    "duration": 1879,
    "start_time": "2022-10-01T13:40:38.719Z"
   },
   {
    "duration": 348,
    "start_time": "2022-10-02T06:51:38.954Z"
   },
   {
    "duration": 199,
    "start_time": "2022-10-02T06:51:39.305Z"
   },
   {
    "duration": 13,
    "start_time": "2022-10-02T06:51:39.506Z"
   },
   {
    "duration": 19,
    "start_time": "2022-10-02T06:51:39.521Z"
   },
   {
    "duration": 13,
    "start_time": "2022-10-02T06:51:39.542Z"
   },
   {
    "duration": 13,
    "start_time": "2022-10-02T06:51:39.557Z"
   },
   {
    "duration": 13,
    "start_time": "2022-10-02T06:51:39.571Z"
   },
   {
    "duration": 36,
    "start_time": "2022-10-02T06:51:39.585Z"
   },
   {
    "duration": 19,
    "start_time": "2022-10-02T06:51:39.623Z"
   },
   {
    "duration": 8,
    "start_time": "2022-10-02T06:51:39.643Z"
   },
   {
    "duration": 23,
    "start_time": "2022-10-02T06:51:39.653Z"
   },
   {
    "duration": 4,
    "start_time": "2022-10-02T06:51:39.677Z"
   },
   {
    "duration": 7,
    "start_time": "2022-10-02T06:51:39.682Z"
   },
   {
    "duration": 31,
    "start_time": "2022-10-02T06:51:39.691Z"
   },
   {
    "duration": 15,
    "start_time": "2022-10-02T06:51:39.723Z"
   },
   {
    "duration": 4,
    "start_time": "2022-10-02T06:51:39.739Z"
   },
   {
    "duration": 10,
    "start_time": "2022-10-02T06:51:39.744Z"
   },
   {
    "duration": 6,
    "start_time": "2022-10-02T06:51:39.755Z"
   },
   {
    "duration": 17,
    "start_time": "2022-10-02T06:51:39.763Z"
   },
   {
    "duration": 595,
    "start_time": "2022-10-02T06:51:39.781Z"
   },
   {
    "duration": 9,
    "start_time": "2022-10-02T06:51:40.377Z"
   },
   {
    "duration": 13,
    "start_time": "2022-10-02T06:51:40.388Z"
   },
   {
    "duration": 866,
    "start_time": "2022-10-02T06:51:40.402Z"
   },
   {
    "duration": 15,
    "start_time": "2022-10-02T06:51:41.270Z"
   },
   {
    "duration": 11,
    "start_time": "2022-10-02T06:51:41.287Z"
   },
   {
    "duration": 22,
    "start_time": "2022-10-02T06:51:41.300Z"
   },
   {
    "duration": 1312,
    "start_time": "2022-10-02T06:51:41.323Z"
   },
   {
    "duration": 416,
    "start_time": "2022-10-02T09:39:38.112Z"
   },
   {
    "duration": 112,
    "start_time": "2022-10-02T09:39:38.530Z"
   },
   {
    "duration": 15,
    "start_time": "2022-10-02T09:39:38.644Z"
   },
   {
    "duration": 22,
    "start_time": "2022-10-02T09:39:38.660Z"
   },
   {
    "duration": 20,
    "start_time": "2022-10-02T09:39:38.685Z"
   },
   {
    "duration": 20,
    "start_time": "2022-10-02T09:39:38.706Z"
   },
   {
    "duration": 15,
    "start_time": "2022-10-02T09:39:38.728Z"
   },
   {
    "duration": 11,
    "start_time": "2022-10-02T09:39:38.746Z"
   },
   {
    "duration": 56,
    "start_time": "2022-10-02T09:39:38.760Z"
   },
   {
    "duration": 8,
    "start_time": "2022-10-02T09:39:38.818Z"
   },
   {
    "duration": 23,
    "start_time": "2022-10-02T09:39:38.828Z"
   },
   {
    "duration": 5,
    "start_time": "2022-10-02T09:39:38.852Z"
   },
   {
    "duration": 8,
    "start_time": "2022-10-02T09:39:38.859Z"
   },
   {
    "duration": 5,
    "start_time": "2022-10-02T09:39:38.900Z"
   },
   {
    "duration": 14,
    "start_time": "2022-10-02T09:39:38.907Z"
   },
   {
    "duration": 5,
    "start_time": "2022-10-02T09:39:38.923Z"
   },
   {
    "duration": 12,
    "start_time": "2022-10-02T09:39:38.930Z"
   },
   {
    "duration": 8,
    "start_time": "2022-10-02T09:39:38.944Z"
   },
   {
    "duration": 24,
    "start_time": "2022-10-02T09:39:38.954Z"
   },
   {
    "duration": 715,
    "start_time": "2022-10-02T09:39:38.980Z"
   },
   {
    "duration": 10,
    "start_time": "2022-10-02T09:39:39.701Z"
   },
   {
    "duration": 17,
    "start_time": "2022-10-02T09:39:39.713Z"
   },
   {
    "duration": 984,
    "start_time": "2022-10-02T09:39:39.732Z"
   },
   {
    "duration": 19,
    "start_time": "2022-10-02T09:39:40.718Z"
   },
   {
    "duration": 16,
    "start_time": "2022-10-02T09:39:40.738Z"
   },
   {
    "duration": 5,
    "start_time": "2022-10-02T09:39:40.756Z"
   },
   {
    "duration": 1556,
    "start_time": "2022-10-02T09:39:40.763Z"
   },
   {
    "duration": 541,
    "start_time": "2022-10-02T09:43:37.384Z"
   },
   {
    "duration": 99,
    "start_time": "2022-10-02T09:47:28.676Z"
   },
   {
    "duration": 145,
    "start_time": "2022-10-02T09:47:42.995Z"
   },
   {
    "duration": 464,
    "start_time": "2022-10-02T09:54:01.849Z"
   },
   {
    "duration": 241,
    "start_time": "2022-10-02T09:54:41.998Z"
   },
   {
    "duration": 371,
    "start_time": "2022-10-02T10:05:19.008Z"
   },
   {
    "duration": 696,
    "start_time": "2022-10-02T10:05:19.381Z"
   },
   {
    "duration": 50,
    "start_time": "2022-10-02T10:05:20.079Z"
   },
   {
    "duration": 12,
    "start_time": "2022-10-02T10:05:20.130Z"
   },
   {
    "duration": 15,
    "start_time": "2022-10-02T10:05:20.144Z"
   },
   {
    "duration": 14,
    "start_time": "2022-10-02T10:05:20.160Z"
   },
   {
    "duration": 29,
    "start_time": "2022-10-02T10:05:20.176Z"
   },
   {
    "duration": 11,
    "start_time": "2022-10-02T10:05:20.207Z"
   },
   {
    "duration": 8,
    "start_time": "2022-10-02T10:05:20.219Z"
   },
   {
    "duration": 23,
    "start_time": "2022-10-02T10:05:20.229Z"
   },
   {
    "duration": 6,
    "start_time": "2022-10-02T10:05:20.254Z"
   },
   {
    "duration": 18,
    "start_time": "2022-10-02T10:05:20.261Z"
   },
   {
    "duration": 4,
    "start_time": "2022-10-02T10:05:20.299Z"
   },
   {
    "duration": 8,
    "start_time": "2022-10-02T10:05:20.304Z"
   },
   {
    "duration": 8,
    "start_time": "2022-10-02T10:05:20.313Z"
   },
   {
    "duration": 12,
    "start_time": "2022-10-02T10:05:20.323Z"
   },
   {
    "duration": 4,
    "start_time": "2022-10-02T10:05:20.336Z"
   },
   {
    "duration": 7,
    "start_time": "2022-10-02T10:05:20.341Z"
   },
   {
    "duration": 8,
    "start_time": "2022-10-02T10:05:20.349Z"
   },
   {
    "duration": 20,
    "start_time": "2022-10-02T10:05:20.358Z"
   },
   {
    "duration": 234,
    "start_time": "2022-10-02T10:05:20.400Z"
   },
   {
    "duration": 8,
    "start_time": "2022-10-02T10:05:20.636Z"
   },
   {
    "duration": 13,
    "start_time": "2022-10-02T10:05:20.646Z"
   },
   {
    "duration": 807,
    "start_time": "2022-10-02T10:05:20.661Z"
   },
   {
    "duration": 15,
    "start_time": "2022-10-02T10:05:21.470Z"
   },
   {
    "duration": 11,
    "start_time": "2022-10-02T10:05:21.500Z"
   },
   {
    "duration": 8,
    "start_time": "2022-10-02T10:05:21.513Z"
   },
   {
    "duration": 1363,
    "start_time": "2022-10-02T10:05:21.523Z"
   },
   {
    "duration": 256,
    "start_time": "2022-10-02T10:05:22.888Z"
   },
   {
    "duration": 140,
    "start_time": "2022-10-02T10:16:02.379Z"
   },
   {
    "duration": 367,
    "start_time": "2022-10-02T10:21:13.378Z"
   },
   {
    "duration": 734,
    "start_time": "2022-10-02T10:21:13.747Z"
   },
   {
    "duration": 69,
    "start_time": "2022-10-02T10:21:14.484Z"
   },
   {
    "duration": 20,
    "start_time": "2022-10-02T10:21:14.555Z"
   },
   {
    "duration": 22,
    "start_time": "2022-10-02T10:21:14.577Z"
   },
   {
    "duration": 21,
    "start_time": "2022-10-02T10:21:14.606Z"
   },
   {
    "duration": 43,
    "start_time": "2022-10-02T10:21:14.630Z"
   },
   {
    "duration": 32,
    "start_time": "2022-10-02T10:21:14.675Z"
   },
   {
    "duration": 22,
    "start_time": "2022-10-02T10:21:14.715Z"
   },
   {
    "duration": 20,
    "start_time": "2022-10-02T10:21:14.740Z"
   },
   {
    "duration": 8,
    "start_time": "2022-10-02T10:21:14.762Z"
   },
   {
    "duration": 31,
    "start_time": "2022-10-02T10:21:14.772Z"
   },
   {
    "duration": 114,
    "start_time": "2022-10-02T10:21:14.808Z"
   },
   {
    "duration": 0,
    "start_time": "2022-10-02T10:21:14.924Z"
   },
   {
    "duration": 0,
    "start_time": "2022-10-02T10:21:14.925Z"
   },
   {
    "duration": 0,
    "start_time": "2022-10-02T10:21:14.926Z"
   },
   {
    "duration": 1,
    "start_time": "2022-10-02T10:21:14.927Z"
   },
   {
    "duration": 0,
    "start_time": "2022-10-02T10:21:14.928Z"
   },
   {
    "duration": 0,
    "start_time": "2022-10-02T10:21:14.929Z"
   },
   {
    "duration": 0,
    "start_time": "2022-10-02T10:21:14.930Z"
   },
   {
    "duration": 0,
    "start_time": "2022-10-02T10:21:14.931Z"
   },
   {
    "duration": 0,
    "start_time": "2022-10-02T10:21:14.932Z"
   },
   {
    "duration": 0,
    "start_time": "2022-10-02T10:21:14.933Z"
   },
   {
    "duration": 0,
    "start_time": "2022-10-02T10:21:14.934Z"
   },
   {
    "duration": 0,
    "start_time": "2022-10-02T10:21:14.935Z"
   },
   {
    "duration": 0,
    "start_time": "2022-10-02T10:21:14.936Z"
   },
   {
    "duration": 0,
    "start_time": "2022-10-02T10:21:14.937Z"
   },
   {
    "duration": 0,
    "start_time": "2022-10-02T10:21:14.938Z"
   },
   {
    "duration": 0,
    "start_time": "2022-10-02T10:21:14.939Z"
   },
   {
    "duration": 1,
    "start_time": "2022-10-02T10:21:14.939Z"
   },
   {
    "duration": 361,
    "start_time": "2022-10-02T10:21:31.360Z"
   },
   {
    "duration": 745,
    "start_time": "2022-10-02T10:21:31.723Z"
   },
   {
    "duration": 60,
    "start_time": "2022-10-02T10:21:32.469Z"
   },
   {
    "duration": 14,
    "start_time": "2022-10-02T10:21:32.532Z"
   },
   {
    "duration": 26,
    "start_time": "2022-10-02T10:21:32.547Z"
   },
   {
    "duration": 14,
    "start_time": "2022-10-02T10:21:32.575Z"
   },
   {
    "duration": 27,
    "start_time": "2022-10-02T10:21:32.590Z"
   },
   {
    "duration": 15,
    "start_time": "2022-10-02T10:21:32.619Z"
   },
   {
    "duration": 12,
    "start_time": "2022-10-02T10:21:32.635Z"
   },
   {
    "duration": 20,
    "start_time": "2022-10-02T10:21:32.649Z"
   },
   {
    "duration": 37,
    "start_time": "2022-10-02T10:21:32.671Z"
   },
   {
    "duration": 30,
    "start_time": "2022-10-02T10:21:32.710Z"
   },
   {
    "duration": 102,
    "start_time": "2022-10-02T10:21:32.741Z"
   },
   {
    "duration": 0,
    "start_time": "2022-10-02T10:21:32.845Z"
   },
   {
    "duration": 0,
    "start_time": "2022-10-02T10:21:32.846Z"
   },
   {
    "duration": 0,
    "start_time": "2022-10-02T10:21:32.847Z"
   },
   {
    "duration": 0,
    "start_time": "2022-10-02T10:21:32.848Z"
   },
   {
    "duration": 0,
    "start_time": "2022-10-02T10:21:32.849Z"
   },
   {
    "duration": 0,
    "start_time": "2022-10-02T10:21:32.850Z"
   },
   {
    "duration": 0,
    "start_time": "2022-10-02T10:21:32.851Z"
   },
   {
    "duration": 0,
    "start_time": "2022-10-02T10:21:32.852Z"
   },
   {
    "duration": 0,
    "start_time": "2022-10-02T10:21:32.853Z"
   },
   {
    "duration": 0,
    "start_time": "2022-10-02T10:21:32.854Z"
   },
   {
    "duration": 0,
    "start_time": "2022-10-02T10:21:32.855Z"
   },
   {
    "duration": 0,
    "start_time": "2022-10-02T10:21:32.856Z"
   },
   {
    "duration": 0,
    "start_time": "2022-10-02T10:21:32.857Z"
   },
   {
    "duration": 0,
    "start_time": "2022-10-02T10:21:32.858Z"
   },
   {
    "duration": 0,
    "start_time": "2022-10-02T10:21:32.859Z"
   },
   {
    "duration": 0,
    "start_time": "2022-10-02T10:21:32.860Z"
   },
   {
    "duration": 0,
    "start_time": "2022-10-02T10:21:32.861Z"
   },
   {
    "duration": 3,
    "start_time": "2022-10-02T10:21:54.548Z"
   },
   {
    "duration": 2,
    "start_time": "2022-10-02T10:22:11.166Z"
   },
   {
    "duration": 3,
    "start_time": "2022-10-02T10:22:15.187Z"
   },
   {
    "duration": 3,
    "start_time": "2022-10-02T10:22:15.791Z"
   },
   {
    "duration": 4,
    "start_time": "2022-10-02T10:22:16.376Z"
   },
   {
    "duration": 66,
    "start_time": "2022-10-02T10:22:18.048Z"
   },
   {
    "duration": 12,
    "start_time": "2022-10-02T10:22:18.936Z"
   },
   {
    "duration": 13,
    "start_time": "2022-10-02T10:22:21.427Z"
   },
   {
    "duration": 15,
    "start_time": "2022-10-02T10:22:23.954Z"
   },
   {
    "duration": 14,
    "start_time": "2022-10-02T10:22:25.639Z"
   },
   {
    "duration": 21,
    "start_time": "2022-10-02T10:22:30.614Z"
   },
   {
    "duration": 8,
    "start_time": "2022-10-02T10:22:32.912Z"
   },
   {
    "duration": 20,
    "start_time": "2022-10-02T10:22:33.860Z"
   },
   {
    "duration": 8,
    "start_time": "2022-10-02T10:22:35.983Z"
   },
   {
    "duration": 20,
    "start_time": "2022-10-02T10:22:37.312Z"
   },
   {
    "duration": 5,
    "start_time": "2022-10-02T10:22:38.829Z"
   },
   {
    "duration": 4,
    "start_time": "2022-10-02T10:22:39.843Z"
   },
   {
    "duration": 6,
    "start_time": "2022-10-02T10:22:40.742Z"
   },
   {
    "duration": 13,
    "start_time": "2022-10-02T10:22:41.752Z"
   },
   {
    "duration": 5,
    "start_time": "2022-10-02T10:22:43.315Z"
   },
   {
    "duration": 7,
    "start_time": "2022-10-02T10:22:45.202Z"
   },
   {
    "duration": 5,
    "start_time": "2022-10-02T10:22:45.814Z"
   },
   {
    "duration": 17,
    "start_time": "2022-10-02T10:22:48.018Z"
   },
   {
    "duration": 274,
    "start_time": "2022-10-02T10:22:50.146Z"
   },
   {
    "duration": 12,
    "start_time": "2022-10-02T10:22:52.815Z"
   },
   {
    "duration": 21,
    "start_time": "2022-10-02T10:22:54.022Z"
   },
   {
    "duration": 861,
    "start_time": "2022-10-02T10:22:56.072Z"
   },
   {
    "duration": 16,
    "start_time": "2022-10-02T10:22:58.185Z"
   },
   {
    "duration": 19,
    "start_time": "2022-10-02T10:23:00.100Z"
   },
   {
    "duration": 3,
    "start_time": "2022-10-02T10:23:01.223Z"
   },
   {
    "duration": 1458,
    "start_time": "2022-10-02T10:23:02.667Z"
   },
   {
    "duration": 277,
    "start_time": "2022-10-02T10:23:05.656Z"
   },
   {
    "duration": 151,
    "start_time": "2022-10-02T10:23:07.377Z"
   },
   {
    "duration": 209,
    "start_time": "2022-10-02T10:25:41.857Z"
   },
   {
    "duration": 3,
    "start_time": "2022-10-02T10:29:26.334Z"
   },
   {
    "duration": 10,
    "start_time": "2022-10-02T10:29:36.710Z"
   },
   {
    "duration": 1451,
    "start_time": "2022-10-02T10:30:04.874Z"
   },
   {
    "duration": 15,
    "start_time": "2022-10-02T10:30:17.746Z"
   },
   {
    "duration": 16,
    "start_time": "2022-10-02T10:30:42.316Z"
   },
   {
    "duration": 2,
    "start_time": "2022-10-02T10:31:58.803Z"
   },
   {
    "duration": 234,
    "start_time": "2022-10-02T10:34:14.518Z"
   },
   {
    "duration": 868,
    "start_time": "2022-10-02T10:36:47.492Z"
   },
   {
    "duration": 148,
    "start_time": "2022-10-02T10:37:12.769Z"
   },
   {
    "duration": 62,
    "start_time": "2022-10-02T10:37:21.695Z"
   },
   {
    "duration": 142,
    "start_time": "2022-10-02T10:37:31.583Z"
   },
   {
    "duration": 135,
    "start_time": "2022-10-02T10:37:56.511Z"
   },
   {
    "duration": 155,
    "start_time": "2022-10-02T10:44:43.158Z"
   },
   {
    "duration": 3,
    "start_time": "2022-10-02T10:45:18.447Z"
   },
   {
    "duration": 121,
    "start_time": "2022-10-02T10:45:26.389Z"
   },
   {
    "duration": 274,
    "start_time": "2022-10-02T10:45:42.126Z"
   },
   {
    "duration": 131,
    "start_time": "2022-10-02T10:45:50.693Z"
   },
   {
    "duration": 28,
    "start_time": "2022-10-02T10:46:37.583Z"
   },
   {
    "duration": 18,
    "start_time": "2022-10-02T10:47:01.316Z"
   },
   {
    "duration": 12,
    "start_time": "2022-10-02T10:47:13.712Z"
   },
   {
    "duration": 16,
    "start_time": "2022-10-02T10:47:34.166Z"
   },
   {
    "duration": 14,
    "start_time": "2022-10-02T10:47:45.846Z"
   },
   {
    "duration": 27,
    "start_time": "2022-10-02T10:49:37.634Z"
   },
   {
    "duration": 13,
    "start_time": "2022-10-02T10:49:43.867Z"
   },
   {
    "duration": 14,
    "start_time": "2022-10-02T10:50:00.199Z"
   },
   {
    "duration": 20,
    "start_time": "2022-10-02T10:50:07.496Z"
   },
   {
    "duration": 8,
    "start_time": "2022-10-02T10:50:26.037Z"
   },
   {
    "duration": 9,
    "start_time": "2022-10-02T10:50:29.566Z"
   },
   {
    "duration": 9,
    "start_time": "2022-10-02T10:51:32.077Z"
   },
   {
    "duration": 8,
    "start_time": "2022-10-02T10:51:40.117Z"
   },
   {
    "duration": 2,
    "start_time": "2022-10-02T11:33:22.872Z"
   },
   {
    "duration": 8,
    "start_time": "2022-10-02T11:51:52.743Z"
   },
   {
    "duration": 20,
    "start_time": "2022-10-02T11:51:58.932Z"
   },
   {
    "duration": 27,
    "start_time": "2022-10-02T11:57:08.217Z"
   },
   {
    "duration": 25,
    "start_time": "2022-10-02T11:57:14.213Z"
   },
   {
    "duration": 21,
    "start_time": "2022-10-02T11:57:32.669Z"
   },
   {
    "duration": 10,
    "start_time": "2022-10-02T12:02:48.592Z"
   },
   {
    "duration": 12,
    "start_time": "2022-10-02T12:04:16.943Z"
   },
   {
    "duration": 12,
    "start_time": "2022-10-02T12:04:19.885Z"
   },
   {
    "duration": 24,
    "start_time": "2022-10-02T12:05:30.820Z"
   },
   {
    "duration": 20,
    "start_time": "2022-10-02T12:06:17.285Z"
   },
   {
    "duration": 16,
    "start_time": "2022-10-02T12:07:39.555Z"
   },
   {
    "duration": 12,
    "start_time": "2022-10-02T12:13:14.117Z"
   },
   {
    "duration": 3,
    "start_time": "2022-10-02T12:13:23.681Z"
   },
   {
    "duration": 9,
    "start_time": "2022-10-02T12:13:28.923Z"
   },
   {
    "duration": 9,
    "start_time": "2022-10-02T12:13:53.853Z"
   },
   {
    "duration": 18,
    "start_time": "2022-10-02T12:16:34.820Z"
   },
   {
    "duration": 15,
    "start_time": "2022-10-02T12:16:56.962Z"
   },
   {
    "duration": 20,
    "start_time": "2022-10-02T12:17:17.598Z"
   },
   {
    "duration": 22,
    "start_time": "2022-10-02T12:17:18.977Z"
   },
   {
    "duration": 261,
    "start_time": "2022-10-02T12:25:43.759Z"
   },
   {
    "duration": 242,
    "start_time": "2022-10-02T12:26:02.295Z"
   },
   {
    "duration": 285,
    "start_time": "2022-10-02T12:26:13.512Z"
   },
   {
    "duration": 313,
    "start_time": "2022-10-02T12:26:53.167Z"
   },
   {
    "duration": 233,
    "start_time": "2022-10-02T12:26:59.234Z"
   },
   {
    "duration": 438,
    "start_time": "2022-10-02T12:27:12.017Z"
   },
   {
    "duration": 308,
    "start_time": "2022-10-02T12:28:33.554Z"
   },
   {
    "duration": 256,
    "start_time": "2022-10-02T12:28:49.871Z"
   },
   {
    "duration": 405,
    "start_time": "2022-10-02T12:28:57.852Z"
   },
   {
    "duration": 423,
    "start_time": "2022-10-02T12:29:10.516Z"
   },
   {
    "duration": 634,
    "start_time": "2022-10-02T12:29:14.221Z"
   },
   {
    "duration": 403,
    "start_time": "2022-10-02T12:29:20.716Z"
   },
   {
    "duration": 493,
    "start_time": "2022-10-02T12:31:41.336Z"
   },
   {
    "duration": 438,
    "start_time": "2022-10-02T12:31:54.114Z"
   },
   {
    "duration": 426,
    "start_time": "2022-10-02T12:32:18.856Z"
   },
   {
    "duration": 267,
    "start_time": "2022-10-02T12:33:27.369Z"
   },
   {
    "duration": 531,
    "start_time": "2022-10-02T12:33:49.833Z"
   },
   {
    "duration": 89,
    "start_time": "2022-10-02T12:34:22.553Z"
   },
   {
    "duration": 76,
    "start_time": "2022-10-02T12:34:30.665Z"
   },
   {
    "duration": 451,
    "start_time": "2022-10-02T12:34:39.194Z"
   },
   {
    "duration": 315,
    "start_time": "2022-10-02T12:36:56.864Z"
   },
   {
    "duration": 420,
    "start_time": "2022-10-02T12:37:32.467Z"
   },
   {
    "duration": 309,
    "start_time": "2022-10-02T12:37:39.783Z"
   },
   {
    "duration": 2,
    "start_time": "2022-10-02T12:53:00.118Z"
   },
   {
    "duration": 455,
    "start_time": "2022-10-02T16:08:46.813Z"
   },
   {
    "duration": 1013,
    "start_time": "2022-10-02T16:08:47.270Z"
   },
   {
    "duration": 3,
    "start_time": "2022-10-02T16:08:48.284Z"
   },
   {
    "duration": 3,
    "start_time": "2022-10-02T16:08:48.296Z"
   },
   {
    "duration": 223,
    "start_time": "2022-10-02T16:08:48.300Z"
   },
   {
    "duration": 16,
    "start_time": "2022-10-02T16:08:48.525Z"
   },
   {
    "duration": 24,
    "start_time": "2022-10-02T16:08:48.542Z"
   },
   {
    "duration": 19,
    "start_time": "2022-10-02T16:08:48.567Z"
   },
   {
    "duration": 23,
    "start_time": "2022-10-02T16:08:48.588Z"
   },
   {
    "duration": 17,
    "start_time": "2022-10-02T16:08:48.615Z"
   },
   {
    "duration": 10,
    "start_time": "2022-10-02T16:08:48.634Z"
   },
   {
    "duration": 53,
    "start_time": "2022-10-02T16:08:48.647Z"
   },
   {
    "duration": 8,
    "start_time": "2022-10-02T16:08:48.702Z"
   },
   {
    "duration": 24,
    "start_time": "2022-10-02T16:08:48.712Z"
   },
   {
    "duration": 4,
    "start_time": "2022-10-02T16:08:48.738Z"
   },
   {
    "duration": 10,
    "start_time": "2022-10-02T16:08:48.744Z"
   },
   {
    "duration": 40,
    "start_time": "2022-10-02T16:08:48.755Z"
   },
   {
    "duration": 16,
    "start_time": "2022-10-02T16:08:48.797Z"
   },
   {
    "duration": 4,
    "start_time": "2022-10-02T16:08:48.815Z"
   },
   {
    "duration": 16,
    "start_time": "2022-10-02T16:08:48.821Z"
   },
   {
    "duration": 15,
    "start_time": "2022-10-02T16:08:48.839Z"
   },
   {
    "duration": 28,
    "start_time": "2022-10-02T16:08:48.856Z"
   },
   {
    "duration": 296,
    "start_time": "2022-10-02T16:08:48.886Z"
   },
   {
    "duration": 14,
    "start_time": "2022-10-02T16:08:49.184Z"
   },
   {
    "duration": 17,
    "start_time": "2022-10-02T16:08:49.199Z"
   },
   {
    "duration": 1024,
    "start_time": "2022-10-02T16:08:49.217Z"
   },
   {
    "duration": 24,
    "start_time": "2022-10-02T16:08:50.244Z"
   },
   {
    "duration": 36,
    "start_time": "2022-10-02T16:08:50.272Z"
   },
   {
    "duration": 4,
    "start_time": "2022-10-02T16:08:50.310Z"
   },
   {
    "duration": 1680,
    "start_time": "2022-10-02T16:08:50.316Z"
   },
   {
    "duration": 370,
    "start_time": "2022-10-02T16:08:51.999Z"
   },
   {
    "duration": 3,
    "start_time": "2022-10-02T16:08:52.371Z"
   },
   {
    "duration": 27,
    "start_time": "2022-10-02T16:08:52.376Z"
   },
   {
    "duration": 172,
    "start_time": "2022-10-02T16:08:52.405Z"
   },
   {
    "duration": 30,
    "start_time": "2022-10-02T16:08:52.579Z"
   },
   {
    "duration": 17,
    "start_time": "2022-10-02T16:08:52.611Z"
   },
   {
    "duration": 511,
    "start_time": "2022-10-02T16:08:52.630Z"
   },
   {
    "duration": 487,
    "start_time": "2022-10-02T16:08:53.142Z"
   },
   {
    "duration": 469,
    "start_time": "2022-10-02T16:08:53.631Z"
   },
   {
    "duration": 49,
    "start_time": "2022-10-02T16:52:13.988Z"
   },
   {
    "duration": 372,
    "start_time": "2022-10-02T16:52:32.650Z"
   },
   {
    "duration": 704,
    "start_time": "2022-10-02T16:52:33.024Z"
   },
   {
    "duration": 2,
    "start_time": "2022-10-02T16:52:33.730Z"
   },
   {
    "duration": 5,
    "start_time": "2022-10-02T16:52:33.734Z"
   },
   {
    "duration": 53,
    "start_time": "2022-10-02T16:52:33.741Z"
   },
   {
    "duration": 14,
    "start_time": "2022-10-02T16:52:33.796Z"
   },
   {
    "duration": 20,
    "start_time": "2022-10-02T16:52:33.812Z"
   },
   {
    "duration": 17,
    "start_time": "2022-10-02T16:52:33.834Z"
   },
   {
    "duration": 42,
    "start_time": "2022-10-02T16:52:33.853Z"
   },
   {
    "duration": 15,
    "start_time": "2022-10-02T16:52:33.897Z"
   },
   {
    "duration": 9,
    "start_time": "2022-10-02T16:52:33.914Z"
   },
   {
    "duration": 21,
    "start_time": "2022-10-02T16:52:33.925Z"
   },
   {
    "duration": 13,
    "start_time": "2022-10-02T16:52:33.948Z"
   },
   {
    "duration": 50,
    "start_time": "2022-10-02T16:52:33.964Z"
   },
   {
    "duration": 4,
    "start_time": "2022-10-02T16:52:34.016Z"
   },
   {
    "duration": 9,
    "start_time": "2022-10-02T16:52:34.022Z"
   },
   {
    "duration": 7,
    "start_time": "2022-10-02T16:52:34.033Z"
   },
   {
    "duration": 13,
    "start_time": "2022-10-02T16:52:34.041Z"
   },
   {
    "duration": 11,
    "start_time": "2022-10-02T16:52:34.055Z"
   },
   {
    "duration": 5,
    "start_time": "2022-10-02T16:52:34.067Z"
   },
   {
    "duration": 25,
    "start_time": "2022-10-02T16:52:34.073Z"
   },
   {
    "duration": 19,
    "start_time": "2022-10-02T16:52:34.099Z"
   },
   {
    "duration": 279,
    "start_time": "2022-10-02T16:52:34.119Z"
   },
   {
    "duration": 9,
    "start_time": "2022-10-02T16:52:34.400Z"
   },
   {
    "duration": 23,
    "start_time": "2022-10-02T16:52:34.411Z"
   },
   {
    "duration": 901,
    "start_time": "2022-10-02T16:52:34.435Z"
   },
   {
    "duration": 18,
    "start_time": "2022-10-02T16:52:35.337Z"
   },
   {
    "duration": 14,
    "start_time": "2022-10-02T16:52:35.356Z"
   },
   {
    "duration": 26,
    "start_time": "2022-10-02T16:52:35.371Z"
   },
   {
    "duration": 1680,
    "start_time": "2022-10-02T16:52:35.398Z"
   },
   {
    "duration": 298,
    "start_time": "2022-10-02T16:52:37.080Z"
   },
   {
    "duration": 3,
    "start_time": "2022-10-02T16:52:37.380Z"
   },
   {
    "duration": 14,
    "start_time": "2022-10-02T16:52:37.396Z"
   },
   {
    "duration": 169,
    "start_time": "2022-10-02T16:52:37.412Z"
   },
   {
    "duration": 23,
    "start_time": "2022-10-02T16:52:37.582Z"
   },
   {
    "duration": 11,
    "start_time": "2022-10-02T16:52:37.606Z"
   },
   {
    "duration": 510,
    "start_time": "2022-10-02T16:52:37.618Z"
   },
   {
    "duration": 485,
    "start_time": "2022-10-02T16:52:38.130Z"
   },
   {
    "duration": 442,
    "start_time": "2022-10-02T16:52:38.617Z"
   },
   {
    "duration": 6,
    "start_time": "2022-10-02T16:52:39.060Z"
   },
   {
    "duration": 6,
    "start_time": "2022-10-02T16:52:48.031Z"
   },
   {
    "duration": 18,
    "start_time": "2022-10-02T16:56:52.208Z"
   },
   {
    "duration": 7,
    "start_time": "2022-10-02T16:57:08.897Z"
   },
   {
    "duration": 14,
    "start_time": "2022-10-02T16:59:53.365Z"
   },
   {
    "duration": 2,
    "start_time": "2022-10-02T17:00:52.090Z"
   },
   {
    "duration": 103,
    "start_time": "2022-10-02T17:06:14.285Z"
   },
   {
    "duration": 2,
    "start_time": "2022-10-02T17:07:29.978Z"
   },
   {
    "duration": 9,
    "start_time": "2022-10-02T17:07:36.710Z"
   },
   {
    "duration": 5,
    "start_time": "2022-10-02T17:12:19.114Z"
   },
   {
    "duration": 5,
    "start_time": "2022-10-02T17:12:22.163Z"
   },
   {
    "duration": 5,
    "start_time": "2022-10-02T17:12:53.570Z"
   },
   {
    "duration": 6,
    "start_time": "2022-10-02T17:26:30.193Z"
   },
   {
    "duration": 5,
    "start_time": "2022-10-02T17:28:16.273Z"
   },
   {
    "duration": 11,
    "start_time": "2022-10-02T17:30:31.057Z"
   },
   {
    "duration": 5,
    "start_time": "2022-10-02T17:31:28.769Z"
   },
   {
    "duration": 168,
    "start_time": "2022-10-02T17:35:25.518Z"
   },
   {
    "duration": 8,
    "start_time": "2022-10-02T17:44:20.828Z"
   },
   {
    "duration": 8,
    "start_time": "2022-10-02T17:45:35.598Z"
   },
   {
    "duration": 9,
    "start_time": "2022-10-02T17:46:02.114Z"
   },
   {
    "duration": 77,
    "start_time": "2022-10-02T19:38:06.371Z"
   },
   {
    "duration": 9,
    "start_time": "2022-10-02T19:38:10.262Z"
   },
   {
    "duration": 346,
    "start_time": "2022-10-03T05:24:03.589Z"
   },
   {
    "duration": 706,
    "start_time": "2022-10-03T05:24:03.937Z"
   },
   {
    "duration": 3,
    "start_time": "2022-10-03T05:24:04.644Z"
   },
   {
    "duration": 5,
    "start_time": "2022-10-03T05:24:04.649Z"
   },
   {
    "duration": 6,
    "start_time": "2022-10-03T05:24:04.656Z"
   },
   {
    "duration": 53,
    "start_time": "2022-10-03T05:24:04.663Z"
   },
   {
    "duration": 14,
    "start_time": "2022-10-03T05:24:04.718Z"
   },
   {
    "duration": 15,
    "start_time": "2022-10-03T05:24:04.733Z"
   },
   {
    "duration": 26,
    "start_time": "2022-10-03T05:24:04.750Z"
   },
   {
    "duration": 16,
    "start_time": "2022-10-03T05:24:04.778Z"
   },
   {
    "duration": 13,
    "start_time": "2022-10-03T05:24:04.796Z"
   },
   {
    "duration": 27,
    "start_time": "2022-10-03T05:24:04.810Z"
   },
   {
    "duration": 19,
    "start_time": "2022-10-03T05:24:04.838Z"
   },
   {
    "duration": 6,
    "start_time": "2022-10-03T05:24:04.859Z"
   },
   {
    "duration": 18,
    "start_time": "2022-10-03T05:24:04.867Z"
   },
   {
    "duration": 3,
    "start_time": "2022-10-03T05:24:04.887Z"
   },
   {
    "duration": 8,
    "start_time": "2022-10-03T05:24:04.892Z"
   },
   {
    "duration": 6,
    "start_time": "2022-10-03T05:24:04.902Z"
   },
   {
    "duration": 11,
    "start_time": "2022-10-03T05:24:04.933Z"
   },
   {
    "duration": 4,
    "start_time": "2022-10-03T05:24:04.946Z"
   },
   {
    "duration": 7,
    "start_time": "2022-10-03T05:24:04.951Z"
   },
   {
    "duration": 6,
    "start_time": "2022-10-03T05:24:04.959Z"
   },
   {
    "duration": 17,
    "start_time": "2022-10-03T05:24:04.966Z"
   },
   {
    "duration": 275,
    "start_time": "2022-10-03T05:24:04.984Z"
   },
   {
    "duration": 9,
    "start_time": "2022-10-03T05:24:05.260Z"
   },
   {
    "duration": 14,
    "start_time": "2022-10-03T05:24:05.271Z"
   },
   {
    "duration": 852,
    "start_time": "2022-10-03T05:24:05.287Z"
   },
   {
    "duration": 16,
    "start_time": "2022-10-03T05:24:06.141Z"
   },
   {
    "duration": 17,
    "start_time": "2022-10-03T05:24:06.159Z"
   },
   {
    "duration": 7,
    "start_time": "2022-10-03T05:24:06.177Z"
   },
   {
    "duration": 1439,
    "start_time": "2022-10-03T05:24:06.187Z"
   },
   {
    "duration": 257,
    "start_time": "2022-10-03T05:24:07.628Z"
   },
   {
    "duration": 3,
    "start_time": "2022-10-03T05:24:07.886Z"
   },
   {
    "duration": 32,
    "start_time": "2022-10-03T05:24:07.890Z"
   },
   {
    "duration": 132,
    "start_time": "2022-10-03T05:24:07.924Z"
   },
   {
    "duration": 14,
    "start_time": "2022-10-03T05:24:08.057Z"
   },
   {
    "duration": 24,
    "start_time": "2022-10-03T05:24:08.072Z"
   },
   {
    "duration": 426,
    "start_time": "2022-10-03T05:24:08.097Z"
   },
   {
    "duration": 441,
    "start_time": "2022-10-03T05:24:08.525Z"
   },
   {
    "duration": 390,
    "start_time": "2022-10-03T05:24:08.968Z"
   },
   {
    "duration": 5,
    "start_time": "2022-10-03T05:24:09.362Z"
   },
   {
    "duration": 7,
    "start_time": "2022-10-03T05:24:09.369Z"
   },
   {
    "duration": 7,
    "start_time": "2022-10-03T05:24:09.378Z"
   },
   {
    "duration": 8,
    "start_time": "2022-10-03T05:24:09.386Z"
   },
   {
    "duration": 53,
    "start_time": "2022-10-04T17:12:37.151Z"
   },
   {
    "duration": 8,
    "start_time": "2022-10-04T17:12:52.609Z"
   },
   {
    "duration": 1322,
    "start_time": "2022-10-04T17:13:06.081Z"
   },
   {
    "duration": 97,
    "start_time": "2022-10-04T17:13:07.404Z"
   },
   {
    "duration": 16,
    "start_time": "2022-10-04T17:13:07.502Z"
   },
   {
    "duration": 28,
    "start_time": "2022-10-04T17:13:07.520Z"
   },
   {
    "duration": 18,
    "start_time": "2022-10-04T17:13:07.550Z"
   },
   {
    "duration": 19,
    "start_time": "2022-10-04T17:13:07.569Z"
   },
   {
    "duration": 15,
    "start_time": "2022-10-04T17:13:07.589Z"
   },
   {
    "duration": 22,
    "start_time": "2022-10-04T17:13:07.606Z"
   },
   {
    "duration": 25,
    "start_time": "2022-10-04T17:13:07.629Z"
   },
   {
    "duration": 7,
    "start_time": "2022-10-04T17:13:07.657Z"
   },
   {
    "duration": 30,
    "start_time": "2022-10-04T17:13:07.666Z"
   },
   {
    "duration": 4,
    "start_time": "2022-10-04T17:13:07.698Z"
   },
   {
    "duration": 12,
    "start_time": "2022-10-04T17:13:07.721Z"
   },
   {
    "duration": 10,
    "start_time": "2022-10-04T17:13:07.734Z"
   },
   {
    "duration": 22,
    "start_time": "2022-10-04T17:13:07.746Z"
   },
   {
    "duration": 4,
    "start_time": "2022-10-04T17:13:07.770Z"
   },
   {
    "duration": 12,
    "start_time": "2022-10-04T17:13:07.776Z"
   },
   {
    "duration": 14,
    "start_time": "2022-10-04T17:13:07.790Z"
   },
   {
    "duration": 26,
    "start_time": "2022-10-04T17:13:07.806Z"
   },
   {
    "duration": 293,
    "start_time": "2022-10-04T17:13:07.835Z"
   },
   {
    "duration": 10,
    "start_time": "2022-10-04T17:13:08.130Z"
   },
   {
    "duration": 19,
    "start_time": "2022-10-04T17:13:08.142Z"
   },
   {
    "duration": 1033,
    "start_time": "2022-10-04T17:13:08.163Z"
   },
   {
    "duration": 22,
    "start_time": "2022-10-04T17:13:09.198Z"
   },
   {
    "duration": 14,
    "start_time": "2022-10-04T17:13:09.222Z"
   },
   {
    "duration": 6,
    "start_time": "2022-10-04T17:13:09.238Z"
   },
   {
    "duration": 1595,
    "start_time": "2022-10-04T17:13:09.246Z"
   },
   {
    "duration": 317,
    "start_time": "2022-10-04T17:13:10.844Z"
   },
   {
    "duration": 3,
    "start_time": "2022-10-04T17:13:11.163Z"
   },
   {
    "duration": 24,
    "start_time": "2022-10-04T17:13:11.167Z"
   },
   {
    "duration": 182,
    "start_time": "2022-10-04T17:13:11.194Z"
   },
   {
    "duration": 1334,
    "start_time": "2022-10-04T17:13:11.378Z"
   },
   {
    "duration": 0,
    "start_time": "2022-10-04T17:13:12.721Z"
   },
   {
    "duration": 0,
    "start_time": "2022-10-04T17:13:12.723Z"
   },
   {
    "duration": 0,
    "start_time": "2022-10-04T17:13:12.724Z"
   },
   {
    "duration": 0,
    "start_time": "2022-10-04T17:13:12.725Z"
   },
   {
    "duration": 0,
    "start_time": "2022-10-04T17:13:12.726Z"
   },
   {
    "duration": 6,
    "start_time": "2022-10-04T17:13:15.211Z"
   },
   {
    "duration": 23,
    "start_time": "2022-10-04T17:13:15.219Z"
   },
   {
    "duration": 30,
    "start_time": "2022-10-04T17:13:15.244Z"
   },
   {
    "duration": 32,
    "start_time": "2022-10-04T17:13:15.276Z"
   },
   {
    "duration": 167,
    "start_time": "2022-10-04T17:13:40.904Z"
   },
   {
    "duration": 165,
    "start_time": "2022-10-04T17:14:35.752Z"
   },
   {
    "duration": 12,
    "start_time": "2022-10-04T17:15:39.777Z"
   },
   {
    "duration": 5,
    "start_time": "2022-10-04T17:20:42.234Z"
   },
   {
    "duration": 13,
    "start_time": "2022-10-04T17:20:55.819Z"
   },
   {
    "duration": 18,
    "start_time": "2022-10-04T17:21:07.300Z"
   },
   {
    "duration": 12,
    "start_time": "2022-10-04T17:21:08.394Z"
   },
   {
    "duration": 15,
    "start_time": "2022-10-04T17:21:19.942Z"
   },
   {
    "duration": 189,
    "start_time": "2022-10-04T17:21:35.944Z"
   },
   {
    "duration": 180,
    "start_time": "2022-10-04T17:24:58.451Z"
   },
   {
    "duration": 8,
    "start_time": "2022-10-04T17:27:13.590Z"
   },
   {
    "duration": 7,
    "start_time": "2022-10-04T17:28:20.600Z"
   },
   {
    "duration": 8,
    "start_time": "2022-10-04T18:17:35.859Z"
   },
   {
    "duration": 8,
    "start_time": "2022-10-04T18:17:38.515Z"
   },
   {
    "duration": 48,
    "start_time": "2022-10-04T18:18:25.301Z"
   },
   {
    "duration": 8,
    "start_time": "2022-10-04T18:24:09.837Z"
   },
   {
    "duration": 1406,
    "start_time": "2022-10-05T07:01:49.698Z"
   },
   {
    "duration": 93,
    "start_time": "2022-10-05T07:01:51.106Z"
   },
   {
    "duration": 15,
    "start_time": "2022-10-05T07:01:51.201Z"
   },
   {
    "duration": 19,
    "start_time": "2022-10-05T07:01:51.218Z"
   },
   {
    "duration": 16,
    "start_time": "2022-10-05T07:01:51.239Z"
   },
   {
    "duration": 23,
    "start_time": "2022-10-05T07:01:51.256Z"
   },
   {
    "duration": 14,
    "start_time": "2022-10-05T07:01:51.281Z"
   },
   {
    "duration": 14,
    "start_time": "2022-10-05T07:01:51.296Z"
   },
   {
    "duration": 20,
    "start_time": "2022-10-05T07:01:51.312Z"
   },
   {
    "duration": 7,
    "start_time": "2022-10-05T07:01:51.333Z"
   },
   {
    "duration": 49,
    "start_time": "2022-10-05T07:01:51.342Z"
   },
   {
    "duration": 5,
    "start_time": "2022-10-05T07:01:51.392Z"
   },
   {
    "duration": 23,
    "start_time": "2022-10-05T07:01:51.398Z"
   },
   {
    "duration": 5,
    "start_time": "2022-10-05T07:01:51.425Z"
   },
   {
    "duration": 16,
    "start_time": "2022-10-05T07:01:51.432Z"
   },
   {
    "duration": 5,
    "start_time": "2022-10-05T07:01:51.449Z"
   },
   {
    "duration": 24,
    "start_time": "2022-10-05T07:01:51.455Z"
   },
   {
    "duration": 13,
    "start_time": "2022-10-05T07:01:51.481Z"
   },
   {
    "duration": 22,
    "start_time": "2022-10-05T07:01:51.496Z"
   },
   {
    "duration": 284,
    "start_time": "2022-10-05T07:01:51.519Z"
   },
   {
    "duration": 9,
    "start_time": "2022-10-05T07:01:51.805Z"
   },
   {
    "duration": 15,
    "start_time": "2022-10-05T07:01:51.816Z"
   },
   {
    "duration": 921,
    "start_time": "2022-10-05T07:01:51.832Z"
   },
   {
    "duration": 26,
    "start_time": "2022-10-05T07:01:52.755Z"
   },
   {
    "duration": 11,
    "start_time": "2022-10-05T07:01:52.783Z"
   },
   {
    "duration": 15,
    "start_time": "2022-10-05T07:01:52.796Z"
   },
   {
    "duration": 5,
    "start_time": "2022-10-05T07:01:52.812Z"
   },
   {
    "duration": 1601,
    "start_time": "2022-10-05T07:01:52.819Z"
   },
   {
    "duration": 304,
    "start_time": "2022-10-05T07:01:54.422Z"
   },
   {
    "duration": 3,
    "start_time": "2022-10-05T07:01:54.728Z"
   },
   {
    "duration": 22,
    "start_time": "2022-10-05T07:01:54.733Z"
   },
   {
    "duration": 175,
    "start_time": "2022-10-05T07:01:54.757Z"
   },
   {
    "duration": 16,
    "start_time": "2022-10-05T07:01:54.933Z"
   },
   {
    "duration": 191,
    "start_time": "2022-10-05T07:01:54.951Z"
   },
   {
    "duration": 16,
    "start_time": "2022-10-05T07:01:55.144Z"
   },
   {
    "duration": 10,
    "start_time": "2022-10-05T07:01:55.177Z"
   },
   {
    "duration": 526,
    "start_time": "2022-10-05T07:01:55.189Z"
   },
   {
    "duration": 473,
    "start_time": "2022-10-05T07:01:55.717Z"
   },
   {
    "duration": 443,
    "start_time": "2022-10-05T07:01:56.192Z"
   },
   {
    "duration": 5,
    "start_time": "2022-10-05T07:01:56.637Z"
   },
   {
    "duration": 20,
    "start_time": "2022-10-05T07:01:56.646Z"
   },
   {
    "duration": 35,
    "start_time": "2022-10-05T07:01:56.667Z"
   },
   {
    "duration": 28,
    "start_time": "2022-10-05T07:01:56.703Z"
   },
   {
    "duration": 43,
    "start_time": "2022-10-05T07:30:13.935Z"
   },
   {
    "duration": 1219,
    "start_time": "2022-10-05T07:30:22.038Z"
   },
   {
    "duration": 88,
    "start_time": "2022-10-05T07:30:23.259Z"
   },
   {
    "duration": 12,
    "start_time": "2022-10-05T07:30:23.349Z"
   },
   {
    "duration": 17,
    "start_time": "2022-10-05T07:30:23.363Z"
   },
   {
    "duration": 23,
    "start_time": "2022-10-05T07:30:23.382Z"
   },
   {
    "duration": 39,
    "start_time": "2022-10-05T07:30:23.407Z"
   },
   {
    "duration": 35,
    "start_time": "2022-10-05T07:30:23.447Z"
   },
   {
    "duration": 26,
    "start_time": "2022-10-05T07:30:23.483Z"
   },
   {
    "duration": 46,
    "start_time": "2022-10-05T07:30:23.510Z"
   },
   {
    "duration": 17,
    "start_time": "2022-10-05T07:30:23.557Z"
   },
   {
    "duration": 67,
    "start_time": "2022-10-05T07:30:23.576Z"
   },
   {
    "duration": 5,
    "start_time": "2022-10-05T07:30:23.645Z"
   },
   {
    "duration": 32,
    "start_time": "2022-10-05T07:30:23.651Z"
   },
   {
    "duration": 42,
    "start_time": "2022-10-05T07:30:23.685Z"
   },
   {
    "duration": 45,
    "start_time": "2022-10-05T07:30:23.729Z"
   },
   {
    "duration": 33,
    "start_time": "2022-10-05T07:30:23.776Z"
   },
   {
    "duration": 19,
    "start_time": "2022-10-05T07:30:23.811Z"
   },
   {
    "duration": 27,
    "start_time": "2022-10-05T07:30:23.832Z"
   },
   {
    "duration": 30,
    "start_time": "2022-10-05T07:30:23.861Z"
   },
   {
    "duration": 258,
    "start_time": "2022-10-05T07:30:23.892Z"
   },
   {
    "duration": 10,
    "start_time": "2022-10-05T07:30:24.152Z"
   },
   {
    "duration": 60,
    "start_time": "2022-10-05T07:30:24.163Z"
   },
   {
    "duration": 872,
    "start_time": "2022-10-05T07:30:24.225Z"
   },
   {
    "duration": 15,
    "start_time": "2022-10-05T07:30:25.099Z"
   },
   {
    "duration": 11,
    "start_time": "2022-10-05T07:30:25.115Z"
   },
   {
    "duration": 13,
    "start_time": "2022-10-05T07:30:25.127Z"
   },
   {
    "duration": 4,
    "start_time": "2022-10-05T07:30:25.141Z"
   },
   {
    "duration": 1436,
    "start_time": "2022-10-05T07:30:25.147Z"
   },
   {
    "duration": 267,
    "start_time": "2022-10-05T07:30:26.585Z"
   },
   {
    "duration": 3,
    "start_time": "2022-10-05T07:30:26.854Z"
   },
   {
    "duration": 24,
    "start_time": "2022-10-05T07:30:26.859Z"
   },
   {
    "duration": 151,
    "start_time": "2022-10-05T07:30:26.884Z"
   },
   {
    "duration": 16,
    "start_time": "2022-10-05T07:30:27.037Z"
   },
   {
    "duration": 177,
    "start_time": "2022-10-05T07:30:27.054Z"
   },
   {
    "duration": 15,
    "start_time": "2022-10-05T07:30:27.233Z"
   },
   {
    "duration": 7,
    "start_time": "2022-10-05T07:30:27.249Z"
   },
   {
    "duration": 434,
    "start_time": "2022-10-05T07:30:27.257Z"
   },
   {
    "duration": 413,
    "start_time": "2022-10-05T07:30:27.692Z"
   },
   {
    "duration": 388,
    "start_time": "2022-10-05T07:30:28.107Z"
   },
   {
    "duration": 7,
    "start_time": "2022-10-05T07:30:28.497Z"
   },
   {
    "duration": 7,
    "start_time": "2022-10-05T07:30:28.507Z"
   },
   {
    "duration": 7,
    "start_time": "2022-10-05T07:30:28.515Z"
   },
   {
    "duration": 6,
    "start_time": "2022-10-05T07:30:28.523Z"
   },
   {
    "duration": 63,
    "start_time": "2022-10-05T07:31:18.518Z"
   }
  ],
  "kernelspec": {
   "display_name": "Python 3 (ipykernel)",
   "language": "python",
   "name": "python3"
  },
  "language_info": {
   "codemirror_mode": {
    "name": "ipython",
    "version": 3
   },
   "file_extension": ".py",
   "mimetype": "text/x-python",
   "name": "python",
   "nbconvert_exporter": "python",
   "pygments_lexer": "ipython3",
   "version": "3.9.5"
  },
  "toc": {
   "base_numbering": 1,
   "nav_menu": {},
   "number_sections": true,
   "sideBar": true,
   "skip_h1_title": true,
   "title_cell": "Table of Contents",
   "title_sidebar": "Contents",
   "toc_cell": false,
   "toc_position": {},
   "toc_section_display": true,
   "toc_window_display": false
  }
 },
 "nbformat": 4,
 "nbformat_minor": 2
}
